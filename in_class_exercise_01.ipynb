{
  "nbformat": 4,
  "nbformat_minor": 0,
  "metadata": {
    "colab": {
      "name": "in_class_exercise_01.ipynb",
      "provenance": [],
      "collapsed_sections": [],
      "include_colab_link": true
    },
    "kernelspec": {
      "display_name": "Python 3",
      "language": "python",
      "name": "python3"
    },
    "language_info": {
      "codemirror_mode": {
        "name": "ipython",
        "version": 3
      },
      "file_extension": ".py",
      "mimetype": "text/x-python",
      "name": "python",
      "nbconvert_exporter": "python",
      "pygments_lexer": "ipython3",
      "version": "3.8.5"
    }
  },
  "cells": [
    {
      "cell_type": "markdown",
      "metadata": {
        "id": "view-in-github",
        "colab_type": "text"
      },
      "source": [
        "<a href=\"https://colab.research.google.com/github/Akshitasama/akshita_INFO5731_Spring2021/blob/main/in_class_exercise_01.ipynb\" target=\"_parent\"><img src=\"https://colab.research.google.com/assets/colab-badge.svg\" alt=\"Open In Colab\"/></a>"
      ]
    },
    {
      "cell_type": "markdown",
      "metadata": {
        "id": "DymRJbxDBCnf"
      },
      "source": [
        "# **The first In-class-exercise (9/2/2020, 20 points in total)**"
      ]
    },
    {
      "cell_type": "markdown",
      "metadata": {
        "id": "03jb4GZsBkBS"
      },
      "source": [
        "(1) Write a Python program to calculate the length of a string. (2 points)"
      ]
    },
    {
      "cell_type": "code",
      "metadata": {
        "colab": {
          "base_uri": "https://localhost:8080/"
        },
        "id": "YaGLbSHHB8Ej",
        "outputId": "d702d7da-3d88-4e6d-b8ec-d50738ec0067"
      },
      "source": [
        "# write your answer here\n",
        "#using function to find length \n",
        "def slen(stra):\n",
        "  length=len(stra)\n",
        "  return length\n",
        "\n",
        "#calling the function and printing the result\n",
        "print(\"The length of the string is:\", slen(\"akshitasama\"))"
      ],
      "execution_count": 2,
      "outputs": [
        {
          "output_type": "stream",
          "text": [
            "The length of the string is: 11\n"
          ],
          "name": "stdout"
        }
      ]
    },
    {
      "cell_type": "markdown",
      "metadata": {
        "id": "jJDe71iLB616"
      },
      "source": [
        "(2) Write a Python program to count the number of characters in a string. (2 points)\n",
        "\n",
        "Sample String : 'google.com‘, \n",
        "\n",
        "Expected Result : {'o': 3, 'g': 2, '.': 1, 'e': 1, 'l': 1, 'm': 1, 'c': 1}"
      ]
    },
    {
      "cell_type": "code",
      "metadata": {
        "colab": {
          "base_uri": "https://localhost:8080/"
        },
        "id": "MtKskTzbCLaU",
        "outputId": "c815ae0f-9425-4271-90e7-7d16a20fb5df"
      },
      "source": [
        "# write your answer here\n",
        "#using function to count characters\n",
        "def count(stra):\n",
        "  charcount={}\n",
        "  for i in stra:\n",
        "    if i==charcount:\n",
        "      charcount[i]=charcount[i]+1\n",
        "    else:\n",
        "      charcount[i]=1\n",
        "  return charcount\n",
        "\n",
        "#giving the string and calling the function\n",
        "string=\"google.com\"\n",
        "print(\"Expected result:\",count(string))"
      ],
      "execution_count": 1,
      "outputs": [
        {
          "output_type": "stream",
          "text": [
            "Expected result: {'g': 1, 'o': 1, 'l': 1, 'e': 1, '.': 1, 'c': 1, 'm': 1}\n"
          ],
          "name": "stdout"
        }
      ]
    },
    {
      "cell_type": "markdown",
      "metadata": {
        "id": "55W9AMdXCSpV"
      },
      "source": [
        "(3) Write a Python program to sum all the items in a list. (2 points)"
      ]
    },
    {
      "cell_type": "code",
      "metadata": {
        "colab": {
          "base_uri": "https://localhost:8080/"
        },
        "id": "I57NXsauCec2",
        "outputId": "35690902-6cb4-4b7c-d348-9290d2a213ac"
      },
      "source": [
        "# write your answer here\n",
        "#function to sum all the elements\n",
        "def sumlis(lista):\n",
        "  sum_elements=0\n",
        "  for i in lista:\n",
        "   sum_elements+=i\n",
        "  return sum_elements\n",
        "\n",
        "#printing the sum by calling the function with list\n",
        "print(\"The sum of elements in the list is\", sumlis([2,3,4,5]))"
      ],
      "execution_count": 3,
      "outputs": [
        {
          "output_type": "stream",
          "text": [
            "The sum of elements in the list is 14\n"
          ],
          "name": "stdout"
        }
      ]
    },
    {
      "cell_type": "markdown",
      "metadata": {
        "id": "4ulBZ6yhCi9F"
      },
      "source": [
        "(4) Write a Python program to get a string from a given string where all occurrences of its first char have been changed to '\\$', except the first char itself. (2 points)\n",
        "\n",
        "Sample String : 'restart‘, \n",
        "\n",
        "Expected Result : 'resta\\$t'"
      ]
    },
    {
      "cell_type": "code",
      "metadata": {
        "colab": {
          "base_uri": "https://localhost:8080/"
        },
        "id": "Fj0XhwbBCw2o",
        "outputId": "167d90d4-e0c9-4a3e-df9f-9ef1c8293ccc"
      },
      "source": [
        "# write your answer here\n",
        "#function to change the character\n",
        "def changefchar(str):\n",
        "  firstchar=str[0]\n",
        "  length= len(str)\n",
        "  str=str.replace(firstchar,'$')\n",
        "  str=firstchar+str[1:]\n",
        "  return str\n",
        "\n",
        "#calling the function with reqired input\n",
        "print(changefchar('restart'))"
      ],
      "execution_count": 4,
      "outputs": [
        {
          "output_type": "stream",
          "text": [
            "resta$t\n"
          ],
          "name": "stdout"
        }
      ]
    },
    {
      "cell_type": "markdown",
      "metadata": {
        "id": "_bIP7s1MCzue"
      },
      "source": [
        "(5) Write a program with python which could accept two parameter a and b to calculate and output the result of S, where \n",
        "\n",
        "$\\ S=3.14*(1+a/b)^3$ (3 points)\n",
        "\n"
      ]
    },
    {
      "cell_type": "code",
      "metadata": {
        "colab": {
          "base_uri": "https://localhost:8080/"
        },
        "id": "w79QilHXD3Mg",
        "outputId": "31d0fd34-b44a-4e77-a3fd-6b60850b44e4"
      },
      "source": [
        "# write your answer here\n",
        "#Function to define eror\n",
        "def err(type_of_error):\n",
        "    print(type_of_error)\n",
        "    return\n",
        "\n",
        "#Function to perform calculation\n",
        "def sum(a,b):\n",
        "  if b==0:\n",
        "    err(\"Runtime error\")\n",
        "  else:\n",
        "    return 3.14*(1+a/b)**3\n",
        "\n",
        "#input parameters\n",
        "a=int(input(\"Enter the number a: \"))\n",
        "b=int(input(\"Enter the number b: \"))\n",
        "\n",
        "#print results\n",
        "print(\"The result is: \", sum(a,b))"
      ],
      "execution_count": 6,
      "outputs": [
        {
          "output_type": "stream",
          "text": [
            "Enter the number a: 9\n",
            "Enter the number b: 8\n",
            "The result is:  30.1305078125\n"
          ],
          "name": "stdout"
        }
      ]
    },
    {
      "cell_type": "markdown",
      "metadata": {
        "id": "xCa2bK9aD4Q3"
      },
      "source": [
        "(6) Write a Python program to concatenate following dictionaries to create a new one. (3 points)\n",
        "\n",
        "Sample Dictionary : dic1={1:10, 2:20}, dic2={3:30, 4:40}, dic3={5:50,6:60}, \n",
        "\n",
        "Expected Result : {1: 10, 2: 20, 3: 30, 4: 40, 5: 50, 6: 60}\n"
      ]
    },
    {
      "cell_type": "code",
      "metadata": {
        "colab": {
          "base_uri": "https://localhost:8080/"
        },
        "id": "_z4aLqAbEET1",
        "outputId": "c3c156a9-917b-493a-c64e-2ba68ece4b6e"
      },
      "source": [
        "# write your answer here\n",
        "di1={1:10, 2:20}\n",
        "di2={3:30, 4:40}\n",
        "di3={5:50,6:60}\n",
        "condic={}\n",
        "for d in (di1,di2,di3):\n",
        "  condic.update(d)\n",
        "print(\"The new dictonary after concatenation:\", condic)"
      ],
      "execution_count": 7,
      "outputs": [
        {
          "output_type": "stream",
          "text": [
            "The new dictonary after concatenation: {1: 10, 2: 20, 3: 30, 4: 40, 5: 50, 6: 60}\n"
          ],
          "name": "stdout"
        }
      ]
    },
    {
      "cell_type": "markdown",
      "metadata": {
        "id": "0v48Vqa7FrQh"
      },
      "source": [
        "(7) Write a Python program to check whether an element exists within a tuple. (3 points)"
      ]
    },
    {
      "cell_type": "code",
      "metadata": {
        "colab": {
          "base_uri": "https://localhost:8080/"
        },
        "id": "7WEmgq-DF2P1",
        "outputId": "07bdd437-5a8d-4e85-8042-2e20026996b8"
      },
      "source": [
        "# write your answer here\n",
        "Elements=(\"4\",\"7\",\"a\",\"29\",\"r\")\n",
        "checkElements=[\"7\",\"p\",\"r\",\"14\"]\n",
        "for ele in checkElements:\n",
        "  if ele in Elements:\n",
        "    print(\"True,\" , ele ,\"exist\")\n",
        "  else:\n",
        "     print(\"false,\", ele , \"doesnt exist\")"
      ],
      "execution_count": 8,
      "outputs": [
        {
          "output_type": "stream",
          "text": [
            "True, 7 exist\n",
            "false, p doesnt exist\n",
            "True, r exist\n",
            "false, 14 doesnt exist\n"
          ],
          "name": "stdout"
        }
      ]
    },
    {
      "cell_type": "markdown",
      "metadata": {
        "id": "vD5PYLMuGga_"
      },
      "source": [
        "(8) Write a Python program to find maximum and the minimum value in a set. (3 points)"
      ]
    },
    {
      "cell_type": "code",
      "metadata": {
        "colab": {
          "base_uri": "https://localhost:8080/"
        },
        "id": "t0D5kdJUGjjw",
        "outputId": "c81bb814-578b-4163-f5e0-7b9b550bc268"
      },
      "source": [
        "# write your answer here\n",
        "set_elements={8,54,89,6,9}\n",
        "print(\"The maximum element in\", set_elements , \"is: \", max(set_elements))\n",
        "print(\"The minimum element in\", set_elements , \"is: \", min(set_elements))\n"
      ],
      "execution_count": 11,
      "outputs": [
        {
          "output_type": "stream",
          "text": [
            "The maximum element in {6, 8, 9, 54, 89} is:  89\n",
            "The minimum element in {6, 8, 9, 54, 89} is:  6\n"
          ],
          "name": "stdout"
        }
      ]
    },
    {
      "cell_type": "markdown",
      "metadata": {
        "id": "uHkd-y5VhVWC"
      },
      "source": [
        "(9) Write a Python program to randomly divide the students in this class into five groups for term projects, each group should have at least 3 students but no more than 5 students (including 5). Here is the students list: (3 points for extra)\n",
        "\n",
        "studnet_list = ['vmb0067','pc0353','snd0097','yye0005','sg0940','bk0301','rak0120','rrk0058','spk0057','vl0135','nm0547','pn0159',\n",
        "                'msp0174','dd0420','ds0761','rs0850','ss1995','at0739','at0768','mv0299','tv0119','dy0091']"
      ]
    },
    {
      "cell_type": "code",
      "metadata": {
        "colab": {
          "base_uri": "https://localhost:8080/"
        },
        "id": "3iGbmcOBhTwy",
        "outputId": "2eb8bda7-64cb-422d-e4f0-6c43cc76be5e"
      },
      "source": [
        "# write your answer here\n",
        "studnet_list = ['vmb0067','pc0353','snd0097','yye0005','sg0940','bk0301','rak0120','rrk0058','spk0057','vl0135','nm0547','pn0159', 'msp0174','dd0420','ds0761','rs0850','ss1995','at0739','at0768','mv0299','tv0119','dy0091']\n",
        "def chunks(l,s):\n",
        "  i=0\n",
        "  j=0\n",
        "  while(j<5):\n",
        "    yield(l[i:i+s])\n",
        "    i+=s\n",
        "    j+=1\n",
        "import random\n",
        "l=['vmb0067','pc0353','snd0097','yye0005','sg0940','bk0301','rak0120','rrk0058','spk0057','vl0135','nm0547','pn0159', 'msp0174','dd0420','ds0761','rs0850','ss1995','at0739','at0768','mv0299','tv0119','dy0091']\n",
        "random.shuffle(l)\n",
        "s=int(len(l)/5)\n",
        "listofchunks=list(chunks(l,s))\n",
        "j=0\n",
        "for i in range(5*s,len(l)):\n",
        "  listofchunks[j].append(l[i])\n",
        "  j+=1\n",
        "print(listofchunks)"
      ],
      "execution_count": 12,
      "outputs": [
        {
          "output_type": "stream",
          "text": [
            "[['rs0850', 'sg0940', 'ds0761', 'pc0353', 'vmb0067'], ['pn0159', 'rrk0058', 'dd0420', 'nm0547', 'vl0135'], ['at0768', 'mv0299', 'spk0057', 'rak0120'], ['bk0301', 'yye0005', 'ss1995', 'tv0119'], ['msp0174', 'snd0097', 'at0739', 'dy0091']]\n"
          ],
          "name": "stdout"
        }
      ]
    }
  ]
}