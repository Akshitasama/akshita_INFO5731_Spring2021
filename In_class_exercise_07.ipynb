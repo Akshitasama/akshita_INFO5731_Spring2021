{
  "nbformat": 4,
  "nbformat_minor": 0,
  "metadata": {
    "kernelspec": {
      "display_name": "Python 3",
      "language": "python",
      "name": "python3"
    },
    "language_info": {
      "codemirror_mode": {
        "name": "ipython",
        "version": 3
      },
      "file_extension": ".py",
      "mimetype": "text/x-python",
      "name": "python",
      "nbconvert_exporter": "python",
      "pygments_lexer": "ipython3",
      "version": "3.8.5"
    },
    "colab": {
      "name": "In_class_exercise_07.ipynb",
      "provenance": [],
      "collapsed_sections": [],
      "include_colab_link": true
    }
  },
  "cells": [
    {
      "cell_type": "markdown",
      "metadata": {
        "id": "view-in-github",
        "colab_type": "text"
      },
      "source": [
        "<a href=\"https://colab.research.google.com/github/Akshitasama/akshita_INFO5731_Spring2021/blob/main/In_class_exercise_07.ipynb\" target=\"_parent\"><img src=\"https://colab.research.google.com/assets/colab-badge.svg\" alt=\"Open In Colab\"/></a>"
      ]
    },
    {
      "cell_type": "markdown",
      "metadata": {
        "id": "r-BQyQAmUxD7"
      },
      "source": [
        "# **The seventh in-class-exercise (20 points in total, 3/16/2021)**"
      ]
    },
    {
      "cell_type": "markdown",
      "metadata": {
        "id": "HniVKvFZUxEK"
      },
      "source": [
        "Question description: In the last in-class-exercise (exercise-06), you collected the titles of 100 articles about data science, natural language processing, and machine learning. The 100 article titles will be used as the text corpus of this exercise. Perform the following tasks:"
      ]
    },
    {
      "cell_type": "markdown",
      "metadata": {
        "id": "cYNLL3olUxEM"
      },
      "source": [
        "## (1) (8 points) Generate K topics by using LDA, the number of topics K should be decided by the coherence score, then summarize what are the topics. You may refer the code here: \n",
        "\n",
        "https://www.machinelearningplus.com/nlp/topic-modeling-gensim-python/"
      ]
    },
    {
      "cell_type": "code",
      "metadata": {
        "colab": {
          "base_uri": "https://localhost:8080/"
        },
        "id": "zS3FIeE7UxEN",
        "outputId": "5b7ed38a-ce9a-4c12-d52d-45158120d59b"
      },
      "source": [
        "# Write your code here\n",
        "\n",
        "\n",
        "# Write your code here\n",
        "import pandas as pd\n",
        "import requests\n",
        "from bs4 import BeautifulSoup\n",
        "def insert_array(values,refer_array):\n",
        "  for x in values:\n",
        "    refer_array.append(x.text)\n",
        "titles=[]\n",
        "for x in range(0,100,10):\n",
        "  link=\"http://citeseerx.ist.psu.edu/search?q=data+science&t=doc&sort=rlv&start=\"+str(i)\n",
        "  page=requests.get(link,headers={'User-Agent':'Chrome/85.0.4183.121'})\n",
        "  soup = BeautifulSoup(page.content, 'html.parser')\n",
        "  insert_array(soup.find_all('a', class_='remove doc_details'),titles)\n",
        "print(titles)\n",
        "data_frame = pd.DataFrame (titles,columns=['titles'])"
      ],
      "execution_count": 14,
      "outputs": [
        {
          "output_type": "stream",
          "text": [
            "['\\n                   How Computational Statistics Became the Backbone of Modern Data Science\\n', '\\n                  Efficient Search for Approximate Nearest Neighbor in High Dimensional Spaces\\n                  ', '\\n                  Model selection in ecology and evolution.\\n                  ', '\\n                  Local Ground:\\xa0 A\\xa0Toolkit\\xa0Supporting\\xa0Metarepresentational Competence in\\xa0Data\\xa0Science\\n', '\\n                  Visual Exploration of Formal Requirements for Data Science Demand Analysis\\n                  ', '\\n                  Earth Data, Science Writing, and Peer Review page 1 Earth Data, Science Writing, and Peer Review in a Large General Education Oceanography Class\\n                  ', '\\n                  An Online Algorithm for Segmenting Time Series\\n                  ', '\\n                  OUTLINE AND EXERCISES FOR A NOVEL INTRODUCTORY COURSE IN DATA SCIENCE AND VISUALIZATION\\n                  ', '\\n                   Computational Data Sciences for Actionable Insights on Climate Extremes and Uncertainty\\n                  ', '\\n                  The New Computational and Data Sciences Undergraduate Program at George Mason University 1 Data-Intensive Science: A New Vision for Science Education\\n                  ', '\\n                   How Computational Statistics Became the Backbone of Modern Data Science\\n', '\\n                  Efficient Search for Approximate Nearest Neighbor in High Dimensional Spaces\\n                  ', '\\n                  Model selection in ecology and evolution.\\n                  ', '\\n                  Local Ground:\\xa0 A\\xa0Toolkit\\xa0Supporting\\xa0Metarepresentational Competence in\\xa0Data\\xa0Science\\n', '\\n                  Visual Exploration of Formal Requirements for Data Science Demand Analysis\\n                  ', '\\n                  Earth Data, Science Writing, and Peer Review page 1 Earth Data, Science Writing, and Peer Review in a Large General Education Oceanography Class\\n                  ', '\\n                  An Online Algorithm for Segmenting Time Series\\n                  ', '\\n                  OUTLINE AND EXERCISES FOR A NOVEL INTRODUCTORY COURSE IN DATA SCIENCE AND VISUALIZATION\\n                  ', '\\n                   Computational Data Sciences for Actionable Insights on Climate Extremes and Uncertainty\\n                  ', '\\n                  The New Computational and Data Sciences Undergraduate Program at George Mason University 1 Data-Intensive Science: A New Vision for Science Education\\n                  ', '\\n                   How Computational Statistics Became the Backbone of Modern Data Science\\n', '\\n                  Efficient Search for Approximate Nearest Neighbor in High Dimensional Spaces\\n                  ', '\\n                  Model selection in ecology and evolution.\\n                  ', '\\n                  Local Ground:\\xa0 A\\xa0Toolkit\\xa0Supporting\\xa0Metarepresentational Competence in\\xa0Data\\xa0Science\\n', '\\n                  Visual Exploration of Formal Requirements for Data Science Demand Analysis\\n                  ', '\\n                  Earth Data, Science Writing, and Peer Review page 1 Earth Data, Science Writing, and Peer Review in a Large General Education Oceanography Class\\n                  ', '\\n                  An Online Algorithm for Segmenting Time Series\\n                  ', '\\n                  OUTLINE AND EXERCISES FOR A NOVEL INTRODUCTORY COURSE IN DATA SCIENCE AND VISUALIZATION\\n                  ', '\\n                   Computational Data Sciences for Actionable Insights on Climate Extremes and Uncertainty\\n                  ', '\\n                  The New Computational and Data Sciences Undergraduate Program at George Mason University 1 Data-Intensive Science: A New Vision for Science Education\\n                  ', '\\n                   How Computational Statistics Became the Backbone of Modern Data Science\\n', '\\n                  Efficient Search for Approximate Nearest Neighbor in High Dimensional Spaces\\n                  ', '\\n                  Model selection in ecology and evolution.\\n                  ', '\\n                  Local Ground:\\xa0 A\\xa0Toolkit\\xa0Supporting\\xa0Metarepresentational Competence in\\xa0Data\\xa0Science\\n', '\\n                  Visual Exploration of Formal Requirements for Data Science Demand Analysis\\n                  ', '\\n                  Earth Data, Science Writing, and Peer Review page 1 Earth Data, Science Writing, and Peer Review in a Large General Education Oceanography Class\\n                  ', '\\n                  An Online Algorithm for Segmenting Time Series\\n                  ', '\\n                  OUTLINE AND EXERCISES FOR A NOVEL INTRODUCTORY COURSE IN DATA SCIENCE AND VISUALIZATION\\n                  ', '\\n                   Computational Data Sciences for Actionable Insights on Climate Extremes and Uncertainty\\n                  ', '\\n                  The New Computational and Data Sciences Undergraduate Program at George Mason University 1 Data-Intensive Science: A New Vision for Science Education\\n                  ', '\\n                   How Computational Statistics Became the Backbone of Modern Data Science\\n', '\\n                  Efficient Search for Approximate Nearest Neighbor in High Dimensional Spaces\\n                  ', '\\n                  Model selection in ecology and evolution.\\n                  ', '\\n                  Local Ground:\\xa0 A\\xa0Toolkit\\xa0Supporting\\xa0Metarepresentational Competence in\\xa0Data\\xa0Science\\n', '\\n                  Visual Exploration of Formal Requirements for Data Science Demand Analysis\\n                  ', '\\n                  Earth Data, Science Writing, and Peer Review page 1 Earth Data, Science Writing, and Peer Review in a Large General Education Oceanography Class\\n                  ', '\\n                  An Online Algorithm for Segmenting Time Series\\n                  ', '\\n                  OUTLINE AND EXERCISES FOR A NOVEL INTRODUCTORY COURSE IN DATA SCIENCE AND VISUALIZATION\\n                  ', '\\n                   Computational Data Sciences for Actionable Insights on Climate Extremes and Uncertainty\\n                  ', '\\n                  The New Computational and Data Sciences Undergraduate Program at George Mason University 1 Data-Intensive Science: A New Vision for Science Education\\n                  ', '\\n                   How Computational Statistics Became the Backbone of Modern Data Science\\n', '\\n                  Efficient Search for Approximate Nearest Neighbor in High Dimensional Spaces\\n                  ', '\\n                  Model selection in ecology and evolution.\\n                  ', '\\n                  Local Ground:\\xa0 A\\xa0Toolkit\\xa0Supporting\\xa0Metarepresentational Competence in\\xa0Data\\xa0Science\\n', '\\n                  Visual Exploration of Formal Requirements for Data Science Demand Analysis\\n                  ', '\\n                  Earth Data, Science Writing, and Peer Review page 1 Earth Data, Science Writing, and Peer Review in a Large General Education Oceanography Class\\n                  ', '\\n                  An Online Algorithm for Segmenting Time Series\\n                  ', '\\n                  OUTLINE AND EXERCISES FOR A NOVEL INTRODUCTORY COURSE IN DATA SCIENCE AND VISUALIZATION\\n                  ', '\\n                   Computational Data Sciences for Actionable Insights on Climate Extremes and Uncertainty\\n                  ', '\\n                  The New Computational and Data Sciences Undergraduate Program at George Mason University 1 Data-Intensive Science: A New Vision for Science Education\\n                  ', '\\n                   How Computational Statistics Became the Backbone of Modern Data Science\\n', '\\n                  Efficient Search for Approximate Nearest Neighbor in High Dimensional Spaces\\n                  ', '\\n                  Model selection in ecology and evolution.\\n                  ', '\\n                  Local Ground:\\xa0 A\\xa0Toolkit\\xa0Supporting\\xa0Metarepresentational Competence in\\xa0Data\\xa0Science\\n', '\\n                  Visual Exploration of Formal Requirements for Data Science Demand Analysis\\n                  ', '\\n                  Earth Data, Science Writing, and Peer Review page 1 Earth Data, Science Writing, and Peer Review in a Large General Education Oceanography Class\\n                  ', '\\n                  An Online Algorithm for Segmenting Time Series\\n                  ', '\\n                  OUTLINE AND EXERCISES FOR A NOVEL INTRODUCTORY COURSE IN DATA SCIENCE AND VISUALIZATION\\n                  ', '\\n                   Computational Data Sciences for Actionable Insights on Climate Extremes and Uncertainty\\n                  ', '\\n                  The New Computational and Data Sciences Undergraduate Program at George Mason University 1 Data-Intensive Science: A New Vision for Science Education\\n                  ', '\\n                   How Computational Statistics Became the Backbone of Modern Data Science\\n', '\\n                  Efficient Search for Approximate Nearest Neighbor in High Dimensional Spaces\\n                  ', '\\n                  Model selection in ecology and evolution.\\n                  ', '\\n                  Local Ground:\\xa0 A\\xa0Toolkit\\xa0Supporting\\xa0Metarepresentational Competence in\\xa0Data\\xa0Science\\n', '\\n                  Visual Exploration of Formal Requirements for Data Science Demand Analysis\\n                  ', '\\n                  Earth Data, Science Writing, and Peer Review page 1 Earth Data, Science Writing, and Peer Review in a Large General Education Oceanography Class\\n                  ', '\\n                  An Online Algorithm for Segmenting Time Series\\n                  ', '\\n                  OUTLINE AND EXERCISES FOR A NOVEL INTRODUCTORY COURSE IN DATA SCIENCE AND VISUALIZATION\\n                  ', '\\n                   Computational Data Sciences for Actionable Insights on Climate Extremes and Uncertainty\\n                  ', '\\n                  The New Computational and Data Sciences Undergraduate Program at George Mason University 1 Data-Intensive Science: A New Vision for Science Education\\n                  ', '\\n                   How Computational Statistics Became the Backbone of Modern Data Science\\n', '\\n                  Efficient Search for Approximate Nearest Neighbor in High Dimensional Spaces\\n                  ', '\\n                  Model selection in ecology and evolution.\\n                  ', '\\n                  Local Ground:\\xa0 A\\xa0Toolkit\\xa0Supporting\\xa0Metarepresentational Competence in\\xa0Data\\xa0Science\\n', '\\n                  Visual Exploration of Formal Requirements for Data Science Demand Analysis\\n                  ', '\\n                  Earth Data, Science Writing, and Peer Review page 1 Earth Data, Science Writing, and Peer Review in a Large General Education Oceanography Class\\n                  ', '\\n                  An Online Algorithm for Segmenting Time Series\\n                  ', '\\n                  OUTLINE AND EXERCISES FOR A NOVEL INTRODUCTORY COURSE IN DATA SCIENCE AND VISUALIZATION\\n                  ', '\\n                   Computational Data Sciences for Actionable Insights on Climate Extremes and Uncertainty\\n                  ', '\\n                  The New Computational and Data Sciences Undergraduate Program at George Mason University 1 Data-Intensive Science: A New Vision for Science Education\\n                  ', '\\n                   How Computational Statistics Became the Backbone of Modern Data Science\\n', '\\n                  Efficient Search for Approximate Nearest Neighbor in High Dimensional Spaces\\n                  ', '\\n                  Model selection in ecology and evolution.\\n                  ', '\\n                  Local Ground:\\xa0 A\\xa0Toolkit\\xa0Supporting\\xa0Metarepresentational Competence in\\xa0Data\\xa0Science\\n', '\\n                  Visual Exploration of Formal Requirements for Data Science Demand Analysis\\n                  ', '\\n                  Earth Data, Science Writing, and Peer Review page 1 Earth Data, Science Writing, and Peer Review in a Large General Education Oceanography Class\\n                  ', '\\n                  An Online Algorithm for Segmenting Time Series\\n                  ', '\\n                  OUTLINE AND EXERCISES FOR A NOVEL INTRODUCTORY COURSE IN DATA SCIENCE AND VISUALIZATION\\n                  ', '\\n                   Computational Data Sciences for Actionable Insights on Climate Extremes and Uncertainty\\n                  ', '\\n                  The New Computational and Data Sciences Undergraduate Program at George Mason University 1 Data-Intensive Science: A New Vision for Science Education\\n                  ']\n"
          ],
          "name": "stdout"
        }
      ]
    },
    {
      "cell_type": "code",
      "metadata": {
        "colab": {
          "base_uri": "https://localhost:8080/",
          "height": 343
        },
        "id": "vYpcuRqbiM8w",
        "outputId": "20dacf67-aba3-4b5c-f8ce-2e0139718a2b"
      },
      "source": [
        "articles_titles = pd.read_csv('titles.csv', encoding = \"ISO-8859-1\")\n",
        "articles_titles.head(10)"
      ],
      "execution_count": 42,
      "outputs": [
        {
          "output_type": "execute_result",
          "data": {
            "text/html": [
              "<div>\n",
              "<style scoped>\n",
              "    .dataframe tbody tr th:only-of-type {\n",
              "        vertical-align: middle;\n",
              "    }\n",
              "\n",
              "    .dataframe tbody tr th {\n",
              "        vertical-align: top;\n",
              "    }\n",
              "\n",
              "    .dataframe thead th {\n",
              "        text-align: right;\n",
              "    }\n",
              "</style>\n",
              "<table border=\"1\" class=\"dataframe\">\n",
              "  <thead>\n",
              "    <tr style=\"text-align: right;\">\n",
              "      <th></th>\n",
              "      <th>Heading for articles</th>\n",
              "    </tr>\n",
              "  </thead>\n",
              "  <tbody>\n",
              "    <tr>\n",
              "      <th>0</th>\n",
              "      <td>Data science and prediction</td>\n",
              "    </tr>\n",
              "    <tr>\n",
              "      <th>1</th>\n",
              "      <td>Data science and its relationship to big data ...</td>\n",
              "    </tr>\n",
              "    <tr>\n",
              "      <th>2</th>\n",
              "      <td>Data Science for Business: What you need to kn...</td>\n",
              "    </tr>\n",
              "    <tr>\n",
              "      <th>3</th>\n",
              "      <td>High-dimensional probability: An introduction ...</td>\n",
              "    </tr>\n",
              "    <tr>\n",
              "      <th>4</th>\n",
              "      <td>Computational optimal transport: With applicat...</td>\n",
              "    </tr>\n",
              "    <tr>\n",
              "      <th>5</th>\n",
              "      <td>Data science, predictive analytics, and big da...</td>\n",
              "    </tr>\n",
              "    <tr>\n",
              "      <th>6</th>\n",
              "      <td>Reproducible, interactive, scalable and extens...</td>\n",
              "    </tr>\n",
              "    <tr>\n",
              "      <th>7</th>\n",
              "      <td>The quantified self: Fundamental disruption in...</td>\n",
              "    </tr>\n",
              "    <tr>\n",
              "      <th>8</th>\n",
              "      <td>Putting the data science into journalism</td>\n",
              "    </tr>\n",
              "    <tr>\n",
              "      <th>9</th>\n",
              "      <td>Big data: astronomical or genomical?</td>\n",
              "    </tr>\n",
              "  </tbody>\n",
              "</table>\n",
              "</div>"
            ],
            "text/plain": [
              "                                Heading for articles\n",
              "0                        Data science and prediction\n",
              "1  Data science and its relationship to big data ...\n",
              "2  Data Science for Business: What you need to kn...\n",
              "3  High-dimensional probability: An introduction ...\n",
              "4  Computational optimal transport: With applicat...\n",
              "5  Data science, predictive analytics, and big da...\n",
              "6  Reproducible, interactive, scalable and extens...\n",
              "7  The quantified self: Fundamental disruption in...\n",
              "8           Putting the data science into journalism\n",
              "9               Big data: astronomical or genomical?"
            ]
          },
          "metadata": {
            "tags": []
          },
          "execution_count": 42
        }
      ]
    },
    {
      "cell_type": "markdown",
      "metadata": {
        "id": "g7UHeTmYh1n9"
      },
      "source": [
        ""
      ]
    },
    {
      "cell_type": "code",
      "metadata": {
        "id": "cO-nwQb7h05x"
      },
      "source": [
        "text = articles_titles['Heading for articles'].tolist()"
      ],
      "execution_count": 49,
      "outputs": []
    },
    {
      "cell_type": "code",
      "metadata": {
        "id": "27zlo-HNiljU"
      },
      "source": [
        "text_words =[]\n",
        "for row in text:\n",
        "  text_words.append(gensim.utils.simple_preprocess(str(row), deacc=True))"
      ],
      "execution_count": 52,
      "outputs": []
    },
    {
      "cell_type": "code",
      "metadata": {
        "colab": {
          "base_uri": "https://localhost:8080/"
        },
        "id": "fguXf2Tai2ZD",
        "outputId": "00fdf702-87f4-4345-f015-dfd07a7444c1"
      },
      "source": [
        "bi_gram = gensim.models.Phrases(data_words, min_count=5, threshold=100)\n",
        "tri_gram = gensim.models.Phrases(bi_gram[data_words], threshold=100)\n",
        "bi_gram_mod = gensim.models.phrases.Phraser(bi_gram)\n",
        "tri_gram_mod = gensim.models.phrases.Phraser(tri_gram)"
      ],
      "execution_count": 54,
      "outputs": [
        {
          "output_type": "stream",
          "text": [
            "/usr/local/lib/python3.7/dist-packages/gensim/models/phrases.py:598: UserWarning: For a faster implementation, use the gensim.models.phrases.Phraser class\n",
            "  warnings.warn(\"For a faster implementation, use the gensim.models.phrases.Phraser class\")\n"
          ],
          "name": "stderr"
        }
      ]
    },
    {
      "cell_type": "code",
      "metadata": {
        "id": "YuOHP31jjAH5"
      },
      "source": [
        "stopword_removed = [[word for word in simple_preprocess(str(doc)) if word not in stop_words] for doc in data_words]\n",
        "bi_grams = [bi_gram_mod[doc] for doc in stopword_removed]"
      ],
      "execution_count": 55,
      "outputs": []
    },
    {
      "cell_type": "code",
      "metadata": {
        "id": "7xHDFRl-jKA6"
      },
      "source": [
        "nlp = spacy.load('en', disable=['parser', 'ner'])\n",
        "postags=['NOUN', 'ADJ', 'VERB', 'ADV']\n",
        "lemmatization_done = []\n",
        "for sent in bi_grams:\n",
        "  doc = nlp(\" \".join(sent)) \n",
        "  lemmatization_done.append([token.lemma_ for token in doc if token.pos_ in postags])"
      ],
      "execution_count": 57,
      "outputs": []
    },
    {
      "cell_type": "code",
      "metadata": {
        "id": "XUNTpZkGjy22"
      },
      "source": [
        "lda_model = gensim.models.ldamodel.LdaModel(corpus=corpus,\n",
        "                                           id2word=id2word,\n",
        "                                           num_topics=20, \n",
        "                                           random_state=100,\n",
        "                                           update_every=1,\n",
        "                                           chunksize=100,\n",
        "                                           passes=10,\n",
        "                                           alpha='auto',\n",
        "                                           per_word_topics=True)"
      ],
      "execution_count": 85,
      "outputs": []
    },
    {
      "cell_type": "code",
      "metadata": {
        "colab": {
          "base_uri": "https://localhost:8080/"
        },
        "id": "McuY2Z2-jwzW",
        "outputId": "b8cd78eb-b811-4c8e-c9fc-b319c36561b4"
      },
      "source": [
        "print('\\nPerplexity: ', lda_model.log_perplexity(corpus)) \n",
        "coherence_model_lda = CoherenceModel(model=lda_model, texts=lemmatization_done, dictionary=id2word, coherence='c_v')\n",
        "coherence_lda = coherence_model_lda.get_coherence()\n",
        "print('\\nCoherence Score: ', coherence_lda)"
      ],
      "execution_count": 87,
      "outputs": [
        {
          "output_type": "stream",
          "text": [
            "\n",
            "Perplexity:  -6.551614975030762\n",
            "\n",
            "Coherence Score:  0.4734763747748085\n"
          ],
          "name": "stdout"
        }
      ]
    },
    {
      "cell_type": "code",
      "metadata": {
        "colab": {
          "base_uri": "https://localhost:8080/"
        },
        "id": "P2EenPgnVHgp",
        "outputId": "e2e15a6e-d4b2-4fe0-9370-02c0e48f0e33"
      },
      "source": [
        "pip install pyLDAvis"
      ],
      "execution_count": 3,
      "outputs": [
        {
          "output_type": "stream",
          "text": [
            "Collecting pyLDAvis\n",
            "\u001b[?25l  Downloading https://files.pythonhosted.org/packages/24/38/6d81eff34c84c9158d3b7c846bff978ac88b0c2665548941946d3d591158/pyLDAvis-3.2.2.tar.gz (1.7MB)\n",
            "\u001b[K     |████████████████████████████████| 1.7MB 5.4MB/s \n",
            "\u001b[?25hRequirement already satisfied: wheel>=0.23.0 in /usr/local/lib/python3.7/dist-packages (from pyLDAvis) (0.36.2)\n",
            "Requirement already satisfied: numpy>=1.9.2 in /usr/local/lib/python3.7/dist-packages (from pyLDAvis) (1.19.5)\n",
            "Requirement already satisfied: scipy>=0.18.0 in /usr/local/lib/python3.7/dist-packages (from pyLDAvis) (1.4.1)\n",
            "Requirement already satisfied: joblib>=0.8.4 in /usr/local/lib/python3.7/dist-packages (from pyLDAvis) (1.0.1)\n",
            "Requirement already satisfied: jinja2>=2.7.2 in /usr/local/lib/python3.7/dist-packages (from pyLDAvis) (2.11.3)\n",
            "Requirement already satisfied: numexpr in /usr/local/lib/python3.7/dist-packages (from pyLDAvis) (2.7.3)\n",
            "Requirement already satisfied: future in /usr/local/lib/python3.7/dist-packages (from pyLDAvis) (0.16.0)\n",
            "Collecting funcy\n",
            "  Downloading https://files.pythonhosted.org/packages/66/89/479de0afbbfb98d1c4b887936808764627300208bb771fcd823403645a36/funcy-1.15-py2.py3-none-any.whl\n",
            "Requirement already satisfied: pandas>=0.17.0 in /usr/local/lib/python3.7/dist-packages (from pyLDAvis) (1.1.5)\n",
            "Requirement already satisfied: MarkupSafe>=0.23 in /usr/local/lib/python3.7/dist-packages (from jinja2>=2.7.2->pyLDAvis) (1.1.1)\n",
            "Requirement already satisfied: python-dateutil>=2.7.3 in /usr/local/lib/python3.7/dist-packages (from pandas>=0.17.0->pyLDAvis) (2.8.1)\n",
            "Requirement already satisfied: pytz>=2017.2 in /usr/local/lib/python3.7/dist-packages (from pandas>=0.17.0->pyLDAvis) (2018.9)\n",
            "Requirement already satisfied: six>=1.5 in /usr/local/lib/python3.7/dist-packages (from python-dateutil>=2.7.3->pandas>=0.17.0->pyLDAvis) (1.15.0)\n",
            "Building wheels for collected packages: pyLDAvis\n",
            "  Building wheel for pyLDAvis (setup.py) ... \u001b[?25l\u001b[?25hdone\n",
            "  Created wheel for pyLDAvis: filename=pyLDAvis-3.2.2-py2.py3-none-any.whl size=135593 sha256=d6b0fa127880431081a7820d893c39f483970c4e236c56c74191dd4a0e66f903\n",
            "  Stored in directory: /root/.cache/pip/wheels/74/df/b6/97234c8446a43be05c9a8687ee0db1f1b5ade5f27729187eae\n",
            "Successfully built pyLDAvis\n",
            "Installing collected packages: funcy, pyLDAvis\n",
            "Successfully installed funcy-1.15 pyLDAvis-3.2.2\n"
          ],
          "name": "stdout"
        }
      ]
    },
    {
      "cell_type": "code",
      "metadata": {
        "colab": {
          "base_uri": "https://localhost:8080/"
        },
        "id": "3Jyq87LKVMng",
        "outputId": "2874f552-f35f-4b33-ff0a-be0ec604ebc7"
      },
      "source": [
        "import nltk; nltk.download('stopwords')\n",
        "import re\n",
        "import numpy as np\n",
        "import pandas as pd\n",
        "from pprint import pprint\n",
        "import gensim\n",
        "import gensim.corpora as corpora\n",
        "from gensim.utils import simple_preprocess\n",
        "from gensim.models import CoherenceModel\n",
        "import spacy\n",
        "import pyLDAvis\n",
        "import pyLDAvis.gensim  \n",
        "import matplotlib.pyplot as plt\n",
        "%matplotlib inline\n",
        "import logging\n",
        "logging.basicConfig(format='%(asctime)s : %(levelname)s : %(message)s', level=logging.ERROR)\n",
        "import warnings\n",
        "warnings.filterwarnings(\"ignore\",category=DeprecationWarning)"
      ],
      "execution_count": 15,
      "outputs": [
        {
          "output_type": "stream",
          "text": [
            "[nltk_data] Downloading package stopwords to /root/nltk_data...\n",
            "[nltk_data]   Package stopwords is already up-to-date!\n"
          ],
          "name": "stdout"
        }
      ]
    },
    {
      "cell_type": "code",
      "metadata": {
        "colab": {
          "base_uri": "https://localhost:8080/"
        },
        "id": "KBM2uYFXVRU9",
        "outputId": "2d7a7ef2-da43-4469-831c-7f57c8fe45c0"
      },
      "source": [
        "from nltk.corpus import stopwords\n",
        "stop_wrds = stopwords.words('english')\n",
        "stop_wrds.extend(['from', 'subject', 're', 'edu', 'use'])\n",
        "def sent_words(sentences):\n",
        "    for sentence in sentences:\n",
        "        yield(gensim.utils.simple_preprocess(str(sentence), deacc=True))  \n",
        "text_words = list(sent_words(titles))\n",
        "bi_gram = gensim.models.Phrases(text_words, min_count=5, threshold=100)\n",
        "bi_gram_mod = gensim.models.phrases.Phraser(bi_gram)\n",
        "\n",
        "print(text_words[:1])\n",
        "def stopwords_removed(texts):\n",
        "    return [[word for word in simple_preprocess(str(doc)) if word not in stop_wrds] for doc in texts]\n",
        "def lemmatization(texts, allowed_postags=['NOUN', 'ADJ', 'VERB', 'ADV']):\n",
        "    \"\"\"https://spacy.io/api/annotation\"\"\"\n",
        "    texts_out = []\n",
        "    for done in texts:\n",
        "        doc = nlp(\" \".join(done)) \n",
        "        texts_out.append([token.lemma_ for token in doc if token.pos_ in allowed_postags])\n",
        "    return texts_out\n",
        "def bigrams_m(texts):\n",
        "    return [bi_gram_mod[doc] for doc in texts]\n",
        "data_nostops = stopwords_removed(text_words)\n",
        "data_bi_grams = bigrams_m(data_nostops)\n",
        "nlp = spacy.load('en', disable=['parser', 'ner'])\n",
        "lemmatized_data = lemmatization(data_bi_grams, allowed_postags=['NOUN', 'ADJ', 'VERB', 'ADV'])\n",
        "print(lemmatized_data[:1])\n",
        "id2word = corpora.Dictionary(lemmatized_data)\n",
        "texts = lemmatized_data\n",
        "corpus = [id2word.doc2bow(text) for text in texts]\n",
        "print(corpus[:1])\n",
        "lda_model = gensim.models.ldamodel.LdaModel(corpus=corpus,\n",
        "                                           id2word=id2word,\n",
        "                                           num_topics=20, \n",
        "                                           random_state=100,\n",
        "                                           update_every=1,\n",
        "                                           chunksize=100,\n",
        "                                           passes=10,\n",
        "                                           alpha='auto',\n",
        "                                           per_word_topics=True)\n",
        "pprint(lda_model.print_topics())\n",
        "doc_lda = lda_model[corpus]\n"
      ],
      "execution_count": 17,
      "outputs": [
        {
          "output_type": "stream",
          "text": [
            "[['how', 'computational', 'statistics', 'became', 'the', 'backbone', 'of', 'modern', 'data', 'science']]\n",
            "[['computational', 'statistic', 'become', 'backbone', 'modern', 'datum', 'science']]\n",
            "[[(0, 1), (1, 1), (2, 1), (3, 1), (4, 1), (5, 1), (6, 1)]]\n",
            "[(0,\n",
            "  '0.024*\"new\" + 0.024*\"science\" + 0.021*\"education\" + 0.021*\"approximate\" + '\n",
            "  '0.021*\"space\" + 0.021*\"search\" + 0.021*\"neighbor\" + 0.021*\"near\" + '\n",
            "  '0.021*\"vision\" + 0.021*\"efficient\"'),\n",
            " (1,\n",
            "  '0.022*\"neighbor\" + 0.022*\"search\" + 0.022*\"efficient\" + 0.022*\"space\" + '\n",
            "  '0.022*\"approximate\" + 0.022*\"near\" + 0.022*\"segment\" + 0.022*\"dimensional\" '\n",
            "  '+ 0.022*\"high\" + 0.018*\"writing\"'),\n",
            " (2,\n",
            "  '0.123*\"science\" + 0.123*\"writing\" + 0.123*\"review\" + 0.123*\"peer\" + '\n",
            "  '0.062*\"education\" + 0.062*\"datum\" + 0.062*\"large\" + 0.062*\"class\" + '\n",
            "  '0.062*\"general\" + 0.062*\"page\"'),\n",
            " (3,\n",
            "  '0.022*\"toolkit\" + 0.022*\"competence\" + 0.022*\"datum\" + 0.022*\"ground\" + '\n",
            "  '0.022*\"local\" + 0.022*\"support\" + 0.022*\"science\" + 0.018*\"peer\" + '\n",
            "  '0.018*\"segment\" + 0.018*\"large\"'),\n",
            " (4,\n",
            "  '0.021*\"introductory\" + 0.021*\"selection\" + 0.021*\"model\" + '\n",
            "  '0.021*\"evolution\" + 0.021*\"exercise\" + 0.021*\"novel\" + '\n",
            "  '0.021*\"visualization\" + 0.021*\"course\" + 0.021*\"science\" + 0.021*\"datum\"'),\n",
            " (5,\n",
            "  '0.307*\"evolution\" + 0.307*\"model\" + 0.307*\"selection\" + 0.002*\"uncertainty\" '\n",
            "  '+ 0.002*\"extreme\" + 0.002*\"insight\" + 0.002*\"actionable\" + 0.002*\"climate\" '\n",
            "  '+ 0.002*\"review\" + 0.002*\"education\"'),\n",
            " (6,\n",
            "  '0.038*\"datum\" + 0.038*\"science\" + 0.033*\"analysis\" + 0.033*\"formal\" + '\n",
            "  '0.033*\"visual\" + 0.033*\"requirement\" + 0.033*\"exploration\" + 0.033*\"demand\" '\n",
            "  '+ 0.021*\"become\" + 0.021*\"backbone\"'),\n",
            " (7,\n",
            "  '0.242*\"science\" + 0.242*\"new\" + 0.121*\"education\" + 0.121*\"computational\" + '\n",
            "  '0.121*\"vision\" + 0.121*\"intensive\" + 0.001*\"writing\" + 0.001*\"peer\" + '\n",
            "  '0.001*\"datum\" + 0.001*\"review\"'),\n",
            " (8,\n",
            "  '0.122*\"science\" + 0.122*\"datum\" + 0.121*\"demand\" + 0.121*\"analysis\" + '\n",
            "  '0.121*\"formal\" + 0.121*\"visual\" + 0.121*\"requirement\" + 0.121*\"exploration\" '\n",
            "  '+ 0.001*\"segment\" + 0.001*\"course\"'),\n",
            " (9,\n",
            "  '0.021*\"climate\" + 0.021*\"actionable\" + 0.021*\"local\" + 0.021*\"ground\" + '\n",
            "  '0.021*\"selection\" + 0.021*\"model\" + 0.021*\"evolution\" + 0.021*\"toolkit\" + '\n",
            "  '0.021*\"extreme\" + 0.021*\"support\"'),\n",
            " (10,\n",
            "  '0.021*\"climate\" + 0.021*\"actionable\" + 0.021*\"space\" + 0.021*\"insight\" + '\n",
            "  '0.021*\"formal\" + 0.021*\"extreme\" + 0.021*\"analysis\" + 0.021*\"requirement\" + '\n",
            "  '0.021*\"neighbor\" + 0.021*\"visual\"'),\n",
            " (11,\n",
            "  '0.793*\"segment\" + 0.004*\"oceanography\" + 0.004*\"review\" + 0.004*\"peer\" + '\n",
            "  '0.004*\"page\" + 0.004*\"general\" + 0.004*\"large\" + 0.004*\"class\" + '\n",
            "  '0.004*\"earth\" + 0.004*\"exercise\"'),\n",
            " (12,\n",
            "  '0.138*\"science\" + 0.138*\"datum\" + 0.138*\"exercise\" + 0.138*\"introductory\" + '\n",
            "  '0.138*\"visualization\" + 0.138*\"course\" + 0.138*\"novel\" + 0.001*\"demand\" + '\n",
            "  '0.001*\"selection\" + 0.001*\"model\"'),\n",
            " (13,\n",
            "  '0.138*\"toolkit\" + 0.138*\"competence\" + 0.138*\"datum\" + 0.138*\"ground\" + '\n",
            "  '0.138*\"science\" + 0.138*\"local\" + 0.138*\"support\" + 0.001*\"segment\" + '\n",
            "  '0.001*\"peer\" + 0.001*\"large\"'),\n",
            " (14,\n",
            "  '0.138*\"datum\" + 0.138*\"science\" + 0.138*\"statistic\" + 0.138*\"backbone\" + '\n",
            "  '0.138*\"become\" + 0.138*\"computational\" + 0.138*\"modern\" + 0.001*\"course\" + '\n",
            "  '0.001*\"exercise\" + 0.001*\"visualization\"'),\n",
            " (15,\n",
            "  '0.024*\"datum\" + 0.024*\"science\" + 0.021*\"evolution\" + 0.021*\"selection\" + '\n",
            "  '0.021*\"exercise\" + 0.021*\"introductory\" + 0.021*\"novel\" + '\n",
            "  '0.021*\"visualization\" + 0.021*\"model\" + 0.021*\"requirement\"'),\n",
            " (16,\n",
            "  '0.038*\"science\" + 0.032*\"datum\" + 0.026*\"peer\" + 0.026*\"review\" + '\n",
            "  '0.026*\"writing\" + 0.021*\"statistic\" + 0.021*\"computational\" + '\n",
            "  '0.021*\"become\" + 0.021*\"modern\" + 0.021*\"backbone\"'),\n",
            " (17,\n",
            "  '0.019*\"oceanography\" + 0.019*\"general\" + 0.019*\"review\" + 0.019*\"peer\" + '\n",
            "  '0.019*\"page\" + 0.019*\"segment\" + 0.019*\"large\" + 0.019*\"class\" + '\n",
            "  '0.019*\"earth\" + 0.019*\"exercise\"'),\n",
            " (18,\n",
            "  '0.121*\"efficient\" + 0.121*\"dimensional\" + 0.121*\"space\" + 0.121*\"search\" + '\n",
            "  '0.121*\"neighbor\" + 0.121*\"high\" + 0.121*\"approximate\" + 0.121*\"near\" + '\n",
            "  '0.001*\"become\" + 0.001*\"backbone\"'),\n",
            " (19,\n",
            "  '0.191*\"uncertainty\" + 0.191*\"actionable\" + 0.191*\"climate\" + '\n",
            "  '0.191*\"extreme\" + 0.191*\"insight\" + 0.001*\"become\" + 0.001*\"backbone\" + '\n",
            "  '0.001*\"datum\" + 0.001*\"modern\" + 0.001*\"computational\"')]\n"
          ],
          "name": "stdout"
        }
      ]
    },
    {
      "cell_type": "code",
      "metadata": {
        "colab": {
          "base_uri": "https://localhost:8080/",
          "height": 881
        },
        "id": "MpTIKjIhgI8P",
        "outputId": "0e77a2d5-4802-4db9-e271-3fa68f093f6e"
      },
      "source": [
        "pyLDAvis.enable_notebook()\n",
        "vis_ = pyLDAvis.gensim.prepare(lda_model, corpus, id2word)\n",
        "vis_"
      ],
      "execution_count": 33,
      "outputs": [
        {
          "output_type": "execute_result",
          "data": {
            "text/html": [
              "\n",
              "<link rel=\"stylesheet\" type=\"text/css\" href=\"https://cdn.jsdelivr.net/gh/bmabey/pyLDAvis@3.2.2/pyLDAvis/js/ldavis.v1.0.0.css\">\n",
              "\n",
              "\n",
              "<div id=\"ldavis_el581402577337434401775738156\"></div>\n",
              "<script type=\"text/javascript\">\n",
              "\n",
              "var ldavis_el581402577337434401775738156_data = {\"mdsDat\": {\"x\": [-0.15204458087537598, -0.20642545319841737, 0.25047581420200526, -0.18607845716553081, -0.2087919633030306, -0.2359809812513911, -0.2089937620113872, 0.1921579731732727, 0.16036833651600205, 0.1270638572469728, 0.010543048670803473, 0.011293619175046824, 0.06325611050658773, 0.0446688875134546, 0.057573936884075035, 0.05501087477652127, 0.05220645287701167, 0.06714291885509606, 0.04899176250996192, 0.05756160489832154], \"y\": [-0.029333417051389383, 0.02464229594625184, -0.29261034111844353, -0.010096124946795482, 0.0055915917675442494, 0.012587950071781498, 0.0045882246510209074, 0.28719348991580185, 0.19117269863091377, 0.009426985613795314, -0.013162375784378422, -0.023702303180438523, -0.024040279640268444, -0.015642723069447046, -0.004112688584075031, -0.03336672023036498, -0.01492990028000885, -0.03423995011969646, -0.020025012198920028, -0.019941400392883245], \"topics\": [1, 2, 3, 4, 5, 6, 7, 8, 9, 10, 11, 12, 13, 14, 15, 16, 17, 18, 19, 20], \"cluster\": [1, 1, 1, 1, 1, 1, 1, 1, 1, 1, 1, 1, 1, 1, 1, 1, 1, 1, 1, 1], \"Freq\": [22.424851810024983, 11.005352036576403, 11.001077816884605, 10.98300989863737, 9.597126732038664, 9.583079480116877, 9.582468144618998, 6.746429420472795, 3.974595796625731, 1.3273308989011883, 0.3923530538854642, 0.3869630524855704, 0.3776022041977139, 0.37750330106756136, 0.37743381841720797, 0.3745604638583057, 0.374391523674782, 0.3742107717932703, 0.37140271066278224, 0.36825706505972994]}, \"tinfo\": {\"Term\": [\"science\", \"datum\", \"new\", \"peer\", \"review\", \"writing\", \"segment\", \"education\", \"computational\", \"model\", \"evolution\", \"selection\", \"earth\", \"oceanography\", \"page\", \"general\", \"class\", \"large\", \"insight\", \"uncertainty\", \"actionable\", \"climate\", \"extreme\", \"visual\", \"requirement\", \"formal\", \"exploration\", \"demand\", \"analysis\", \"efficient\", \"writing\", \"review\", \"peer\", \"large\", \"class\", \"general\", \"page\", \"oceanography\", \"earth\", \"education\", \"science\", \"datum\", \"intensive\", \"vision\", \"insight\", \"actionable\", \"climate\", \"extreme\", \"uncertainty\", \"segment\", \"competence\", \"ground\", \"local\", \"support\", \"toolkit\", \"approximate\", \"dimensional\", \"efficient\", \"high\", \"near\", \"new\", \"computational\", \"neighbor\", \"search\", \"space\", \"new\", \"intensive\", \"vision\", \"computational\", \"education\", \"science\", \"segment\", \"backbone\", \"become\", \"modern\", \"statistic\", \"earth\", \"oceanography\", \"page\", \"general\", \"class\", \"large\", \"evolution\", \"model\", \"selection\", \"actionable\", \"climate\", \"extreme\", \"uncertainty\", \"insight\", \"exercise\", \"introductory\", \"novel\", \"visualization\", \"course\", \"peer\", \"review\", \"writing\", \"datum\", \"approximate\", \"dimensional\", \"efficient\", \"high\", \"near\", \"neighbor\", \"search\", \"space\", \"approximate\", \"dimensional\", \"efficient\", \"high\", \"near\", \"neighbor\", \"search\", \"space\", \"segment\", \"backbone\", \"become\", \"modern\", \"statistic\", \"evolution\", \"model\", \"selection\", \"actionable\", \"climate\", \"extreme\", \"uncertainty\", \"insight\", \"exercise\", \"introductory\", \"novel\", \"visualization\", \"course\", \"competence\", \"ground\", \"local\", \"support\", \"computational\", \"datum\", \"science\", \"toolkit\", \"analysis\", \"demand\", \"exploration\", \"formal\", \"requirement\", \"visual\", \"class\", \"analysis\", \"demand\", \"exploration\", \"formal\", \"requirement\", \"visual\", \"datum\", \"science\", \"segment\", \"exercise\", \"introductory\", \"novel\", \"visualization\", \"course\", \"evolution\", \"model\", \"selection\", \"actionable\", \"climate\", \"extreme\", \"uncertainty\", \"insight\", \"backbone\", \"become\", \"modern\", \"statistic\", \"competence\", \"ground\", \"local\", \"support\", \"computational\", \"approximate\", \"dimensional\", \"efficient\", \"high\", \"near\", \"neighbor\", \"search\", \"space\", \"competence\", \"ground\", \"local\", \"support\", \"toolkit\", \"datum\", \"science\", \"segment\", \"evolution\", \"model\", \"selection\", \"actionable\", \"climate\", \"extreme\", \"uncertainty\", \"insight\", \"backbone\", \"become\", \"modern\", \"statistic\", \"exercise\", \"introductory\", \"novel\", \"visualization\", \"course\", \"intensive\", \"vision\", \"approximate\", \"dimensional\", \"efficient\", \"computational\", \"high\", \"near\", \"neighbor\", \"search\", \"space\", \"analysis\", \"demand\", \"exploration\", \"formal\", \"requirement\", \"visual\", \"backbone\", \"become\", \"modern\", \"statistic\", \"computational\", \"datum\", \"science\", \"course\", \"exercise\", \"introductory\", \"novel\", \"visualization\", \"segment\", \"competence\", \"ground\", \"local\", \"support\", \"toolkit\", \"analysis\", \"demand\", \"exploration\", \"formal\", \"requirement\", \"visual\", \"evolution\", \"model\", \"selection\", \"actionable\", \"climate\", \"extreme\", \"approximate\", \"dimensional\", \"efficient\", \"high\", \"near\", \"neighbor\", \"search\", \"exercise\", \"introductory\", \"novel\", \"visualization\", \"course\", \"datum\", \"science\", \"segment\", \"evolution\", \"model\", \"selection\", \"analysis\", \"demand\", \"exploration\", \"formal\", \"requirement\", \"visual\", \"actionable\", \"climate\", \"extreme\", \"uncertainty\", \"insight\", \"backbone\", \"become\", \"modern\", \"statistic\", \"competence\", \"ground\", \"local\", \"support\", \"computational\", \"approximate\", \"dimensional\", \"efficient\", \"high\", \"near\", \"neighbor\", \"search\", \"space\", \"actionable\", \"climate\", \"extreme\", \"uncertainty\", \"insight\", \"segment\", \"backbone\", \"become\", \"modern\", \"statistic\", \"evolution\", \"model\", \"selection\", \"exercise\", \"introductory\", \"novel\", \"visualization\", \"course\", \"competence\", \"ground\", \"local\", \"support\", \"toolkit\", \"intensive\", \"vision\", \"approximate\", \"dimensional\", \"efficient\", \"high\", \"near\", \"computational\", \"datum\", \"science\", \"neighbor\", \"search\", \"space\", \"analysis\", \"demand\", \"evolution\", \"model\", \"selection\", \"actionable\", \"climate\", \"extreme\", \"uncertainty\", \"insight\", \"segment\", \"backbone\", \"become\", \"modern\", \"statistic\", \"exercise\", \"introductory\", \"novel\", \"visualization\", \"course\", \"competence\", \"ground\", \"local\", \"support\", \"toolkit\", \"intensive\", \"vision\", \"approximate\", \"dimensional\", \"efficient\", \"high\", \"near\", \"computational\", \"datum\", \"science\", \"neighbor\", \"search\", \"space\", \"analysis\", \"demand\", \"segment\", \"evolution\", \"model\", \"selection\", \"actionable\", \"climate\", \"extreme\", \"uncertainty\", \"insight\", \"backbone\", \"become\", \"modern\", \"statistic\", \"exercise\", \"introductory\", \"novel\", \"visualization\", \"course\", \"competence\", \"ground\", \"local\", \"support\", \"toolkit\", \"intensive\", \"vision\", \"approximate\", \"dimensional\", \"efficient\", \"high\", \"near\", \"computational\", \"datum\", \"science\", \"neighbor\", \"search\", \"space\", \"analysis\", \"demand\", \"exploration\", \"formal\", \"requirement\", \"visual\", \"analysis\", \"demand\", \"exploration\", \"formal\", \"requirement\", \"visual\", \"backbone\", \"become\", \"modern\", \"statistic\", \"segment\", \"actionable\", \"climate\", \"extreme\", \"uncertainty\", \"insight\", \"evolution\", \"model\", \"selection\", \"exercise\", \"introductory\", \"novel\", \"visualization\", \"course\", \"competence\", \"ground\", \"local\", \"support\", \"toolkit\", \"intensive\", \"datum\", \"computational\", \"science\", \"approximate\", \"dimensional\", \"efficient\", \"high\", \"near\", \"neighbor\", \"search\", \"space\", \"statistic\", \"backbone\", \"become\", \"modern\", \"earth\", \"oceanography\", \"page\", \"general\", \"class\", \"large\", \"segment\", \"exercise\", \"introductory\", \"novel\", \"visualization\", \"course\", \"analysis\", \"demand\", \"exploration\", \"formal\", \"requirement\", \"visual\", \"evolution\", \"model\", \"selection\", \"actionable\", \"climate\", \"extreme\", \"uncertainty\", \"insight\", \"peer\", \"review\", \"writing\", \"datum\", \"computational\", \"science\", \"education\", \"approximate\", \"dimensional\", \"segment\", \"actionable\", \"climate\", \"extreme\", \"uncertainty\", \"insight\", \"approximate\", \"dimensional\", \"efficient\", \"high\", \"near\", \"neighbor\", \"search\", \"space\", \"analysis\", \"demand\", \"exploration\", \"formal\", \"requirement\", \"visual\", \"evolution\", \"model\", \"selection\", \"backbone\", \"become\", \"modern\", \"statistic\", \"exercise\", \"introductory\", \"novel\", \"datum\", \"science\", \"computational\", \"competence\", \"evolution\", \"model\", \"selection\", \"segment\", \"exercise\", \"introductory\", \"novel\", \"visualization\", \"course\", \"demand\", \"exploration\", \"formal\", \"requirement\", \"visual\", \"analysis\", \"actionable\", \"climate\", \"extreme\", \"uncertainty\", \"insight\", \"backbone\", \"become\", \"modern\", \"statistic\", \"competence\", \"ground\", \"local\", \"support\", \"toolkit\", \"intensive\", \"datum\", \"science\", \"computational\", \"approximate\", \"dimensional\", \"efficient\", \"high\", \"near\", \"neighbor\", \"search\", \"space\", \"evolution\", \"model\", \"selection\", \"segment\", \"actionable\", \"climate\", \"extreme\", \"uncertainty\", \"insight\", \"ground\", \"local\", \"support\", \"toolkit\", \"competence\", \"backbone\", \"become\", \"modern\", \"statistic\", \"exercise\", \"introductory\", \"novel\", \"visualization\", \"course\", \"intensive\", \"vision\", \"approximate\", \"dimensional\", \"efficient\", \"high\", \"near\", \"datum\", \"science\", \"computational\", \"neighbor\", \"search\", \"space\", \"analysis\", \"demand\", \"segment\", \"intensive\", \"vision\", \"approximate\", \"dimensional\", \"efficient\", \"high\", \"near\", \"neighbor\", \"search\", \"space\", \"evolution\", \"model\", \"selection\", \"actionable\", \"climate\", \"extreme\", \"uncertainty\", \"insight\", \"backbone\", \"become\", \"modern\", \"statistic\", \"exercise\", \"introductory\", \"novel\", \"visualization\", \"course\", \"competence\", \"ground\", \"new\", \"computational\", \"education\", \"science\", \"datum\", \"local\", \"support\", \"toolkit\", \"analysis\", \"demand\", \"exploration\", \"evolution\", \"model\", \"selection\", \"segment\", \"exercise\", \"introductory\", \"novel\", \"visualization\", \"course\", \"actionable\", \"climate\", \"extreme\", \"uncertainty\", \"insight\", \"backbone\", \"become\", \"modern\", \"statistic\", \"competence\", \"ground\", \"local\", \"support\", \"toolkit\", \"intensive\", \"vision\", \"approximate\", \"dimensional\", \"efficient\", \"high\", \"near\", \"datum\", \"science\", \"computational\", \"neighbor\", \"search\", \"space\", \"analysis\", \"demand\", \"segment\", \"approximate\", \"dimensional\", \"efficient\", \"high\", \"near\", \"neighbor\", \"search\", \"space\", \"evolution\", \"model\", \"selection\", \"actionable\", \"climate\", \"extreme\", \"uncertainty\", \"insight\", \"backbone\", \"become\", \"modern\", \"statistic\", \"exercise\", \"introductory\", \"novel\", \"visualization\", \"course\", \"competence\", \"ground\", \"local\", \"support\", \"computational\", \"datum\", \"science\", \"toolkit\", \"analysis\", \"demand\", \"exploration\", \"formal\", \"requirement\", \"visual\", \"segment\", \"competence\", \"ground\", \"local\", \"support\", \"toolkit\", \"evolution\", \"model\", \"selection\", \"actionable\", \"climate\", \"extreme\", \"uncertainty\", \"insight\", \"backbone\", \"become\", \"modern\", \"statistic\", \"exercise\", \"introductory\", \"novel\", \"visualization\", \"course\", \"intensive\", \"vision\", \"approximate\", \"dimensional\", \"efficient\", \"high\", \"near\", \"datum\", \"science\", \"computational\", \"neighbor\", \"search\", \"space\", \"analysis\", \"demand\", \"exploration\", \"formal\", \"requirement\", \"visual\", \"class\", \"segment\", \"evolution\", \"model\", \"selection\", \"actionable\", \"climate\", \"extreme\", \"uncertainty\", \"insight\", \"backbone\", \"become\", \"modern\", \"statistic\", \"exercise\", \"introductory\", \"novel\", \"visualization\", \"course\", \"competence\", \"ground\", \"local\", \"support\", \"toolkit\", \"intensive\", \"vision\", \"approximate\", \"dimensional\", \"efficient\", \"high\", \"near\", \"computational\", \"datum\", \"science\", \"neighbor\", \"search\", \"space\", \"analysis\", \"demand\", \"exploration\", \"formal\", \"requirement\", \"visual\", \"class\"], \"Freq\": [76.0, 47.0, 19.0, 20.0, 20.0, 20.0, 8.0, 19.0, 19.0, 9.0, 9.0, 9.0, 10.0, 10.0, 10.0, 10.0, 10.0, 10.0, 9.0, 9.0, 9.0, 9.0, 9.0, 10.0, 10.0, 10.0, 10.0, 10.0, 10.0, 10.0, 19.298700252849187, 19.29781139699715, 19.29766988178913, 9.67336209944849, 9.673288417976543, 9.673222338561228, 9.673116494542006, 9.673114740221244, 9.672991352994416, 9.69860268177839, 19.35775302874527, 9.681586355174174, 0.07387066904319728, 0.07387066904319728, 0.06533003253284339, 0.0653300233957561, 0.0653300233957561, 0.0653300233957561, 0.0653300233957561, 0.048248732100873715, 0.056789377748314905, 0.056789377748314905, 0.056789377748314905, 0.056789377748314905, 0.056789377748314905, 0.056789377748314905, 0.056789377748314905, 0.056789377748314905, 0.056789377748314905, 0.056789377748314905, 0.0994926105540645, 0.07387066904319728, 0.056789377748314905, 0.056789377748314905, 0.056789377748314905, 18.640427328255004, 9.343539387129917, 9.343539387129917, 9.351797148808004, 9.351797148808004, 18.665201187263108, 0.04664960301069433, 0.05490718532195471, 0.05490718532195471, 0.05490718532195471, 0.05490718532195471, 0.05490718532195471, 0.05490718532195471, 0.05490718532195471, 0.05490718532195471, 0.05490718532195471, 0.05490718532195471, 0.04664960301069433, 0.04664960301069433, 0.04664960301069433, 0.04664960301069433, 0.04664960301069433, 0.04664960301069433, 0.04664960301069433, 0.04664960301069433, 0.04664960301069433, 0.04664960301069433, 0.04664960301069433, 0.04664960301069433, 0.04664960301069433, 0.06316476314904444, 0.06316476314904444, 0.06316476314904444, 0.06316476314904444, 0.04664960301069433, 0.04664960301069433, 0.04664960301069433, 0.04664960301069433, 0.04664960301069433, 0.04664960301069433, 0.04664960301069433, 0.04664960301069433, 9.35595322596976, 9.35595322596976, 9.35595322596976, 9.35595322596976, 9.35595322596976, 9.35595322596976, 9.35595322596976, 9.35595322596976, 0.04671157744608832, 0.054980130629990374, 0.054980130629990374, 0.054980130629990374, 0.054980130629990374, 0.04671157744608832, 0.04671157744608832, 0.04671157744608832, 0.04671157744608832, 0.04671157744608832, 0.04671157744608832, 0.04671157744608832, 0.04671157744608832, 0.04671157744608832, 0.04671157744608832, 0.04671157744608832, 0.04671157744608832, 0.04671157744608832, 0.04671157744608832, 0.04671157744608832, 0.04671157744608832, 0.04671157744608832, 0.054980130629990374, 0.054980130629990374, 0.054980130629990374, 0.04671157744608832, 0.04671157744608832, 0.04671157744608832, 0.04671157744608832, 0.04671157744608832, 0.04671157744608832, 0.04671157744608832, 0.04671157744608832, 9.337884711651983, 9.337884711651983, 9.337884711651983, 9.337884711651983, 9.337884711651983, 9.337884711651983, 9.345953866535567, 9.345953866535567, 0.05524089259927635, 0.05524089259927635, 0.05524089259927635, 0.05524089259927635, 0.05524089259927635, 0.05524089259927635, 0.04693312265418376, 0.04693312265418376, 0.04693312265418376, 0.04693312265418376, 0.04693312265418376, 0.04693312265418376, 0.04693312265418376, 0.04693312265418376, 0.04693312265418376, 0.04693312265418376, 0.04693312265418376, 0.04693312265418376, 0.04693312265418376, 0.04693312265418376, 0.04693312265418376, 0.04693312265418376, 0.04693312265418376, 0.04693312265418376, 0.04693312265418376, 0.04693312265418376, 0.04693312265418376, 0.04693312265418376, 0.04693312265418376, 0.04693312265418376, 0.04693312265418376, 9.286576949864003, 9.286576949864003, 9.286576949864003, 9.286576949864003, 9.286576949864003, 9.286576949864003, 9.286576949864003, 0.08740139464270806, 0.04636519787694138, 0.04636519787694138, 0.04636519787694138, 0.04636519787694138, 0.04636519787694138, 0.04636519787694138, 0.04636519787694138, 0.04636519787694138, 0.04636519787694138, 0.04636519787694138, 0.04636519787694138, 0.04636519787694138, 0.04636519787694138, 0.04636519787694138, 0.04636519787694138, 0.04636519787694138, 0.04636519787694138, 0.04636519787694138, 0.04636519787694138, 0.04636519787694138, 0.04636519787694138, 0.04636519787694138, 0.04636519787694138, 0.04636519787694138, 0.04636519787694138, 0.04636519787694138, 0.04636519787694138, 0.04636519787694138, 0.04636519787694138, 0.04636519787694138, 0.04636519787694138, 0.04636519787694138, 0.04636519787694138, 0.04636519787694138, 9.245009635258189, 9.245009635258189, 9.245009635258189, 9.245009635258189, 9.245009635258189, 9.27777929571722, 9.27777729653103, 0.0626648308800615, 0.06266482307074044, 0.06266482307074044, 0.06266482307074044, 0.06266482307074044, 0.0462803794026166, 0.05447260318900878, 0.05447260318900878, 0.05447260318900878, 0.05447260318900878, 0.05447260318900878, 0.05447260318900878, 0.05447260318900878, 0.05447260318900878, 0.05447260318900878, 0.05447260318900878, 0.05447260318900878, 0.0462803794026166, 0.0462803794026166, 0.0462803794026166, 0.0462803794026166, 0.0462803794026166, 0.0462803794026166, 0.0462803794026166, 0.0462803794026166, 0.0462803794026166, 0.0462803794026166, 0.0462803794026166, 0.0462803794026166, 0.0462803794026166, 9.263925681170377, 9.263925681170377, 9.263925681170377, 9.263925681170377, 9.263925681170377, 9.272126819310884, 9.272126819310884, 0.054535729656583244, 0.054535729656583244, 0.054535729656583244, 0.054535729656583244, 0.054535729656583244, 0.054535729656583244, 0.054535729656583244, 0.054535729656583244, 0.054535729656583244, 0.054535729656583244, 0.04633401366318324, 0.04633401366318324, 0.04633401366318324, 0.04633401366318324, 0.04633401366318324, 0.04633401366318324, 0.04633401366318324, 0.04633401366318324, 0.04633401366318324, 0.04633401366318324, 0.04633401366318324, 0.04633401366318324, 0.04633401366318324, 0.04633401366318324, 0.04633401366318324, 0.04633401366318324, 0.04633401366318324, 0.04633401366318324, 0.04633401366318324, 0.04633401366318324, 0.04633401366318324, 0.04633401366318324, 9.00125760264937, 9.00125760264937, 9.00125760264937, 9.00125760264937, 9.00125760264937, 0.045060154508272464, 0.05303638414390082, 0.05303638414390082, 0.05303638414390082, 0.05303638414390082, 0.045060154508272464, 0.045060154508272464, 0.045060154508272464, 0.045060154508272464, 0.045060154508272464, 0.045060154508272464, 0.045060154508272464, 0.045060154508272464, 0.045060154508272464, 0.045060154508272464, 0.045060154508272464, 0.045060154508272464, 0.045060154508272464, 0.045060154508272464, 0.045060154508272464, 0.045060154508272464, 0.045060154508272464, 0.045060154508272464, 0.045060154508272464, 0.045060154508272464, 0.05303638414390082, 0.05303638414390082, 0.05303638414390082, 0.045060154508272464, 0.045060154508272464, 0.045060154508272464, 0.045060154508272464, 0.045060154508272464, 8.538407684492146, 8.538407684492146, 8.538407684492146, 0.057721850490158974, 0.057721850490158974, 0.057721850490158974, 0.057721850490158974, 0.057721850490158974, 0.04262980140411724, 0.04262980140411724, 0.04262980140411724, 0.04262980140411724, 0.04262980140411724, 0.04262980140411724, 0.04262980140411724, 0.04262980140411724, 0.04262980140411724, 0.04262980140411724, 0.04262980140411724, 0.04262980140411724, 0.04262980140411724, 0.04262980140411724, 0.04262980140411724, 0.04262980140411724, 0.04262980140411724, 0.04262980140411724, 0.04262980140411724, 0.04262980140411724, 0.04262980140411724, 0.04262980140411724, 0.04262980140411724, 0.04262980140411724, 0.04262980140411724, 0.04262980140411724, 0.04262980140411724, 0.04262980140411724, 0.04262980140411724, 0.04262980140411724, 7.370889102456667, 0.03693128015695351, 0.03693128015695351, 0.03693128015695351, 0.03693128015695351, 0.03693128015695351, 0.03693128015695351, 0.03693128015695351, 0.03693128015695351, 0.03693128015695351, 0.03693128015695351, 0.03693128015695351, 0.03693128015695351, 0.03693128015695351, 0.03693128015695351, 0.03693128015695351, 0.03693128015695351, 0.03693128015695351, 0.03693128015695351, 0.03693128015695351, 0.03693128015695351, 0.03693128015695351, 0.03693128015695351, 0.03693128015695351, 0.03693128015695351, 0.03693128015695351, 0.03693128015695351, 0.03693128015695351, 0.03693128015695351, 0.03693128015695351, 0.03693128015695351, 0.03693128015695351, 0.03693128015695351, 0.03693128015695351, 0.03693128015695351, 0.03693128015695351, 0.03693128015695351, 0.03693128015695351, 0.03693128015695351, 0.03693128015695351, 0.03693128015695351, 0.03693128015695351, 0.09015567782885366, 0.09015567782885366, 0.09015567782885366, 0.09015567782885366, 0.09015567782885366, 0.09015567782885366, 0.05668827678377984, 0.05668827678377984, 0.05668827678377984, 0.05668827678377984, 0.04186646743745891, 0.049277374668470195, 0.049277374668470195, 0.049277374668470195, 0.049277374668470195, 0.049277374668470195, 0.04186646743745891, 0.04186646743745891, 0.04186646743745891, 0.04186646743745891, 0.04186646743745891, 0.04186646743745891, 0.04186646743745891, 0.04186646743745891, 0.04186646743745891, 0.04186646743745891, 0.04186646743745891, 0.04186646743745891, 0.04186646743745891, 0.04186646743745891, 0.10519130815687877, 0.05668827678377984, 0.10519130815687877, 0.04186646743745891, 0.04186646743745891, 0.04186646743745891, 0.04186646743745891, 0.04186646743745891, 0.04186646743745891, 0.04186646743745891, 0.04186646743745891, 0.05772024116773014, 0.05772023612230612, 0.05772023612230612, 0.05772023612230612, 0.057173993290172115, 0.057065183675635546, 0.057063619594187605, 0.05697001184224023, 0.056911495014391064, 0.056846207227499515, 0.04262861100264194, 0.05017442608518604, 0.05017442608518604, 0.05017442608518604, 0.05017442608518604, 0.05017442608518604, 0.05017442608518604, 0.05017442608518604, 0.05017442608518604, 0.05017442608518604, 0.05017442608518604, 0.05017442608518604, 0.04262861100264194, 0.04262861100264194, 0.04262861100264194, 0.04262861100264194, 0.04262861100264194, 0.04262861100264194, 0.04262861100264194, 0.04262861100264194, 0.07177556141965162, 0.07165161048761416, 0.07086338911921132, 0.0873078841462578, 0.05772024116773014, 0.10169437594037309, 0.057183160825626675, 0.04262861100264194, 0.04262861100264194, 0.046603358646023565, 0.05485275474771346, 0.05485275474771346, 0.05485275474771346, 0.05485275474771346, 0.05485275474771346, 0.05485275474771346, 0.05485275474771346, 0.05485275474771346, 0.05485275474771346, 0.05485275474771346, 0.05485275474771346, 0.05485275474771346, 0.05485275474771346, 0.05485275474771346, 0.05485275474771346, 0.05485275474771346, 0.05485275474771346, 0.05485275474771346, 0.05485275474771346, 0.046603358646023565, 0.046603358646023565, 0.046603358646023565, 0.046603358646023565, 0.046603358646023565, 0.046603358646023565, 0.046603358646023565, 0.046603358646023565, 0.046603358646023565, 0.046603358646023565, 0.05485275474771346, 0.05485275474771346, 0.046603358646023565, 0.046603358646023565, 0.05535669266136781, 0.05535669266136781, 0.05535669266136781, 0.04703150624865991, 0.05535669266136781, 0.05535669266136781, 0.05535669266136781, 0.05535669266136781, 0.05535669266136781, 0.05535669266136781, 0.05535669266136781, 0.05535669266136781, 0.05535669266136781, 0.05535669266136781, 0.0553566877392849, 0.04703150624865991, 0.04703150624865991, 0.04703150624865991, 0.04703150624865991, 0.04703150624865991, 0.04703150624865991, 0.04703150624865991, 0.04703150624865991, 0.04703150624865991, 0.04703150624865991, 0.04703150624865991, 0.04703150624865991, 0.04703150624865991, 0.04703150624865991, 0.04703150624865991, 0.0636818692299099, 0.0636818692299099, 0.04703150624865991, 0.04703150624865991, 0.04703150624865991, 0.04703150624865991, 0.04703150624865991, 0.04703150624865991, 0.04703150624865991, 0.04703150624865991, 0.04703150624865991, 0.05587459037520291, 0.05587459037520291, 0.05587459037520291, 0.04747151832924822, 0.05587459037520291, 0.05587459037520291, 0.05587459037520291, 0.05587459037520291, 0.05587459037520291, 0.05587459037520291, 0.05587459037520291, 0.05587459037520291, 0.05587459037520291, 0.05587458545402596, 0.04747151832924822, 0.04747151832924822, 0.04747151832924822, 0.04747151832924822, 0.04747151832924822, 0.04747151832924822, 0.04747151832924822, 0.04747151832924822, 0.04747151832924822, 0.04747151832924822, 0.04747151832924822, 0.04747151832924822, 0.04747151832924822, 0.04747151832924822, 0.04747151832924822, 0.04747151832924822, 0.05587459037520291, 0.05587459037520291, 0.04747151832924822, 0.04747151832924822, 0.04747151832924822, 0.04747151832924822, 0.04747151832924822, 0.04747151832924822, 0.04696076036743013, 0.05527342049865072, 0.05527342049865072, 0.05527342049865072, 0.05527342049865072, 0.05527342049865072, 0.05527342049865072, 0.05527342049865072, 0.05527342049865072, 0.05527342049865072, 0.05527342049865072, 0.04696076036743013, 0.04696076036743013, 0.04696076036743013, 0.04696076036743013, 0.04696076036743013, 0.04696076036743013, 0.04696076036743013, 0.04696076036743013, 0.04696076036743013, 0.04696076036743013, 0.04696076036743013, 0.04696076036743013, 0.04696076036743013, 0.04696076036743013, 0.04696076036743013, 0.04696076036743013, 0.04696076036743013, 0.04696076036743013, 0.04696076036743013, 0.06358608062987131, 0.05527342049865072, 0.05527342049865072, 0.06358608062987131, 0.04696076036743013, 0.04696076036743013, 0.04696076036743013, 0.04696076036743013, 0.04696076036743013, 0.04696076036743013, 0.04696076036743013, 0.05631985471984608, 0.05631985471984608, 0.05631985471984608, 0.047849819897339725, 0.05631985471984608, 0.05631985471984608, 0.05631985471984608, 0.05631985471984608, 0.05631985471984608, 0.047849819897339725, 0.047849819897339725, 0.047849819897339725, 0.047849819897339725, 0.047849819897339725, 0.047849819897339725, 0.047849819897339725, 0.047849819897339725, 0.047849819897339725, 0.047849819897339725, 0.047849819897339725, 0.047849819897339725, 0.047849819897339725, 0.047849819897339725, 0.047849819897339725, 0.047849819897339725, 0.047849819897339725, 0.047849819897339725, 0.047849819897339725, 0.047849819897339725, 0.047849819897339725, 0.05631985471984608, 0.05631985471984608, 0.047849819897339725, 0.047849819897339725, 0.047849819897339725, 0.047849819897339725, 0.047849819897339725, 0.047849819897339725, 0.05647519326926168, 0.05647519326926168, 0.05647519326926168, 0.05647519326926168, 0.05647519326926168, 0.05647519326926168, 0.05647519326926168, 0.05647519326926168, 0.05647519326926168, 0.04798179756529893, 0.04798179756529893, 0.04798179756529893, 0.04798179756529893, 0.04798179756529893, 0.04798179756529893, 0.04798179756529893, 0.04798179756529893, 0.04798179756529893, 0.04798179756529893, 0.04798179756529893, 0.04798179756529893, 0.04798179756529893, 0.04798179756529893, 0.04798179756529893, 0.04798179756529893, 0.04798179756529893, 0.04798179756529893, 0.04798179756529893, 0.04798179756529893, 0.04798179756529893, 0.04798179756529893, 0.04798179756529893, 0.04798179756529893, 0.04798179756529893, 0.04798179756529893, 0.04798179756529893, 0.04798179756529893, 0.04798179756529893, 0.04798179756529893, 0.04798179756529893, 0.04793257240361893, 0.056417259825678655, 0.056417259825678655, 0.056417259825678655, 0.056417259825678655, 0.056417259825678655, 0.04793257240361893, 0.04793257240361893, 0.04793257240361893, 0.04793257240361893, 0.04793257240361893, 0.04793257240361893, 0.04793257240361893, 0.04793257240361893, 0.04793257240361893, 0.04793257240361893, 0.04793257240361893, 0.04793257240361893, 0.04793257240361893, 0.04793257240361893, 0.04793257240361893, 0.04793257240361893, 0.04793257240361893, 0.04793257240361893, 0.04793257240361893, 0.04793257240361893, 0.04793257240361893, 0.04793257240361893, 0.04793257240361893, 0.04793257240361893, 0.056417259825678655, 0.0564172549831384, 0.04793257240361893, 0.04793257240361893, 0.04793257240361893, 0.04793257240361893, 0.04793257240361893, 0.04793257240361893, 0.04793257240361893, 0.04793257240361893, 0.04793257240361893, 0.04793257240361893, 0.04793257240361893, 0.04863773165080094, 0.04863773165080094, 0.04863773165080094, 0.04863773165080094, 0.04863773165080094, 0.04863773165080094, 0.04863773165080094, 0.04863773165080094, 0.04863773165080094, 0.04863773165080094, 0.04863773165080094, 0.04863773165080094, 0.04863773165080094, 0.04863773165080094, 0.04863773165080094, 0.04863773165080094, 0.04863773165080094, 0.04863773165080094, 0.04863773165080094, 0.04863773165080094, 0.04863773165080094, 0.04863773165080094, 0.04863773165080094, 0.04863773165080094, 0.04863773165080094, 0.04863773165080094, 0.04863773165080094, 0.04863773165080094, 0.04863773165080094, 0.04863773165080094, 0.04863773165080094, 0.04863773165080094, 0.04863773165080094, 0.04863773165080094, 0.04863773165080094, 0.04863773165080094, 0.04863773165080094, 0.04863773165080094, 0.04863773165080094, 0.04863773165080094, 0.04863773165080094, 0.04863773165080094, 0.04863773165080094], \"Total\": [76.0, 47.0, 19.0, 20.0, 20.0, 20.0, 8.0, 19.0, 19.0, 9.0, 9.0, 9.0, 10.0, 10.0, 10.0, 10.0, 10.0, 10.0, 9.0, 9.0, 9.0, 9.0, 9.0, 10.0, 10.0, 10.0, 10.0, 10.0, 10.0, 10.0, 20.212309464775682, 20.21220883029205, 20.212191266016067, 10.564696551656178, 10.564688157971124, 10.564680595383658, 10.564668359116382, 10.56466816887707, 10.564653591264777, 19.895476711201482, 76.04720436258384, 47.73799145687087, 10.247932386965212, 10.247932386965212, 9.92954217881021, 9.929542169673123, 9.929542169673123, 9.929542169673123, 9.929542169673123, 8.317104906480381, 10.190940381740178, 10.190940386661355, 10.190940386661355, 10.190940386661355, 10.190940386661355, 10.25994575188043, 10.25994575188043, 10.25994575188043, 10.25994575188043, 10.25994575188043, 19.578754929732394, 19.50107762682981, 10.25994575188043, 10.25994575188043, 10.25994575188043, 19.578754929732394, 10.247932386965212, 10.247932386965212, 19.50107762682981, 19.895476711201482, 76.04720436258384, 8.317104906480381, 10.170253061224793, 10.170253061224793, 10.170253061224793, 10.170253066270218, 10.564653591264777, 10.56466816887707, 10.564668359116382, 10.564680595383658, 10.564688157971124, 10.564696551656178, 9.446285898135043, 9.446285898135043, 9.446285898135043, 9.929542169673123, 9.929542169673123, 9.929542169673123, 9.929542169673123, 9.92954217881021, 10.183732923210615, 10.183732923210615, 10.183732923210615, 10.183732923210615, 10.183732931019936, 20.212191266016067, 20.21220883029205, 20.212309464775682, 47.73799145687087, 10.25994575188043, 10.25994575188043, 10.25994575188043, 10.25994575188043, 10.25994575188043, 10.25994575188043, 10.25994575188043, 10.25994575188043, 10.25994575188043, 10.25994575188043, 10.25994575188043, 10.25994575188043, 10.25994575188043, 10.25994575188043, 10.25994575188043, 10.25994575188043, 8.317104906480381, 10.170253061224793, 10.170253061224793, 10.170253061224793, 10.170253066270218, 9.446285898135043, 9.446285898135043, 9.446285898135043, 9.929542169673123, 9.929542169673123, 9.929542169673123, 9.929542169673123, 9.92954217881021, 10.183732923210615, 10.183732923210615, 10.183732923210615, 10.183732923210615, 10.183732931019936, 10.190940381740178, 10.190940386661355, 10.190940386661355, 10.190940386661355, 19.50107762682981, 47.73799145687087, 76.04720436258384, 10.190940386661355, 10.296863137616294, 10.296863142538376, 10.296863142538376, 10.296863142538376, 10.296863142538376, 10.296863142538376, 10.564688157971124, 10.296863137616294, 10.296863142538376, 10.296863142538376, 10.296863142538376, 10.296863142538376, 10.296863142538376, 47.73799145687087, 76.04720436258384, 8.317104906480381, 10.183732923210615, 10.183732923210615, 10.183732923210615, 10.183732923210615, 10.183732931019936, 9.446285898135043, 9.446285898135043, 9.446285898135043, 9.929542169673123, 9.929542169673123, 9.929542169673123, 9.929542169673123, 9.92954217881021, 10.170253061224793, 10.170253061224793, 10.170253061224793, 10.170253066270218, 10.190940381740178, 10.190940386661355, 10.190940386661355, 10.190940386661355, 19.50107762682981, 10.25994575188043, 10.25994575188043, 10.25994575188043, 10.25994575188043, 10.25994575188043, 10.25994575188043, 10.25994575188043, 10.25994575188043, 10.190940381740178, 10.190940386661355, 10.190940386661355, 10.190940386661355, 10.190940386661355, 47.73799145687087, 76.04720436258384, 8.317104906480381, 9.446285898135043, 9.446285898135043, 9.446285898135043, 9.929542169673123, 9.929542169673123, 9.929542169673123, 9.929542169673123, 9.92954217881021, 10.170253061224793, 10.170253061224793, 10.170253061224793, 10.170253066270218, 10.183732923210615, 10.183732923210615, 10.183732923210615, 10.183732923210615, 10.183732931019936, 10.247932386965212, 10.247932386965212, 10.25994575188043, 10.25994575188043, 10.25994575188043, 19.50107762682981, 10.25994575188043, 10.25994575188043, 10.25994575188043, 10.25994575188043, 10.25994575188043, 10.296863137616294, 10.296863142538376, 10.296863142538376, 10.296863142538376, 10.296863142538376, 10.296863142538376, 10.170253061224793, 10.170253061224793, 10.170253061224793, 10.170253066270218, 19.50107762682981, 47.73799145687087, 76.04720436258384, 10.183732931019936, 10.183732923210615, 10.183732923210615, 10.183732923210615, 10.183732923210615, 8.317104906480381, 10.190940381740178, 10.190940386661355, 10.190940386661355, 10.190940386661355, 10.190940386661355, 10.296863137616294, 10.296863142538376, 10.296863142538376, 10.296863142538376, 10.296863142538376, 10.296863142538376, 9.446285898135043, 9.446285898135043, 9.446285898135043, 9.929542169673123, 9.929542169673123, 9.929542169673123, 10.25994575188043, 10.25994575188043, 10.25994575188043, 10.25994575188043, 10.25994575188043, 10.25994575188043, 10.25994575188043, 10.183732923210615, 10.183732923210615, 10.183732923210615, 10.183732923210615, 10.183732931019936, 47.73799145687087, 76.04720436258384, 8.317104906480381, 9.446285898135043, 9.446285898135043, 9.446285898135043, 10.296863137616294, 10.296863142538376, 10.296863142538376, 10.296863142538376, 10.296863142538376, 10.296863142538376, 9.929542169673123, 9.929542169673123, 9.929542169673123, 9.929542169673123, 9.92954217881021, 10.170253061224793, 10.170253061224793, 10.170253061224793, 10.170253066270218, 10.190940381740178, 10.190940386661355, 10.190940386661355, 10.190940386661355, 19.50107762682981, 10.25994575188043, 10.25994575188043, 10.25994575188043, 10.25994575188043, 10.25994575188043, 10.25994575188043, 10.25994575188043, 10.25994575188043, 9.929542169673123, 9.929542169673123, 9.929542169673123, 9.929542169673123, 9.92954217881021, 8.317104906480381, 10.170253061224793, 10.170253061224793, 10.170253061224793, 10.170253066270218, 9.446285898135043, 9.446285898135043, 9.446285898135043, 10.183732923210615, 10.183732923210615, 10.183732923210615, 10.183732923210615, 10.183732931019936, 10.190940381740178, 10.190940386661355, 10.190940386661355, 10.190940386661355, 10.190940386661355, 10.247932386965212, 10.247932386965212, 10.25994575188043, 10.25994575188043, 10.25994575188043, 10.25994575188043, 10.25994575188043, 19.50107762682981, 47.73799145687087, 76.04720436258384, 10.25994575188043, 10.25994575188043, 10.25994575188043, 10.296863137616294, 10.296863142538376, 9.446285898135043, 9.446285898135043, 9.446285898135043, 9.929542169673123, 9.929542169673123, 9.929542169673123, 9.929542169673123, 9.92954217881021, 8.317104906480381, 10.170253061224793, 10.170253061224793, 10.170253061224793, 10.170253066270218, 10.183732923210615, 10.183732923210615, 10.183732923210615, 10.183732923210615, 10.183732931019936, 10.190940381740178, 10.190940386661355, 10.190940386661355, 10.190940386661355, 10.190940386661355, 10.247932386965212, 10.247932386965212, 10.25994575188043, 10.25994575188043, 10.25994575188043, 10.25994575188043, 10.25994575188043, 19.50107762682981, 47.73799145687087, 76.04720436258384, 10.25994575188043, 10.25994575188043, 10.25994575188043, 10.296863137616294, 10.296863142538376, 8.317104906480381, 9.446285898135043, 9.446285898135043, 9.446285898135043, 9.929542169673123, 9.929542169673123, 9.929542169673123, 9.929542169673123, 9.92954217881021, 10.170253061224793, 10.170253061224793, 10.170253061224793, 10.170253066270218, 10.183732923210615, 10.183732923210615, 10.183732923210615, 10.183732923210615, 10.183732931019936, 10.190940381740178, 10.190940386661355, 10.190940386661355, 10.190940386661355, 10.190940386661355, 10.247932386965212, 10.247932386965212, 10.25994575188043, 10.25994575188043, 10.25994575188043, 10.25994575188043, 10.25994575188043, 19.50107762682981, 47.73799145687087, 76.04720436258384, 10.25994575188043, 10.25994575188043, 10.25994575188043, 10.296863137616294, 10.296863142538376, 10.296863142538376, 10.296863142538376, 10.296863142538376, 10.296863142538376, 10.296863137616294, 10.296863142538376, 10.296863142538376, 10.296863142538376, 10.296863142538376, 10.296863142538376, 10.170253061224793, 10.170253061224793, 10.170253061224793, 10.170253066270218, 8.317104906480381, 9.929542169673123, 9.929542169673123, 9.929542169673123, 9.929542169673123, 9.92954217881021, 9.446285898135043, 9.446285898135043, 9.446285898135043, 10.183732923210615, 10.183732923210615, 10.183732923210615, 10.183732923210615, 10.183732931019936, 10.190940381740178, 10.190940386661355, 10.190940386661355, 10.190940386661355, 10.190940386661355, 10.247932386965212, 47.73799145687087, 19.50107762682981, 76.04720436258384, 10.25994575188043, 10.25994575188043, 10.25994575188043, 10.25994575188043, 10.25994575188043, 10.25994575188043, 10.25994575188043, 10.25994575188043, 10.170253066270218, 10.170253061224793, 10.170253061224793, 10.170253061224793, 10.564653591264777, 10.56466816887707, 10.564668359116382, 10.564680595383658, 10.564688157971124, 10.564696551656178, 8.317104906480381, 10.183732923210615, 10.183732923210615, 10.183732923210615, 10.183732923210615, 10.183732931019936, 10.296863137616294, 10.296863142538376, 10.296863142538376, 10.296863142538376, 10.296863142538376, 10.296863142538376, 9.446285898135043, 9.446285898135043, 9.446285898135043, 9.929542169673123, 9.929542169673123, 9.929542169673123, 9.929542169673123, 9.92954217881021, 20.212191266016067, 20.21220883029205, 20.212309464775682, 47.73799145687087, 19.50107762682981, 76.04720436258384, 19.895476711201482, 10.25994575188043, 10.25994575188043, 8.317104906480381, 9.929542169673123, 9.929542169673123, 9.929542169673123, 9.929542169673123, 9.92954217881021, 10.25994575188043, 10.25994575188043, 10.25994575188043, 10.25994575188043, 10.25994575188043, 10.25994575188043, 10.25994575188043, 10.25994575188043, 10.296863137616294, 10.296863142538376, 10.296863142538376, 10.296863142538376, 10.296863142538376, 10.296863142538376, 9.446285898135043, 9.446285898135043, 9.446285898135043, 10.170253061224793, 10.170253061224793, 10.170253061224793, 10.170253066270218, 10.183732923210615, 10.183732923210615, 10.183732923210615, 47.73799145687087, 76.04720436258384, 19.50107762682981, 10.190940381740178, 9.446285898135043, 9.446285898135043, 9.446285898135043, 8.317104906480381, 10.183732923210615, 10.183732923210615, 10.183732923210615, 10.183732923210615, 10.183732931019936, 10.296863142538376, 10.296863142538376, 10.296863142538376, 10.296863142538376, 10.296863142538376, 10.296863137616294, 9.929542169673123, 9.929542169673123, 9.929542169673123, 9.929542169673123, 9.92954217881021, 10.170253061224793, 10.170253061224793, 10.170253061224793, 10.170253066270218, 10.190940381740178, 10.190940386661355, 10.190940386661355, 10.190940386661355, 10.190940386661355, 10.247932386965212, 47.73799145687087, 76.04720436258384, 19.50107762682981, 10.25994575188043, 10.25994575188043, 10.25994575188043, 10.25994575188043, 10.25994575188043, 10.25994575188043, 10.25994575188043, 10.25994575188043, 9.446285898135043, 9.446285898135043, 9.446285898135043, 8.317104906480381, 9.929542169673123, 9.929542169673123, 9.929542169673123, 9.929542169673123, 9.92954217881021, 10.190940386661355, 10.190940386661355, 10.190940386661355, 10.190940386661355, 10.190940381740178, 10.170253061224793, 10.170253061224793, 10.170253061224793, 10.170253066270218, 10.183732923210615, 10.183732923210615, 10.183732923210615, 10.183732923210615, 10.183732931019936, 10.247932386965212, 10.247932386965212, 10.25994575188043, 10.25994575188043, 10.25994575188043, 10.25994575188043, 10.25994575188043, 47.73799145687087, 76.04720436258384, 19.50107762682981, 10.25994575188043, 10.25994575188043, 10.25994575188043, 10.296863137616294, 10.296863142538376, 8.317104906480381, 10.247932386965212, 10.247932386965212, 10.25994575188043, 10.25994575188043, 10.25994575188043, 10.25994575188043, 10.25994575188043, 10.25994575188043, 10.25994575188043, 10.25994575188043, 9.446285898135043, 9.446285898135043, 9.446285898135043, 9.929542169673123, 9.929542169673123, 9.929542169673123, 9.929542169673123, 9.92954217881021, 10.170253061224793, 10.170253061224793, 10.170253061224793, 10.170253066270218, 10.183732923210615, 10.183732923210615, 10.183732923210615, 10.183732923210615, 10.183732931019936, 10.190940381740178, 10.190940386661355, 19.578754929732394, 19.50107762682981, 19.895476711201482, 76.04720436258384, 47.73799145687087, 10.190940386661355, 10.190940386661355, 10.190940386661355, 10.296863137616294, 10.296863142538376, 10.296863142538376, 9.446285898135043, 9.446285898135043, 9.446285898135043, 8.317104906480381, 10.183732923210615, 10.183732923210615, 10.183732923210615, 10.183732923210615, 10.183732931019936, 9.929542169673123, 9.929542169673123, 9.929542169673123, 9.929542169673123, 9.92954217881021, 10.170253061224793, 10.170253061224793, 10.170253061224793, 10.170253066270218, 10.190940381740178, 10.190940386661355, 10.190940386661355, 10.190940386661355, 10.190940386661355, 10.247932386965212, 10.247932386965212, 10.25994575188043, 10.25994575188043, 10.25994575188043, 10.25994575188043, 10.25994575188043, 47.73799145687087, 76.04720436258384, 19.50107762682981, 10.25994575188043, 10.25994575188043, 10.25994575188043, 10.296863137616294, 10.296863142538376, 8.317104906480381, 10.25994575188043, 10.25994575188043, 10.25994575188043, 10.25994575188043, 10.25994575188043, 10.25994575188043, 10.25994575188043, 10.25994575188043, 9.446285898135043, 9.446285898135043, 9.446285898135043, 9.929542169673123, 9.929542169673123, 9.929542169673123, 9.929542169673123, 9.92954217881021, 10.170253061224793, 10.170253061224793, 10.170253061224793, 10.170253066270218, 10.183732923210615, 10.183732923210615, 10.183732923210615, 10.183732923210615, 10.183732931019936, 10.190940381740178, 10.190940386661355, 10.190940386661355, 10.190940386661355, 19.50107762682981, 47.73799145687087, 76.04720436258384, 10.190940386661355, 10.296863137616294, 10.296863142538376, 10.296863142538376, 10.296863142538376, 10.296863142538376, 10.296863142538376, 8.317104906480381, 10.190940381740178, 10.190940386661355, 10.190940386661355, 10.190940386661355, 10.190940386661355, 9.446285898135043, 9.446285898135043, 9.446285898135043, 9.929542169673123, 9.929542169673123, 9.929542169673123, 9.929542169673123, 9.92954217881021, 10.170253061224793, 10.170253061224793, 10.170253061224793, 10.170253066270218, 10.183732923210615, 10.183732923210615, 10.183732923210615, 10.183732923210615, 10.183732931019936, 10.247932386965212, 10.247932386965212, 10.25994575188043, 10.25994575188043, 10.25994575188043, 10.25994575188043, 10.25994575188043, 47.73799145687087, 76.04720436258384, 19.50107762682981, 10.25994575188043, 10.25994575188043, 10.25994575188043, 10.296863137616294, 10.296863142538376, 10.296863142538376, 10.296863142538376, 10.296863142538376, 10.296863142538376, 10.564688157971124, 8.317104906480381, 9.446285898135043, 9.446285898135043, 9.446285898135043, 9.929542169673123, 9.929542169673123, 9.929542169673123, 9.929542169673123, 9.92954217881021, 10.170253061224793, 10.170253061224793, 10.170253061224793, 10.170253066270218, 10.183732923210615, 10.183732923210615, 10.183732923210615, 10.183732923210615, 10.183732931019936, 10.190940381740178, 10.190940386661355, 10.190940386661355, 10.190940386661355, 10.190940386661355, 10.247932386965212, 10.247932386965212, 10.25994575188043, 10.25994575188043, 10.25994575188043, 10.25994575188043, 10.25994575188043, 19.50107762682981, 47.73799145687087, 76.04720436258384, 10.25994575188043, 10.25994575188043, 10.25994575188043, 10.296863137616294, 10.296863142538376, 10.296863142538376, 10.296863142538376, 10.296863142538376, 10.296863142538376, 10.564688157971124], \"Category\": [\"Default\", \"Default\", \"Default\", \"Default\", \"Default\", \"Default\", \"Default\", \"Default\", \"Default\", \"Default\", \"Default\", \"Default\", \"Default\", \"Default\", \"Default\", \"Default\", \"Default\", \"Default\", \"Default\", \"Default\", \"Default\", \"Default\", \"Default\", \"Default\", \"Default\", \"Default\", \"Default\", \"Default\", \"Default\", \"Default\", \"Topic1\", \"Topic1\", \"Topic1\", \"Topic1\", \"Topic1\", \"Topic1\", \"Topic1\", \"Topic1\", \"Topic1\", \"Topic1\", \"Topic1\", \"Topic1\", \"Topic1\", \"Topic1\", \"Topic1\", \"Topic1\", \"Topic1\", \"Topic1\", \"Topic1\", \"Topic1\", \"Topic1\", \"Topic1\", \"Topic1\", \"Topic1\", \"Topic1\", \"Topic1\", \"Topic1\", \"Topic1\", \"Topic1\", \"Topic1\", \"Topic1\", \"Topic1\", \"Topic1\", \"Topic1\", \"Topic1\", \"Topic2\", \"Topic2\", \"Topic2\", \"Topic2\", \"Topic2\", \"Topic2\", \"Topic2\", \"Topic2\", \"Topic2\", \"Topic2\", \"Topic2\", \"Topic2\", \"Topic2\", \"Topic2\", \"Topic2\", \"Topic2\", \"Topic2\", \"Topic2\", \"Topic2\", \"Topic2\", \"Topic2\", \"Topic2\", \"Topic2\", \"Topic2\", \"Topic2\", \"Topic2\", \"Topic2\", \"Topic2\", \"Topic2\", \"Topic2\", \"Topic2\", \"Topic2\", \"Topic2\", \"Topic2\", \"Topic2\", \"Topic2\", \"Topic2\", \"Topic2\", \"Topic2\", \"Topic2\", \"Topic2\", \"Topic2\", \"Topic3\", \"Topic3\", \"Topic3\", \"Topic3\", \"Topic3\", \"Topic3\", \"Topic3\", \"Topic3\", \"Topic3\", \"Topic3\", \"Topic3\", \"Topic3\", \"Topic3\", \"Topic3\", \"Topic3\", \"Topic3\", \"Topic3\", \"Topic3\", \"Topic3\", \"Topic3\", \"Topic3\", \"Topic3\", \"Topic3\", \"Topic3\", \"Topic3\", \"Topic3\", \"Topic3\", \"Topic3\", \"Topic3\", \"Topic3\", \"Topic3\", \"Topic3\", \"Topic3\", \"Topic3\", \"Topic3\", \"Topic3\", \"Topic3\", \"Topic3\", \"Topic3\", \"Topic3\", \"Topic3\", \"Topic4\", \"Topic4\", \"Topic4\", \"Topic4\", \"Topic4\", \"Topic4\", \"Topic4\", \"Topic4\", \"Topic4\", \"Topic4\", \"Topic4\", \"Topic4\", \"Topic4\", \"Topic4\", \"Topic4\", \"Topic4\", \"Topic4\", \"Topic4\", \"Topic4\", \"Topic4\", \"Topic4\", \"Topic4\", \"Topic4\", \"Topic4\", \"Topic4\", \"Topic4\", \"Topic4\", \"Topic4\", \"Topic4\", \"Topic4\", \"Topic4\", \"Topic4\", \"Topic4\", \"Topic4\", \"Topic4\", \"Topic4\", \"Topic4\", \"Topic4\", \"Topic4\", \"Topic5\", \"Topic5\", \"Topic5\", \"Topic5\", \"Topic5\", \"Topic5\", \"Topic5\", \"Topic5\", \"Topic5\", \"Topic5\", \"Topic5\", \"Topic5\", \"Topic5\", \"Topic5\", \"Topic5\", \"Topic5\", \"Topic5\", \"Topic5\", \"Topic5\", \"Topic5\", \"Topic5\", \"Topic5\", \"Topic5\", \"Topic5\", \"Topic5\", \"Topic5\", \"Topic5\", \"Topic5\", \"Topic5\", \"Topic5\", \"Topic5\", \"Topic5\", \"Topic5\", \"Topic5\", \"Topic5\", \"Topic5\", \"Topic5\", \"Topic5\", \"Topic5\", \"Topic5\", \"Topic5\", \"Topic5\", \"Topic6\", \"Topic6\", \"Topic6\", \"Topic6\", \"Topic6\", \"Topic6\", \"Topic6\", \"Topic6\", \"Topic6\", \"Topic6\", \"Topic6\", \"Topic6\", \"Topic6\", \"Topic6\", \"Topic6\", \"Topic6\", \"Topic6\", \"Topic6\", \"Topic6\", \"Topic6\", \"Topic6\", \"Topic6\", \"Topic6\", \"Topic6\", \"Topic6\", \"Topic6\", \"Topic6\", \"Topic6\", \"Topic6\", \"Topic6\", \"Topic6\", \"Topic6\", \"Topic6\", \"Topic6\", \"Topic6\", \"Topic6\", \"Topic6\", \"Topic7\", \"Topic7\", \"Topic7\", \"Topic7\", \"Topic7\", \"Topic7\", \"Topic7\", \"Topic7\", \"Topic7\", \"Topic7\", \"Topic7\", \"Topic7\", \"Topic7\", \"Topic7\", \"Topic7\", \"Topic7\", \"Topic7\", \"Topic7\", \"Topic7\", \"Topic7\", \"Topic7\", \"Topic7\", \"Topic7\", \"Topic7\", \"Topic7\", \"Topic7\", \"Topic7\", \"Topic7\", \"Topic7\", \"Topic7\", \"Topic7\", \"Topic7\", \"Topic7\", \"Topic7\", \"Topic7\", \"Topic7\", \"Topic7\", \"Topic7\", \"Topic7\", \"Topic8\", \"Topic8\", \"Topic8\", \"Topic8\", \"Topic8\", \"Topic8\", \"Topic8\", \"Topic8\", \"Topic8\", \"Topic8\", \"Topic8\", \"Topic8\", \"Topic8\", \"Topic8\", \"Topic8\", \"Topic8\", \"Topic8\", \"Topic8\", \"Topic8\", \"Topic8\", \"Topic8\", \"Topic8\", \"Topic8\", \"Topic8\", \"Topic8\", \"Topic8\", \"Topic8\", \"Topic8\", \"Topic8\", \"Topic8\", \"Topic8\", \"Topic8\", \"Topic8\", \"Topic8\", \"Topic8\", \"Topic8\", \"Topic8\", \"Topic8\", \"Topic9\", \"Topic9\", \"Topic9\", \"Topic9\", \"Topic9\", \"Topic9\", \"Topic9\", \"Topic9\", \"Topic9\", \"Topic9\", \"Topic9\", \"Topic9\", \"Topic9\", \"Topic9\", \"Topic9\", \"Topic9\", \"Topic9\", \"Topic9\", \"Topic9\", \"Topic9\", \"Topic9\", \"Topic9\", \"Topic9\", \"Topic9\", \"Topic9\", \"Topic9\", \"Topic9\", \"Topic9\", \"Topic9\", \"Topic9\", \"Topic9\", \"Topic9\", \"Topic9\", \"Topic9\", \"Topic9\", \"Topic9\", \"Topic9\", \"Topic9\", \"Topic10\", \"Topic10\", \"Topic10\", \"Topic10\", \"Topic10\", \"Topic10\", \"Topic10\", \"Topic10\", \"Topic10\", \"Topic10\", \"Topic10\", \"Topic10\", \"Topic10\", \"Topic10\", \"Topic10\", \"Topic10\", \"Topic10\", \"Topic10\", \"Topic10\", \"Topic10\", \"Topic10\", \"Topic10\", \"Topic10\", \"Topic10\", \"Topic10\", \"Topic10\", \"Topic10\", \"Topic10\", \"Topic10\", \"Topic10\", \"Topic10\", \"Topic10\", \"Topic10\", \"Topic10\", \"Topic10\", \"Topic10\", \"Topic10\", \"Topic10\", \"Topic10\", \"Topic10\", \"Topic10\", \"Topic10\", \"Topic11\", \"Topic11\", \"Topic11\", \"Topic11\", \"Topic11\", \"Topic11\", \"Topic11\", \"Topic11\", \"Topic11\", \"Topic11\", \"Topic11\", \"Topic11\", \"Topic11\", \"Topic11\", \"Topic11\", \"Topic11\", \"Topic11\", \"Topic11\", \"Topic11\", \"Topic11\", \"Topic11\", \"Topic11\", \"Topic11\", \"Topic11\", \"Topic11\", \"Topic11\", \"Topic11\", \"Topic11\", \"Topic11\", \"Topic11\", \"Topic11\", \"Topic11\", \"Topic11\", \"Topic11\", \"Topic11\", \"Topic11\", \"Topic11\", \"Topic11\", \"Topic11\", \"Topic11\", \"Topic11\", \"Topic12\", \"Topic12\", \"Topic12\", \"Topic12\", \"Topic12\", \"Topic12\", \"Topic12\", \"Topic12\", \"Topic12\", \"Topic12\", \"Topic12\", \"Topic12\", \"Topic12\", \"Topic12\", \"Topic12\", \"Topic12\", \"Topic12\", \"Topic12\", \"Topic12\", \"Topic12\", \"Topic12\", \"Topic12\", \"Topic12\", \"Topic12\", \"Topic12\", \"Topic12\", \"Topic12\", \"Topic12\", \"Topic12\", \"Topic12\", \"Topic12\", \"Topic12\", \"Topic12\", \"Topic12\", \"Topic12\", \"Topic12\", \"Topic12\", \"Topic12\", \"Topic12\", \"Topic13\", \"Topic13\", \"Topic13\", \"Topic13\", \"Topic13\", \"Topic13\", \"Topic13\", \"Topic13\", \"Topic13\", \"Topic13\", \"Topic13\", \"Topic13\", \"Topic13\", \"Topic13\", \"Topic13\", \"Topic13\", \"Topic13\", \"Topic13\", \"Topic13\", \"Topic13\", \"Topic13\", \"Topic13\", \"Topic13\", \"Topic13\", \"Topic13\", \"Topic13\", \"Topic13\", \"Topic13\", \"Topic13\", \"Topic13\", \"Topic13\", \"Topic13\", \"Topic13\", \"Topic13\", \"Topic14\", \"Topic14\", \"Topic14\", \"Topic14\", \"Topic14\", \"Topic14\", \"Topic14\", \"Topic14\", \"Topic14\", \"Topic14\", \"Topic14\", \"Topic14\", \"Topic14\", \"Topic14\", \"Topic14\", \"Topic14\", \"Topic14\", \"Topic14\", \"Topic14\", \"Topic14\", \"Topic14\", \"Topic14\", \"Topic14\", \"Topic14\", \"Topic14\", \"Topic14\", \"Topic14\", \"Topic14\", \"Topic14\", \"Topic14\", \"Topic14\", \"Topic14\", \"Topic14\", \"Topic14\", \"Topic14\", \"Topic14\", \"Topic14\", \"Topic14\", \"Topic14\", \"Topic14\", \"Topic14\", \"Topic15\", \"Topic15\", \"Topic15\", \"Topic15\", \"Topic15\", \"Topic15\", \"Topic15\", \"Topic15\", \"Topic15\", \"Topic15\", \"Topic15\", \"Topic15\", \"Topic15\", \"Topic15\", \"Topic15\", \"Topic15\", \"Topic15\", \"Topic15\", \"Topic15\", \"Topic15\", \"Topic15\", \"Topic15\", \"Topic15\", \"Topic15\", \"Topic15\", \"Topic15\", \"Topic15\", \"Topic15\", \"Topic15\", \"Topic15\", \"Topic15\", \"Topic15\", \"Topic15\", \"Topic15\", \"Topic15\", \"Topic15\", \"Topic15\", \"Topic15\", \"Topic16\", \"Topic16\", \"Topic16\", \"Topic16\", \"Topic16\", \"Topic16\", \"Topic16\", \"Topic16\", \"Topic16\", \"Topic16\", \"Topic16\", \"Topic16\", \"Topic16\", \"Topic16\", \"Topic16\", \"Topic16\", \"Topic16\", \"Topic16\", \"Topic16\", \"Topic16\", \"Topic16\", \"Topic16\", \"Topic16\", \"Topic16\", \"Topic16\", \"Topic16\", \"Topic16\", \"Topic16\", \"Topic16\", \"Topic16\", \"Topic16\", \"Topic16\", \"Topic16\", \"Topic16\", \"Topic16\", \"Topic16\", \"Topic16\", \"Topic16\", \"Topic16\", \"Topic16\", \"Topic16\", \"Topic17\", \"Topic17\", \"Topic17\", \"Topic17\", \"Topic17\", \"Topic17\", \"Topic17\", \"Topic17\", \"Topic17\", \"Topic17\", \"Topic17\", \"Topic17\", \"Topic17\", \"Topic17\", \"Topic17\", \"Topic17\", \"Topic17\", \"Topic17\", \"Topic17\", \"Topic17\", \"Topic17\", \"Topic17\", \"Topic17\", \"Topic17\", \"Topic17\", \"Topic17\", \"Topic17\", \"Topic17\", \"Topic17\", \"Topic17\", \"Topic17\", \"Topic17\", \"Topic17\", \"Topic17\", \"Topic17\", \"Topic17\", \"Topic17\", \"Topic17\", \"Topic18\", \"Topic18\", \"Topic18\", \"Topic18\", \"Topic18\", \"Topic18\", \"Topic18\", \"Topic18\", \"Topic18\", \"Topic18\", \"Topic18\", \"Topic18\", \"Topic18\", \"Topic18\", \"Topic18\", \"Topic18\", \"Topic18\", \"Topic18\", \"Topic18\", \"Topic18\", \"Topic18\", \"Topic18\", \"Topic18\", \"Topic18\", \"Topic18\", \"Topic18\", \"Topic18\", \"Topic18\", \"Topic18\", \"Topic18\", \"Topic18\", \"Topic18\", \"Topic18\", \"Topic18\", \"Topic18\", \"Topic18\", \"Topic18\", \"Topic18\", \"Topic18\", \"Topic18\", \"Topic19\", \"Topic19\", \"Topic19\", \"Topic19\", \"Topic19\", \"Topic19\", \"Topic19\", \"Topic19\", \"Topic19\", \"Topic19\", \"Topic19\", \"Topic19\", \"Topic19\", \"Topic19\", \"Topic19\", \"Topic19\", \"Topic19\", \"Topic19\", \"Topic19\", \"Topic19\", \"Topic19\", \"Topic19\", \"Topic19\", \"Topic19\", \"Topic19\", \"Topic19\", \"Topic19\", \"Topic19\", \"Topic19\", \"Topic19\", \"Topic19\", \"Topic19\", \"Topic19\", \"Topic19\", \"Topic19\", \"Topic19\", \"Topic19\", \"Topic19\", \"Topic19\", \"Topic19\", \"Topic19\", \"Topic19\", \"Topic19\", \"Topic20\", \"Topic20\", \"Topic20\", \"Topic20\", \"Topic20\", \"Topic20\", \"Topic20\", \"Topic20\", \"Topic20\", \"Topic20\", \"Topic20\", \"Topic20\", \"Topic20\", \"Topic20\", \"Topic20\", \"Topic20\", \"Topic20\", \"Topic20\", \"Topic20\", \"Topic20\", \"Topic20\", \"Topic20\", \"Topic20\", \"Topic20\", \"Topic20\", \"Topic20\", \"Topic20\", \"Topic20\", \"Topic20\", \"Topic20\", \"Topic20\", \"Topic20\", \"Topic20\", \"Topic20\", \"Topic20\", \"Topic20\", \"Topic20\", \"Topic20\", \"Topic20\", \"Topic20\", \"Topic20\", \"Topic20\", \"Topic20\"], \"logprob\": [30.0, 29.0, 28.0, 27.0, 26.0, 25.0, 24.0, 23.0, 22.0, 21.0, 20.0, 19.0, 18.0, 17.0, 16.0, 15.0, 14.0, 13.0, 12.0, 11.0, 10.0, 9.0, 8.0, 7.0, 6.0, 5.0, 4.0, 3.0, 2.0, 1.0, -2.096, -2.0961, -2.0961, -2.7867, -2.7867, -2.7867, -2.7867, -2.7867, -2.7867, -2.7841, -2.093, -2.7859, -7.6615, -7.6615, -7.7844, -7.7844, -7.7844, -7.7844, -7.7844, -8.0875, -7.9245, -7.9245, -7.9245, -7.9245, -7.9245, -7.9245, -7.9245, -7.9245, -7.9245, -7.9245, -7.3638, -7.6615, -7.9245, -7.9245, -7.9245, -1.419, -2.1096, -2.1096, -2.1087, -2.1087, -1.4176, -7.4094, -7.2464, -7.2464, -7.2464, -7.2464, -7.2464, -7.2464, -7.2464, -7.2464, -7.2464, -7.2464, -7.4094, -7.4094, -7.4094, -7.4094, -7.4094, -7.4094, -7.4094, -7.4094, -7.4094, -7.4094, -7.4094, -7.4094, -7.4094, -7.1063, -7.1063, -7.1063, -7.1063, -7.4094, -7.4094, -7.4094, -7.4094, -7.4094, -7.4094, -7.4094, -7.4094, -2.1079, -2.1079, -2.1079, -2.1079, -2.1079, -2.1079, -2.1079, -2.1079, -7.4077, -7.2447, -7.2447, -7.2447, -7.2447, -7.4077, -7.4077, -7.4077, -7.4077, -7.4077, -7.4077, -7.4077, -7.4077, -7.4077, -7.4077, -7.4077, -7.4077, -7.4077, -7.4077, -7.4077, -7.4077, -7.4077, -7.2447, -7.2447, -7.2447, -7.4077, -7.4077, -7.4077, -7.4077, -7.4077, -7.4077, -7.4077, -7.4077, -2.1082, -2.1082, -2.1082, -2.1082, -2.1082, -2.1082, -2.1073, -2.1073, -7.2383, -7.2383, -7.2383, -7.2383, -7.2383, -7.2383, -7.4013, -7.4013, -7.4013, -7.4013, -7.4013, -7.4013, -7.4013, -7.4013, -7.4013, -7.4013, -7.4013, -7.4013, -7.4013, -7.4013, -7.4013, -7.4013, -7.4013, -7.4013, -7.4013, -7.4013, -7.4013, -7.4013, -7.4013, -7.4013, -7.4013, -1.9788, -1.9788, -1.9788, -1.9788, -1.9788, -1.9788, -1.9788, -6.6446, -7.2786, -7.2786, -7.2786, -7.2786, -7.2786, -7.2786, -7.2786, -7.2786, -7.2786, -7.2786, -7.2786, -7.2786, -7.2786, -7.2786, -7.2786, -7.2786, -7.2786, -7.2786, -7.2786, -7.2786, -7.2786, -7.2786, -7.2786, -7.2786, -7.2786, -7.2786, -7.2786, -7.2786, -7.2786, -7.2786, -7.2786, -7.2786, -7.2786, -7.2786, -1.9818, -1.9818, -1.9818, -1.9818, -1.9818, -1.9783, -1.9783, -6.9759, -6.9759, -6.9759, -6.9759, -6.9759, -7.2789, -7.116, -7.116, -7.116, -7.116, -7.116, -7.116, -7.116, -7.116, -7.116, -7.116, -7.116, -7.2789, -7.2789, -7.2789, -7.2789, -7.2789, -7.2789, -7.2789, -7.2789, -7.2789, -7.2789, -7.2789, -7.2789, -7.2789, -1.9797, -1.9797, -1.9797, -1.9797, -1.9797, -1.9788, -1.9788, -7.1147, -7.1147, -7.1147, -7.1147, -7.1147, -7.1147, -7.1147, -7.1147, -7.1147, -7.1147, -7.2777, -7.2777, -7.2777, -7.2777, -7.2777, -7.2777, -7.2777, -7.2777, -7.2777, -7.2777, -7.2777, -7.2777, -7.2777, -7.2777, -7.2777, -7.2777, -7.2777, -7.2777, -7.2777, -7.2777, -7.2777, -7.2777, -1.6576, -1.6576, -1.6576, -1.6576, -1.6576, -6.9547, -6.7917, -6.7917, -6.7917, -6.7917, -6.9547, -6.9547, -6.9547, -6.9547, -6.9547, -6.9547, -6.9547, -6.9547, -6.9547, -6.9547, -6.9547, -6.9547, -6.9547, -6.9547, -6.9547, -6.9547, -6.9547, -6.9547, -6.9547, -6.9547, -6.7917, -6.7917, -6.7917, -6.9547, -6.9547, -6.9547, -6.9547, -6.9547, -1.1813, -1.1813, -1.1813, -6.178, -6.178, -6.178, -6.178, -6.178, -6.481, -6.481, -6.481, -6.481, -6.481, -6.481, -6.481, -6.481, -6.481, -6.481, -6.481, -6.481, -6.481, -6.481, -6.481, -6.481, -6.481, -6.481, -6.481, -6.481, -6.481, -6.481, -6.481, -6.481, -6.481, -6.481, -6.481, -6.481, -6.481, -6.481, -0.2315, -5.5278, -5.5278, -5.5278, -5.5278, -5.5278, -5.5278, -5.5278, -5.5278, -5.5278, -5.5278, -5.5278, -5.5278, -5.5278, -5.5278, -5.5278, -5.5278, -5.5278, -5.5278, -5.5278, -5.5278, -5.5278, -5.5278, -5.5278, -5.5278, -5.5278, -5.5278, -5.5278, -5.5278, -5.5278, -5.5278, -5.5278, -5.5278, -5.5278, -5.5278, -5.5278, -5.5278, -5.5278, -5.5278, -5.5278, -5.5278, -5.5278, -3.4165, -3.4165, -3.4165, -3.4165, -3.4165, -3.4165, -3.8805, -3.8805, -3.8805, -3.8805, -4.1836, -4.0206, -4.0206, -4.0206, -4.0206, -4.0206, -4.1836, -4.1836, -4.1836, -4.1836, -4.1836, -4.1836, -4.1836, -4.1836, -4.1836, -4.1836, -4.1836, -4.1836, -4.1836, -4.1836, -3.2623, -3.8805, -3.2623, -4.1836, -4.1836, -4.1836, -4.1836, -4.1836, -4.1836, -4.1836, -4.1836, -3.8486, -3.8486, -3.8486, -3.8486, -3.8581, -3.86, -3.8601, -3.8617, -3.8627, -3.8639, -4.1517, -3.9887, -3.9887, -3.9887, -3.9887, -3.9887, -3.9887, -3.9887, -3.9887, -3.9887, -3.9887, -3.9887, -4.1517, -4.1517, -4.1517, -4.1517, -4.1517, -4.1517, -4.1517, -4.1517, -3.6307, -3.6324, -3.6435, -3.4348, -3.8486, -3.2823, -3.858, -4.1517, -4.1517, -4.0381, -3.8751, -3.8751, -3.8751, -3.8751, -3.8751, -3.8751, -3.8751, -3.8751, -3.8751, -3.8751, -3.8751, -3.8751, -3.8751, -3.8751, -3.8751, -3.8751, -3.8751, -3.8751, -3.8751, -4.0381, -4.0381, -4.0381, -4.0381, -4.0381, -4.0381, -4.0381, -4.0381, -4.0381, -4.0381, -3.8751, -3.8751, -4.0381, -4.0381, -3.8657, -3.8657, -3.8657, -4.0287, -3.8657, -3.8657, -3.8657, -3.8657, -3.8657, -3.8657, -3.8657, -3.8657, -3.8657, -3.8657, -3.8657, -4.0287, -4.0287, -4.0287, -4.0287, -4.0287, -4.0287, -4.0287, -4.0287, -4.0287, -4.0287, -4.0287, -4.0287, -4.0287, -4.0287, -4.0287, -3.7256, -3.7256, -4.0287, -4.0287, -4.0287, -4.0287, -4.0287, -4.0287, -4.0287, -4.0287, -4.0287, -3.8562, -3.8562, -3.8562, -4.0192, -3.8562, -3.8562, -3.8562, -3.8562, -3.8562, -3.8562, -3.8562, -3.8562, -3.8562, -3.8562, -4.0192, -4.0192, -4.0192, -4.0192, -4.0192, -4.0192, -4.0192, -4.0192, -4.0192, -4.0192, -4.0192, -4.0192, -4.0192, -4.0192, -4.0192, -4.0192, -3.8562, -3.8562, -4.0192, -4.0192, -4.0192, -4.0192, -4.0192, -4.0192, -4.0224, -3.8594, -3.8594, -3.8594, -3.8594, -3.8594, -3.8594, -3.8594, -3.8594, -3.8594, -3.8594, -4.0224, -4.0224, -4.0224, -4.0224, -4.0224, -4.0224, -4.0224, -4.0224, -4.0224, -4.0224, -4.0224, -4.0224, -4.0224, -4.0224, -4.0224, -4.0224, -4.0224, -4.0224, -4.0224, -3.7193, -3.8594, -3.8594, -3.7193, -4.0224, -4.0224, -4.0224, -4.0224, -4.0224, -4.0224, -4.0224, -3.8402, -3.8402, -3.8402, -4.0031, -3.8402, -3.8402, -3.8402, -3.8402, -3.8402, -4.0031, -4.0031, -4.0031, -4.0031, -4.0031, -4.0031, -4.0031, -4.0031, -4.0031, -4.0031, -4.0031, -4.0031, -4.0031, -4.0031, -4.0031, -4.0031, -4.0031, -4.0031, -4.0031, -4.0031, -4.0031, -3.8402, -3.8402, -4.0031, -4.0031, -4.0031, -4.0031, -4.0031, -4.0031, -3.8369, -3.8369, -3.8369, -3.8369, -3.8369, -3.8369, -3.8369, -3.8369, -3.8369, -3.9999, -3.9999, -3.9999, -3.9999, -3.9999, -3.9999, -3.9999, -3.9999, -3.9999, -3.9999, -3.9999, -3.9999, -3.9999, -3.9999, -3.9999, -3.9999, -3.9999, -3.9999, -3.9999, -3.9999, -3.9999, -3.9999, -3.9999, -3.9999, -3.9999, -3.9999, -3.9999, -3.9999, -3.9999, -3.9999, -3.9999, -3.9934, -3.8304, -3.8304, -3.8304, -3.8304, -3.8304, -3.9934, -3.9934, -3.9934, -3.9934, -3.9934, -3.9934, -3.9934, -3.9934, -3.9934, -3.9934, -3.9934, -3.9934, -3.9934, -3.9934, -3.9934, -3.9934, -3.9934, -3.9934, -3.9934, -3.9934, -3.9934, -3.9934, -3.9934, -3.9934, -3.8304, -3.8304, -3.9934, -3.9934, -3.9934, -3.9934, -3.9934, -3.9934, -3.9934, -3.9934, -3.9934, -3.9934, -3.9934, -3.9703, -3.9703, -3.9703, -3.9703, -3.9703, -3.9703, -3.9703, -3.9703, -3.9703, -3.9703, -3.9703, -3.9703, -3.9703, -3.9703, -3.9703, -3.9703, -3.9703, -3.9703, -3.9703, -3.9703, -3.9703, -3.9703, -3.9703, -3.9703, -3.9703, -3.9703, -3.9703, -3.9703, -3.9703, -3.9703, -3.9703, -3.9703, -3.9703, -3.9703, -3.9703, -3.9703, -3.9703, -3.9703, -3.9703, -3.9703, -3.9703, -3.9703, -3.9703], \"loglift\": [30.0, 29.0, 28.0, 27.0, 26.0, 25.0, 24.0, 23.0, 22.0, 21.0, 20.0, 19.0, 18.0, 17.0, 16.0, 15.0, 14.0, 13.0, 12.0, 11.0, 10.0, 9.0, 8.0, 7.0, 6.0, 5.0, 4.0, 3.0, 2.0, 1.0, 1.4487, 1.4487, 1.4487, 1.4069, 1.4069, 1.4068, 1.4068, 1.4068, 1.4068, 0.7765, 0.1267, -0.1005, -3.4375, -3.4375, -3.5288, -3.5288, -3.5288, -3.5288, -3.5288, -3.6547, -3.6949, -3.6949, -3.6949, -3.6949, -3.6949, -3.7017, -3.7017, -3.7017, -3.7017, -3.7017, -3.7871, -4.0809, -3.7017, -3.7017, -3.7017, 2.1577, 2.1144, 2.1144, 1.4719, 1.4519, 0.8021, -2.9766, -3.0148, -3.0148, -3.0148, -3.0148, -3.0528, -3.0528, -3.0528, -3.0528, -3.0528, -3.0528, -3.1039, -3.1039, -3.1039, -3.1538, -3.1538, -3.1538, -3.1538, -3.1538, -3.1791, -3.1791, -3.1791, -3.1791, -3.1791, -3.5615, -3.5615, -3.5615, -4.4209, -3.1866, -3.1866, -3.1866, -3.1866, -3.1866, -3.1866, -3.1866, -3.1866, 2.1149, 2.1149, 2.1149, 2.1149, 2.1149, 2.1149, 2.1149, 2.1149, -2.9749, -3.0131, -3.0131, -3.0131, -3.0131, -3.1022, -3.1022, -3.1022, -3.1521, -3.1521, -3.1521, -3.1521, -3.1521, -3.1774, -3.1774, -3.1774, -3.1774, -3.1774, -3.1781, -3.1781, -3.1781, -3.1781, -3.6641, -4.5593, -5.025, -3.1781, -3.1884, -3.1884, -3.1884, -3.1884, -3.1884, -3.1884, -3.2141, 2.1111, 2.1111, 2.1111, 2.1111, 2.1111, 2.1111, 0.578, 0.1124, -2.8055, -3.008, -3.008, -3.008, -3.008, -3.008, -3.0958, -3.0958, -3.0958, -3.1457, -3.1457, -3.1457, -3.1457, -3.1457, -3.1697, -3.1697, -3.1697, -3.1697, -3.1717, -3.1717, -3.1717, -3.1717, -3.8207, -3.1785, -3.1785, -3.1785, -3.1785, -3.1785, -3.1785, -3.1785, -3.1785, 2.2508, 2.2508, 2.2508, 2.2508, 2.2508, 0.7065, 0.2409, -2.2119, -2.9731, -2.9731, -2.9731, -3.023, -3.023, -3.023, -3.023, -3.023, -3.047, -3.047, -3.047, -3.047, -3.0483, -3.0483, -3.0483, -3.0483, -3.0483, -3.0546, -3.0546, -3.0557, -3.0557, -3.0557, -3.698, -3.0557, -3.0557, -3.0557, -3.0557, -3.0557, -3.0593, -3.0593, -3.0593, -3.0593, -3.0593, -3.0593, 2.2498, 2.2498, 2.2498, 2.2498, 1.5988, 0.7071, 0.2414, -2.7456, -2.7456, -2.7456, -2.7456, -2.7456, -2.8462, -2.8864, -2.8864, -2.8864, -2.8864, -2.8864, -2.8967, -2.8967, -2.8967, -2.8967, -2.8967, -2.8967, -2.9735, -2.9735, -2.9735, -3.0234, -3.0234, -3.0234, -3.0561, -3.0561, -3.0561, -3.0561, -3.0561, -3.0561, -3.0561, 2.2506, 2.2506, 2.2506, 2.2506, 2.2506, 0.7065, 0.2409, -2.682, -2.8093, -2.8093, -2.8093, -2.8955, -2.8955, -2.8955, -2.8955, -2.8955, -2.8955, -3.0222, -3.0222, -3.0222, -3.0222, -3.0222, -3.0461, -3.0461, -3.0461, -3.0461, -3.0481, -3.0481, -3.0481, -3.0481, -3.6971, -3.0549, -3.0549, -3.0549, -3.0549, -3.0549, -3.0549, -3.0549, -3.0549, 2.598, 2.598, 2.598, 2.598, 2.598, -2.5219, -2.5601, -2.5601, -2.5601, -2.5601, -2.6492, -2.6492, -2.6492, -2.7244, -2.7244, -2.7244, -2.7244, -2.7244, -2.7251, -2.7251, -2.7251, -2.7251, -2.7251, -2.7307, -2.7307, -2.7318, -2.7318, -2.7318, -2.7318, -2.7318, -3.2111, -4.1063, -4.572, -2.7318, -2.7318, -2.7318, -2.7354, -2.7354, 3.1242, 3.1242, 3.1242, -1.9224, -1.9224, -1.9224, -1.9224, -1.9224, -2.0483, -2.2494, -2.2494, -2.2494, -2.2494, -2.2507, -2.2507, -2.2507, -2.2507, -2.2507, -2.2515, -2.2515, -2.2515, -2.2515, -2.2515, -2.257, -2.257, -2.2582, -2.2582, -2.2582, -2.2582, -2.2582, -2.9004, -3.7957, -4.2613, -2.2582, -2.2582, -2.2582, -2.2618, -2.2618, 4.2012, -1.2223, -1.2223, -1.2223, -1.2722, -1.2722, -1.2722, -1.2722, -1.2722, -1.2962, -1.2962, -1.2962, -1.2962, -1.2975, -1.2975, -1.2975, -1.2975, -1.2975, -1.2982, -1.2982, -1.2982, -1.2982, -1.2982, -1.3038, -1.3038, -1.3049, -1.3049, -1.3049, -1.3049, -1.3049, -1.9472, -2.8424, -3.3081, -1.3049, -1.3049, -1.3049, -1.3085, -1.3085, -1.3085, -1.3085, -1.3085, -1.3085, 0.8027, 0.8027, 0.8027, 0.8027, 0.8027, 0.8027, 0.3511, 0.3511, 0.3511, 0.3511, 0.2492, 0.235, 0.235, 0.235, 0.235, 0.235, 0.1219, 0.1219, 0.1219, 0.0467, 0.0467, 0.0467, 0.0467, 0.0467, 0.046, 0.046, 0.046, 0.046, 0.046, 0.0404, -0.5769, -0.2999, -1.0426, 0.0392, 0.0392, 0.0392, 0.0392, 0.0392, 0.0392, 0.0392, 0.0392, 0.383, 0.383, 0.383, 0.383, 0.3354, 0.3335, 0.3335, 0.3318, 0.3308, 0.3297, 0.2811, 0.2416, 0.2416, 0.2416, 0.2416, 0.2416, 0.2305, 0.2305, 0.2305, 0.2305, 0.2305, 0.2305, 0.1537, 0.1537, 0.1537, 0.1039, 0.1039, 0.1039, 0.1039, 0.1039, -0.0859, -0.0876, -0.0987, -0.7494, -0.268, -1.0625, -0.2974, 0.0711, 0.0711, 0.3947, 0.3805, 0.3805, 0.3805, 0.3805, 0.3805, 0.3477, 0.3477, 0.3477, 0.3477, 0.3477, 0.3477, 0.3477, 0.3477, 0.3441, 0.3441, 0.3441, 0.3441, 0.3441, 0.3441, 0.2674, 0.2674, 0.2674, 0.1935, 0.1935, 0.1935, 0.1935, 0.1922, 0.1922, 0.1922, -1.1897, -1.6554, -0.4575, 0.1915, 0.4398, 0.4398, 0.4398, 0.4041, 0.3646, 0.3646, 0.3646, 0.3646, 0.3646, 0.3535, 0.3535, 0.3535, 0.3535, 0.3535, 0.3535, 0.2269, 0.2269, 0.2269, 0.2269, 0.2269, 0.2029, 0.2029, 0.2029, 0.2029, 0.2009, 0.2009, 0.2009, 0.2009, 0.2009, 0.1953, -1.0402, -1.5059, -0.4481, 0.1942, 0.1942, 0.1942, 0.1942, 0.1942, 0.1942, 0.1942, 0.1942, 0.4493, 0.4493, 0.4493, 0.4136, 0.3994, 0.3994, 0.3994, 0.3994, 0.3994, 0.3734, 0.3734, 0.3734, 0.3734, 0.3734, 0.2124, 0.2124, 0.2124, 0.2124, 0.2111, 0.2111, 0.2111, 0.2111, 0.2111, 0.2048, 0.2048, 0.2037, 0.2037, 0.2037, 0.2037, 0.2037, -1.1708, -1.6365, -0.4386, 0.2037, 0.2037, 0.2037, 0.2001, 0.2001, 0.4104, 0.3646, 0.3646, 0.3635, 0.3635, 0.3635, 0.3635, 0.3635, 0.3635, 0.3635, 0.3635, 0.2831, 0.2831, 0.2831, 0.2332, 0.2332, 0.2332, 0.2332, 0.2332, 0.2093, 0.2093, 0.2093, 0.2093, 0.2079, 0.2079, 0.2079, 0.2079, 0.2079, 0.2072, 0.2072, -0.1426, -0.2788, -0.2988, -1.4995, -1.337, 0.2072, 0.2072, 0.2072, 0.1969, 0.1969, 0.1969, 0.4653, 0.4653, 0.4653, 0.4296, 0.3901, 0.3901, 0.3901, 0.3901, 0.3901, 0.2524, 0.2524, 0.2524, 0.2524, 0.2524, 0.2285, 0.2285, 0.2285, 0.2285, 0.2264, 0.2264, 0.2264, 0.2264, 0.2264, 0.2209, 0.2209, 0.2197, 0.2197, 0.2197, 0.2197, 0.2197, -1.1548, -1.6204, -0.4225, 0.2197, 0.2197, 0.2197, 0.2161, 0.2161, 0.5958, 0.3859, 0.3859, 0.3859, 0.3859, 0.3859, 0.3859, 0.3859, 0.3859, 0.3056, 0.3056, 0.3056, 0.2557, 0.2557, 0.2557, 0.2557, 0.2557, 0.2317, 0.2317, 0.2317, 0.2317, 0.2304, 0.2304, 0.2304, 0.2304, 0.2304, 0.2297, 0.2297, 0.2297, 0.2297, -0.4193, -1.3146, -1.7802, 0.2297, 0.2193, 0.2193, 0.2193, 0.2193, 0.2193, 0.2193, 0.4394, 0.3992, 0.3992, 0.3992, 0.3992, 0.3992, 0.3121, 0.3121, 0.3121, 0.2622, 0.2622, 0.2622, 0.2622, 0.2622, 0.2382, 0.2382, 0.2382, 0.2382, 0.2369, 0.2369, 0.2369, 0.2369, 0.2369, 0.2306, 0.2306, 0.2294, 0.2294, 0.2294, 0.2294, 0.2294, -1.1451, -1.6107, -0.4128, 0.2294, 0.2294, 0.2294, 0.2258, 0.2258, 0.2258, 0.2258, 0.2258, 0.2258, 0.2002, 0.4625, 0.3352, 0.3352, 0.3352, 0.2853, 0.2853, 0.2853, 0.2853, 0.2853, 0.2613, 0.2613, 0.2613, 0.2613, 0.26, 0.26, 0.26, 0.26, 0.26, 0.2593, 0.2593, 0.2593, 0.2593, 0.2593, 0.2537, 0.2537, 0.2525, 0.2525, 0.2525, 0.2525, 0.2525, -0.3897, -1.2849, -1.7506, 0.2525, 0.2525, 0.2525, 0.2489, 0.2489, 0.2489, 0.2489, 0.2489, 0.2489, 0.2233]}, \"token.table\": {\"Topic\": [8, 4, 3, 6, 6, 1, 8, 5, 2, 6, 7, 1, 4, 5, 6, 7, 4, 3, 1, 1, 2, 3, 9, 7, 4, 8, 4, 1, 5, 3, 8, 2, 7, 1, 5, 9, 6, 3, 3, 2, 7, 1, 1, 1, 4, 1, 1, 2, 4, 5, 6, 7, 3, 10, 9, 3, 6, 5, 5, 8, 2, 4, 7, 1], \"Freq\": [0.9063862005126342, 0.8740526002643835, 0.8771976204991622, 0.8849337323093256, 0.8849337323093256, 0.9465494722108704, 0.9063862005126342, 0.8831373418812194, 0.46151295698744843, 0.46151295698744843, 0.8837623748542882, 0.20947676462329903, 0.18852908816096914, 0.18852908816096914, 0.18852908816096914, 0.18852908816096914, 0.8740525998465709, 0.8771976204991622, 0.9465525692454646, 0.5026268103628718, 0.45236412932658465, 0.8771976204991622, 0.9527554106505338, 0.883762375531995, 0.8740525998465709, 0.9063862005126342, 0.8740525998465709, 0.946550149785844, 0.8831373414547549, 0.8771976204991622, 0.9063861996785846, 0.8782259347697774, 0.883762375531995, 0.9465487201743004, 0.8831373414547549, 0.9527554106505338, 0.8849337323093256, 0.8771976204991622, 0.8771976204991622, 0.9704396458401195, 0.883762375531995, 0.946551263148941, 0.9465512461042733, 0.9400267269361242, 0.8740525998465709, 0.940025910059107, 0.2498448188760537, 0.2498448188760537, 0.11834754578339385, 0.11834754578339385, 0.11834754578339385, 0.11834754578339385, 0.8771976204991622, 0.8416390172673978, 0.9527554106505338, 0.8771976204991622, 0.8849337318703132, 0.8831373414547549, 0.8831373414547549, 0.9063862005126342, 0.8782259347697774, 0.8740525998465709, 0.883762375531995, 0.9400212297912619], \"Term\": [\"actionable\", \"analysis\", \"approximate\", \"backbone\", \"become\", \"class\", \"climate\", \"competence\", \"computational\", \"computational\", \"course\", \"datum\", \"datum\", \"datum\", \"datum\", \"datum\", \"demand\", \"dimensional\", \"earth\", \"education\", \"education\", \"efficient\", \"evolution\", \"exercise\", \"exploration\", \"extreme\", \"formal\", \"general\", \"ground\", \"high\", \"insight\", \"intensive\", \"introductory\", \"large\", \"local\", \"model\", \"modern\", \"near\", \"neighbor\", \"new\", \"novel\", \"oceanography\", \"page\", \"peer\", \"requirement\", \"review\", \"science\", \"science\", \"science\", \"science\", \"science\", \"science\", \"search\", \"segment\", \"selection\", \"space\", \"statistic\", \"support\", \"toolkit\", \"uncertainty\", \"vision\", \"visual\", \"visualization\", \"writing\"]}, \"R\": 30, \"lambda.step\": 0.01, \"plot.opts\": {\"xlab\": \"PC1\", \"ylab\": \"PC2\"}, \"topic.order\": [3, 8, 19, 9, 14, 15, 13, 20, 6, 12, 7, 17, 11, 16, 10, 1, 5, 2, 4, 18]};\n",
              "\n",
              "function LDAvis_load_lib(url, callback){\n",
              "  var s = document.createElement('script');\n",
              "  s.src = url;\n",
              "  s.async = true;\n",
              "  s.onreadystatechange = s.onload = callback;\n",
              "  s.onerror = function(){console.warn(\"failed to load library \" + url);};\n",
              "  document.getElementsByTagName(\"head\")[0].appendChild(s);\n",
              "}\n",
              "\n",
              "if(typeof(LDAvis) !== \"undefined\"){\n",
              "   // already loaded: just create the visualization\n",
              "   !function(LDAvis){\n",
              "       new LDAvis(\"#\" + \"ldavis_el581402577337434401775738156\", ldavis_el581402577337434401775738156_data);\n",
              "   }(LDAvis);\n",
              "}else if(typeof define === \"function\" && define.amd){\n",
              "   // require.js is available: use it to load d3/LDAvis\n",
              "   require.config({paths: {d3: \"https://d3js.org/d3.v5\"}});\n",
              "   require([\"d3\"], function(d3){\n",
              "      window.d3 = d3;\n",
              "      LDAvis_load_lib(\"https://cdn.jsdelivr.net/gh/bmabey/pyLDAvis@3.2.2/pyLDAvis/js/ldavis.v3.0.0.js\", function(){\n",
              "        new LDAvis(\"#\" + \"ldavis_el581402577337434401775738156\", ldavis_el581402577337434401775738156_data);\n",
              "      });\n",
              "    });\n",
              "}else{\n",
              "    // require.js not available: dynamically load d3 & LDAvis\n",
              "    LDAvis_load_lib(\"https://d3js.org/d3.v5.js\", function(){\n",
              "         LDAvis_load_lib(\"https://cdn.jsdelivr.net/gh/bmabey/pyLDAvis@3.2.2/pyLDAvis/js/ldavis.v3.0.0.js\", function(){\n",
              "                 new LDAvis(\"#\" + \"ldavis_el581402577337434401775738156\", ldavis_el581402577337434401775738156_data);\n",
              "            })\n",
              "         });\n",
              "}\n",
              "</script>"
            ],
            "text/plain": [
              "PreparedData(topic_coordinates=              x         y  topics  cluster       Freq\n",
              "topic                                                \n",
              "2     -0.152045 -0.029333       1        1  22.424852\n",
              "7     -0.206425  0.024642       2        1  11.005352\n",
              "18     0.250476 -0.292610       3        1  11.001078\n",
              "8     -0.186078 -0.010096       4        1  10.983010\n",
              "13    -0.208792  0.005592       5        1   9.597127\n",
              "14    -0.235981  0.012588       6        1   9.583079\n",
              "12    -0.208994  0.004588       7        1   9.582468\n",
              "19     0.192158  0.287193       8        1   6.746429\n",
              "5      0.160368  0.191173       9        1   3.974596\n",
              "11     0.127064  0.009427      10        1   1.327331\n",
              "6      0.010543 -0.013162      11        1   0.392353\n",
              "16     0.011294 -0.023702      12        1   0.386963\n",
              "10     0.063256 -0.024040      13        1   0.377602\n",
              "15     0.044669 -0.015643      14        1   0.377503\n",
              "9      0.057574 -0.004113      15        1   0.377434\n",
              "0      0.055011 -0.033367      16        1   0.374560\n",
              "4      0.052206 -0.014930      17        1   0.374392\n",
              "1      0.067143 -0.034240      18        1   0.374211\n",
              "3      0.048992 -0.020025      19        1   0.371403\n",
              "17     0.057562 -0.019941      20        1   0.368257, topic_info=           Term       Freq      Total Category  logprob  loglift\n",
              "5       science  76.000000  76.000000  Default  30.0000  30.0000\n",
              "3         datum  47.000000  47.000000  Default  29.0000  29.0000\n",
              "51          new  19.000000  19.000000  Default  28.0000  28.0000\n",
              "36         peer  20.000000  20.000000  Default  27.0000  27.0000\n",
              "37       review  20.000000  20.000000  Default  26.0000  26.0000\n",
              "..          ...        ...        ...      ...      ...      ...\n",
              "25  exploration   0.048638  10.296863  Topic20  -3.9703   0.2489\n",
              "26       formal   0.048638  10.296863  Topic20  -3.9703   0.2489\n",
              "27  requirement   0.048638  10.296863  Topic20  -3.9703   0.2489\n",
              "28       visual   0.048638  10.296863  Topic20  -3.9703   0.2489\n",
              "29        class   0.048638  10.564688  Topic20  -3.9703   0.2233\n",
              "\n",
              "[821 rows x 6 columns], token_table=      Topic      Freq           Term\n",
              "term                                \n",
              "45        8  0.906386     actionable\n",
              "23        4  0.874053       analysis\n",
              "7         3  0.877198    approximate\n",
              "0         6  0.884934       backbone\n",
              "1         6  0.884934         become\n",
              "...     ...       ...            ...\n",
              "49        8  0.906386    uncertainty\n",
              "52        2  0.878226         vision\n",
              "28        4  0.874053         visual\n",
              "44        7  0.883762  visualization\n",
              "38        1  0.940021        writing\n",
              "\n",
              "[64 rows x 3 columns], R=30, lambda_step=0.01, plot_opts={'xlab': 'PC1', 'ylab': 'PC2'}, topic_order=[3, 8, 19, 9, 14, 15, 13, 20, 6, 12, 7, 17, 11, 16, 10, 1, 5, 2, 4, 18])"
            ]
          },
          "metadata": {
            "tags": []
          },
          "execution_count": 33
        }
      ]
    },
    {
      "cell_type": "markdown",
      "metadata": {
        "id": "CNPOIxJsUxEO"
      },
      "source": [
        "## (2) (8 points) Generate K topics by using LSA, the number of topics K should be decided by the coherence score, then summarize what are the topics. You may refer the code here:\n",
        "\n",
        "https://www.datacamp.com/community/tutorials/discovering-hidden-topics-python"
      ]
    },
    {
      "cell_type": "code",
      "metadata": {
        "id": "CXuC7UIWUxEQ"
      },
      "source": [
        "# Write your code here\n",
        "import os.path\n",
        "from gensim import corpora\n",
        "from gensim.models import LsiModel\n",
        "from nltk.tokenize import RegexpTokenizer\n",
        "from nltk.corpus import stopwords\n",
        "from nltk.stem.porter import PorterStemmer\n",
        "from gensim.models.coherencemodel import CoherenceModel\n",
        "import matplotlib.pyplot as plt\n"
      ],
      "execution_count": 7,
      "outputs": []
    },
    {
      "cell_type": "code",
      "metadata": {
        "id": "HpohgaZ6V7g5"
      },
      "source": [
        "def preprocess_data(docu_set):  \n",
        "    tokenize = RegexpTokenizer(r'\\w+')\n",
        "    en_stop_ = set(stopwords.words('english'))\n",
        "    p_stemm_er = PorterStemmer()\n",
        "    data = []\n",
        "    for x in docu_set:\n",
        "        raw = x.lower()\n",
        "        token = tokenize.tokenize(raw)\n",
        "        tokens_stopped = [x for x in token if not x in en_stop_]\n",
        "        tokens_stemmed = [p_stemm_er.stem(x) for x in tokens_stopped]\n",
        "        data.append(tokens_stemmed)\n",
        "    return data\n",
        "def preparation_corpus(doc_clean):\n",
        "    dictionary = corpora.Dictionary(doc_clean)\n",
        "    doc_matrix = [dictionary.doc2bow(text) for text in doc_clean]\n",
        "    return dictionary,doc_matrix\n",
        "def gensim_lsa_model_create(doc_clean,number_of_topics,words):\n",
        "    dictionary,doc_matrix=preparation_corpus(doc_clean)\n",
        "    lsamodel_ = LsiModel(doc_matrix, num_of_topics=number_of_topics, id2word = dictionary)  # train model\n",
        "    print(lsamodel_.print_topics(num_of_topics=number_of_topics, num_words=words))\n",
        "    return lsamodel_\n",
        "def coherence_values_compute(dictionary, doc_matrix, doc_clean, stop, start=2, step=3):\n",
        "    coherence_values_ = []\n",
        "    model_list_ = []\n",
        "    for num_of_topics in range(start, stop, step):\n",
        "      model = LsiModel(doc_matrix, num_of_topics, id2word = dictionary)  # train model\n",
        "      model_list_.append(model)\n",
        "      coherencemodel = CoherenceModel(model=model, texts=doc_clean, dictionary=dictionary, coherence='c_v')\n",
        "      coherence_values_.append(coherencemodel.get_coherence())\n",
        "    return model_list_, coherence_values_\n",
        "def graph(doc_clean,start, stop, step):\n",
        "    dictionary,doc_matrix=preparation_corpus(doc_clean)\n",
        "    model_list_, coherence_values_ = coherence_values_compute(dictionary, doc_matrix,doc_clean,stop, start, step)\n",
        "    x = range(start, stop, step)\n",
        "    plt.plot(x, coherence_values_)\n",
        "    plt.xlabel(\"Number of Topics\")\n",
        "    plt.ylabel(\"Coherence score\")\n",
        "    plt.legend((\"coherence_values_\"), loc='best')\n",
        "    plt.show()"
      ],
      "execution_count": 26,
      "outputs": []
    },
    {
      "cell_type": "code",
      "metadata": {
        "colab": {
          "base_uri": "https://localhost:8080/",
          "height": 279
        },
        "id": "o19kETVdWrdA",
        "outputId": "63edca2e-6c4b-40e4-9761-fe8a03784fbb"
      },
      "source": [
        "start,stop,step=2,12,1\n",
        "clean_text_=preprocess_data(titles)\n",
        "graph(clean_text_,start,stop,step)"
      ],
      "execution_count": 28,
      "outputs": [
        {
          "output_type": "display_data",
          "data": {
            "image/png": "[encoded data removed]",
            "text/plain": [
              "<Figure size 432x288 with 1 Axes>"
            ]
          },
          "metadata": {
            "tags": [],
            "needs_background": "light"
          }
        }
      ]
    },
    {
      "cell_type": "code",
      "metadata": {
        "colab": {
          "base_uri": "https://localhost:8080/"
        },
        "id": "mjbWjCTAW5mT",
        "outputId": "6517a9da-c5a2-4d87-b61b-0bbd196321f9"
      },
      "source": [
        "number_of_topics=2\n",
        "words=10\n",
        "clean_text=preprocess_data(titles)\n",
        "model=create_gensim_lsa_model(clean_text,number_of_topics,words)"
      ],
      "execution_count": 29,
      "outputs": [
        {
          "output_type": "stream",
          "text": [
            "[(0, '-0.596*\"scienc\" + -0.506*\"data\" + -0.190*\"write\" + -0.190*\"earth\" + -0.190*\"peer\" + -0.190*\"review\" + -0.185*\"1\" + -0.185*\"educ\" + -0.179*\"new\" + -0.147*\"comput\"'), (1, '-0.353*\"write\" + -0.353*\"peer\" + -0.353*\"review\" + -0.353*\"earth\" + 0.278*\"new\" + 0.221*\"scienc\" + 0.216*\"comput\" + -0.177*\"oceanographi\" + -0.177*\"gener\" + -0.177*\"larg\"')]\n"
          ],
          "name": "stdout"
        }
      ]
    },
    {
      "cell_type": "markdown",
      "metadata": {
        "id": "Bo2bdLfRUxEQ"
      },
      "source": [
        "## (3) (4 points) Compare the results generated by the two topic modeling algorithms, which one is better? You should explain the reasons in details."
      ]
    },
    {
      "cell_type": "markdown",
      "metadata": {
        "id": "JOBVm4pefErB"
      },
      "source": [
        "# Write your answer here (no code needed for this question)\n",
        "LDA has 20 point models and LSA has 2 theme models; but, although the two models have same number of terms, LSA has fewer dimensions than LDA. LSA is faster than LDA since there are only two topic versions. Despite the fact that the yields of both models are equivalent, both have preprocessing measures to lemmatize the sentences, and LDA is performed using the a diricilet strategy, while LSA is carried out in a probabilistic manner."
      ]
    }
  ]
}