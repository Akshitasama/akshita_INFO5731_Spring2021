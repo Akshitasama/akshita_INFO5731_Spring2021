{
  "nbformat": 4,
  "nbformat_minor": 0,
  "metadata": {
    "kernelspec": {
      "display_name": "Python 3",
      "language": "python",
      "name": "python3"
    },
    "language_info": {
      "codemirror_mode": {
        "name": "ipython",
        "version": 3
      },
      "file_extension": ".py",
      "mimetype": "text/x-python",
      "name": "python",
      "nbconvert_exporter": "python",
      "pygments_lexer": "ipython3",
      "version": "3.8.5"
    },
    "colab": {
      "name": "In_class_exercise_07.ipynb",
      "provenance": [],
      "collapsed_sections": [],
      "include_colab_link": true
    }
  },
  "cells": [
    {
      "cell_type": "markdown",
      "metadata": {
        "id": "view-in-github",
        "colab_type": "text"
      },
      "source": [
        "<a href=\"https://colab.research.google.com/github/Akshitasama/akshita_INFO5731_Spring2021/blob/main/In_class_exercise_07.ipynb\" target=\"_parent\"><img src=\"https://colab.research.google.com/assets/colab-badge.svg\" alt=\"Open In Colab\"/></a>"
      ]
    },
    {
      "cell_type": "markdown",
      "metadata": {
        "id": "r-BQyQAmUxD7"
      },
      "source": [
        "# **The seventh in-class-exercise (20 points in total, 3/16/2021)**"
      ]
    },
    {
      "cell_type": "markdown",
      "metadata": {
        "id": "HniVKvFZUxEK"
      },
      "source": [
        "Question description: In the last in-class-exercise (exercise-06), you collected the titles of 100 articles about data science, natural language processing, and machine learning. The 100 article titles will be used as the text corpus of this exercise. Perform the following tasks:"
      ]
    },
    {
      "cell_type": "markdown",
      "metadata": {
        "id": "cYNLL3olUxEM"
      },
      "source": [
        "## (1) (8 points) Generate K topics by using LDA, the number of topics K should be decided by the coherence score, then summarize what are the topics. You may refer the code here: \n",
        "\n",
        "https://www.machinelearningplus.com/nlp/topic-modeling-gensim-python/"
      ]
    },
    {
      "cell_type": "code",
      "metadata": {
        "colab": {
          "base_uri": "https://localhost:8080/"
        },
        "id": "zS3FIeE7UxEN",
        "outputId": "5b7ed38a-ce9a-4c12-d52d-45158120d59b"
      },
      "source": [
        "# Write your code here\n",
        "\n",
        "\n",
        "# Write your code here\n",
        "import pandas as pd\n",
        "import requests\n",
        "from bs4 import BeautifulSoup\n",
        "def insert_array(values,refer_array):\n",
        "  for x in values:\n",
        "    refer_array.append(x.text)\n",
        "titles=[]\n",
        "for x in range(0,100,10):\n",
        "  link=\"http://citeseerx.ist.psu.edu/search?q=data+science&t=doc&sort=rlv&start=\"+str(i)\n",
        "  page=requests.get(link,headers={'User-Agent':'Chrome/85.0.4183.121'})\n",
        "  soup = BeautifulSoup(page.content, 'html.parser')\n",
        "  insert_array(soup.find_all('a', class_='remove doc_details'),titles)\n",
        "print(titles)\n",
        "data_frame = pd.DataFrame (titles,columns=['titles'])"
      ],
      "execution_count": 14,
      "outputs": [
        {
          "output_type": "stream",
          "text": [
            "['\\n                   How Computational Statistics Became the Backbone of Modern Data Science\\n', '\\n                  Efficient Search for Approximate Nearest Neighbor in High Dimensional Spaces\\n                  ', '\\n                  Model selection in ecology and evolution.\\n                  ', '\\n                  Local Ground:\\xa0 A\\xa0Toolkit\\xa0Supporting\\xa0Metarepresentational Competence in\\xa0Data\\xa0Science\\n', '\\n                  Visual Exploration of Formal Requirements for Data Science Demand Analysis\\n                  ', '\\n                  Earth Data, Science Writing, and Peer Review page 1 Earth Data, Science Writing, and Peer Review in a Large General Education Oceanography Class\\n                  ', '\\n                  An Online Algorithm for Segmenting Time Series\\n                  ', '\\n                  OUTLINE AND EXERCISES FOR A NOVEL INTRODUCTORY COURSE IN DATA SCIENCE AND VISUALIZATION\\n                  ', '\\n                   Computational Data Sciences for Actionable Insights on Climate Extremes and Uncertainty\\n                  ', '\\n                  The New Computational and Data Sciences Undergraduate Program at George Mason University 1 Data-Intensive Science: A New Vision for Science Education\\n                  ', '\\n                   How Computational Statistics Became the Backbone of Modern Data Science\\n', '\\n                  Efficient Search for Approximate Nearest Neighbor in High Dimensional Spaces\\n                  ', '\\n                  Model selection in ecology and evolution.\\n                  ', '\\n                  Local Ground:\\xa0 A\\xa0Toolkit\\xa0Supporting\\xa0Metarepresentational Competence in\\xa0Data\\xa0Science\\n', '\\n                  Visual Exploration of Formal Requirements for Data Science Demand Analysis\\n                  ', '\\n                  Earth Data, Science Writing, and Peer Review page 1 Earth Data, Science Writing, and Peer Review in a Large General Education Oceanography Class\\n                  ', '\\n                  An Online Algorithm for Segmenting Time Series\\n                  ', '\\n                  OUTLINE AND EXERCISES FOR A NOVEL INTRODUCTORY COURSE IN DATA SCIENCE AND VISUALIZATION\\n                  ', '\\n                   Computational Data Sciences for Actionable Insights on Climate Extremes and Uncertainty\\n                  ', '\\n                  The New Computational and Data Sciences Undergraduate Program at George Mason University 1 Data-Intensive Science: A New Vision for Science Education\\n                  ', '\\n                   How Computational Statistics Became the Backbone of Modern Data Science\\n', '\\n                  Efficient Search for Approximate Nearest Neighbor in High Dimensional Spaces\\n                  ', '\\n                  Model selection in ecology and evolution.\\n                  ', '\\n                  Local Ground:\\xa0 A\\xa0Toolkit\\xa0Supporting\\xa0Metarepresentational Competence in\\xa0Data\\xa0Science\\n', '\\n                  Visual Exploration of Formal Requirements for Data Science Demand Analysis\\n                  ', '\\n                  Earth Data, Science Writing, and Peer Review page 1 Earth Data, Science Writing, and Peer Review in a Large General Education Oceanography Class\\n                  ', '\\n                  An Online Algorithm for Segmenting Time Series\\n                  ', '\\n                  OUTLINE AND EXERCISES FOR A NOVEL INTRODUCTORY COURSE IN DATA SCIENCE AND VISUALIZATION\\n                  ', '\\n                   Computational Data Sciences for Actionable Insights on Climate Extremes and Uncertainty\\n                  ', '\\n                  The New Computational and Data Sciences Undergraduate Program at George Mason University 1 Data-Intensive Science: A New Vision for Science Education\\n                  ', '\\n                   How Computational Statistics Became the Backbone of Modern Data Science\\n', '\\n                  Efficient Search for Approximate Nearest Neighbor in High Dimensional Spaces\\n                  ', '\\n                  Model selection in ecology and evolution.\\n                  ', '\\n                  Local Ground:\\xa0 A\\xa0Toolkit\\xa0Supporting\\xa0Metarepresentational Competence in\\xa0Data\\xa0Science\\n', '\\n                  Visual Exploration of Formal Requirements for Data Science Demand Analysis\\n                  ', '\\n                  Earth Data, Science Writing, and Peer Review page 1 Earth Data, Science Writing, and Peer Review in a Large General Education Oceanography Class\\n                  ', '\\n                  An Online Algorithm for Segmenting Time Series\\n                  ', '\\n                  OUTLINE AND EXERCISES FOR A NOVEL INTRODUCTORY COURSE IN DATA SCIENCE AND VISUALIZATION\\n                  ', '\\n                   Computational Data Sciences for Actionable Insights on Climate Extremes and Uncertainty\\n                  ', '\\n                  The New Computational and Data Sciences Undergraduate Program at George Mason University 1 Data-Intensive Science: A New Vision for Science Education\\n                  ', '\\n                   How Computational Statistics Became the Backbone of Modern Data Science\\n', '\\n                  Efficient Search for Approximate Nearest Neighbor in High Dimensional Spaces\\n                  ', '\\n                  Model selection in ecology and evolution.\\n                  ', '\\n                  Local Ground:\\xa0 A\\xa0Toolkit\\xa0Supporting\\xa0Metarepresentational Competence in\\xa0Data\\xa0Science\\n', '\\n                  Visual Exploration of Formal Requirements for Data Science Demand Analysis\\n                  ', '\\n                  Earth Data, Science Writing, and Peer Review page 1 Earth Data, Science Writing, and Peer Review in a Large General Education Oceanography Class\\n                  ', '\\n                  An Online Algorithm for Segmenting Time Series\\n                  ', '\\n                  OUTLINE AND EXERCISES FOR A NOVEL INTRODUCTORY COURSE IN DATA SCIENCE AND VISUALIZATION\\n                  ', '\\n                   Computational Data Sciences for Actionable Insights on Climate Extremes and Uncertainty\\n                  ', '\\n                  The New Computational and Data Sciences Undergraduate Program at George Mason University 1 Data-Intensive Science: A New Vision for Science Education\\n                  ', '\\n                   How Computational Statistics Became the Backbone of Modern Data Science\\n', '\\n                  Efficient Search for Approximate Nearest Neighbor in High Dimensional Spaces\\n                  ', '\\n                  Model selection in ecology and evolution.\\n                  ', '\\n                  Local Ground:\\xa0 A\\xa0Toolkit\\xa0Supporting\\xa0Metarepresentational Competence in\\xa0Data\\xa0Science\\n', '\\n                  Visual Exploration of Formal Requirements for Data Science Demand Analysis\\n                  ', '\\n                  Earth Data, Science Writing, and Peer Review page 1 Earth Data, Science Writing, and Peer Review in a Large General Education Oceanography Class\\n                  ', '\\n                  An Online Algorithm for Segmenting Time Series\\n                  ', '\\n                  OUTLINE AND EXERCISES FOR A NOVEL INTRODUCTORY COURSE IN DATA SCIENCE AND VISUALIZATION\\n                  ', '\\n                   Computational Data Sciences for Actionable Insights on Climate Extremes and Uncertainty\\n                  ', '\\n                  The New Computational and Data Sciences Undergraduate Program at George Mason University 1 Data-Intensive Science: A New Vision for Science Education\\n                  ', '\\n                   How Computational Statistics Became the Backbone of Modern Data Science\\n', '\\n                  Efficient Search for Approximate Nearest Neighbor in High Dimensional Spaces\\n                  ', '\\n                  Model selection in ecology and evolution.\\n                  ', '\\n                  Local Ground:\\xa0 A\\xa0Toolkit\\xa0Supporting\\xa0Metarepresentational Competence in\\xa0Data\\xa0Science\\n', '\\n                  Visual Exploration of Formal Requirements for Data Science Demand Analysis\\n                  ', '\\n                  Earth Data, Science Writing, and Peer Review page 1 Earth Data, Science Writing, and Peer Review in a Large General Education Oceanography Class\\n                  ', '\\n                  An Online Algorithm for Segmenting Time Series\\n                  ', '\\n                  OUTLINE AND EXERCISES FOR A NOVEL INTRODUCTORY COURSE IN DATA SCIENCE AND VISUALIZATION\\n                  ', '\\n                   Computational Data Sciences for Actionable Insights on Climate Extremes and Uncertainty\\n                  ', '\\n                  The New Computational and Data Sciences Undergraduate Program at George Mason University 1 Data-Intensive Science: A New Vision for Science Education\\n                  ', '\\n                   How Computational Statistics Became the Backbone of Modern Data Science\\n', '\\n                  Efficient Search for Approximate Nearest Neighbor in High Dimensional Spaces\\n                  ', '\\n                  Model selection in ecology and evolution.\\n                  ', '\\n                  Local Ground:\\xa0 A\\xa0Toolkit\\xa0Supporting\\xa0Metarepresentational Competence in\\xa0Data\\xa0Science\\n', '\\n                  Visual Exploration of Formal Requirements for Data Science Demand Analysis\\n                  ', '\\n                  Earth Data, Science Writing, and Peer Review page 1 Earth Data, Science Writing, and Peer Review in a Large General Education Oceanography Class\\n                  ', '\\n                  An Online Algorithm for Segmenting Time Series\\n                  ', '\\n                  OUTLINE AND EXERCISES FOR A NOVEL INTRODUCTORY COURSE IN DATA SCIENCE AND VISUALIZATION\\n                  ', '\\n                   Computational Data Sciences for Actionable Insights on Climate Extremes and Uncertainty\\n                  ', '\\n                  The New Computational and Data Sciences Undergraduate Program at George Mason University 1 Data-Intensive Science: A New Vision for Science Education\\n                  ', '\\n                   How Computational Statistics Became the Backbone of Modern Data Science\\n', '\\n                  Efficient Search for Approximate Nearest Neighbor in High Dimensional Spaces\\n                  ', '\\n                  Model selection in ecology and evolution.\\n                  ', '\\n                  Local Ground:\\xa0 A\\xa0Toolkit\\xa0Supporting\\xa0Metarepresentational Competence in\\xa0Data\\xa0Science\\n', '\\n                  Visual Exploration of Formal Requirements for Data Science Demand Analysis\\n                  ', '\\n                  Earth Data, Science Writing, and Peer Review page 1 Earth Data, Science Writing, and Peer Review in a Large General Education Oceanography Class\\n                  ', '\\n                  An Online Algorithm for Segmenting Time Series\\n                  ', '\\n                  OUTLINE AND EXERCISES FOR A NOVEL INTRODUCTORY COURSE IN DATA SCIENCE AND VISUALIZATION\\n                  ', '\\n                   Computational Data Sciences for Actionable Insights on Climate Extremes and Uncertainty\\n                  ', '\\n                  The New Computational and Data Sciences Undergraduate Program at George Mason University 1 Data-Intensive Science: A New Vision for Science Education\\n                  ', '\\n                   How Computational Statistics Became the Backbone of Modern Data Science\\n', '\\n                  Efficient Search for Approximate Nearest Neighbor in High Dimensional Spaces\\n                  ', '\\n                  Model selection in ecology and evolution.\\n                  ', '\\n                  Local Ground:\\xa0 A\\xa0Toolkit\\xa0Supporting\\xa0Metarepresentational Competence in\\xa0Data\\xa0Science\\n', '\\n                  Visual Exploration of Formal Requirements for Data Science Demand Analysis\\n                  ', '\\n                  Earth Data, Science Writing, and Peer Review page 1 Earth Data, Science Writing, and Peer Review in a Large General Education Oceanography Class\\n                  ', '\\n                  An Online Algorithm for Segmenting Time Series\\n                  ', '\\n                  OUTLINE AND EXERCISES FOR A NOVEL INTRODUCTORY COURSE IN DATA SCIENCE AND VISUALIZATION\\n                  ', '\\n                   Computational Data Sciences for Actionable Insights on Climate Extremes and Uncertainty\\n                  ', '\\n                  The New Computational and Data Sciences Undergraduate Program at George Mason University 1 Data-Intensive Science: A New Vision for Science Education\\n                  ']\n"
          ],
          "name": "stdout"
        }
      ]
    },
    {
      "cell_type": "code",
      "metadata": {
        "colab": {
          "base_uri": "https://localhost:8080/",
          "height": 343
        },
        "id": "vYpcuRqbiM8w",
        "outputId": "20dacf67-aba3-4b5c-f8ce-2e0139718a2b"
      },
      "source": [
        "articles_titles = pd.read_csv('titles.csv', encoding = \"ISO-8859-1\")\n",
        "articles_titles.head(10)"
      ],
      "execution_count": 42,
      "outputs": [
        {
          "output_type": "execute_result",
          "data": {
            "text/html": [
              "<div>\n",
              "<style scoped>\n",
              "    .dataframe tbody tr th:only-of-type {\n",
              "        vertical-align: middle;\n",
              "    }\n",
              "\n",
              "    .dataframe tbody tr th {\n",
              "        vertical-align: top;\n",
              "    }\n",
              "\n",
              "    .dataframe thead th {\n",
              "        text-align: right;\n",
              "    }\n",
              "</style>\n",
              "<table border=\"1\" class=\"dataframe\">\n",
              "  <thead>\n",
              "    <tr style=\"text-align: right;\">\n",
              "      <th></th>\n",
              "      <th>Heading for articles</th>\n",
              "    </tr>\n",
              "  </thead>\n",
              "  <tbody>\n",
              "    <tr>\n",
              "      <th>0</th>\n",
              "      <td>Data science and prediction</td>\n",
              "    </tr>\n",
              "    <tr>\n",
              "      <th>1</th>\n",
              "      <td>Data science and its relationship to big data ...</td>\n",
              "    </tr>\n",
              "    <tr>\n",
              "      <th>2</th>\n",
              "      <td>Data Science for Business: What you need to kn...</td>\n",
              "    </tr>\n",
              "    <tr>\n",
              "      <th>3</th>\n",
              "      <td>High-dimensional probability: An introduction ...</td>\n",
              "    </tr>\n",
              "    <tr>\n",
              "      <th>4</th>\n",
              "      <td>Computational optimal transport: With applicat...</td>\n",
              "    </tr>\n",
              "    <tr>\n",
              "      <th>5</th>\n",
              "      <td>Data science, predictive analytics, and big da...</td>\n",
              "    </tr>\n",
              "    <tr>\n",
              "      <th>6</th>\n",
              "      <td>Reproducible, interactive, scalable and extens...</td>\n",
              "    </tr>\n",
              "    <tr>\n",
              "      <th>7</th>\n",
              "      <td>The quantified self: Fundamental disruption in...</td>\n",
              "    </tr>\n",
              "    <tr>\n",
              "      <th>8</th>\n",
              "      <td>Putting the data science into journalism</td>\n",
              "    </tr>\n",
              "    <tr>\n",
              "      <th>9</th>\n",
              "      <td>Big data: astronomical or genomical?</td>\n",
              "    </tr>\n",
              "  </tbody>\n",
              "</table>\n",
              "</div>"
            ],
            "text/plain": [
              "                                Heading for articles\n",
              "0                        Data science and prediction\n",
              "1  Data science and its relationship to big data ...\n",
              "2  Data Science for Business: What you need to kn...\n",
              "3  High-dimensional probability: An introduction ...\n",
              "4  Computational optimal transport: With applicat...\n",
              "5  Data science, predictive analytics, and big da...\n",
              "6  Reproducible, interactive, scalable and extens...\n",
              "7  The quantified self: Fundamental disruption in...\n",
              "8           Putting the data science into journalism\n",
              "9               Big data: astronomical or genomical?"
            ]
          },
          "metadata": {
            "tags": []
          },
          "execution_count": 42
        }
      ]
    },
    {
      "cell_type": "markdown",
      "metadata": {
        "id": "g7UHeTmYh1n9"
      },
      "source": [
        ""
      ]
    },
    {
      "cell_type": "code",
      "metadata": {
        "id": "cO-nwQb7h05x"
      },
      "source": [
        "text = articles_titles['Heading for articles'].tolist()"
      ],
      "execution_count": 49,
      "outputs": []
    },
    {
      "cell_type": "code",
      "metadata": {
        "id": "27zlo-HNiljU"
      },
      "source": [
        "text_words =[]\n",
        "for row in text:\n",
        "  text_words.append(gensim.utils.simple_preprocess(str(row), deacc=True))"
      ],
      "execution_count": 52,
      "outputs": []
    },
    {
      "cell_type": "code",
      "metadata": {
        "id": "YuOHP31jjAH5"
      },
      "source": [
        "stopword_removed = [[word for word in simple_preprocess(str(doc)) if word not in stop_words] for doc in data_words]\n",
        "bi_grams = [bi_gram_mod[doc] for doc in stopword_removed]"
      ],
      "execution_count": 55,
      "outputs": []
    },
    {
      "cell_type": "code",
      "metadata": {
        "id": "7xHDFRl-jKA6"
      },
      "source": [
        "nlp = spacy.load('en', disable=['parser', 'ner'])\n",
        "postags=['NOUN', 'ADJ', 'VERB', 'ADV']\n",
        "lemmatization_done = []\n",
        "for sent in bi_grams:\n",
        "  doc = nlp(\" \".join(sent)) \n",
        "  lemmatization_done.append([token.lemma_ for token in doc if token.pos_ in postags])"
      ],
      "execution_count": 57,
      "outputs": []
    },
    {
      "cell_type": "code",
      "metadata": {
        "id": "XUNTpZkGjy22"
      },
      "source": [
        "lda_model = gensim.models.ldamodel.LdaModel(corpus=corpus,\n",
        "                                           id2word=id2word,\n",
        "                                           num_topics=20, \n",
        "                                           random_state=100,\n",
        "                                           update_every=1,\n",
        "                                           chunksize=100,\n",
        "                                           passes=10,\n",
        "                                           alpha='auto',\n",
        "                                           per_word_topics=True)"
      ],
      "execution_count": 85,
      "outputs": []
    },
    {
      "cell_type": "code",
      "metadata": {
        "colab": {
          "base_uri": "https://localhost:8080/"
        },
        "id": "McuY2Z2-jwzW",
        "outputId": "b8cd78eb-b811-4c8e-c9fc-b319c36561b4"
      },
      "source": [
        "print('\\nPerplexity: ', lda_model.log_perplexity(corpus)) \n",
        "coherence_model_lda = CoherenceModel(model=lda_model, texts=lemmatization_done, dictionary=id2word, coherence='c_v')\n",
        "coherence_lda = coherence_model_lda.get_coherence()\n",
        "print('\\nCoherence Score: ', coherence_lda)"
      ],
      "execution_count": 87,
      "outputs": [
        {
          "output_type": "stream",
          "text": [
            "\n",
            "Perplexity:  -6.551614975030762\n",
            "\n",
            "Coherence Score:  0.4734763747748085\n"
          ],
          "name": "stdout"
        }
      ]
    },
    {
      "cell_type": "code",
      "metadata": {
        "colab": {
          "base_uri": "https://localhost:8080/"
        },
        "id": "P2EenPgnVHgp",
        "outputId": "e2e15a6e-d4b2-4fe0-9370-02c0e48f0e33"
      },
      "source": [
        "pip install pyLDAvis"
      ],
      "execution_count": 3,
      "outputs": [
        {
          "output_type": "stream",
          "text": [
            "Collecting pyLDAvis\n",
            "\u001b[?25l  Downloading https://files.pythonhosted.org/packages/24/38/6d81eff34c84c9158d3b7c846bff978ac88b0c2665548941946d3d591158/pyLDAvis-3.2.2.tar.gz (1.7MB)\n",
            "\u001b[K     |████████████████████████████████| 1.7MB 5.4MB/s \n",
            "\u001b[?25hRequirement already satisfied: wheel>=0.23.0 in /usr/local/lib/python3.7/dist-packages (from pyLDAvis) (0.36.2)\n",
            "Requirement already satisfied: numpy>=1.9.2 in /usr/local/lib/python3.7/dist-packages (from pyLDAvis) (1.19.5)\n",
            "Requirement already satisfied: scipy>=0.18.0 in /usr/local/lib/python3.7/dist-packages (from pyLDAvis) (1.4.1)\n",
            "Requirement already satisfied: joblib>=0.8.4 in /usr/local/lib/python3.7/dist-packages (from pyLDAvis) (1.0.1)\n",
            "Requirement already satisfied: jinja2>=2.7.2 in /usr/local/lib/python3.7/dist-packages (from pyLDAvis) (2.11.3)\n",
            "Requirement already satisfied: numexpr in /usr/local/lib/python3.7/dist-packages (from pyLDAvis) (2.7.3)\n",
            "Requirement already satisfied: future in /usr/local/lib/python3.7/dist-packages (from pyLDAvis) (0.16.0)\n",
            "Collecting funcy\n",
            "  Downloading https://files.pythonhosted.org/packages/66/89/479de0afbbfb98d1c4b887936808764627300208bb771fcd823403645a36/funcy-1.15-py2.py3-none-any.whl\n",
            "Requirement already satisfied: pandas>=0.17.0 in /usr/local/lib/python3.7/dist-packages (from pyLDAvis) (1.1.5)\n",
            "Requirement already satisfied: MarkupSafe>=0.23 in /usr/local/lib/python3.7/dist-packages (from jinja2>=2.7.2->pyLDAvis) (1.1.1)\n",
            "Requirement already satisfied: python-dateutil>=2.7.3 in /usr/local/lib/python3.7/dist-packages (from pandas>=0.17.0->pyLDAvis) (2.8.1)\n",
            "Requirement already satisfied: pytz>=2017.2 in /usr/local/lib/python3.7/dist-packages (from pandas>=0.17.0->pyLDAvis) (2018.9)\n",
            "Requirement already satisfied: six>=1.5 in /usr/local/lib/python3.7/dist-packages (from python-dateutil>=2.7.3->pandas>=0.17.0->pyLDAvis) (1.15.0)\n",
            "Building wheels for collected packages: pyLDAvis\n",
            "  Building wheel for pyLDAvis (setup.py) ... \u001b[?25l\u001b[?25hdone\n",
            "  Created wheel for pyLDAvis: filename=pyLDAvis-3.2.2-py2.py3-none-any.whl size=135593 sha256=d6b0fa127880431081a7820d893c39f483970c4e236c56c74191dd4a0e66f903\n",
            "  Stored in directory: /root/.cache/pip/wheels/74/df/b6/97234c8446a43be05c9a8687ee0db1f1b5ade5f27729187eae\n",
            "Successfully built pyLDAvis\n",
            "Installing collected packages: funcy, pyLDAvis\n",
            "Successfully installed funcy-1.15 pyLDAvis-3.2.2\n"
          ],
          "name": "stdout"
        }
      ]
    },
    {
      "cell_type": "code",
      "metadata": {
        "colab": {
          "base_uri": "https://localhost:8080/"
        },
        "id": "3Jyq87LKVMng",
        "outputId": "2874f552-f35f-4b33-ff0a-be0ec604ebc7"
      },
      "source": [
        "import nltk; nltk.download('stopwords')\n",
        "import re\n",
        "import numpy as np\n",
        "import pandas as pd\n",
        "from pprint import pprint\n",
        "import gensim\n",
        "import gensim.corpora as corpora\n",
        "from gensim.utils import simple_preprocess\n",
        "from gensim.models import CoherenceModel\n",
        "import spacy\n",
        "import pyLDAvis\n",
        "import pyLDAvis.gensim  \n",
        "import matplotlib.pyplot as plt\n",
        "%matplotlib inline\n",
        "import logging\n",
        "logging.basicConfig(format='%(asctime)s : %(levelname)s : %(message)s', level=logging.ERROR)\n",
        "import warnings\n",
        "warnings.filterwarnings(\"ignore\",category=DeprecationWarning)"
      ],
      "execution_count": 15,
      "outputs": [
        {
          "output_type": "stream",
          "text": [
            "[nltk_data] Downloading package stopwords to /root/nltk_data...\n",
            "[nltk_data]   Package stopwords is already up-to-date!\n"
          ],
          "name": "stdout"
        }
      ]
    },
    {
      "cell_type": "code",
      "metadata": {
        "colab": {
          "base_uri": "https://localhost:8080/"
        },
        "id": "KBM2uYFXVRU9",
        "outputId": "2d7a7ef2-da43-4469-831c-7f57c8fe45c0"
      },
      "source": [
        "from nltk.corpus import stopwords\n",
        "stop_wrds = stopwords.words('english')\n",
        "stop_wrds.extend(['from', 'subject', 're', 'edu', 'use'])\n",
        "def sent_words(sentences):\n",
        "    for sentence in sentences:\n",
        "        yield(gensim.utils.simple_preprocess(str(sentence), deacc=True))  \n",
        "text_words = list(sent_words(titles))\n",
        "bi_gram = gensim.models.Phrases(text_words, min_count=5, threshold=100)\n",
        "bi_gram_mod = gensim.models.phrases.Phraser(bi_gram)\n",
        "\n",
        "print(text_words[:1])\n",
        "def stopwords_removed(texts):\n",
        "    return [[word for word in simple_preprocess(str(doc)) if word not in stop_wrds] for doc in texts]\n",
        "def lemmatization(texts, allowed_postags=['NOUN', 'ADJ', 'VERB', 'ADV']):\n",
        "    \"\"\"https://spacy.io/api/annotation\"\"\"\n",
        "    texts_out = []\n",
        "    for done in texts:\n",
        "        doc = nlp(\" \".join(done)) \n",
        "        texts_out.append([token.lemma_ for token in doc if token.pos_ in allowed_postags])\n",
        "    return texts_out\n",
        "def bigrams_m(texts):\n",
        "    return [bi_gram_mod[doc] for doc in texts]\n",
        "data_nostops = stopwords_removed(text_words)\n",
        "data_bi_grams = bigrams_m(data_nostops)\n",
        "nlp = spacy.load('en', disable=['parser', 'ner'])\n",
        "lemmatized_data = lemmatization(data_bi_grams, allowed_postags=['NOUN', 'ADJ', 'VERB', 'ADV'])\n",
        "print(lemmatized_data[:1])\n",
        "id2word = corpora.Dictionary(lemmatized_data)\n",
        "texts = lemmatized_data\n",
        "corpus = [id2word.doc2bow(text) for text in texts]\n",
        "print(corpus[:1])\n",
        "lda_model = gensim.models.ldamodel.LdaModel(corpus=corpus,\n",
        "                                           id2word=id2word,\n",
        "                                           num_topics=20, \n",
        "                                           random_state=100,\n",
        "                                           update_every=1,\n",
        "                                           chunksize=100,\n",
        "                                           passes=10,\n",
        "                                           alpha='auto',\n",
        "                                           per_word_topics=True)\n",
        "pprint(lda_model.print_topics())\n",
        "doc_lda = lda_model[corpus]\n"
      ],
      "execution_count": 17,
      "outputs": [
        {
          "output_type": "stream",
          "text": [
            "[['how', 'computational', 'statistics', 'became', 'the', 'backbone', 'of', 'modern', 'data', 'science']]\n",
            "[['computational', 'statistic', 'become', 'backbone', 'modern', 'datum', 'science']]\n",
            "[[(0, 1), (1, 1), (2, 1), (3, 1), (4, 1), (5, 1), (6, 1)]]\n",
            "[(0,\n",
            "  '0.024*\"new\" + 0.024*\"science\" + 0.021*\"education\" + 0.021*\"approximate\" + '\n",
            "  '0.021*\"space\" + 0.021*\"search\" + 0.021*\"neighbor\" + 0.021*\"near\" + '\n",
            "  '0.021*\"vision\" + 0.021*\"efficient\"'),\n",
            " (1,\n",
            "  '0.022*\"neighbor\" + 0.022*\"search\" + 0.022*\"efficient\" + 0.022*\"space\" + '\n",
            "  '0.022*\"approximate\" + 0.022*\"near\" + 0.022*\"segment\" + 0.022*\"dimensional\" '\n",
            "  '+ 0.022*\"high\" + 0.018*\"writing\"'),\n",
            " (2,\n",
            "  '0.123*\"science\" + 0.123*\"writing\" + 0.123*\"review\" + 0.123*\"peer\" + '\n",
            "  '0.062*\"education\" + 0.062*\"datum\" + 0.062*\"large\" + 0.062*\"class\" + '\n",
            "  '0.062*\"general\" + 0.062*\"page\"'),\n",
            " (3,\n",
            "  '0.022*\"toolkit\" + 0.022*\"competence\" + 0.022*\"datum\" + 0.022*\"ground\" + '\n",
            "  '0.022*\"local\" + 0.022*\"support\" + 0.022*\"science\" + 0.018*\"peer\" + '\n",
            "  '0.018*\"segment\" + 0.018*\"large\"'),\n",
            " (4,\n",
            "  '0.021*\"introductory\" + 0.021*\"selection\" + 0.021*\"model\" + '\n",
            "  '0.021*\"evolution\" + 0.021*\"exercise\" + 0.021*\"novel\" + '\n",
            "  '0.021*\"visualization\" + 0.021*\"course\" + 0.021*\"science\" + 0.021*\"datum\"'),\n",
            " (5,\n",
            "  '0.307*\"evolution\" + 0.307*\"model\" + 0.307*\"selection\" + 0.002*\"uncertainty\" '\n",
            "  '+ 0.002*\"extreme\" + 0.002*\"insight\" + 0.002*\"actionable\" + 0.002*\"climate\" '\n",
            "  '+ 0.002*\"review\" + 0.002*\"education\"'),\n",
            " (6,\n",
            "  '0.038*\"datum\" + 0.038*\"science\" + 0.033*\"analysis\" + 0.033*\"formal\" + '\n",
            "  '0.033*\"visual\" + 0.033*\"requirement\" + 0.033*\"exploration\" + 0.033*\"demand\" '\n",
            "  '+ 0.021*\"become\" + 0.021*\"backbone\"'),\n",
            " (7,\n",
            "  '0.242*\"science\" + 0.242*\"new\" + 0.121*\"education\" + 0.121*\"computational\" + '\n",
            "  '0.121*\"vision\" + 0.121*\"intensive\" + 0.001*\"writing\" + 0.001*\"peer\" + '\n",
            "  '0.001*\"datum\" + 0.001*\"review\"'),\n",
            " (8,\n",
            "  '0.122*\"science\" + 0.122*\"datum\" + 0.121*\"demand\" + 0.121*\"analysis\" + '\n",
            "  '0.121*\"formal\" + 0.121*\"visual\" + 0.121*\"requirement\" + 0.121*\"exploration\" '\n",
            "  '+ 0.001*\"segment\" + 0.001*\"course\"'),\n",
            " (9,\n",
            "  '0.021*\"climate\" + 0.021*\"actionable\" + 0.021*\"local\" + 0.021*\"ground\" + '\n",
            "  '0.021*\"selection\" + 0.021*\"model\" + 0.021*\"evolution\" + 0.021*\"toolkit\" + '\n",
            "  '0.021*\"extreme\" + 0.021*\"support\"'),\n",
            " (10,\n",
            "  '0.021*\"climate\" + 0.021*\"actionable\" + 0.021*\"space\" + 0.021*\"insight\" + '\n",
            "  '0.021*\"formal\" + 0.021*\"extreme\" + 0.021*\"analysis\" + 0.021*\"requirement\" + '\n",
            "  '0.021*\"neighbor\" + 0.021*\"visual\"'),\n",
            " (11,\n",
            "  '0.793*\"segment\" + 0.004*\"oceanography\" + 0.004*\"review\" + 0.004*\"peer\" + '\n",
            "  '0.004*\"page\" + 0.004*\"general\" + 0.004*\"large\" + 0.004*\"class\" + '\n",
            "  '0.004*\"earth\" + 0.004*\"exercise\"'),\n",
            " (12,\n",
            "  '0.138*\"science\" + 0.138*\"datum\" + 0.138*\"exercise\" + 0.138*\"introductory\" + '\n",
            "  '0.138*\"visualization\" + 0.138*\"course\" + 0.138*\"novel\" + 0.001*\"demand\" + '\n",
            "  '0.001*\"selection\" + 0.001*\"model\"'),\n",
            " (13,\n",
            "  '0.138*\"toolkit\" + 0.138*\"competence\" + 0.138*\"datum\" + 0.138*\"ground\" + '\n",
            "  '0.138*\"science\" + 0.138*\"local\" + 0.138*\"support\" + 0.001*\"segment\" + '\n",
            "  '0.001*\"peer\" + 0.001*\"large\"'),\n",
            " (14,\n",
            "  '0.138*\"datum\" + 0.138*\"science\" + 0.138*\"statistic\" + 0.138*\"backbone\" + '\n",
            "  '0.138*\"become\" + 0.138*\"computational\" + 0.138*\"modern\" + 0.001*\"course\" + '\n",
            "  '0.001*\"exercise\" + 0.001*\"visualization\"'),\n",
            " (15,\n",
            "  '0.024*\"datum\" + 0.024*\"science\" + 0.021*\"evolution\" + 0.021*\"selection\" + '\n",
            "  '0.021*\"exercise\" + 0.021*\"introductory\" + 0.021*\"novel\" + '\n",
            "  '0.021*\"visualization\" + 0.021*\"model\" + 0.021*\"requirement\"'),\n",
            " (16,\n",
            "  '0.038*\"science\" + 0.032*\"datum\" + 0.026*\"peer\" + 0.026*\"review\" + '\n",
            "  '0.026*\"writing\" + 0.021*\"statistic\" + 0.021*\"computational\" + '\n",
            "  '0.021*\"become\" + 0.021*\"modern\" + 0.021*\"backbone\"'),\n",
            " (17,\n",
            "  '0.019*\"oceanography\" + 0.019*\"general\" + 0.019*\"review\" + 0.019*\"peer\" + '\n",
            "  '0.019*\"page\" + 0.019*\"segment\" + 0.019*\"large\" + 0.019*\"class\" + '\n",
            "  '0.019*\"earth\" + 0.019*\"exercise\"'),\n",
            " (18,\n",
            "  '0.121*\"efficient\" + 0.121*\"dimensional\" + 0.121*\"space\" + 0.121*\"search\" + '\n",
            "  '0.121*\"neighbor\" + 0.121*\"high\" + 0.121*\"approximate\" + 0.121*\"near\" + '\n",
            "  '0.001*\"become\" + 0.001*\"backbone\"'),\n",
            " (19,\n",
            "  '0.191*\"uncertainty\" + 0.191*\"actionable\" + 0.191*\"climate\" + '\n",
            "  '0.191*\"extreme\" + 0.191*\"insight\" + 0.001*\"become\" + 0.001*\"backbone\" + '\n",
            "  '0.001*\"datum\" + 0.001*\"modern\" + 0.001*\"computational\"')]\n"
          ],
          "name": "stdout"
        }
      ]
    },
    {
      "cell_type": "code",
      "metadata": {
        "colab": {
          "base_uri": "https://localhost:8080/",
          "height": 861
        },
        "id": "MpTIKjIhgI8P",
        "outputId": "6a138531-97bf-4b8b-c97e-5de9985a32ba"
      },
      "source": [
        "pyLDAvis.enable_notebook()\n",
        "vis_ = pyLDAvis.gensim.prepare(lda_model, corpus, id2word)\n",
        "vis_"
      ],
      "execution_count": 91,
      "outputs": [
        {
          "output_type": "execute_result",
          "data": {
            "text/html": [
              "\n",
              "<link rel=\"stylesheet\" type=\"text/css\" href=\"https://cdn.jsdelivr.net/gh/bmabey/pyLDAvis@3.2.2/pyLDAvis/js/ldavis.v1.0.0.css\">\n",
              "\n",
              "\n",
              "<div id=\"ldavis_el581402576316674088821689692\"></div>\n",
              "<script type=\"text/javascript\">\n",
              "\n",
              "var ldavis_el581402576316674088821689692_data = {\"mdsDat\": {\"x\": [-0.1732673327898872, -0.16216561149548867, -0.09872094014653354, 0.03547607010030952, -0.11799195442468113, -0.020079189971384873, -0.13114865749508128, 0.039694402165161465, 0.13023950569318662, 0.06523261245543481, -0.05205337060283144, -0.07850464993717224, -0.029024003481402376, 0.06127251089673371, 0.10959375142406011, 0.10223963741429867, 0.0967215774699431, 0.08820405308029339, 0.07870328152197852, 0.05557830812306273], \"y\": [-0.034105629545422976, 0.018046732952843123, -0.012368640632457224, 0.1861439437670944, -0.0472158685494837, 0.04288518428218445, 0.0507323247179077, -0.15494100699381538, -0.0077921627051014365, -0.016786868585066356, -0.010298237057455625, 0.016363890872644973, -0.022331664701213144, 0.008677306467699293, 0.0076366590464379824, 0.02606529087985379, -0.02821245963735737, -0.01713412765449543, 5.4767500045966174e-05, -0.005419434424842678], \"topics\": [1, 2, 3, 4, 5, 6, 7, 8, 9, 10, 11, 12, 13, 14, 15, 16, 17, 18, 19, 20], \"cluster\": [1, 1, 1, 1, 1, 1, 1, 1, 1, 1, 1, 1, 1, 1, 1, 1, 1, 1, 1, 1], \"Freq\": [11.542699369125167, 10.406014124804374, 7.154117688040474, 6.64002557976352, 6.360105797852178, 6.304767641317683, 6.230833171632786, 6.226442331757482, 4.713810969388596, 4.5099155076567214, 4.442711267032014, 4.408751092883141, 4.18976520146908, 3.7049093980790158, 3.248397288231037, 2.831583372514808, 2.6188718144117926, 2.2059033252225553, 1.730565656924313, 0.5298094018932622]}, \"tinfo\": {\"Term\": [\"science\", \"datum\", \"peer\", \"network\", \"social\", \"selection\", \"study\", \"people\", \"model\", \"analysis\", \"new\", \"statistic\", \"discovery\", \"performance\", \"technology\", \"knowledge\", \"structure\", \"perspective\", \"version\", \"matrix\", \"sensor\", \"evolution\", \"editorial\", \"database\", \"mining\", \"large\", \"design\", \"foundation\", \"methodology\", \"expression\", \"insight\", \"statistic\", \"computing\", \"example\", \"parallel\", \"prepare\", \"think\", \"opportunity\", \"research\", \"distribute\", \"future\", \"intelligence\", \"recent\", \"completion\", \"noise\", \"precursor\", \"second\", \"teaching\", \"backbone\", \"become\", \"modern\", \"competence\", \"ground\", \"local\", \"toolkit\", \"actionable\", \"extreme\", \"uncertainty\", \"matrix\", \"support\", \"datum\", \"science\", \"development\", \"student\", \"editorial\", \"climate\", \"analytic\", \"big\", \"course\", \"introductory\", \"alternative\", \"analyze\", \"imputation\", \"incomplete\", \"multiple\", \"political\", \"introduction\", \"article\", \"drive\", \"original\", \"relationship\", \"closing\", \"thought\", \"predict\", \"strength\", \"tie\", \"demand\", \"exploration\", \"formal\", \"intensive\", \"new\", \"medium\", \"make\", \"decision\", \"visual\", \"vision\", \"requirement\", \"education\", \"analysis\", \"structure\", \"science\", \"datum\", \"survey\", \"social\", \"big\", \"computational\", \"peer\", \"review\", \"writing\", \"rough\", \"replication\", \"unstructured\", \"infrastructure\", \"workshop\", \"class\", \"earth\", \"general\", \"oceanography\", \"page\", \"large\", \"search\", \"set\", \"automation\", \"cognitive\", \"requirement\", \"education\", \"network\", \"big\", \"science\", \"datum\", \"interval\", \"maintain\", \"temporal\", \"process\", \"basic\", \"computation\", \"analysis\", \"structure\", \"survey\", \"database\", \"discovery\", \"knowledge\", \"expression\", \"sampling\", \"audio\", \"degradation\", \"investigate\", \"lifetime\", \"protocol\", \"execution\", \"plan\", \"indexing\", \"path\", \"query\", \"regular\", \"affect\", \"recognition\", \"spontaneous\", \"technology\", \"database\", \"mining\", \"system\", \"method\", \"center\", \"vision\", \"visual\", \"study\", \"performance\", \"perspective\", \"survey\", \"interval\", \"maintain\", \"science\", \"datum\", \"natural\", \"technique\", \"automate\", \"deep\", \"endeavor\", \"feature\", \"synthesis\", \"web\", \"cs\", \"curriculum\", \"non\", \"parallelism\", \"program\", \"teach\", \"industrial\", \"city\", \"cluster\", \"validation\", \"student\", \"analytic\", \"development\", \"selection\", \"big\", \"datum\", \"science\", \"interval\", \"maintain\", \"temporal\", \"process\", \"basic\", \"analysis\", \"structure\", \"survey\", \"database\", \"discovery\", \"making\", \"detection\", \"outlier\", \"environment\", \"grid\", \"transfer\", \"exercise\", \"novel\", \"visualization\", \"false\", \"map\", \"neuroimaging\", \"rate\", \"thresholde\", \"methodology\", \"high\", \"management\", \"use\", \"statistical\", \"functional\", \"decision\", \"introductory\", \"discovery\", \"course\", \"computational\", \"performance\", \"survey\", \"datum\", \"interval\", \"maintain\", \"science\", \"analysis\", \"foundation\", \"algorithm\", \"develop\", \"standard\", \"agricultural\", \"productivity\", \"noisy\", \"reconstruct\", \"call\", \"telephone\", \"data\", \"cluster\", \"statistical\", \"center\", \"automation\", \"cognitive\", \"climate\", \"analysis\", \"perspective\", \"survey\", \"science\", \"datum\", \"interval\", \"maintain\", \"temporal\", \"process\", \"basic\", \"computation\", \"kit\", \"sparse\", \"city\", \"industrial\", \"development\", \"structure\", \"database\", \"discovery\", \"knowledge\", \"mining\", \"people\", \"empirical\", \"simple\", \"throughput\", \"dynamic\", \"learning\", \"direct\", \"foreign\", \"division\", \"abstract\", \"binding\", \"syntax\", \"variable\", \"induction\", \"dichotomy\", \"emerge\", \"viewpoint\", \"segment\", \"model\", \"approach\", \"investment\", \"inference\", \"validation\", \"functional\", \"structure\", \"new\", \"interval\", \"maintain\", \"temporal\", \"process\", \"science\", \"datum\", \"analysis\", \"survey\", \"chain\", \"markov\", \"probabilistic\", \"defect\", \"prediction\", \"imbalanced\", \"issue\", \"special\", \"family\", \"inspire\", \"probe\", \"design\", \"learn\", \"software\", \"data\", \"inference\", \"use\", \"method\", \"set\", \"technology\", \"editorial\", \"model\", \"interval\", \"maintain\", \"temporal\", \"process\", \"basic\", \"computation\", \"kit\", \"sparse\", \"analysis\", \"datum\", \"structure\", \"survey\", \"database\", \"discovery\", \"knowledge\", \"mining\", \"health\", \"illusion\", \"psychological\", \"dataset\", \"scale\", \"approximate\", \"dimensional\", \"efficient\", \"near\", \"neighbor\", \"space\", \"version\", \"evolution\", \"high\", \"management\", \"search\", \"social\", \"selection\", \"model\", \"perspective\", \"interval\", \"maintain\", \"temporal\", \"process\", \"basic\", \"computation\", \"kit\", \"sparse\", \"geometry\", \"herd\", \"science\", \"analysis\", \"datum\", \"structure\", \"survey\", \"database\", \"discovery\", \"knowledge\", \"mining\", \"algorithm\", \"laboratory\", \"business\", \"comment\", \"editor\", \"journal\", \"global\", \"optimization\", \"stochastic\", \"behavior\", \"investor\", \"various\", \"okcupid\", \"investment\", \"editorial\", \"course\", \"performance\", \"statistic\", \"science\", \"datum\", \"interval\", \"maintain\", \"temporal\", \"process\", \"basic\", \"computation\", \"kit\", \"sparse\", \"geometry\", \"herd\", \"selfish\", \"analysis\", \"structure\", \"survey\", \"database\", \"discovery\", \"knowledge\", \"mining\", \"algorithm\", \"cluster\", \"false\", \"functional\", \"application\", \"interface\", \"optimisation\", \"diversity\", \"gender\", \"let\", \"priority\", \"right\", \"start\", \"software\", \"make\", \"support\", \"discovery\", \"perspective\", \"science\", \"datum\", \"interval\", \"maintain\", \"temporal\", \"process\", \"basic\", \"computation\", \"kit\", \"sparse\", \"geometry\", \"herd\", \"selfish\", \"monitor\", \"volcano\", \"yield\", \"analysis\", \"structure\", \"survey\", \"database\", \"knowledge\", \"mining\", \"algorithm\", \"cluster\", \"false\", \"functional\", \"map\", \"neuroimaging\", \"rate\", \"statistical\", \"optimal\", \"rational\", \"task\", \"ethic\", \"hermeneutic\", \"information\", \"mass\", \"seek\", \"aspiration\", \"happiness\", \"income\", \"individual\", \"role\", \"selection\", \"medium\", \"datum\", \"interval\", \"maintain\", \"temporal\", \"process\", \"basic\", \"computation\", \"kit\", \"sparse\", \"geometry\", \"herd\", \"selfish\", \"monitor\", \"volcano\", \"yield\", \"science\", \"analysis\", \"structure\", \"survey\", \"database\", \"discovery\", \"knowledge\", \"mining\", \"algorithm\", \"cluster\", \"false\", \"functional\", \"map\", \"neuroimaging\", \"academic\", \"classroom\", \"motivational\", \"regulate\", \"self\", \"round\", \"geography\", \"volunteer\", \"world\", \"identifier\", \"object\", \"publish\", \"scientific\", \"sensor\", \"learn\", \"performance\", \"interval\", \"maintain\", \"temporal\", \"process\", \"basic\", \"computation\", \"kit\", \"sparse\", \"geometry\", \"herd\", \"selfish\", \"monitor\", \"volcano\", \"yield\", \"datum\", \"analysis\", \"structure\", \"survey\", \"database\", \"discovery\", \"knowledge\", \"mining\", \"algorithm\", \"cluster\", \"false\", \"functional\", \"map\", \"neuroimaging\", \"implementation\", \"novice\", \"qualitative\", \"researcher\", \"biology\", \"decode\", \"life\", \"study\", \"design\", \"approach\", \"methodology\", \"system\", \"new\", \"interval\", \"maintain\", \"temporal\", \"process\", \"basic\", \"computation\", \"kit\", \"sparse\", \"geometry\", \"herd\", \"selfish\", \"monitor\", \"volcano\", \"yield\", \"community\", \"complex\", \"random\", \"analysis\", \"datum\", \"structure\", \"survey\", \"database\", \"discovery\", \"knowledge\", \"mining\", \"algorithm\", \"cluster\", \"false\", \"functional\", \"map\", \"neuroimaging\", \"rate\", \"statistical\", \"thresholde\", \"formation\", \"group\", \"growth\", \"membership\", \"knowledge\", \"evolution\", \"database\", \"mining\", \"large\", \"discovery\", \"network\", \"social\", \"interval\", \"maintain\", \"temporal\", \"process\", \"basic\", \"computation\", \"kit\", \"sparse\", \"geometry\", \"herd\", \"selfish\", \"monitor\", \"volcano\", \"yield\", \"community\", \"complex\", \"random\", \"reveal\", \"analysis\", \"datum\", \"structure\", \"survey\", \"algorithm\", \"cluster\", \"false\", \"functional\", \"map\", \"neuroimaging\", \"rate\", \"statistical\", \"thresholde\", \"use\", \"decision\", \"monitor\", \"volcano\", \"yield\", \"community\", \"complex\", \"random\", \"reveal\", \"network\", \"sensor\", \"structure\", \"interval\", \"maintain\", \"temporal\", \"process\", \"basic\", \"computation\", \"kit\", \"sparse\", \"geometry\", \"herd\", \"selfish\", \"formation\", \"group\", \"growth\", \"membership\", \"implementation\", \"novice\", \"qualitative\", \"researcher\", \"biology\", \"analysis\", \"datum\", \"survey\", \"database\", \"discovery\", \"knowledge\", \"mining\", \"algorithm\", \"cluster\", \"false\", \"functional\", \"map\", \"neuroimaging\", \"rate\", \"statistical\", \"thresholde\", \"use\", \"basic\", \"computation\", \"kit\", \"sparse\", \"geometry\", \"herd\", \"selfish\", \"version\", \"matrix\", \"interval\", \"maintain\", \"temporal\", \"process\", \"monitor\", \"volcano\", \"yield\", \"community\", \"complex\", \"random\", \"reveal\", \"formation\", \"group\", \"growth\", \"membership\", \"implementation\", \"novice\", \"qualitative\", \"researcher\", \"biology\", \"decode\", \"analysis\", \"datum\", \"structure\", \"survey\", \"database\", \"discovery\", \"knowledge\", \"mining\", \"algorithm\", \"cluster\", \"false\", \"functional\", \"map\", \"neuroimaging\", \"rate\", \"statistical\", \"thresholde\", \"use\", \"interval\", \"maintain\", \"temporal\", \"process\", \"knowledge\", \"analysis\", \"social\", \"basic\", \"computation\", \"kit\", \"sparse\", \"geometry\", \"herd\", \"selfish\", \"monitor\", \"volcano\", \"yield\", \"community\", \"complex\", \"random\", \"reveal\", \"formation\", \"group\", \"growth\", \"membership\", \"implementation\", \"novice\", \"qualitative\", \"researcher\", \"biology\", \"datum\", \"structure\", \"survey\", \"database\", \"discovery\", \"mining\", \"algorithm\", \"cluster\", \"false\", \"functional\", \"map\", \"neuroimaging\", \"rate\", \"statistical\", \"thresholde\", \"use\", \"decision\", \"making\", \"rough\", \"set\", \"empirical\", \"model\", \"simple\", \"interval\", \"maintain\", \"temporal\", \"process\", \"basic\", \"computation\", \"kit\", \"sparse\", \"geometry\", \"herd\", \"selfish\", \"monitor\", \"volcano\", \"yield\", \"community\", \"complex\", \"random\", \"reveal\", \"formation\", \"group\", \"growth\", \"membership\", \"implementation\", \"novice\", \"qualitative\", \"researcher\", \"biology\", \"decode\", \"life\", \"geography\", \"analysis\", \"datum\", \"structure\", \"survey\", \"database\", \"discovery\", \"knowledge\", \"mining\", \"algorithm\", \"cluster\", \"false\", \"functional\", \"map\", \"neuroimaging\", \"rate\", \"statistical\", \"thresholde\", \"use\", \"decision\", \"making\", \"rough\", \"set\", \"empirical\", \"model\", \"simple\", \"throughput\", \"validation\"], \"Freq\": [27.0, 27.0, 3.0, 2.0, 2.0, 2.0, 2.0, 2.0, 3.0, 2.0, 3.0, 3.0, 2.0, 3.0, 2.0, 1.0, 2.0, 3.0, 1.0, 1.0, 1.0, 1.0, 2.0, 1.0, 1.0, 1.0, 1.0, 1.0, 1.0, 1.0, 1.5533175459050887, 2.3110333750287717, 0.7956016155166279, 0.7956016155166279, 0.7956016155166279, 0.7956016155166279, 0.7956016155166279, 0.7956016155166279, 0.7956016155166279, 0.7956016155166279, 0.7956016155166279, 0.7956016155166279, 0.7956016155166279, 0.7956016155166279, 0.7956016155166279, 0.7956016155166279, 0.7956016155166279, 0.7956016155166279, 0.7956016155166279, 0.7956016155166279, 0.7956016155166279, 0.7956016155166279, 0.7956016155166279, 0.7956016155166279, 0.7956016155166279, 0.7956016155166279, 0.7956016155166279, 0.7956016155166279, 0.7956016155166279, 0.7956016155166279, 6.099613026971076, 5.341896488993946, 0.7956016155166279, 0.7956016155166279, 0.7956016155166279, 0.7956016155166279, 0.7956016155166279, 0.7956016155166279, 0.7956016155166279, 0.7956016155166279, 0.7731200916428314, 0.7731200916428314, 0.7731200916428314, 0.7731200916428314, 0.7731200916428314, 0.7731200916428314, 0.7731200916428314, 0.7731200916428314, 0.7731200916428314, 0.7731200916428314, 0.7731200916428314, 0.7731200916428314, 0.7731200916428314, 0.7731200916428314, 0.7731200916428314, 0.7731200916428314, 0.7731200916428314, 0.7731200916428314, 0.7731200916428314, 0.7731200916428314, 1.5094249017010923, 0.7731200916428314, 0.7731200916428314, 0.7731200916428314, 0.7731200916428314, 0.7731200916428314, 0.7731200916428314, 0.7731200916428314, 0.7731200916428314, 0.7731200916428314, 7.3088460573908085, 5.145945730928428, 0.7731200916428314, 0.7731200916428314, 0.7731200916428314, 0.7731200916428314, 2.799351242023319, 1.4169555406049048, 1.4169555406049048, 0.7257576898956977, 0.7257576898956977, 0.7257576898956977, 0.7257576898956977, 0.7257576898956977, 0.7257576898956977, 0.7257576898956977, 0.7257576898956977, 0.7257576898956977, 0.7257576898956977, 0.7257576898956977, 0.7257576898956977, 0.7257576898956977, 0.7257576898956977, 0.7257576898956977, 0.7257576898956977, 0.7257576898956977, 0.7257576898956977, 0.7257576898956977, 2.799351242023319, 2.1081534540776055, 0.03455989018182933, 0.03455989018182933, 0.03455989018182933, 0.03455989018182933, 0.03455989018182933, 0.03455989018182933, 0.03455989018182933, 0.03455989018182933, 0.03455989018182933, 0.03455989018182933, 0.03455989018182933, 0.03455989018182933, 1.3713962520109089, 0.70242248332949, 0.70242248332949, 0.70242248332949, 0.70242248332949, 0.70242248332949, 0.70242248332949, 0.70242248332949, 0.70242248332949, 0.7024223668228227, 0.7024223668228227, 0.7024223668228227, 0.7024223668228227, 0.7024223668228227, 0.7024223668228227, 0.7024223668228227, 1.3713962520109089, 0.70242248332949, 0.70242248332949, 0.70242248332949, 0.7024223668228227, 0.70242248332949, 0.70242248332949, 0.7024223668228227, 0.70242248332949, 0.70242248332949, 0.70242248332949, 0.7024223668228227, 0.033448689162237616, 0.033448689162237616, 0.70242248332949, 0.7024223668228227, 0.687431609933335, 0.687431609933335, 0.687431609933335, 0.687431609933335, 0.687431609933335, 0.687431609933335, 0.687431609933335, 0.687431609933335, 0.687431609933335, 0.687431609933335, 0.687431609933335, 0.687431609933335, 0.687431609933335, 0.687431609933335, 0.684857667523123, 0.6846271119185491, 0.687431609933335, 0.687431609933335, 0.687431609933335, 0.687431609933335, 0.6849392435865033, 0.687431609933335, 0.687431609933335, 3.3120133937437863, 2.0026198191292925, 0.03273484006283211, 0.03273484006283211, 0.03273484006283211, 0.03273484006283211, 0.03273484006283211, 0.03273484006283211, 0.03273484006283211, 0.03273484006283211, 0.03273484006283211, 0.03273484006283211, 0.6967649808984969, 0.6967649808984969, 0.6967649808984969, 0.6967649808984969, 0.6967649808984969, 0.6967649808984969, 0.6967649808984969, 0.6967649808984969, 0.6967649808984969, 0.6967648702743048, 0.6967648702743048, 0.6967648702743048, 0.6967648702743048, 0.6967648702743048, 0.6967649808984969, 0.6967649808984969, 0.6967649808984969, 0.6967648702743048, 0.6967648702743048, 0.6967648702743048, 0.6967649808984969, 0.6967649808984969, 0.6967648702743048, 0.6967649808984969, 0.6967649808984969, 0.6967649808984969, 0.6967649808984969, 1.3603506690905753, 0.03317928579240633, 0.03317928579240633, 0.6967649808984969, 0.03317928579240633, 1.3098856254772775, 0.6709170076846551, 0.6709170076846551, 0.6709170076846551, 0.6709170076846551, 0.6709170076846551, 0.6709170076846551, 0.6709170076846551, 0.6709170076846551, 0.6709170076846551, 0.6709170076846551, 0.6709170076846551, 0.6709170076846551, 0.6709170076846551, 0.6709170076846551, 0.6709170076846551, 0.6709170076846551, 0.6709170076846551, 0.6709170076846551, 0.6709170076846551, 3.3001216967232367, 3.260189817146862, 0.031948430889631126, 0.031948430889631126, 0.031948430889631126, 0.031948430889631126, 0.031948430889631126, 0.031948430889631126, 0.031948430889631126, 0.031948430889631126, 0.034685580888889025, 0.03446061340014623, 0.03438100972975826, 0.031948430889631126, 0.031948430889631126, 0.031948430889631126, 0.031948430889631126, 0.031948430889631126, 1.9551027675222128, 0.673068179300666, 0.673068179300666, 0.673068179300666, 0.673068179300666, 0.673068179300666, 0.673068179300666, 0.673068179300666, 0.673068179300666, 0.673068179300666, 0.673068179300666, 0.673068179300666, 0.673068179300666, 0.673068179300666, 0.673068179300666, 0.673068179300666, 0.673068179300666, 0.673068179300666, 1.3140855007239112, 0.673068179300666, 0.673068179300666, 0.673068179300666, 0.673068179300666, 0.673068179300666, 0.673068179300666, 0.673068179300666, 0.03205086811959764, 0.03205086811959764, 0.03205086811959764, 0.03205086811959764, 0.673068179300666, 0.673068179300666, 0.03205086811959764, 0.03205086811959764, 0.6343443184320886, 0.6343443184320886, 0.6343443184320886, 0.6343443184320886, 0.6343443184320886, 0.6343443184320886, 0.6343443184320886, 0.6343443184320886, 0.6343443184320886, 0.6343443184320886, 0.6343443184320886, 0.6343443184320886, 0.6343443184320886, 0.6343443184320886, 0.6343443184320886, 0.6343443184320886, 0.6343443184320886, 0.6343443184320886, 0.6343443184320886, 0.6343443184320886, 0.6343443184320886, 0.6343443184320886, 0.03020687316784285, 0.03020687316784285, 0.03020687316784285, 0.03020687316784285, 0.03020687316784285, 0.03020687316784285, 0.03020687316784285, 0.03020687316784285, 0.03020687316784285, 0.03020687316784285, 0.03020687316784285, 0.03020687316784285, 0.03020687316784285, 0.03020687316784285, 0.03020687316784285, 0.03020687316784285, 0.6238821324606922, 0.6238821324606922, 0.6238821324606922, 0.6238821324606922, 0.6238821324606922, 0.6238821324606922, 0.6238821324606922, 0.6238821324606922, 0.6238821324606922, 0.6238821324606922, 0.6238821324606922, 0.6238821324606922, 0.6238821324606922, 0.6238821324606922, 0.6238821324606922, 0.6238821324606922, 0.6238821324606922, 0.6238821324606922, 0.6238821324606922, 0.6238821324606922, 0.029708675211667812, 0.029708675211667812, 0.029708675211667812, 0.029708675211667812, 0.029708675211667812, 0.029708675211667812, 0.029708675211667812, 0.029708675211667812, 0.029708675211667812, 0.029708675211667812, 0.6238821324606922, 0.029708675211667812, 0.029708675211667812, 0.029708675211667812, 0.029708675211667812, 0.029708675211667812, 0.029708675211667812, 0.029708675211667812, 0.029708675211667812, 0.029708675211667812, 0.614585389566028, 0.614585389566028, 0.614585389566028, 0.614585389566028, 0.614585389566028, 0.614585389566028, 0.614585389566028, 0.614585389566028, 0.614585389566028, 0.614585389566028, 0.614585389566028, 0.614585389566028, 0.614585389566028, 0.614585389566028, 0.614585389566028, 0.614585389566028, 0.614585389566028, 1.199904823048404, 1.199904823048404, 0.02926597313572503, 0.02926597313572503, 0.02926597313572503, 0.02926597313572503, 0.02926597313572503, 0.02926597313572503, 0.02926597313572503, 0.02926597313572503, 0.02926597313572503, 0.02926597313572503, 0.02926597313572503, 0.02926597313572503, 0.02926597313572503, 0.02926597313572503, 0.02926597313572503, 0.02926597313572503, 0.02926597313572503, 0.02926597313572503, 0.02926597313572503, 0.02926597313572503, 0.02926597313572503, 0.02926597313572503, 0.6274381983067172, 0.6274381983067172, 0.6274381983067172, 0.6274381209502538, 0.6274381209502538, 0.6274381209502538, 0.6274381209502538, 0.6274381209502538, 0.6274381209502538, 0.6274381983067172, 0.6274381209502538, 0.6274381983067172, 0.6274381983067172, 0.6274381209502538, 1.8225586607575435, 1.8225586607575435, 0.02987801059431486, 0.02987801059431486, 0.02987801059431486, 0.02987801059431486, 0.02987801059431486, 0.02987801059431486, 0.02987801059431486, 0.02987801059431486, 0.02987801059431486, 0.02987801059431486, 0.02987801059431486, 0.02987801059431486, 0.02987801059431486, 0.02987801059431486, 0.02987801059431486, 0.02987801059431486, 0.02987801059431486, 0.02987801059431486, 0.02987801059431486, 0.02987801059431486, 0.02987801059431486, 0.02987801059431486, 0.02987801059431486, 0.02987801059431486, 0.02987801059431486, 0.02987801059431486, 0.02987801059431486, 0.02987801059431486, 0.6139403099297973, 0.6139403099297973, 0.6139403099297973, 0.6139403099297973, 0.6139403099297973, 0.6139403099297973, 0.6139403099297973, 0.6139403099297973, 0.6139403099297973, 0.6139403099297973, 0.6139403099297973, 0.6139403099297973, 0.6139403099297973, 1.1986453810084825, 0.6139403099297973, 1.1986452339802598, 0.029235254932323856, 0.029235254932323856, 0.029235254932323856, 0.029235254932323856, 0.029235254932323856, 0.029235254932323856, 0.029235254932323856, 0.029235254932323856, 0.029235254932323856, 0.029235254932323856, 0.029235254932323856, 0.029235254932323856, 0.029235254932323856, 0.029235254932323856, 0.6139403099297973, 0.029235254932323856, 0.029235254932323856, 0.029235254932323856, 0.029235254932323856, 0.029235254932323856, 0.029235254932323856, 0.029235254932323856, 0.029235254932323856, 0.029235254932323856, 0.029235254932323856, 0.029235254932323856, 0.029235254932323856, 0.029235254932323856, 0.5770907511131684, 0.5770907511131684, 0.5770907511131684, 0.5770907511131684, 0.5770907511131684, 0.5770907511131684, 0.5770906861063938, 0.5770906861063938, 0.5770906861063938, 0.5770906861063938, 0.5770906861063938, 0.5770906861063938, 0.5770906861063938, 0.5770906861063938, 0.5770907511131684, 0.5770907511131684, 0.027480512925132646, 0.027480512925132646, 0.027480512925132646, 0.027480512925132646, 0.027480512925132646, 0.027480512925132646, 0.027480512925132646, 0.027480512925132646, 0.027480512925132646, 0.027480512925132646, 0.027480512925132646, 0.027480512925132646, 0.027480512925132646, 0.027480512925132646, 0.5770906861063938, 0.027480512925132646, 0.027480512925132646, 0.027480512925132646, 0.027480512925132646, 0.027480512925132646, 0.027480512925132646, 0.027480512925132646, 0.027480512925132646, 0.027480512925132646, 0.027480512925132646, 0.027480512925132646, 0.027480512925132646, 0.027480512925132646, 0.5587807853728506, 0.5587807853728506, 0.5587807853728506, 0.5587807853728506, 0.5587807853728506, 0.5587807853728506, 0.5587807853728506, 1.0909528614955604, 0.5587807853728506, 0.5587807853728506, 0.5587807853728506, 0.5587807853728506, 0.5587807853728506, 0.02660861128696019, 0.02660861128696019, 0.02660861128696019, 0.02660861128696019, 0.02660861128696019, 0.02660861128696019, 0.02660861128696019, 0.02660861128696019, 0.02660861128696019, 0.02660861128696019, 0.02660861128696019, 0.02660861128696019, 0.02660861128696019, 0.02660861128696019, 0.02660861128696019, 0.02660861128696019, 0.02660861128696019, 0.02660861128696019, 0.02660861128696019, 0.02660861128696019, 0.02660861128696019, 0.02660861128696019, 0.02660861128696019, 0.02660861128696019, 0.02660861128696019, 0.02660861128696019, 0.02660861128696019, 0.02660861128696019, 0.02660861128696019, 0.02660861128696019, 0.02660861128696019, 0.02660861128696019, 0.02660861128696019, 0.02660861128696019, 0.5234988561756986, 0.5234988561756986, 0.5234988561756986, 0.5234988561756986, 0.5234988561756986, 0.5234988561756986, 0.5234988561756986, 0.5234988561756986, 0.5234988561756986, 0.5234988561756986, 0.5234988561756986, 0.5234988561756986, 0.024928519696286046, 0.024928519696286046, 0.024928519696286046, 0.024928519696286046, 0.024928519696286046, 0.024928519696286046, 0.024928519696286046, 0.024928519696286046, 0.024928519696286046, 0.024928519696286046, 0.024928519696286046, 0.024928519696286046, 0.024928519696286046, 0.024928519696286046, 0.024928519696286046, 0.024928519696286046, 0.024928519696286046, 0.024928519696286046, 0.024928519696286046, 0.024928519696286046, 0.024928519696286046, 0.024928519696286046, 0.024928519696286046, 0.024928519696286046, 0.024928519696286046, 0.024928519696286046, 0.024928519696286046, 0.024928519696286046, 0.024928519696286046, 0.024928519696286046, 0.024928519696286046, 0.024928519696286046, 0.024928519696286046, 0.5029759052470817, 0.5029759052470817, 0.5029759052470817, 0.5029759052470817, 0.5029759052470817, 0.5029759052470817, 0.5029759052470817, 0.9820006622485995, 0.5029759052470817, 0.5029759052470817, 0.02395123583971825, 0.02395123583971825, 0.02395123583971825, 0.02395123583971825, 0.02395123583971825, 0.02395123583971825, 0.02395123583971825, 0.02395123583971825, 0.02395123583971825, 0.02395123583971825, 0.02395123583971825, 0.02395123583971825, 0.02395123583971825, 0.02395123583971825, 0.02395123583971825, 0.02395123583971825, 0.02395123583971825, 0.02395123583971825, 0.02395123583971825, 0.02395123583971825, 0.02395123583971825, 0.02395123583971825, 0.02395123583971825, 0.02395123583971825, 0.02395123583971825, 0.02395123583971825, 0.02395123583971825, 0.02395123583971825, 0.02395123583971825, 0.02395123583971825, 0.02395123583971825, 0.02395123583971825, 0.02395123583971825, 0.02395123583971825, 0.02395123583971825, 0.02395123583971825, 0.02395123583971825, 0.4593386998713484, 0.4593386998713484, 0.4593386998713484, 0.4593386998713484, 0.4593386998713484, 0.4593386998713484, 0.4593386998713484, 0.4593386998713484, 0.4593386998713484, 0.021873274302284324, 0.021873274302284324, 0.021873274302284324, 0.021873274302284324, 0.021873274302284324, 0.021873274302284324, 0.021873274302284324, 0.021873274302284324, 0.021873274302284324, 0.021873274302284324, 0.021873274302284324, 0.021873274302284324, 0.021873274302284324, 0.021873274302284324, 0.021873274302284324, 0.021873274302284324, 0.021873274302284324, 0.021873274302284324, 0.021873274302284324, 0.021873274302284324, 0.021873274302284324, 0.021873274302284324, 0.021873274302284324, 0.021873274302284324, 0.021873274302284324, 0.021873274302284324, 0.021873274302284324, 0.021873274302284324, 0.021873274302284324, 0.021873274302284324, 0.021873274302284324, 0.021873274302284324, 0.021873274302284324, 0.021873274302284324, 0.021873274302284324, 0.021873274302284324, 0.021873274302284324, 0.021873274302284324, 0.021873274302284324, 0.39349479211374705, 0.39349479211374705, 0.39349479211374705, 0.39349479211374705, 0.39349479211374705, 0.39349479211374705, 0.39349479211374705, 0.018737848689450234, 0.018737848689450234, 0.018737848689450234, 0.018737848689450234, 0.018737848689450234, 0.018737848689450234, 0.018737848689450234, 0.018737848689450234, 0.018737848689450234, 0.018737848689450234, 0.018737848689450234, 0.018737848689450234, 0.018737848689450234, 0.018737848689450234, 0.018737848689450234, 0.018737848689450234, 0.018737848689450234, 0.018737848689450234, 0.018737848689450234, 0.018737848689450234, 0.018737848689450234, 0.018737848689450234, 0.018737848689450234, 0.018737848689450234, 0.018737848689450234, 0.018737848689450234, 0.018737848689450234, 0.018737848689450234, 0.018737848689450234, 0.018737848689450234, 0.018737848689450234, 0.018737848689450234, 0.018737848689450234, 0.018737848689450234, 0.018737848689450234, 0.018737848689450234, 0.018737848689450234, 0.018737848689450234, 0.018737848689450234, 0.018737848689450234, 0.018737848689450234, 0.018737848689450234, 0.018737848689450234, 0.018737848689450234, 0.018737848689450234, 0.018737848689450234, 0.008458990072982113, 0.008458990072982113, 0.008458990072982113, 0.008458990072982113, 0.008458990072982113, 0.008458990072982113, 0.008458990072982113, 0.008458990072982113, 0.008458990072982113, 0.008458990072982113, 0.008458990072982113, 0.008458990072982113, 0.008458990072982113, 0.008458990072982113, 0.008458990072982113, 0.008458990072982113, 0.008458990072982113, 0.008458990072982113, 0.008458990072982113, 0.008458990072982113, 0.008458990072982113, 0.008458990072982113, 0.008458990072982113, 0.008458990072982113, 0.008458990072982113, 0.008458990072982113, 0.008458990072982113, 0.008458990072982113, 0.008458990072982113, 0.008458990072982113, 0.008458990072982113, 0.008458990072982113, 0.008458990072982113, 0.008458990072982113, 0.008458990072982113, 0.008458990072982113, 0.008458990072982113, 0.008458990072982113, 0.008458990072982113, 0.008458990072982113, 0.008458990072982113, 0.008458990072982113, 0.008458990072982113, 0.008458990072982113, 0.008458990072982113, 0.008458990072982113, 0.008458990072982113, 0.008458990072982113, 0.008458990072982113, 0.008458990072982113, 0.008458990072982113, 0.008458990072982113, 0.008458990072982113, 0.008458990072982113, 0.008458990072982113, 0.008458990072982113, 0.008458990072982113], \"Total\": [27.0, 27.0, 3.0, 2.0, 2.0, 2.0, 2.0, 2.0, 3.0, 2.0, 3.0, 3.0, 2.0, 3.0, 2.0, 1.0, 2.0, 3.0, 1.0, 1.0, 1.0, 1.0, 2.0, 1.0, 1.0, 1.0, 1.0, 1.0, 1.0, 1.0, 2.0883885744652733, 3.4314238200192593, 1.330672644076813, 1.330672644076813, 1.330672644076813, 1.330672644076813, 1.330672644076813, 1.330672644076813, 1.330672644076813, 1.330672644076813, 1.330672644076813, 1.330672644076813, 1.330672644076813, 1.330672644076813, 1.330672644076813, 1.330672644076813, 1.330672644076813, 1.330672644076813, 1.330672644076813, 1.330672644076813, 1.330672644076813, 1.330672644076813, 1.330672644076813, 1.330672644076813, 1.330672644076813, 1.330672644076813, 1.330672644076813, 1.330672644076813, 1.7681380696458773, 1.9282328317892155, 27.64443007024161, 27.267622739966352, 1.9853096264406114, 1.985369413947316, 2.5201295057713615, 1.969641220871837, 1.985369413947316, 3.4128720608070515, 2.5795777556132067, 1.9942583391829036, 1.3092616684280474, 1.3092616684280474, 1.3092616684280474, 1.3092616684280474, 1.3092616684280474, 1.3092616684280474, 1.3092616684280474, 1.3092616684280474, 1.3092616684280474, 1.3092616684280474, 1.3092616684280474, 1.3092616684280474, 1.3092616684280474, 1.3092616684280474, 1.3092616684280474, 1.3092616684280474, 1.3092616684280474, 1.3092616684280474, 1.3092616684280474, 1.3092616684280474, 3.218755963753267, 1.8939667234255209, 1.9068217787839863, 1.972847363534138, 1.9782353460886322, 1.9782354625952996, 2.000459468141915, 2.000459468141915, 2.322987188647368, 2.4293036490164788, 27.267622739966352, 27.64443007024161, 3.280789617989746, 2.776762405580781, 3.4128720608070515, 2.730563186328771, 3.337748173123668, 1.9553524717052544, 1.9553524717052544, 1.2641546209960475, 1.2641546209960475, 1.2641546209960475, 1.2641546209960475, 1.2641546209960475, 1.2641546209960475, 1.2641546209960475, 1.2641546209960475, 1.2641546209960475, 1.2641546209960475, 1.76272495747546, 1.858328078245072, 1.868292066260293, 1.9031231977910714, 1.9031231977910714, 2.000459468141915, 2.000459468141915, 2.720774383884341, 3.4128720608070515, 27.267622739966352, 27.64443007024161, 0.9477137647064763, 0.9477137647064763, 0.9477137647064763, 0.9477137647064763, 1.0104222468512436, 1.0104222468512436, 2.322987188647368, 2.4293036490164788, 3.280789617989746, 1.7405009519288441, 2.332672929955892, 1.4462841011858887, 1.9109043841308502, 1.2419306154494316, 1.2419306154494316, 1.2419306154494316, 1.2419306154494316, 1.2419306154494316, 1.2419306154494316, 1.2419306154494316, 1.2419306154494316, 1.2419304989427642, 1.2419304989427642, 1.2419304989427642, 1.2419304989427642, 1.2419304989427642, 1.2419304989427642, 1.2419304989427642, 2.515041829395096, 1.7405009519288441, 1.7405009519288441, 1.774102789535322, 1.84606794420701, 1.8808991922444553, 1.9782354625952996, 1.9782353460886322, 2.306274865658031, 3.0404459651738605, 3.0726327598494185, 3.280789617989746, 0.9477137647064763, 0.9477137647064763, 27.267622739966352, 27.64443007024161, 1.227653591152682, 1.227653591152682, 1.227653591152682, 1.227653591152682, 1.227653591152682, 1.227653591152682, 1.227653591152682, 1.227653591152682, 1.227653591152682, 1.227653591152682, 1.227653591152682, 1.227653591152682, 1.227653591152682, 1.227653591152682, 1.2275918312529852, 1.227586243137154, 1.866622167947706, 1.8686709023337502, 1.985369413947316, 1.985369413947316, 1.9853096264406114, 2.991237174477865, 3.4128720608070515, 27.64443007024161, 27.267622739966352, 0.9477137647064763, 0.9477137647064763, 0.9477137647064763, 0.9477137647064763, 1.0104222468512436, 2.322987188647368, 2.4293036490164788, 3.280789617989746, 1.7405009519288441, 2.332672929955892, 1.2365425163882697, 1.2365425163882697, 1.2365425163882697, 1.2365425163882697, 1.2365425163882697, 1.2365425163882697, 1.2365425163882697, 1.2365425163882697, 1.2365425163882697, 1.2365424057640775, 1.2365424057640775, 1.2365424057640775, 1.2365424057640775, 1.2365424057640775, 1.7687146904741602, 1.8307159736372942, 1.8307159736372942, 1.840679851028323, 1.8755109825591014, 1.877559716945146, 1.972847363534138, 1.9942583391829036, 2.332672929955892, 2.5795777556132067, 2.730563186328771, 3.0404459651738605, 3.280789617989746, 27.64443007024161, 0.9477137647064763, 0.9477137647064763, 27.267622739966352, 2.322987188647368, 1.8508940158698255, 1.2119253980772031, 1.2119253980772031, 1.2119253980772031, 1.2119253980772031, 1.2119253980772031, 1.2119253980772031, 1.2119253980772031, 1.2119253980772031, 1.2119253980772031, 1.8160628433414487, 1.866622167947706, 1.8755109825591014, 1.8808991922444553, 1.9031231977910714, 1.9031231977910714, 1.969641220871837, 2.322987188647368, 3.0726327598494185, 3.280789617989746, 27.267622739966352, 27.64443007024161, 0.9477137647064763, 0.9477137647064763, 0.9477137647064763, 0.9477137647064763, 1.0104222468512436, 1.0104222468512436, 1.0104222468512436, 1.0104222468512436, 1.227586243137154, 1.2275918312529852, 1.9853096264406114, 2.4293036490164788, 1.7405009519288441, 2.332672929955892, 1.4462841011858887, 1.7405009519288441, 2.496008720684794, 1.2139741324632474, 1.2139741324632474, 1.2139741324632474, 1.2139741324632474, 1.2139741324632474, 1.2139741324632474, 1.2139741324632474, 1.2139741324632474, 1.2139741324632474, 1.2139741324632474, 1.2139741324632474, 1.2139741324632474, 1.2139741324632474, 1.2139741324632474, 1.2139741324632474, 1.2139741324632474, 1.2139741324632474, 3.0533023563997626, 1.7461463065491378, 1.7992935488935504, 1.818111577727493, 1.8686709023337502, 1.877559716945146, 2.4293036490164788, 3.218755963753267, 0.9477137647064763, 0.9477137647064763, 0.9477137647064763, 0.9477137647064763, 27.267622739966352, 27.64443007024161, 2.322987188647368, 3.280789617989746, 1.1770942665464248, 1.1770942665464248, 1.1770942665464248, 1.1770942665464248, 1.1770942665464248, 1.1770942665464248, 1.1770942665464248, 1.1770942665464248, 1.1770942665464248, 1.1770942665464248, 1.1770942665464248, 1.7092664406323153, 1.7267045047344607, 1.7746544542588272, 1.8160628433414487, 1.818111577727493, 1.840679851028323, 1.84606794420701, 1.868292066260293, 2.515041829395096, 2.5201295057713615, 3.0533023563997626, 0.9477137647064763, 0.9477137647064763, 0.9477137647064763, 0.9477137647064763, 1.0104222468512436, 1.0104222468512436, 1.0104222468512436, 1.0104222468512436, 2.322987188647368, 27.64443007024161, 2.4293036490164788, 3.280789617989746, 1.7405009519288441, 2.332672929955892, 1.4462841011858887, 1.7405009519288441, 1.1671302785312034, 1.1671302785312034, 1.1671302785312034, 1.1671302785312034, 1.1671302785312034, 1.1671302785312034, 1.1671302785312034, 1.1671302785312034, 1.1671302785312034, 1.1671302785312034, 1.1671302785312034, 1.6045957041002676, 1.665700615010616, 1.8307159736372942, 1.8307159736372942, 1.858328078245072, 2.776762405580781, 2.991237174477865, 3.0533023563997626, 3.0726327598494185, 0.9477137647064763, 0.9477137647064763, 0.9477137647064763, 0.9477137647064763, 1.0104222468512436, 1.0104222468512436, 1.0104222468512436, 1.0104222468512436, 1.0104222468512436, 1.0104222468512436, 27.267622739966352, 2.322987188647368, 27.64443007024161, 2.4293036490164788, 3.280789617989746, 1.7405009519288441, 2.332672929955892, 1.4462841011858887, 1.7405009519288441, 1.2119253980772031, 1.1582762377124822, 1.1582762377124822, 1.1582762377124822, 1.1582762377124822, 1.1582762377124822, 1.1582762377124822, 1.1582762377124822, 1.1582762377124822, 1.1582762377124822, 1.1582762377124822, 1.1582762377124822, 1.1582762377124822, 1.7992935488935504, 2.5201295057713615, 2.5795777556132067, 3.0404459651738605, 3.4314238200192593, 27.267622739966352, 27.64443007024161, 0.9477137647064763, 0.9477137647064763, 0.9477137647064763, 0.9477137647064763, 1.0104222468512436, 1.0104222468512436, 1.0104222468512436, 1.0104222468512436, 1.0104222468512436, 1.0104222468512436, 1.0104222468512436, 2.322987188647368, 2.4293036490164788, 3.280789617989746, 1.7405009519288441, 2.332672929955892, 1.4462841011858887, 1.7405009519288441, 1.2119253980772031, 1.866622167947706, 1.2365424057640775, 1.877559716945146, 1.1705170089945816, 1.1705170089945816, 1.1705170089945816, 1.170516931638118, 1.170516931638118, 1.170516931638118, 1.170516931638118, 1.170516931638118, 1.170516931638118, 1.7746544542588272, 1.9068217787839863, 1.9282328317892155, 2.332672929955892, 3.0726327598494185, 27.267622739966352, 27.64443007024161, 0.9477137647064763, 0.9477137647064763, 0.9477137647064763, 0.9477137647064763, 1.0104222468512436, 1.0104222468512436, 1.0104222468512436, 1.0104222468512436, 1.0104222468512436, 1.0104222468512436, 1.0104222468512436, 1.0519814906895428, 1.0519814906895428, 1.0519814906895428, 2.322987188647368, 2.4293036490164788, 3.280789617989746, 1.7405009519288441, 1.4462841011858887, 1.7405009519288441, 1.2119253980772031, 1.866622167947706, 1.2365424057640775, 1.877559716945146, 1.2365424057640775, 1.2365424057640775, 1.2365424057640775, 1.8755109825591014, 1.1576618762796527, 1.1576618762796527, 1.1576618762796527, 1.1576618762796527, 1.1576618762796527, 1.1576618762796527, 1.1576618762796527, 1.1576618762796527, 1.1576618762796527, 1.1576618762796527, 1.1576618762796527, 1.1576618762796527, 1.1576618762796527, 2.991237174477865, 1.8939667234255209, 27.64443007024161, 0.9477137647064763, 0.9477137647064763, 0.9477137647064763, 0.9477137647064763, 1.0104222468512436, 1.0104222468512436, 1.0104222468512436, 1.0104222468512436, 1.0104222468512436, 1.0104222468512436, 1.0104222468512436, 1.0519814906895428, 1.0519814906895428, 1.0519814906895428, 27.267622739966352, 2.322987188647368, 2.4293036490164788, 3.280789617989746, 1.7405009519288441, 2.332672929955892, 1.4462841011858887, 1.7405009519288441, 1.2119253980772031, 1.866622167947706, 1.2365424057640775, 1.877559716945146, 1.2365424057640775, 1.2365424057640775, 1.122567059470215, 1.122567059470215, 1.122567059470215, 1.122567059470215, 1.122567059470215, 1.122567059470215, 1.1225669944634404, 1.1225669944634404, 1.1225669944634404, 1.1225669944634404, 1.1225669944634404, 1.1225669944634404, 1.1225669944634404, 1.6015916638708039, 1.7267045047344607, 3.0404459651738605, 0.9477137647064763, 0.9477137647064763, 0.9477137647064763, 0.9477137647064763, 1.0104222468512436, 1.0104222468512436, 1.0104222468512436, 1.0104222468512436, 1.0104222468512436, 1.0104222468512436, 1.0104222468512436, 1.0519814906895428, 1.0519814906895428, 1.0519814906895428, 27.64443007024161, 2.322987188647368, 2.4293036490164788, 3.280789617989746, 1.7405009519288441, 2.332672929955892, 1.4462841011858887, 1.7405009519288441, 1.2119253980772031, 1.866622167947706, 1.2365424057640775, 1.877559716945146, 1.2365424057640775, 1.2365424057640775, 1.1051289953680699, 1.1051289953680699, 1.1051289953680699, 1.1051289953680699, 1.1051289953680699, 1.1051289953680699, 1.1051289953680699, 2.306274865658031, 1.7092664406323153, 1.7461463065491378, 1.7687146904741602, 1.774102789535322, 3.218755963753267, 0.9477137647064763, 0.9477137647064763, 0.9477137647064763, 0.9477137647064763, 1.0104222468512436, 1.0104222468512436, 1.0104222468512436, 1.0104222468512436, 1.0104222468512436, 1.0104222468512436, 1.0104222468512436, 1.0519814906895428, 1.0519814906895428, 1.0519814906895428, 1.0519814906895428, 1.0519814906895428, 1.0519814906895428, 2.322987188647368, 27.64443007024161, 2.4293036490164788, 3.280789617989746, 1.7405009519288441, 2.332672929955892, 1.4462841011858887, 1.7405009519288441, 1.2119253980772031, 1.866622167947706, 1.2365424057640775, 1.877559716945146, 1.2365424057640775, 1.2365424057640775, 1.2365424057640775, 1.8755109825591014, 1.2365424057640775, 1.071527157761592, 1.071527157761592, 1.071527157761592, 1.071527157761592, 1.4462841011858887, 1.665700615010616, 1.7405009519288441, 1.7405009519288441, 1.76272495747546, 2.332672929955892, 2.720774383884341, 2.776762405580781, 0.9477137647064763, 0.9477137647064763, 0.9477137647064763, 0.9477137647064763, 1.0104222468512436, 1.0104222468512436, 1.0104222468512436, 1.0104222468512436, 1.0104222468512436, 1.0104222468512436, 1.0104222468512436, 1.0519814906895428, 1.0519814906895428, 1.0519814906895428, 1.0519814906895428, 1.0519814906895428, 1.0519814906895428, 1.0519814906895428, 2.322987188647368, 27.64443007024161, 2.4293036490164788, 3.280789617989746, 1.2119253980772031, 1.866622167947706, 1.2365424057640775, 1.877559716945146, 1.2365424057640775, 1.2365424057640775, 1.2365424057640775, 1.8755109825591014, 1.2365424057640775, 1.840679851028323, 1.972847363534138, 1.0519814906895428, 1.0519814906895428, 1.0519814906895428, 1.0519814906895428, 1.0519814906895428, 1.0519814906895428, 1.0519814906895428, 2.720774383884341, 1.6015916638708039, 2.4293036490164788, 0.9477137647064763, 0.9477137647064763, 0.9477137647064763, 0.9477137647064763, 1.0104222468512436, 1.0104222468512436, 1.0104222468512436, 1.0104222468512436, 1.0104222468512436, 1.0104222468512436, 1.0104222468512436, 1.071527157761592, 1.071527157761592, 1.071527157761592, 1.071527157761592, 1.1051289953680699, 1.1051289953680699, 1.1051289953680699, 1.1051289953680699, 1.1051289953680699, 2.322987188647368, 27.64443007024161, 3.280789617989746, 1.7405009519288441, 2.332672929955892, 1.4462841011858887, 1.7405009519288441, 1.2119253980772031, 1.866622167947706, 1.2365424057640775, 1.877559716945146, 1.2365424057640775, 1.2365424057640775, 1.2365424057640775, 1.8755109825591014, 1.2365424057640775, 1.840679851028323, 1.0104222468512436, 1.0104222468512436, 1.0104222468512436, 1.0104222468512436, 1.0104222468512436, 1.0104222468512436, 1.0104222468512436, 1.6045957041002676, 1.7681380696458773, 0.9477137647064763, 0.9477137647064763, 0.9477137647064763, 0.9477137647064763, 1.0519814906895428, 1.0519814906895428, 1.0519814906895428, 1.0519814906895428, 1.0519814906895428, 1.0519814906895428, 1.0519814906895428, 1.071527157761592, 1.071527157761592, 1.071527157761592, 1.071527157761592, 1.1051289953680699, 1.1051289953680699, 1.1051289953680699, 1.1051289953680699, 1.1051289953680699, 1.1051289953680699, 2.322987188647368, 27.64443007024161, 2.4293036490164788, 3.280789617989746, 1.7405009519288441, 2.332672929955892, 1.4462841011858887, 1.7405009519288441, 1.2119253980772031, 1.866622167947706, 1.2365424057640775, 1.877559716945146, 1.2365424057640775, 1.2365424057640775, 1.2365424057640775, 1.8755109825591014, 1.2365424057640775, 1.840679851028323, 0.9477137647064763, 0.9477137647064763, 0.9477137647064763, 0.9477137647064763, 1.4462841011858887, 2.322987188647368, 2.776762405580781, 1.0104222468512436, 1.0104222468512436, 1.0104222468512436, 1.0104222468512436, 1.0104222468512436, 1.0104222468512436, 1.0104222468512436, 1.0519814906895428, 1.0519814906895428, 1.0519814906895428, 1.0519814906895428, 1.0519814906895428, 1.0519814906895428, 1.0519814906895428, 1.071527157761592, 1.071527157761592, 1.071527157761592, 1.071527157761592, 1.1051289953680699, 1.1051289953680699, 1.1051289953680699, 1.1051289953680699, 1.1051289953680699, 27.64443007024161, 2.4293036490164788, 3.280789617989746, 1.7405009519288441, 2.332672929955892, 1.7405009519288441, 1.2119253980772031, 1.866622167947706, 1.2365424057640775, 1.877559716945146, 1.2365424057640775, 1.2365424057640775, 1.2365424057640775, 1.8755109825591014, 1.2365424057640775, 1.840679851028323, 1.972847363534138, 1.2365425163882697, 1.2641546209960475, 1.868292066260293, 1.2139741324632474, 3.0533023563997626, 1.2139741324632474, 0.9477137647064763, 0.9477137647064763, 0.9477137647064763, 0.9477137647064763, 1.0104222468512436, 1.0104222468512436, 1.0104222468512436, 1.0104222468512436, 1.0104222468512436, 1.0104222468512436, 1.0104222468512436, 1.0519814906895428, 1.0519814906895428, 1.0519814906895428, 1.0519814906895428, 1.0519814906895428, 1.0519814906895428, 1.0519814906895428, 1.071527157761592, 1.071527157761592, 1.071527157761592, 1.071527157761592, 1.1051289953680699, 1.1051289953680699, 1.1051289953680699, 1.1051289953680699, 1.1051289953680699, 1.1051289953680699, 1.1051289953680699, 1.1225669944634404, 2.322987188647368, 27.64443007024161, 2.4293036490164788, 3.280789617989746, 1.7405009519288441, 2.332672929955892, 1.4462841011858887, 1.7405009519288441, 1.2119253980772031, 1.866622167947706, 1.2365424057640775, 1.877559716945146, 1.2365424057640775, 1.2365424057640775, 1.2365424057640775, 1.8755109825591014, 1.2365424057640775, 1.840679851028323, 1.972847363534138, 1.2365425163882697, 1.2641546209960475, 1.868292066260293, 1.2139741324632474, 3.0533023563997626, 1.2139741324632474, 1.2139741324632474, 1.8686709023337502], \"Category\": [\"Default\", \"Default\", \"Default\", \"Default\", \"Default\", \"Default\", \"Default\", \"Default\", \"Default\", \"Default\", \"Default\", \"Default\", \"Default\", \"Default\", \"Default\", \"Default\", \"Default\", \"Default\", \"Default\", \"Default\", \"Default\", \"Default\", \"Default\", \"Default\", \"Default\", \"Default\", \"Default\", \"Default\", \"Default\", \"Default\", \"Topic1\", \"Topic1\", \"Topic1\", \"Topic1\", \"Topic1\", \"Topic1\", \"Topic1\", \"Topic1\", \"Topic1\", \"Topic1\", \"Topic1\", \"Topic1\", \"Topic1\", \"Topic1\", \"Topic1\", \"Topic1\", \"Topic1\", \"Topic1\", \"Topic1\", \"Topic1\", \"Topic1\", \"Topic1\", \"Topic1\", \"Topic1\", \"Topic1\", \"Topic1\", \"Topic1\", \"Topic1\", \"Topic1\", \"Topic1\", \"Topic1\", \"Topic1\", \"Topic1\", \"Topic1\", \"Topic1\", \"Topic1\", \"Topic1\", \"Topic1\", \"Topic1\", \"Topic1\", \"Topic2\", \"Topic2\", \"Topic2\", \"Topic2\", \"Topic2\", \"Topic2\", \"Topic2\", \"Topic2\", \"Topic2\", \"Topic2\", \"Topic2\", \"Topic2\", \"Topic2\", \"Topic2\", \"Topic2\", \"Topic2\", \"Topic2\", \"Topic2\", \"Topic2\", \"Topic2\", \"Topic2\", \"Topic2\", \"Topic2\", \"Topic2\", \"Topic2\", \"Topic2\", \"Topic2\", \"Topic2\", \"Topic2\", \"Topic2\", \"Topic2\", \"Topic2\", \"Topic2\", \"Topic2\", \"Topic2\", \"Topic2\", \"Topic3\", \"Topic3\", \"Topic3\", \"Topic3\", \"Topic3\", \"Topic3\", \"Topic3\", \"Topic3\", \"Topic3\", \"Topic3\", \"Topic3\", \"Topic3\", \"Topic3\", \"Topic3\", \"Topic3\", \"Topic3\", \"Topic3\", \"Topic3\", \"Topic3\", \"Topic3\", \"Topic3\", \"Topic3\", \"Topic3\", \"Topic3\", \"Topic3\", \"Topic3\", \"Topic3\", \"Topic3\", \"Topic3\", \"Topic3\", \"Topic3\", \"Topic3\", \"Topic3\", \"Topic3\", \"Topic3\", \"Topic3\", \"Topic4\", \"Topic4\", \"Topic4\", \"Topic4\", \"Topic4\", \"Topic4\", \"Topic4\", \"Topic4\", \"Topic4\", \"Topic4\", \"Topic4\", \"Topic4\", \"Topic4\", \"Topic4\", \"Topic4\", \"Topic4\", \"Topic4\", \"Topic4\", \"Topic4\", \"Topic4\", \"Topic4\", \"Topic4\", \"Topic4\", \"Topic4\", \"Topic4\", \"Topic4\", \"Topic4\", \"Topic4\", \"Topic4\", \"Topic4\", \"Topic4\", \"Topic4\", \"Topic5\", \"Topic5\", \"Topic5\", \"Topic5\", \"Topic5\", \"Topic5\", \"Topic5\", \"Topic5\", \"Topic5\", \"Topic5\", \"Topic5\", \"Topic5\", \"Topic5\", \"Topic5\", \"Topic5\", \"Topic5\", \"Topic5\", \"Topic5\", \"Topic5\", \"Topic5\", \"Topic5\", \"Topic5\", \"Topic5\", \"Topic5\", \"Topic5\", \"Topic5\", \"Topic5\", \"Topic5\", \"Topic5\", \"Topic5\", \"Topic5\", \"Topic5\", \"Topic5\", \"Topic5\", \"Topic5\", \"Topic6\", \"Topic6\", \"Topic6\", \"Topic6\", \"Topic6\", \"Topic6\", \"Topic6\", \"Topic6\", \"Topic6\", \"Topic6\", \"Topic6\", \"Topic6\", \"Topic6\", \"Topic6\", \"Topic6\", \"Topic6\", \"Topic6\", \"Topic6\", \"Topic6\", \"Topic6\", \"Topic6\", \"Topic6\", \"Topic6\", \"Topic6\", \"Topic6\", \"Topic6\", \"Topic6\", \"Topic6\", \"Topic6\", \"Topic6\", \"Topic6\", \"Topic6\", \"Topic7\", \"Topic7\", \"Topic7\", \"Topic7\", \"Topic7\", \"Topic7\", \"Topic7\", \"Topic7\", \"Topic7\", \"Topic7\", \"Topic7\", \"Topic7\", \"Topic7\", \"Topic7\", \"Topic7\", \"Topic7\", \"Topic7\", \"Topic7\", \"Topic7\", \"Topic7\", \"Topic7\", \"Topic7\", \"Topic7\", \"Topic7\", \"Topic7\", \"Topic7\", \"Topic7\", \"Topic7\", \"Topic7\", \"Topic7\", \"Topic7\", \"Topic7\", \"Topic7\", \"Topic7\", \"Topic7\", \"Topic7\", \"Topic7\", \"Topic7\", \"Topic8\", \"Topic8\", \"Topic8\", \"Topic8\", \"Topic8\", \"Topic8\", \"Topic8\", \"Topic8\", \"Topic8\", \"Topic8\", \"Topic8\", \"Topic8\", \"Topic8\", \"Topic8\", \"Topic8\", \"Topic8\", \"Topic8\", \"Topic8\", \"Topic8\", \"Topic8\", \"Topic8\", \"Topic8\", \"Topic8\", \"Topic8\", \"Topic8\", \"Topic8\", \"Topic8\", \"Topic8\", \"Topic8\", \"Topic8\", \"Topic8\", \"Topic8\", \"Topic8\", \"Topic8\", \"Topic9\", \"Topic9\", \"Topic9\", \"Topic9\", \"Topic9\", \"Topic9\", \"Topic9\", \"Topic9\", \"Topic9\", \"Topic9\", \"Topic9\", \"Topic9\", \"Topic9\", \"Topic9\", \"Topic9\", \"Topic9\", \"Topic9\", \"Topic9\", \"Topic9\", \"Topic9\", \"Topic9\", \"Topic9\", \"Topic9\", \"Topic9\", \"Topic9\", \"Topic9\", \"Topic9\", \"Topic9\", \"Topic9\", \"Topic9\", \"Topic9\", \"Topic9\", \"Topic9\", \"Topic9\", \"Topic9\", \"Topic9\", \"Topic9\", \"Topic9\", \"Topic10\", \"Topic10\", \"Topic10\", \"Topic10\", \"Topic10\", \"Topic10\", \"Topic10\", \"Topic10\", \"Topic10\", \"Topic10\", \"Topic10\", \"Topic10\", \"Topic10\", \"Topic10\", \"Topic10\", \"Topic10\", \"Topic10\", \"Topic10\", \"Topic10\", \"Topic10\", \"Topic10\", \"Topic10\", \"Topic10\", \"Topic10\", \"Topic10\", \"Topic10\", \"Topic10\", \"Topic10\", \"Topic10\", \"Topic10\", \"Topic10\", \"Topic10\", \"Topic10\", \"Topic10\", \"Topic10\", \"Topic10\", \"Topic10\", \"Topic10\", \"Topic10\", \"Topic10\", \"Topic11\", \"Topic11\", \"Topic11\", \"Topic11\", \"Topic11\", \"Topic11\", \"Topic11\", \"Topic11\", \"Topic11\", \"Topic11\", \"Topic11\", \"Topic11\", \"Topic11\", \"Topic11\", \"Topic11\", \"Topic11\", \"Topic11\", \"Topic11\", \"Topic11\", \"Topic11\", \"Topic11\", \"Topic11\", \"Topic11\", \"Topic11\", \"Topic11\", \"Topic11\", \"Topic11\", \"Topic11\", \"Topic11\", \"Topic11\", \"Topic11\", \"Topic11\", \"Topic11\", \"Topic11\", \"Topic11\", \"Topic11\", \"Topic11\", \"Topic11\", \"Topic11\", \"Topic11\", \"Topic11\", \"Topic12\", \"Topic12\", \"Topic12\", \"Topic12\", \"Topic12\", \"Topic12\", \"Topic12\", \"Topic12\", \"Topic12\", \"Topic12\", \"Topic12\", \"Topic12\", \"Topic12\", \"Topic12\", \"Topic12\", \"Topic12\", \"Topic12\", \"Topic12\", \"Topic12\", \"Topic12\", \"Topic12\", \"Topic12\", \"Topic12\", \"Topic12\", \"Topic12\", \"Topic12\", \"Topic12\", \"Topic12\", \"Topic12\", \"Topic12\", \"Topic12\", \"Topic12\", \"Topic12\", \"Topic12\", \"Topic12\", \"Topic12\", \"Topic12\", \"Topic12\", \"Topic12\", \"Topic12\", \"Topic12\", \"Topic12\", \"Topic12\", \"Topic12\", \"Topic13\", \"Topic13\", \"Topic13\", \"Topic13\", \"Topic13\", \"Topic13\", \"Topic13\", \"Topic13\", \"Topic13\", \"Topic13\", \"Topic13\", \"Topic13\", \"Topic13\", \"Topic13\", \"Topic13\", \"Topic13\", \"Topic13\", \"Topic13\", \"Topic13\", \"Topic13\", \"Topic13\", \"Topic13\", \"Topic13\", \"Topic13\", \"Topic13\", \"Topic13\", \"Topic13\", \"Topic13\", \"Topic13\", \"Topic13\", \"Topic13\", \"Topic13\", \"Topic13\", \"Topic13\", \"Topic13\", \"Topic13\", \"Topic13\", \"Topic13\", \"Topic13\", \"Topic13\", \"Topic13\", \"Topic13\", \"Topic13\", \"Topic13\", \"Topic14\", \"Topic14\", \"Topic14\", \"Topic14\", \"Topic14\", \"Topic14\", \"Topic14\", \"Topic14\", \"Topic14\", \"Topic14\", \"Topic14\", \"Topic14\", \"Topic14\", \"Topic14\", \"Topic14\", \"Topic14\", \"Topic14\", \"Topic14\", \"Topic14\", \"Topic14\", \"Topic14\", \"Topic14\", \"Topic14\", \"Topic14\", \"Topic14\", \"Topic14\", \"Topic14\", \"Topic14\", \"Topic14\", \"Topic14\", \"Topic14\", \"Topic14\", \"Topic14\", \"Topic14\", \"Topic14\", \"Topic14\", \"Topic14\", \"Topic14\", \"Topic14\", \"Topic14\", \"Topic14\", \"Topic14\", \"Topic14\", \"Topic14\", \"Topic15\", \"Topic15\", \"Topic15\", \"Topic15\", \"Topic15\", \"Topic15\", \"Topic15\", \"Topic15\", \"Topic15\", \"Topic15\", \"Topic15\", \"Topic15\", \"Topic15\", \"Topic15\", \"Topic15\", \"Topic15\", \"Topic15\", \"Topic15\", \"Topic15\", \"Topic15\", \"Topic15\", \"Topic15\", \"Topic15\", \"Topic15\", \"Topic15\", \"Topic15\", \"Topic15\", \"Topic15\", \"Topic15\", \"Topic15\", \"Topic15\", \"Topic15\", \"Topic15\", \"Topic15\", \"Topic15\", \"Topic15\", \"Topic15\", \"Topic15\", \"Topic15\", \"Topic15\", \"Topic15\", \"Topic15\", \"Topic15\", \"Topic15\", \"Topic15\", \"Topic15\", \"Topic15\", \"Topic16\", \"Topic16\", \"Topic16\", \"Topic16\", \"Topic16\", \"Topic16\", \"Topic16\", \"Topic16\", \"Topic16\", \"Topic16\", \"Topic16\", \"Topic16\", \"Topic16\", \"Topic16\", \"Topic16\", \"Topic16\", \"Topic16\", \"Topic16\", \"Topic16\", \"Topic16\", \"Topic16\", \"Topic16\", \"Topic16\", \"Topic16\", \"Topic16\", \"Topic16\", \"Topic16\", \"Topic16\", \"Topic16\", \"Topic16\", \"Topic16\", \"Topic16\", \"Topic16\", \"Topic16\", \"Topic16\", \"Topic16\", \"Topic16\", \"Topic16\", \"Topic16\", \"Topic16\", \"Topic16\", \"Topic16\", \"Topic16\", \"Topic16\", \"Topic16\", \"Topic17\", \"Topic17\", \"Topic17\", \"Topic17\", \"Topic17\", \"Topic17\", \"Topic17\", \"Topic17\", \"Topic17\", \"Topic17\", \"Topic17\", \"Topic17\", \"Topic17\", \"Topic17\", \"Topic17\", \"Topic17\", \"Topic17\", \"Topic17\", \"Topic17\", \"Topic17\", \"Topic17\", \"Topic17\", \"Topic17\", \"Topic17\", \"Topic17\", \"Topic17\", \"Topic17\", \"Topic17\", \"Topic17\", \"Topic17\", \"Topic17\", \"Topic17\", \"Topic17\", \"Topic17\", \"Topic17\", \"Topic17\", \"Topic17\", \"Topic17\", \"Topic17\", \"Topic17\", \"Topic17\", \"Topic17\", \"Topic17\", \"Topic17\", \"Topic17\", \"Topic17\", \"Topic17\", \"Topic18\", \"Topic18\", \"Topic18\", \"Topic18\", \"Topic18\", \"Topic18\", \"Topic18\", \"Topic18\", \"Topic18\", \"Topic18\", \"Topic18\", \"Topic18\", \"Topic18\", \"Topic18\", \"Topic18\", \"Topic18\", \"Topic18\", \"Topic18\", \"Topic18\", \"Topic18\", \"Topic18\", \"Topic18\", \"Topic18\", \"Topic18\", \"Topic18\", \"Topic18\", \"Topic18\", \"Topic18\", \"Topic18\", \"Topic18\", \"Topic18\", \"Topic18\", \"Topic18\", \"Topic18\", \"Topic18\", \"Topic18\", \"Topic18\", \"Topic18\", \"Topic18\", \"Topic18\", \"Topic18\", \"Topic18\", \"Topic18\", \"Topic18\", \"Topic18\", \"Topic18\", \"Topic18\", \"Topic18\", \"Topic19\", \"Topic19\", \"Topic19\", \"Topic19\", \"Topic19\", \"Topic19\", \"Topic19\", \"Topic19\", \"Topic19\", \"Topic19\", \"Topic19\", \"Topic19\", \"Topic19\", \"Topic19\", \"Topic19\", \"Topic19\", \"Topic19\", \"Topic19\", \"Topic19\", \"Topic19\", \"Topic19\", \"Topic19\", \"Topic19\", \"Topic19\", \"Topic19\", \"Topic19\", \"Topic19\", \"Topic19\", \"Topic19\", \"Topic19\", \"Topic19\", \"Topic19\", \"Topic19\", \"Topic19\", \"Topic19\", \"Topic19\", \"Topic19\", \"Topic19\", \"Topic19\", \"Topic19\", \"Topic19\", \"Topic19\", \"Topic19\", \"Topic19\", \"Topic19\", \"Topic19\", \"Topic19\", \"Topic19\", \"Topic19\", \"Topic19\", \"Topic19\", \"Topic19\", \"Topic19\", \"Topic20\", \"Topic20\", \"Topic20\", \"Topic20\", \"Topic20\", \"Topic20\", \"Topic20\", \"Topic20\", \"Topic20\", \"Topic20\", \"Topic20\", \"Topic20\", \"Topic20\", \"Topic20\", \"Topic20\", \"Topic20\", \"Topic20\", \"Topic20\", \"Topic20\", \"Topic20\", \"Topic20\", \"Topic20\", \"Topic20\", \"Topic20\", \"Topic20\", \"Topic20\", \"Topic20\", \"Topic20\", \"Topic20\", \"Topic20\", \"Topic20\", \"Topic20\", \"Topic20\", \"Topic20\", \"Topic20\", \"Topic20\", \"Topic20\", \"Topic20\", \"Topic20\", \"Topic20\", \"Topic20\", \"Topic20\", \"Topic20\", \"Topic20\", \"Topic20\", \"Topic20\", \"Topic20\", \"Topic20\", \"Topic20\", \"Topic20\", \"Topic20\", \"Topic20\", \"Topic20\", \"Topic20\", \"Topic20\", \"Topic20\", \"Topic20\"], \"logprob\": [30.0, 29.0, 28.0, 27.0, 26.0, 25.0, 24.0, 23.0, 22.0, 21.0, 20.0, 19.0, 18.0, 17.0, 16.0, 15.0, 14.0, 13.0, 12.0, 11.0, 10.0, 9.0, 8.0, 7.0, 6.0, 5.0, 4.0, 3.0, 2.0, 1.0, -3.5553, -3.158, -4.2244, -4.2244, -4.2244, -4.2244, -4.2244, -4.2244, -4.2244, -4.2244, -4.2244, -4.2244, -4.2244, -4.2244, -4.2244, -4.2244, -4.2244, -4.2244, -4.2244, -4.2244, -4.2244, -4.2244, -4.2244, -4.2244, -4.2244, -4.2244, -4.2244, -4.2244, -4.2244, -4.2244, -2.1875, -2.3202, -4.2244, -4.2244, -4.2244, -4.2244, -4.2244, -4.2244, -4.2244, -4.2244, -4.1494, -4.1494, -4.1494, -4.1494, -4.1494, -4.1494, -4.1494, -4.1494, -4.1494, -4.1494, -4.1494, -4.1494, -4.1494, -4.1494, -4.1494, -4.1494, -4.1494, -4.1494, -4.1494, -4.1494, -3.4803, -4.1494, -4.1494, -4.1494, -4.1494, -4.1494, -4.1494, -4.1494, -4.1494, -4.1494, -1.903, -2.2539, -4.1494, -4.1494, -4.1494, -4.1494, -2.488, -3.1689, -3.1689, -3.8379, -3.8379, -3.8379, -3.8379, -3.8379, -3.8379, -3.8379, -3.8379, -3.8379, -3.8379, -3.8379, -3.8379, -3.8379, -3.8379, -3.8379, -3.8379, -3.8379, -3.8379, -3.8379, -2.488, -2.7716, -6.8824, -6.8824, -6.8824, -6.8824, -6.8824, -6.8824, -6.8824, -6.8824, -6.8824, -6.8824, -6.8824, -6.8824, -3.127, -3.796, -3.796, -3.796, -3.796, -3.796, -3.796, -3.796, -3.796, -3.796, -3.796, -3.796, -3.796, -3.796, -3.796, -3.796, -3.127, -3.796, -3.796, -3.796, -3.796, -3.796, -3.796, -3.796, -3.796, -3.796, -3.796, -3.796, -6.8405, -6.8405, -3.796, -3.796, -3.7745, -3.7745, -3.7745, -3.7745, -3.7745, -3.7745, -3.7745, -3.7745, -3.7745, -3.7745, -3.7745, -3.7745, -3.7745, -3.7745, -3.7783, -3.7786, -3.7745, -3.7745, -3.7745, -3.7745, -3.7782, -3.7745, -3.7745, -2.2022, -2.7053, -6.819, -6.819, -6.819, -6.819, -6.819, -6.819, -6.819, -6.819, -6.819, -6.819, -3.7523, -3.7523, -3.7523, -3.7523, -3.7523, -3.7523, -3.7523, -3.7523, -3.7523, -3.7523, -3.7523, -3.7523, -3.7523, -3.7523, -3.7523, -3.7523, -3.7523, -3.7523, -3.7523, -3.7523, -3.7523, -3.7523, -3.7523, -3.7523, -3.7523, -3.7523, -3.7523, -3.0833, -6.7968, -6.7968, -3.7523, -6.7968, -3.1093, -3.7783, -3.7783, -3.7783, -3.7783, -3.7783, -3.7783, -3.7783, -3.7783, -3.7783, -3.7783, -3.7783, -3.7783, -3.7783, -3.7783, -3.7783, -3.7783, -3.7783, -3.7783, -3.7783, -2.1852, -2.1974, -6.8228, -6.8228, -6.8228, -6.8228, -6.8228, -6.8228, -6.8228, -6.8228, -6.7406, -6.7471, -6.7494, -6.8228, -6.8228, -6.8228, -6.8228, -6.8228, -2.7081, -3.7744, -3.7744, -3.7744, -3.7744, -3.7744, -3.7744, -3.7744, -3.7744, -3.7744, -3.7744, -3.7744, -3.7744, -3.7744, -3.7744, -3.7744, -3.7744, -3.7744, -3.1054, -3.7744, -3.7744, -3.7744, -3.7744, -3.7744, -3.7744, -3.7744, -6.8189, -6.8189, -6.8189, -6.8189, -3.7744, -3.7744, -6.8189, -6.8189, -3.5553, -3.5553, -3.5553, -3.5553, -3.5553, -3.5553, -3.5553, -3.5553, -3.5553, -3.5553, -3.5553, -3.5553, -3.5553, -3.5553, -3.5553, -3.5553, -3.5553, -3.5553, -3.5553, -3.5553, -3.5553, -3.5553, -6.5999, -6.5999, -6.5999, -6.5999, -6.5999, -6.5999, -6.5999, -6.5999, -6.5999, -6.5999, -6.5999, -6.5999, -6.5999, -6.5999, -6.5999, -6.5999, -3.5278, -3.5278, -3.5278, -3.5278, -3.5278, -3.5278, -3.5278, -3.5278, -3.5278, -3.5278, -3.5278, -3.5278, -3.5278, -3.5278, -3.5278, -3.5278, -3.5278, -3.5278, -3.5278, -3.5278, -6.5723, -6.5723, -6.5723, -6.5723, -6.5723, -6.5723, -6.5723, -6.5723, -6.5723, -6.5723, -3.5278, -6.5723, -6.5723, -6.5723, -6.5723, -6.5723, -6.5723, -6.5723, -6.5723, -6.5723, -3.5278, -3.5278, -3.5278, -3.5278, -3.5278, -3.5278, -3.5278, -3.5278, -3.5278, -3.5278, -3.5278, -3.5278, -3.5278, -3.5278, -3.5278, -3.5278, -3.5278, -2.8587, -2.8587, -6.5723, -6.5723, -6.5723, -6.5723, -6.5723, -6.5723, -6.5723, -6.5723, -6.5723, -6.5723, -6.5723, -6.5723, -6.5723, -6.5723, -6.5723, -6.5723, -6.5723, -6.5723, -6.5723, -6.5723, -6.5723, -6.5723, -3.4994, -3.4994, -3.4994, -3.4994, -3.4994, -3.4994, -3.4994, -3.4994, -3.4994, -3.4994, -3.4994, -3.4994, -3.4994, -3.4994, -2.433, -2.433, -6.5439, -6.5439, -6.5439, -6.5439, -6.5439, -6.5439, -6.5439, -6.5439, -6.5439, -6.5439, -6.5439, -6.5439, -6.5439, -6.5439, -6.5439, -6.5439, -6.5439, -6.5439, -6.5439, -6.5439, -6.5439, -6.5439, -6.5439, -6.5439, -6.5439, -6.5439, -6.5439, -6.5439, -3.4702, -3.4702, -3.4702, -3.4702, -3.4702, -3.4702, -3.4702, -3.4702, -3.4702, -3.4702, -3.4702, -3.4702, -3.4702, -2.8011, -3.4702, -2.8011, -6.5147, -6.5147, -6.5147, -6.5147, -6.5147, -6.5147, -6.5147, -6.5147, -6.5147, -6.5147, -6.5147, -6.5147, -6.5147, -6.5147, -3.4702, -6.5147, -6.5147, -6.5147, -6.5147, -6.5147, -6.5147, -6.5147, -6.5147, -6.5147, -6.5147, -6.5147, -6.5147, -6.5147, -3.4091, -3.4091, -3.4091, -3.4091, -3.4091, -3.4091, -3.4091, -3.4091, -3.4091, -3.4091, -3.4091, -3.4091, -3.4091, -3.4091, -3.4091, -3.4091, -6.4536, -6.4536, -6.4536, -6.4536, -6.4536, -6.4536, -6.4536, -6.4536, -6.4536, -6.4536, -6.4536, -6.4536, -6.4536, -6.4536, -3.4091, -6.4536, -6.4536, -6.4536, -6.4536, -6.4536, -6.4536, -6.4536, -6.4536, -6.4536, -6.4536, -6.4536, -6.4536, -6.4536, -3.3098, -3.3098, -3.3098, -3.3098, -3.3098, -3.3098, -3.3098, -2.6408, -3.3098, -3.3098, -3.3098, -3.3098, -3.3098, -6.3544, -6.3544, -6.3544, -6.3544, -6.3544, -6.3544, -6.3544, -6.3544, -6.3544, -6.3544, -6.3544, -6.3544, -6.3544, -6.3544, -6.3544, -6.3544, -6.3544, -6.3544, -6.3544, -6.3544, -6.3544, -6.3544, -6.3544, -6.3544, -6.3544, -6.3544, -6.3544, -6.3544, -6.3544, -6.3544, -6.3544, -6.3544, -6.3544, -6.3544, -3.2377, -3.2377, -3.2377, -3.2377, -3.2377, -3.2377, -3.2377, -3.2377, -3.2377, -3.2377, -3.2377, -3.2377, -6.2823, -6.2823, -6.2823, -6.2823, -6.2823, -6.2823, -6.2823, -6.2823, -6.2823, -6.2823, -6.2823, -6.2823, -6.2823, -6.2823, -6.2823, -6.2823, -6.2823, -6.2823, -6.2823, -6.2823, -6.2823, -6.2823, -6.2823, -6.2823, -6.2823, -6.2823, -6.2823, -6.2823, -6.2823, -6.2823, -6.2823, -6.2823, -6.2823, -3.1996, -3.1996, -3.1996, -3.1996, -3.1996, -3.1996, -3.1996, -2.5306, -3.1996, -3.1996, -6.2442, -6.2442, -6.2442, -6.2442, -6.2442, -6.2442, -6.2442, -6.2442, -6.2442, -6.2442, -6.2442, -6.2442, -6.2442, -6.2442, -6.2442, -6.2442, -6.2442, -6.2442, -6.2442, -6.2442, -6.2442, -6.2442, -6.2442, -6.2442, -6.2442, -6.2442, -6.2442, -6.2442, -6.2442, -6.2442, -6.2442, -6.2442, -6.2442, -6.2442, -6.2442, -6.2442, -6.2442, -3.1188, -3.1188, -3.1188, -3.1188, -3.1188, -3.1188, -3.1188, -3.1188, -3.1188, -6.1633, -6.1633, -6.1633, -6.1633, -6.1633, -6.1633, -6.1633, -6.1633, -6.1633, -6.1633, -6.1633, -6.1633, -6.1633, -6.1633, -6.1633, -6.1633, -6.1633, -6.1633, -6.1633, -6.1633, -6.1633, -6.1633, -6.1633, -6.1633, -6.1633, -6.1633, -6.1633, -6.1633, -6.1633, -6.1633, -6.1633, -6.1633, -6.1633, -6.1633, -6.1633, -6.1633, -6.1633, -6.1633, -6.1633, -3.0308, -3.0308, -3.0308, -3.0308, -3.0308, -3.0308, -3.0308, -6.0753, -6.0753, -6.0753, -6.0753, -6.0753, -6.0753, -6.0753, -6.0753, -6.0753, -6.0753, -6.0753, -6.0753, -6.0753, -6.0753, -6.0753, -6.0753, -6.0753, -6.0753, -6.0753, -6.0753, -6.0753, -6.0753, -6.0753, -6.0753, -6.0753, -6.0753, -6.0753, -6.0753, -6.0753, -6.0753, -6.0753, -6.0753, -6.0753, -6.0753, -6.0753, -6.0753, -6.0753, -6.0753, -6.0753, -6.0753, -6.0753, -6.0753, -6.0753, -6.0753, -6.0753, -6.0753, -5.687, -5.687, -5.687, -5.687, -5.687, -5.687, -5.687, -5.687, -5.687, -5.687, -5.687, -5.687, -5.687, -5.687, -5.687, -5.687, -5.687, -5.687, -5.687, -5.687, -5.687, -5.687, -5.687, -5.687, -5.687, -5.687, -5.687, -5.687, -5.687, -5.687, -5.687, -5.687, -5.687, -5.687, -5.687, -5.687, -5.687, -5.687, -5.687, -5.687, -5.687, -5.687, -5.687, -5.687, -5.687, -5.687, -5.687, -5.687, -5.687, -5.687, -5.687, -5.687, -5.687, -5.687, -5.687, -5.687, -5.687], \"loglift\": [30.0, 29.0, 28.0, 27.0, 26.0, 25.0, 24.0, 23.0, 22.0, 21.0, 20.0, 19.0, 18.0, 17.0, 16.0, 15.0, 14.0, 13.0, 12.0, 11.0, 10.0, 9.0, 8.0, 7.0, 6.0, 5.0, 4.0, 3.0, 2.0, 1.0, 1.8631, 1.7638, 1.6448, 1.6448, 1.6448, 1.6448, 1.6448, 1.6448, 1.6448, 1.6448, 1.6448, 1.6448, 1.6448, 1.6448, 1.6448, 1.6448, 1.6448, 1.6448, 1.6448, 1.6448, 1.6448, 1.6448, 1.6448, 1.6448, 1.6448, 1.6448, 1.6448, 1.6448, 1.3605, 1.2739, 0.6479, 0.529, 1.2447, 1.2447, 1.0062, 1.2526, 1.2447, 0.7029, 0.9828, 1.2402, 1.736, 1.736, 1.736, 1.736, 1.736, 1.736, 1.736, 1.736, 1.736, 1.736, 1.736, 1.736, 1.736, 1.736, 1.736, 1.736, 1.736, 1.736, 1.736, 1.736, 1.5055, 1.3668, 1.36, 1.326, 1.3233, 1.3233, 1.3121, 1.3121, 1.1626, 1.1179, 0.9462, 0.5816, 0.8174, 0.9842, 0.7779, 1.001, 2.4616, 2.3154, 2.3154, 2.0825, 2.0825, 2.0825, 2.0825, 2.0825, 2.0825, 2.0825, 2.0825, 2.0825, 2.0825, 1.7501, 1.6973, 1.6919, 1.6734, 1.6734, 1.6236, 1.6236, 1.316, 1.0894, 0.3612, 0.0639, -0.6739, -0.6739, -0.6739, -0.6739, -0.7379, -0.7379, -1.5704, -1.6152, -1.9157, -1.2818, -1.5746, -1.0966, 2.3803, 2.1422, 2.1422, 2.1422, 2.1422, 2.1422, 2.1422, 2.1422, 2.1422, 2.1422, 2.1422, 2.1422, 2.1422, 2.1422, 2.1422, 2.1422, 2.1056, 1.8047, 1.8047, 1.7855, 1.7458, 1.7271, 1.6766, 1.6766, 1.5232, 1.2468, 1.2363, 1.1707, -0.632, -0.632, -0.9469, -0.9606, 2.1752, 2.1752, 2.1752, 2.1752, 2.1752, 2.1752, 2.1752, 2.1752, 2.1752, 2.1752, 2.1752, 2.1752, 2.1752, 2.1752, 2.1715, 2.1712, 1.7562, 1.7551, 1.6945, 1.6945, 1.6909, 1.2846, 1.1528, 0.6333, 0.1439, -0.6105, -0.6105, -0.6105, -0.6105, -0.6746, -1.507, -1.5518, -1.8523, -1.2184, -1.5112, 2.1902, 2.1902, 2.1902, 2.1902, 2.1902, 2.1902, 2.1902, 2.1902, 2.1902, 2.1902, 2.1902, 2.1902, 2.1902, 2.1902, 1.8323, 1.7978, 1.7978, 1.7924, 1.7737, 1.7726, 1.7231, 1.7123, 1.5555, 1.4549, 1.398, 1.2906, 1.2145, -0.2478, -0.5883, -0.5883, -0.9031, -1.4848, 2.4299, 2.1843, 2.1843, 2.1843, 2.1843, 2.1843, 2.1843, 2.1843, 2.1843, 2.1843, 1.7799, 1.7524, 1.7477, 1.7448, 1.7331, 1.7331, 1.6987, 1.5337, 1.254, 1.1885, 0.6639, 0.638, -0.6143, -0.6143, -0.6143, -0.6143, -0.6783, -0.6783, -0.6783, -0.6783, -0.7908, -0.7973, -1.2804, -1.5556, -1.2221, -1.515, -1.037, -1.2221, 2.5321, 2.1866, 2.1866, 2.1866, 2.1866, 2.1866, 2.1866, 2.1866, 2.1866, 2.1866, 2.1866, 2.1866, 2.1866, 2.1866, 2.1866, 2.1866, 2.1866, 2.1866, 1.9333, 1.823, 1.7931, 1.7827, 1.7552, 1.7505, 1.4929, 1.2115, -0.6104, -0.6104, -0.6104, -0.6104, -0.9252, -0.939, -1.5069, -1.8522, 2.4365, 2.4365, 2.4365, 2.4365, 2.4365, 2.4365, 2.4365, 2.4365, 2.4365, 2.4365, 2.4365, 2.0634, 2.0533, 2.0259, 2.0028, 2.0017, 1.9894, 1.9865, 1.9745, 1.6772, 1.6752, 1.4833, -0.3913, -0.3913, -0.3913, -0.3913, -0.4554, -0.4554, -0.4554, -0.4554, -1.2879, -3.7644, -1.3326, -1.6331, -0.9992, -1.292, -0.814, -0.9992, 2.4725, 2.4725, 2.4725, 2.4725, 2.4725, 2.4725, 2.4725, 2.4725, 2.4725, 2.4725, 2.4725, 2.1542, 2.1169, 2.0224, 2.0224, 2.0074, 1.6058, 1.5314, 1.5109, 1.5046, -0.3637, -0.3637, -0.3637, -0.3637, -0.4278, -0.4278, -0.4278, -0.4278, -0.4278, -0.4278, -0.6786, -1.2603, -3.7368, -1.305, -1.6055, -0.9716, -1.2644, -0.7864, -0.9716, -0.6096, 2.4802, 2.4802, 2.4802, 2.4802, 2.4802, 2.4802, 2.4802, 2.4802, 2.4802, 2.4802, 2.4802, 2.4802, 2.0397, 1.7028, 1.6795, 1.5151, 1.3941, -0.0096, -0.0233, -0.3637, -0.3637, -0.3637, -0.3637, -0.4278, -0.4278, -0.4278, -0.4278, -0.4278, -0.4278, -0.4278, -1.2603, -1.305, -1.6055, -0.9716, -1.2644, -0.7864, -0.9716, -0.6096, -1.0416, -0.6297, -1.0474, 2.498, 2.498, 2.498, 2.498, 2.498, 2.498, 2.498, 2.498, 2.498, 2.0819, 2.01, 1.9989, 1.8085, 1.5329, 0.4161, 0.4024, -0.3354, -0.3354, -0.3354, -0.3354, -0.3994, -0.3994, -0.3994, -0.3994, -0.3994, -0.3994, -0.3994, -0.4397, -0.4397, -0.4397, -1.2319, -1.2767, -1.5771, -0.9432, -0.7581, -0.9432, -0.5813, -1.0132, -0.6014, -1.019, -0.6014, -0.6014, -0.6014, -1.0179, 2.5383, 2.5383, 2.5383, 2.5383, 2.5383, 2.5383, 2.5383, 2.5383, 2.5383, 2.5383, 2.5383, 2.5383, 2.5383, 2.258, 2.046, 0.0343, -0.3062, -0.3062, -0.3062, -0.3062, -0.3702, -0.3702, -0.3702, -0.3702, -0.3702, -0.3702, -0.3702, -0.4105, -0.4105, -0.4105, -0.621, -1.2027, -1.2475, -1.5479, -0.914, -1.2069, -0.7289, -0.914, -0.5521, -0.984, -0.5722, -0.9898, -0.5722, -0.5722, 2.6301, 2.6301, 2.6301, 2.6301, 2.6301, 2.6301, 2.6301, 2.6301, 2.6301, 2.6301, 2.6301, 2.6301, 2.6301, 2.2748, 2.1995, 1.6338, -0.2451, -0.2451, -0.2451, -0.2451, -0.3091, -0.3091, -0.3091, -0.3091, -0.3091, -0.3091, -0.3091, -0.3494, -0.3494, -0.3494, -0.5737, -1.1416, -1.1864, -1.4869, -0.8529, -1.1458, -0.6678, -0.8529, -0.491, -0.9229, -0.5111, -0.9287, -0.5111, -0.5111, 2.745, 2.745, 2.745, 2.745, 2.745, 2.745, 2.745, 2.6784, 2.3089, 2.2876, 2.2748, 2.2717, 1.676, -0.1458, -0.1458, -0.1458, -0.1458, -0.2099, -0.2099, -0.2099, -0.2099, -0.2099, -0.2099, -0.2099, -0.2502, -0.2502, -0.2502, -0.2502, -0.2502, -0.2502, -1.0424, -3.5189, -1.0871, -1.3876, -0.7537, -1.0465, -0.5685, -0.7537, -0.3917, -0.8236, -0.4118, -0.8295, -0.4118, -0.4118, -0.4118, -0.8284, -0.4118, 2.848, 2.848, 2.848, 2.848, 2.5481, 2.4069, 2.3629, 2.3629, 2.3503, 2.0701, 1.9162, 1.8958, -0.0737, -0.0737, -0.0737, -0.0737, -0.1378, -0.1378, -0.1378, -0.1378, -0.1378, -0.1378, -0.1378, -0.1781, -0.1781, -0.1781, -0.1781, -0.1781, -0.1781, -0.1781, -0.9703, -3.4468, -1.015, -1.3155, -0.3196, -0.7515, -0.3397, -0.7574, -0.3397, -0.3397, -0.3397, -0.7563, -0.3397, -0.7375, -0.8069, 2.9045, 2.9045, 2.9045, 2.9045, 2.9045, 2.9045, 2.9045, 2.6233, 2.4842, 2.0676, -0.0356, -0.0356, -0.0356, -0.0356, -0.0997, -0.0997, -0.0997, -0.0997, -0.0997, -0.0997, -0.0997, -0.1584, -0.1584, -0.1584, -0.1584, -0.1893, -0.1893, -0.1893, -0.1893, -0.1893, -0.9322, -3.4087, -1.2774, -0.6435, -0.9363, -0.4583, -0.6435, -0.2815, -0.7134, -0.3016, -0.7193, -0.3016, -0.3016, -0.3016, -0.7182, -0.3016, -0.6994, 3.0257, 3.0257, 3.0257, 3.0257, 3.0257, 3.0257, 3.0257, 2.5632, 2.4661, 0.0452, 0.0452, 0.0452, 0.0452, -0.0591, -0.0591, -0.0591, -0.0591, -0.0591, -0.0591, -0.0591, -0.0775, -0.0775, -0.0775, -0.0775, -0.1084, -0.1084, -0.1084, -0.1084, -0.1084, -0.1084, -0.8513, -3.3279, -0.8961, -1.1965, -0.5626, -0.8555, -0.3775, -0.5626, -0.2007, -0.6326, -0.2208, -0.6384, -0.2208, -0.2208, -0.2208, -0.6373, -0.2208, -0.6186, 3.1777, 3.1777, 3.1777, 3.1777, 2.755, 2.2812, 2.1027, 0.0691, 0.0691, 0.0691, 0.0691, 0.0691, 0.0691, 0.0691, 0.0288, 0.0288, 0.0288, 0.0288, 0.0288, 0.0288, 0.0288, 0.0104, 0.0104, 0.0104, 0.0104, -0.0204, -0.0204, -0.0204, -0.0204, -0.0204, -3.2399, -0.8081, -1.1086, -0.4747, -0.7675, -0.4747, -0.1127, -0.5446, -0.1328, -0.5505, -0.1328, -0.1328, -0.1328, -0.5494, -0.1328, -0.5306, -0.6, -0.1328, -0.1549, -0.5455, -0.1144, -1.0367, -0.1144, 0.5216, 0.5216, 0.5216, 0.5216, 0.4575, 0.4575, 0.4575, 0.4575, 0.4575, 0.4575, 0.4575, 0.4172, 0.4172, 0.4172, 0.4172, 0.4172, 0.4172, 0.4172, 0.3988, 0.3988, 0.3988, 0.3988, 0.3679, 0.3679, 0.3679, 0.3679, 0.3679, 0.3679, 0.3679, 0.3523, -0.375, -2.8515, -0.4197, -0.7202, -0.0863, -0.3791, 0.0989, -0.0863, 0.2757, -0.1562, 0.2556, -0.1621, 0.2556, 0.2556, 0.2556, -0.161, 0.2556, -0.1423, -0.2116, 0.2556, 0.2335, -0.1571, 0.274, -0.6483, 0.274, 0.274, -0.1573]}, \"token.table\": {\"Topic\": [8, 14, 1, 4, 7, 7, 2, 2, 7, 1, 5, 2, 12, 8, 15, 10, 2, 13, 4, 5, 3, 7, 1, 1, 11, 1, 2, 3, 5, 8, 15, 11, 7, 4, 7, 9, 5, 3, 14, 1, 7, 2, 5, 7, 3, 7, 11, 17, 1, 1, 17, 1, 2, 6, 1, 1, 6, 11, 5, 5, 7, 9, 4, 16, 10, 1, 2, 3, 4, 5, 6, 7, 8, 11, 12, 13, 14, 2, 6, 15, 5, 9, 4, 2, 9, 15, 6, 7, 1, 5, 8, 10, 8, 6, 12, 16, 1, 12, 8, 2, 8, 3, 11, 1, 9, 11, 2, 3, 10, 8, 8, 5, 6, 13, 10, 16, 1, 4, 6, 2, 4, 1, 6, 9, 5, 8, 2, 16, 7, 6, 8, 1, 12, 3, 14, 11, 6, 1, 16, 16, 13, 10, 13, 6, 10, 14, 10, 9, 15, 2, 13, 2, 4, 13, 8, 5, 8, 9, 13, 3, 1, 9, 1, 2, 12, 2, 1, 6, 4, 8, 11, 11, 9, 11, 16, 11, 3, 16, 9, 14, 8, 12, 15, 4, 1, 2, 12, 6, 6, 10, 6, 9, 13, 1, 2, 13, 16, 4, 9, 6, 15, 4, 16, 8, 9, 10, 1, 17, 14, 2, 5, 10, 10, 3, 16, 17, 6, 2, 8, 15, 1, 7, 5, 6, 15, 14, 3, 11, 1, 13, 12, 11, 2, 6, 3, 1, 5, 4, 3, 8, 4, 6, 11, 14, 4, 7, 10, 12, 4, 2, 1, 2, 9, 1, 12, 9, 9, 7, 5, 4, 10, 14, 15, 4, 17, 6, 13, 1, 4, 7, 4, 14, 2, 3, 2, 3, 1, 15, 17, 3, 12, 13, 3, 14, 4, 10, 1, 2, 3, 4, 5, 6, 7, 8, 10, 11, 12, 13, 14, 3, 10, 1, 13, 8, 5, 10, 13, 14, 14, 17, 3, 9, 8, 2, 10, 16, 9, 12, 10, 9, 4, 7, 12, 1, 11, 6, 7, 11, 2, 2, 8, 17, 1, 5, 4, 15, 1, 12, 2, 4, 6, 7, 8, 5, 4, 15, 13, 5, 1, 5, 4, 9, 7, 1, 2, 6, 8, 2, 1, 6, 1, 3, 6, 9, 5, 8, 8, 11, 10, 8, 2, 4, 2, 4, 6, 17, 14, 5, 3, 14, 3, 17], \"Freq\": [0.8237407810090012, 0.890815378523525, 0.7514996302443526, 0.8051980371295206, 0.8251332974674545, 0.8251332974674545, 0.7637892593316663, 0.43048020449147695, 0.43048020449147695, 0.503684600445112, 0.503684600445112, 0.7637892593316663, 0.8543233394437835, 0.5726896974493926, 0.5726896974493926, 0.8568023796439146, 0.7637892593316663, 0.8638100817603785, 0.805197961593143, 0.8145620289035028, 0.5254520575234888, 0.5254520575234888, 0.7514996302443526, 0.7514996302443526, 0.8633519081552884, 0.2930083466895408, 0.2930083466895408, 0.2930083466895408, 0.2930083466895408, 0.8237407810090012, 0.9048717427479531, 0.8633519081552884, 0.8251332974674545, 0.5316606036747304, 0.5316606036747304, 0.8495496311726872, 0.8146067175243453, 0.7910424748612509, 0.890815378523525, 0.5077066774411649, 0.5077066774411649, 0.7637892593316663, 0.5357270566970013, 0.5357270566970013, 0.5254520575234888, 0.5254520575234888, 0.8633519081552884, 0.950587067215916, 0.7514996302443526, 0.7514996302443526, 0.950587067215916, 0.3662248158206861, 0.3662248158206861, 0.3662248158206861, 0.7514996302443526, 0.38766034395512305, 0.38766034395512305, 0.38766034395512305, 0.8145620289035028, 0.8145620289035028, 0.5506417377936431, 0.5506417377936431, 0.5745472295730651, 0.5745472295730651, 0.8568023796439146, 0.21704191349775076, 0.18086826124812563, 0.07234730449925025, 0.03617365224962513, 0.10852095674887538, 0.03617365224962513, 0.10852095674887538, 0.03617365224962513, 0.03617365224962513, 0.07234730449925025, 0.03617365224962513, 0.03617365224962513, 0.5068815857140668, 0.5068815857140668, 0.9048717427479531, 0.8145620289035028, 0.8495496311726872, 0.805197961593143, 0.7637892593316663, 0.5850462960181131, 0.5850462960181131, 0.808706523832945, 0.8251332974674545, 0.503699768883337, 0.503699768883337, 0.8237407810090012, 0.8568023796439146, 0.8237407810090012, 0.4286927614918174, 0.4286927614918174, 0.4286927614918174, 0.7514996302443526, 0.8543233959038229, 0.8237407810090012, 0.7637892593316663, 0.8237407810090012, 0.7910424748612509, 0.8633519081552884, 0.39680500454833567, 0.39680500454833567, 0.39680500454833567, 0.49988515934733185, 0.49988515934733185, 0.8568023796439146, 0.8237407810090012, 0.8237407810090012, 0.8145620289035028, 0.808706523832945, 0.8638100817603785, 0.6003479802963432, 0.6003479802963432, 0.7514996302443526, 0.805197961593143, 0.808706523832945, 0.7637892593316663, 0.5233124212307655, 0.7514996302443526, 0.8087065961818637, 0.8495496311726872, 0.8145620289035028, 0.8237407810090012, 0.7637892593316663, 0.9332474615846309, 0.5402794495124299, 0.5326062286993642, 0.5326062286993642, 0.7514996302443526, 0.8543233959038229, 0.7910424748612509, 0.8908154301097865, 0.8633519081552884, 0.808706523832945, 0.7514996302443526, 0.9332474615846309, 0.9332474615846309, 0.8638100817603785, 0.8568023796439146, 0.8638100817603785, 0.5462343773694097, 0.5462343773694097, 0.8908154301097865, 0.8568023796439146, 0.8495496311726872, 0.9048717427479531, 0.7637892593316663, 0.8638100817603785, 0.7637892593316663, 0.8051980371295206, 0.8638100817603785, 0.8237407810090012, 0.8146030093563872, 0.550021248558313, 0.550021248558313, 0.8638100817603785, 0.7910424748612509, 0.9576761836633276, 0.8495496311726872, 0.7514996302443526, 0.7637892593316663, 0.8543233394437835, 0.7637892593316663, 0.5014395479021662, 0.5014395479021662, 0.805197961593143, 0.555773681629068, 0.555773681629068, 0.8633519081552884, 0.8495496311726872, 0.8633519081552884, 0.69142708488605, 0.8633519081552884, 0.5673034784917214, 0.5673034784917214, 0.5791378879583011, 0.5791378879583011, 0.8237407810090012, 0.8543233959038229, 0.9048717427479531, 0.805197961593143, 0.7514996302443526, 0.5244328605464731, 0.5244328605464731, 0.808706523832945, 0.5462343773694097, 0.5462343773694097, 0.8087065961818637, 0.8495496311726872, 0.8638100817603785, 0.5655666925379192, 0.5279923810864803, 0.5279923810864803, 0.9332474615846309, 0.5416918717092811, 0.5416918717092811, 0.5653823114523452, 0.5653823114523452, 0.5745472295730651, 0.5745472295730651, 0.327514239755518, 0.327514239755518, 0.327514239755518, 0.7514996302443526, 0.950587067215916, 0.890815378523525, 0.7637892593316663, 0.8145620289035028, 0.8568023796439146, 0.8568023796439146, 0.3675424195123228, 0.3675424195123228, 0.3675424195123228, 0.8087065961818637, 0.6213580720384522, 0.3106790360192261, 0.3106790360192261, 0.7514996302443526, 0.8251332974674545, 0.8145620289035028, 0.808706523832945, 0.9048717427479531, 0.8908154301097865, 0.7910424748612509, 0.8633519081552884, 0.7514996302443526, 0.8638100817603785, 0.8543233394437835, 0.8633519081552884, 0.7637892593316663, 0.808706523832945, 0.7910424748612509, 0.7514996302443526, 0.8145620289035028, 0.8051980371295206, 0.8988095699240298, 0.8012792517212396, 0.3288991192260236, 0.3288991192260236, 0.3288991192260236, 0.3288991192260236, 0.32545379749482567, 0.32545379749482567, 0.32545379749482567, 0.32545379749482567, 0.805197961593143, 0.7637892593316663, 0.7514996302443526, 0.7637892593316663, 0.8495496311726872, 0.7514996302443526, 0.8543233959038229, 0.8495496311726872, 0.8495496311726872, 0.8251332974674545, 0.8145620289035028, 0.805197961593143, 0.8568023796439146, 0.8908154301097865, 0.9048717427479531, 0.8051980371295206, 0.950587067215916, 0.8087065961818637, 0.8638100817603785, 0.7514996302443526, 0.8051980371295206, 0.8251332974674545, 0.8051980371295206, 0.890815378523525, 0.7637892593316663, 0.7910424748612509, 0.49988515934733185, 0.49988515934733185, 0.7514996302443526, 0.9048717427479531, 0.950587067215916, 0.5114167468374151, 0.8543233959038229, 0.8638100817603785, 0.7910424748612509, 0.890815378523525, 0.805197961593143, 0.8568023796439146, 0.1833676535604794, 0.25671471498467113, 0.11002059213628763, 0.03667353071209588, 0.07334706142419176, 0.03667353071209588, 0.11002059213628763, 0.03667353071209588, 0.03667353071209588, 0.03667353071209588, 0.07334706142419176, 0.03667353071209588, 0.8908154301097865, 0.5381181136456586, 0.5381181136456586, 0.7514996302443526, 0.8638100817603785, 0.8237407810090012, 0.33430983291204747, 0.33430983291204747, 0.33430983291204747, 0.890815378523525, 0.6243788741901615, 0.6243788741901615, 0.5352482184445987, 0.5352482184445987, 0.8237407810090012, 0.36013164035575534, 0.36013164035575534, 0.36013164035575534, 0.5634899783449074, 0.5634899783449074, 0.8568023796439146, 0.8495496311726872, 0.8051980371295206, 0.8251332974674545, 0.8543233959038229, 0.5828484340324871, 0.29142421701624355, 0.5331880267827159, 0.5331880267827159, 0.8633519081552884, 0.7637892593316663, 0.4116405951988988, 0.4116405951988988, 0.4116405951988988, 0.503684600445112, 0.503684600445112, 0.43359966103375885, 0.43359966103375885, 0.5186095701275326, 0.5186095701275326, 0.3048046709598937, 0.3048046709598937, 0.3048046709598937, 0.3048046709598937, 0.8237407810090012, 0.8145620289035028, 0.5636651979234657, 0.5636651979234657, 0.8638100817603785, 0.8145620289035028, 0.7514996302443526, 0.8145620289035028, 0.39760770111744603, 0.39760770111744603, 0.8251332974674545, 0.7514996302443526, 0.7637892593316663, 0.8087065961818637, 0.8237407810090012, 0.7637892593316663, 0.7514996302443526, 0.808706523832945, 0.7514996302443526, 0.7910424748612509, 0.5432775283769935, 0.5432775283769935, 0.535139707452563, 0.535139707452563, 0.8237407810090012, 0.8633519081552884, 0.6232099446886668, 0.8237407810090012, 0.5055009976861266, 0.5055009976861266, 0.5055010274572237, 0.5055010274572237, 0.808706523832945, 0.950587067215916, 0.8908154301097865, 0.8145620289035028, 0.7910424748612509, 0.8908154301097865, 0.5114167468374151, 0.950587067215916], \"Term\": [\"abstract\", \"academic\", \"actionable\", \"affect\", \"agricultural\", \"algorithm\", \"alternative\", \"analysis\", \"analysis\", \"analytic\", \"analytic\", \"analyze\", \"application\", \"approach\", \"approach\", \"approximate\", \"article\", \"aspiration\", \"audio\", \"automate\", \"automation\", \"automation\", \"backbone\", \"become\", \"behavior\", \"big\", \"big\", \"big\", \"big\", \"binding\", \"biology\", \"business\", \"call\", \"center\", \"center\", \"chain\", \"city\", \"class\", \"classroom\", \"climate\", \"climate\", \"closing\", \"cluster\", \"cluster\", \"cognitive\", \"cognitive\", \"comment\", \"community\", \"competence\", \"completion\", \"complex\", \"computational\", \"computational\", \"computational\", \"computing\", \"course\", \"course\", \"course\", \"cs\", \"curriculum\", \"data\", \"data\", \"database\", \"database\", \"dataset\", \"datum\", \"datum\", \"datum\", \"datum\", \"datum\", \"datum\", \"datum\", \"datum\", \"datum\", \"datum\", \"datum\", \"datum\", \"decision\", \"decision\", \"decode\", \"deep\", \"defect\", \"degradation\", \"demand\", \"design\", \"design\", \"detection\", \"develop\", \"development\", \"development\", \"dichotomy\", \"dimensional\", \"direct\", \"discovery\", \"discovery\", \"discovery\", \"distribute\", \"diversity\", \"division\", \"drive\", \"dynamic\", \"earth\", \"editor\", \"editorial\", \"editorial\", \"editorial\", \"education\", \"education\", \"efficient\", \"emerge\", \"empirical\", \"endeavor\", \"environment\", \"ethic\", \"evolution\", \"evolution\", \"example\", \"execution\", \"exercise\", \"exploration\", \"expression\", \"extreme\", \"false\", \"family\", \"feature\", \"foreign\", \"formal\", \"formation\", \"foundation\", \"functional\", \"functional\", \"future\", \"gender\", \"general\", \"geography\", \"global\", \"grid\", \"ground\", \"group\", \"growth\", \"happiness\", \"health\", \"hermeneutic\", \"high\", \"high\", \"identifier\", \"illusion\", \"imbalanced\", \"implementation\", \"imputation\", \"income\", \"incomplete\", \"indexing\", \"individual\", \"induction\", \"industrial\", \"inference\", \"inference\", \"information\", \"infrastructure\", \"insight\", \"inspire\", \"intelligence\", \"intensive\", \"interface\", \"introduction\", \"introductory\", \"introductory\", \"investigate\", \"investment\", \"investment\", \"investor\", \"issue\", \"journal\", \"knowledge\", \"laboratory\", \"large\", \"large\", \"learn\", \"learn\", \"learning\", \"let\", \"life\", \"lifetime\", \"local\", \"make\", \"make\", \"making\", \"management\", \"management\", \"map\", \"markov\", \"mass\", \"matrix\", \"medium\", \"medium\", \"membership\", \"method\", \"method\", \"methodology\", \"methodology\", \"mining\", \"mining\", \"model\", \"model\", \"model\", \"modern\", \"monitor\", \"motivational\", \"multiple\", \"natural\", \"near\", \"neighbor\", \"network\", \"network\", \"network\", \"neuroimaging\", \"new\", \"new\", \"new\", \"noise\", \"noisy\", \"non\", \"novel\", \"novice\", \"object\", \"oceanography\", \"okcupid\", \"opportunity\", \"optimal\", \"optimisation\", \"optimization\", \"original\", \"outlier\", \"page\", \"parallel\", \"parallelism\", \"path\", \"peer\", \"people\", \"performance\", \"performance\", \"performance\", \"performance\", \"perspective\", \"perspective\", \"perspective\", \"perspective\", \"plan\", \"political\", \"precursor\", \"predict\", \"prediction\", \"prepare\", \"priority\", \"probabilistic\", \"probe\", \"productivity\", \"program\", \"protocol\", \"psychological\", \"publish\", \"qualitative\", \"query\", \"random\", \"rate\", \"rational\", \"recent\", \"recognition\", \"reconstruct\", \"regular\", \"regulate\", \"relationship\", \"replication\", \"requirement\", \"requirement\", \"research\", \"researcher\", \"reveal\", \"review\", \"right\", \"role\", \"rough\", \"round\", \"sampling\", \"scale\", \"science\", \"science\", \"science\", \"science\", \"science\", \"science\", \"science\", \"science\", \"science\", \"science\", \"science\", \"science\", \"scientific\", \"search\", \"search\", \"second\", \"seek\", \"segment\", \"selection\", \"selection\", \"selection\", \"self\", \"sensor\", \"sensor\", \"set\", \"set\", \"simple\", \"social\", \"social\", \"social\", \"software\", \"software\", \"space\", \"special\", \"spontaneous\", \"standard\", \"start\", \"statistic\", \"statistic\", \"statistical\", \"statistical\", \"stochastic\", \"strength\", \"structure\", \"structure\", \"structure\", \"student\", \"student\", \"study\", \"study\", \"support\", \"support\", \"survey\", \"survey\", \"survey\", \"survey\", \"syntax\", \"synthesis\", \"system\", \"system\", \"task\", \"teach\", \"teaching\", \"technique\", \"technology\", \"technology\", \"telephone\", \"think\", \"thought\", \"thresholde\", \"throughput\", \"tie\", \"toolkit\", \"transfer\", \"uncertainty\", \"unstructured\", \"use\", \"use\", \"validation\", \"validation\", \"variable\", \"various\", \"version\", \"viewpoint\", \"vision\", \"vision\", \"visual\", \"visual\", \"visualization\", \"volcano\", \"volunteer\", \"web\", \"workshop\", \"world\", \"writing\", \"yield\"]}, \"R\": 30, \"lambda.step\": 0.01, \"plot.opts\": {\"xlab\": \"PC1\", \"ylab\": \"PC2\"}, \"topic.order\": [12, 16, 7, 15, 2, 9, 6, 11, 4, 8, 13, 10, 1, 3, 20, 19, 18, 5, 14, 17]};\n",
              "\n",
              "function LDAvis_load_lib(url, callback){\n",
              "  var s = document.createElement('script');\n",
              "  s.src = url;\n",
              "  s.async = true;\n",
              "  s.onreadystatechange = s.onload = callback;\n",
              "  s.onerror = function(){console.warn(\"failed to load library \" + url);};\n",
              "  document.getElementsByTagName(\"head\")[0].appendChild(s);\n",
              "}\n",
              "\n",
              "if(typeof(LDAvis) !== \"undefined\"){\n",
              "   // already loaded: just create the visualization\n",
              "   !function(LDAvis){\n",
              "       new LDAvis(\"#\" + \"ldavis_el581402576316674088821689692\", ldavis_el581402576316674088821689692_data);\n",
              "   }(LDAvis);\n",
              "}else if(typeof define === \"function\" && define.amd){\n",
              "   // require.js is available: use it to load d3/LDAvis\n",
              "   require.config({paths: {d3: \"https://d3js.org/d3.v5\"}});\n",
              "   require([\"d3\"], function(d3){\n",
              "      window.d3 = d3;\n",
              "      LDAvis_load_lib(\"https://cdn.jsdelivr.net/gh/bmabey/pyLDAvis@3.2.2/pyLDAvis/js/ldavis.v3.0.0.js\", function(){\n",
              "        new LDAvis(\"#\" + \"ldavis_el581402576316674088821689692\", ldavis_el581402576316674088821689692_data);\n",
              "      });\n",
              "    });\n",
              "}else{\n",
              "    // require.js not available: dynamically load d3 & LDAvis\n",
              "    LDAvis_load_lib(\"https://d3js.org/d3.v5.js\", function(){\n",
              "         LDAvis_load_lib(\"https://cdn.jsdelivr.net/gh/bmabey/pyLDAvis@3.2.2/pyLDAvis/js/ldavis.v3.0.0.js\", function(){\n",
              "                 new LDAvis(\"#\" + \"ldavis_el581402576316674088821689692\", ldavis_el581402576316674088821689692_data);\n",
              "            })\n",
              "         });\n",
              "}\n",
              "</script>"
            ],
            "text/plain": [
              "PreparedData(topic_coordinates=              x         y  topics  cluster       Freq\n",
              "topic                                                \n",
              "11    -0.173267 -0.034106       1        1  11.542699\n",
              "15    -0.162166  0.018047       2        1  10.406014\n",
              "6     -0.098721 -0.012369       3        1   7.154118\n",
              "14     0.035476  0.186144       4        1   6.640026\n",
              "1     -0.117992 -0.047216       5        1   6.360106\n",
              "8     -0.020079  0.042885       6        1   6.304768\n",
              "5     -0.131149  0.050732       7        1   6.230833\n",
              "10     0.039694 -0.154941       8        1   6.226442\n",
              "3      0.130240 -0.007792       9        1   4.713811\n",
              "7      0.065233 -0.016787      10        1   4.509916\n",
              "12    -0.052053 -0.010298      11        1   4.442711\n",
              "9     -0.078505  0.016364      12        1   4.408751\n",
              "0     -0.029024 -0.022332      13        1   4.189765\n",
              "2      0.061273  0.008677      14        1   3.704909\n",
              "19     0.109594  0.007637      15        1   3.248397\n",
              "18     0.102240  0.026065      16        1   2.831583\n",
              "17     0.096722 -0.028212      17        1   2.618872\n",
              "4      0.088204 -0.017134      18        1   2.205903\n",
              "13     0.078703  0.000055      19        1   1.730566\n",
              "16     0.055578 -0.005419      20        1   0.529809, topic_info=          Term       Freq      Total Category  logprob  loglift\n",
              "68     science  27.000000  27.000000  Default   30.000  30.0000\n",
              "1        datum  27.000000  27.000000  Default   29.000  29.0000\n",
              "32        peer   3.000000   3.000000  Default   28.000  28.0000\n",
              "31     network   2.000000   2.000000  Default   27.000  27.0000\n",
              "51      social   2.000000   2.000000  Default   26.000  26.0000\n",
              "..         ...        ...        ...      ...      ...      ...\n",
              "25   empirical   0.008459   1.213974  Topic20   -5.687   0.2740\n",
              "26       model   0.008459   3.053302  Topic20   -5.687  -0.6483\n",
              "27      simple   0.008459   1.213974  Topic20   -5.687   0.2740\n",
              "28  throughput   0.008459   1.213974  Topic20   -5.687   0.2740\n",
              "29  validation   0.008459   1.868671  Topic20   -5.687  -0.1573\n",
              "\n",
              "[861 rows x 6 columns], token_table=      Topic      Freq          Term\n",
              "term                               \n",
              "131       8  0.823741      abstract\n",
              "39       14  0.890815      academic\n",
              "291       1  0.751500    actionable\n",
              "79        4  0.805198        affect\n",
              "100       7  0.825133  agricultural\n",
              "...     ...       ...           ...\n",
              "220       5  0.814562           web\n",
              "182       3  0.791042      workshop\n",
              "88       14  0.890815         world\n",
              "286       3  0.511417       writing\n",
              "142      17  0.950587         yield\n",
              "\n",
              "[382 rows x 3 columns], R=30, lambda_step=0.01, plot_opts={'xlab': 'PC1', 'ylab': 'PC2'}, topic_order=[12, 16, 7, 15, 2, 9, 6, 11, 4, 8, 13, 10, 1, 3, 20, 19, 18, 5, 14, 17])"
            ]
          },
          "metadata": {
            "tags": []
          },
          "execution_count": 91
        }
      ]
    },
    {
      "cell_type": "markdown",
      "metadata": {
        "id": "CNPOIxJsUxEO"
      },
      "source": [
        "## (2) (8 points) Generate K topics by using LSA, the number of topics K should be decided by the coherence score, then summarize what are the topics. You may refer the code here:\n",
        "\n",
        "https://www.datacamp.com/community/tutorials/discovering-hidden-topics-python"
      ]
    },
    {
      "cell_type": "code",
      "metadata": {
        "id": "CXuC7UIWUxEQ"
      },
      "source": [
        "# Write your code here\n",
        "import os.path\n",
        "from gensim import corpora\n",
        "from gensim.models import LsiModel\n",
        "from nltk.tokenize import RegexpTokenizer\n",
        "from nltk.corpus import stopwords\n",
        "from nltk.stem.porter import PorterStemmer\n",
        "from gensim.models.coherencemodel import CoherenceModel\n",
        "import matplotlib.pyplot as plt\n"
      ],
      "execution_count": 7,
      "outputs": []
    },
    {
      "cell_type": "code",
      "metadata": {
        "id": "HpohgaZ6V7g5"
      },
      "source": [
        "def preprocess_data(docu_set):  \n",
        "    tokenize = RegexpTokenizer(r'\\w+')\n",
        "    en_stop_ = set(stopwords.words('english'))\n",
        "    p_stemm_er = PorterStemmer()\n",
        "    data = []\n",
        "    for x in docu_set:\n",
        "        raw = x.lower()\n",
        "        token = tokenize.tokenize(raw)\n",
        "        tokens_stopped = [x for x in token if not x in en_stop_]\n",
        "        tokens_stemmed = [p_stemm_er.stem(x) for x in tokens_stopped]\n",
        "        data.append(tokens_stemmed)\n",
        "    return data\n",
        "def preparation_corpus(doc_clean):\n",
        "    dictionary = corpora.Dictionary(doc_clean)\n",
        "    doc_matrix = [dictionary.doc2bow(text) for text in doc_clean]\n",
        "    return dictionary,doc_matrix\n",
        "def gensim_lsa_model_create(doc_clean,number_of_topics,words):\n",
        "    dictionary,doc_matrix=preparation_corpus(doc_clean)\n",
        "    lsamodel_ = LsiModel(doc_matrix, num_of_topics=number_of_topics, id2word = dictionary)  # train model\n",
        "    print(lsamodel_.print_topics(num_of_topics=number_of_topics, num_words=words))\n",
        "    return lsamodel_\n",
        "def coherence_values_compute(dictionary, doc_matrix, doc_clean, stop, start=2, step=3):\n",
        "    coherence_values_ = []\n",
        "    model_list_ = []\n",
        "    for num_of_topics in range(start, stop, step):\n",
        "      model = LsiModel(doc_matrix, num_of_topics, id2word = dictionary)  # train model\n",
        "      model_list_.append(model)\n",
        "      coherencemodel = CoherenceModel(model=model, texts=doc_clean, dictionary=dictionary, coherence='c_v')\n",
        "      coherence_values_.append(coherencemodel.get_coherence())\n",
        "    return model_list_, coherence_values_\n",
        "def graph(doc_clean,start, stop, step):\n",
        "    dictionary,doc_matrix=preparation_corpus(doc_clean)\n",
        "    model_list_, coherence_values_ = coherence_values_compute(dictionary, doc_matrix,doc_clean,stop, start, step)\n",
        "    x = range(start, stop, step)\n",
        "    plt.plot(x, coherence_values_)\n",
        "    plt.xlabel(\"Number of Topics\")\n",
        "    plt.ylabel(\"Coherence score\")\n",
        "    plt.legend((\"coherence_values_\"), loc='best')\n",
        "    plt.show()"
      ],
      "execution_count": 26,
      "outputs": []
    },
    {
      "cell_type": "code",
      "metadata": {
        "colab": {
          "base_uri": "https://localhost:8080/",
          "height": 279
        },
        "id": "o19kETVdWrdA",
        "outputId": "63edca2e-6c4b-40e4-9761-fe8a03784fbb"
      },
      "source": [
        "start,stop,step=2,12,1\n",
        "clean_text_=preprocess_data(titles)\n",
        "graph(clean_text_,start,stop,step)"
      ],
      "execution_count": 28,
      "outputs": [
        {
          "output_type": "display_data",
          "data": {
            "image/png": "[encoded data removed]",
            "text/plain": [
              "<Figure size 432x288 with 1 Axes>"
            ]
          },
          "metadata": {
            "tags": [],
            "needs_background": "light"
          }
        }
      ]
    },
    {
      "cell_type": "code",
      "metadata": {
        "colab": {
          "base_uri": "https://localhost:8080/"
        },
        "id": "mjbWjCTAW5mT",
        "outputId": "6517a9da-c5a2-4d87-b61b-0bbd196321f9"
      },
      "source": [
        "number_of_topics=2\n",
        "words=10\n",
        "clean_text=preprocess_data(titles)\n",
        "model=create_gensim_lsa_model(clean_text,number_of_topics,words)"
      ],
      "execution_count": 29,
      "outputs": [
        {
          "output_type": "stream",
          "text": [
            "[(0, '-0.596*\"scienc\" + -0.506*\"data\" + -0.190*\"write\" + -0.190*\"earth\" + -0.190*\"peer\" + -0.190*\"review\" + -0.185*\"1\" + -0.185*\"educ\" + -0.179*\"new\" + -0.147*\"comput\"'), (1, '-0.353*\"write\" + -0.353*\"peer\" + -0.353*\"review\" + -0.353*\"earth\" + 0.278*\"new\" + 0.221*\"scienc\" + 0.216*\"comput\" + -0.177*\"oceanographi\" + -0.177*\"gener\" + -0.177*\"larg\"')]\n"
          ],
          "name": "stdout"
        }
      ]
    },
    {
      "cell_type": "markdown",
      "metadata": {
        "id": "Bo2bdLfRUxEQ"
      },
      "source": [
        "## (3) (4 points) Compare the results generated by the two topic modeling algorithms, which one is better? You should explain the reasons in details."
      ]
    },
    {
      "cell_type": "markdown",
      "metadata": {
        "id": "JOBVm4pefErB"
      },
      "source": [
        "# Write your answer here (no code needed for this question)\n",
        "LDA has 20 point models and LSA has 2 theme models; but, although the two models have same number of terms, LSA has fewer dimensions than LDA. LSA is faster than LDA since there are only two topic versions. Despite the fact that the yields of both models are equivalent, both have preprocessing measures to lemmatize the sentences, and LDA is performed using the a diricilet strategy, while LSA is carried out in a probabilistic manner."
      ]
    }
  ]
}