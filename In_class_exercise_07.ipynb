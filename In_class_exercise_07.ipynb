{
  "nbformat": 4,
  "nbformat_minor": 0,
  "metadata": {
    "kernelspec": {
      "display_name": "Python 3",
      "language": "python",
      "name": "python3"
    },
    "language_info": {
      "codemirror_mode": {
        "name": "ipython",
        "version": 3
      },
      "file_extension": ".py",
      "mimetype": "text/x-python",
      "name": "python",
      "nbconvert_exporter": "python",
      "pygments_lexer": "ipython3",
      "version": "3.8.5"
    },
    "colab": {
      "name": "In_class_exercise_07.ipynb",
      "provenance": [],
      "collapsed_sections": [],
      "include_colab_link": true
    }
  },
  "cells": [
    {
      "cell_type": "markdown",
      "metadata": {
        "id": "view-in-github",
        "colab_type": "text"
      },
      "source": [
        "<a href=\"https://colab.research.google.com/github/Akshitasama/akshita_INFO5731_Spring2021/blob/main/In_class_exercise_07.ipynb\" target=\"_parent\"><img src=\"https://colab.research.google.com/assets/colab-badge.svg\" alt=\"Open In Colab\"/></a>"
      ]
    },
    {
      "cell_type": "markdown",
      "metadata": {
        "id": "r-BQyQAmUxD7"
      },
      "source": [
        "# **The seventh in-class-exercise (20 points in total, 3/16/2021)**"
      ]
    },
    {
      "cell_type": "markdown",
      "metadata": {
        "id": "HniVKvFZUxEK"
      },
      "source": [
        "Question description: In the last in-class-exercise (exercise-06), you collected the titles of 100 articles about data science, natural language processing, and machine learning. The 100 article titles will be used as the text corpus of this exercise. Perform the following tasks:"
      ]
    },
    {
      "cell_type": "markdown",
      "metadata": {
        "id": "cYNLL3olUxEM"
      },
      "source": [
        "## (1) (8 points) Generate K topics by using LDA, the number of topics K should be decided by the coherence score, then summarize what are the topics. You may refer the code here: \n",
        "\n",
        "https://www.machinelearningplus.com/nlp/topic-modeling-gensim-python/"
      ]
    },
    {
      "cell_type": "code",
      "metadata": {
        "colab": {
          "base_uri": "https://localhost:8080/"
        },
        "id": "zS3FIeE7UxEN",
        "outputId": "5b7ed38a-ce9a-4c12-d52d-45158120d59b"
      },
      "source": [
        "# Write your code here\n",
        "\n",
        "\n",
        "# Write your code here\n",
        "import pandas as pd\n",
        "import requests\n",
        "from bs4 import BeautifulSoup\n",
        "def insert_array(values,refer_array):\n",
        "  for x in values:\n",
        "    refer_array.append(x.text)\n",
        "titles=[]\n",
        "for x in range(0,100,10):\n",
        "  link=\"http://citeseerx.ist.psu.edu/search?q=data+science&t=doc&sort=rlv&start=\"+str(i)\n",
        "  page=requests.get(link,headers={'User-Agent':'Chrome/85.0.4183.121'})\n",
        "  soup = BeautifulSoup(page.content, 'html.parser')\n",
        "  insert_array(soup.find_all('a', class_='remove doc_details'),titles)\n",
        "print(titles)\n",
        "data_frame = pd.DataFrame (titles,columns=['titles'])"
      ],
      "execution_count": 14,
      "outputs": [
        {
          "output_type": "stream",
          "text": [
            "['\\n                   How Computational Statistics Became the Backbone of Modern Data Science\\n', '\\n                  Efficient Search for Approximate Nearest Neighbor in High Dimensional Spaces\\n                  ', '\\n                  Model selection in ecology and evolution.\\n                  ', '\\n                  Local Ground:\\xa0 A\\xa0Toolkit\\xa0Supporting\\xa0Metarepresentational Competence in\\xa0Data\\xa0Science\\n', '\\n                  Visual Exploration of Formal Requirements for Data Science Demand Analysis\\n                  ', '\\n                  Earth Data, Science Writing, and Peer Review page 1 Earth Data, Science Writing, and Peer Review in a Large General Education Oceanography Class\\n                  ', '\\n                  An Online Algorithm for Segmenting Time Series\\n                  ', '\\n                  OUTLINE AND EXERCISES FOR A NOVEL INTRODUCTORY COURSE IN DATA SCIENCE AND VISUALIZATION\\n                  ', '\\n                   Computational Data Sciences for Actionable Insights on Climate Extremes and Uncertainty\\n                  ', '\\n                  The New Computational and Data Sciences Undergraduate Program at George Mason University 1 Data-Intensive Science: A New Vision for Science Education\\n                  ', '\\n                   How Computational Statistics Became the Backbone of Modern Data Science\\n', '\\n                  Efficient Search for Approximate Nearest Neighbor in High Dimensional Spaces\\n                  ', '\\n                  Model selection in ecology and evolution.\\n                  ', '\\n                  Local Ground:\\xa0 A\\xa0Toolkit\\xa0Supporting\\xa0Metarepresentational Competence in\\xa0Data\\xa0Science\\n', '\\n                  Visual Exploration of Formal Requirements for Data Science Demand Analysis\\n                  ', '\\n                  Earth Data, Science Writing, and Peer Review page 1 Earth Data, Science Writing, and Peer Review in a Large General Education Oceanography Class\\n                  ', '\\n                  An Online Algorithm for Segmenting Time Series\\n                  ', '\\n                  OUTLINE AND EXERCISES FOR A NOVEL INTRODUCTORY COURSE IN DATA SCIENCE AND VISUALIZATION\\n                  ', '\\n                   Computational Data Sciences for Actionable Insights on Climate Extremes and Uncertainty\\n                  ', '\\n                  The New Computational and Data Sciences Undergraduate Program at George Mason University 1 Data-Intensive Science: A New Vision for Science Education\\n                  ', '\\n                   How Computational Statistics Became the Backbone of Modern Data Science\\n', '\\n                  Efficient Search for Approximate Nearest Neighbor in High Dimensional Spaces\\n                  ', '\\n                  Model selection in ecology and evolution.\\n                  ', '\\n                  Local Ground:\\xa0 A\\xa0Toolkit\\xa0Supporting\\xa0Metarepresentational Competence in\\xa0Data\\xa0Science\\n', '\\n                  Visual Exploration of Formal Requirements for Data Science Demand Analysis\\n                  ', '\\n                  Earth Data, Science Writing, and Peer Review page 1 Earth Data, Science Writing, and Peer Review in a Large General Education Oceanography Class\\n                  ', '\\n                  An Online Algorithm for Segmenting Time Series\\n                  ', '\\n                  OUTLINE AND EXERCISES FOR A NOVEL INTRODUCTORY COURSE IN DATA SCIENCE AND VISUALIZATION\\n                  ', '\\n                   Computational Data Sciences for Actionable Insights on Climate Extremes and Uncertainty\\n                  ', '\\n                  The New Computational and Data Sciences Undergraduate Program at George Mason University 1 Data-Intensive Science: A New Vision for Science Education\\n                  ', '\\n                   How Computational Statistics Became the Backbone of Modern Data Science\\n', '\\n                  Efficient Search for Approximate Nearest Neighbor in High Dimensional Spaces\\n                  ', '\\n                  Model selection in ecology and evolution.\\n                  ', '\\n                  Local Ground:\\xa0 A\\xa0Toolkit\\xa0Supporting\\xa0Metarepresentational Competence in\\xa0Data\\xa0Science\\n', '\\n                  Visual Exploration of Formal Requirements for Data Science Demand Analysis\\n                  ', '\\n                  Earth Data, Science Writing, and Peer Review page 1 Earth Data, Science Writing, and Peer Review in a Large General Education Oceanography Class\\n                  ', '\\n                  An Online Algorithm for Segmenting Time Series\\n                  ', '\\n                  OUTLINE AND EXERCISES FOR A NOVEL INTRODUCTORY COURSE IN DATA SCIENCE AND VISUALIZATION\\n                  ', '\\n                   Computational Data Sciences for Actionable Insights on Climate Extremes and Uncertainty\\n                  ', '\\n                  The New Computational and Data Sciences Undergraduate Program at George Mason University 1 Data-Intensive Science: A New Vision for Science Education\\n                  ', '\\n                   How Computational Statistics Became the Backbone of Modern Data Science\\n', '\\n                  Efficient Search for Approximate Nearest Neighbor in High Dimensional Spaces\\n                  ', '\\n                  Model selection in ecology and evolution.\\n                  ', '\\n                  Local Ground:\\xa0 A\\xa0Toolkit\\xa0Supporting\\xa0Metarepresentational Competence in\\xa0Data\\xa0Science\\n', '\\n                  Visual Exploration of Formal Requirements for Data Science Demand Analysis\\n                  ', '\\n                  Earth Data, Science Writing, and Peer Review page 1 Earth Data, Science Writing, and Peer Review in a Large General Education Oceanography Class\\n                  ', '\\n                  An Online Algorithm for Segmenting Time Series\\n                  ', '\\n                  OUTLINE AND EXERCISES FOR A NOVEL INTRODUCTORY COURSE IN DATA SCIENCE AND VISUALIZATION\\n                  ', '\\n                   Computational Data Sciences for Actionable Insights on Climate Extremes and Uncertainty\\n                  ', '\\n                  The New Computational and Data Sciences Undergraduate Program at George Mason University 1 Data-Intensive Science: A New Vision for Science Education\\n                  ', '\\n                   How Computational Statistics Became the Backbone of Modern Data Science\\n', '\\n                  Efficient Search for Approximate Nearest Neighbor in High Dimensional Spaces\\n                  ', '\\n                  Model selection in ecology and evolution.\\n                  ', '\\n                  Local Ground:\\xa0 A\\xa0Toolkit\\xa0Supporting\\xa0Metarepresentational Competence in\\xa0Data\\xa0Science\\n', '\\n                  Visual Exploration of Formal Requirements for Data Science Demand Analysis\\n                  ', '\\n                  Earth Data, Science Writing, and Peer Review page 1 Earth Data, Science Writing, and Peer Review in a Large General Education Oceanography Class\\n                  ', '\\n                  An Online Algorithm for Segmenting Time Series\\n                  ', '\\n                  OUTLINE AND EXERCISES FOR A NOVEL INTRODUCTORY COURSE IN DATA SCIENCE AND VISUALIZATION\\n                  ', '\\n                   Computational Data Sciences for Actionable Insights on Climate Extremes and Uncertainty\\n                  ', '\\n                  The New Computational and Data Sciences Undergraduate Program at George Mason University 1 Data-Intensive Science: A New Vision for Science Education\\n                  ', '\\n                   How Computational Statistics Became the Backbone of Modern Data Science\\n', '\\n                  Efficient Search for Approximate Nearest Neighbor in High Dimensional Spaces\\n                  ', '\\n                  Model selection in ecology and evolution.\\n                  ', '\\n                  Local Ground:\\xa0 A\\xa0Toolkit\\xa0Supporting\\xa0Metarepresentational Competence in\\xa0Data\\xa0Science\\n', '\\n                  Visual Exploration of Formal Requirements for Data Science Demand Analysis\\n                  ', '\\n                  Earth Data, Science Writing, and Peer Review page 1 Earth Data, Science Writing, and Peer Review in a Large General Education Oceanography Class\\n                  ', '\\n                  An Online Algorithm for Segmenting Time Series\\n                  ', '\\n                  OUTLINE AND EXERCISES FOR A NOVEL INTRODUCTORY COURSE IN DATA SCIENCE AND VISUALIZATION\\n                  ', '\\n                   Computational Data Sciences for Actionable Insights on Climate Extremes and Uncertainty\\n                  ', '\\n                  The New Computational and Data Sciences Undergraduate Program at George Mason University 1 Data-Intensive Science: A New Vision for Science Education\\n                  ', '\\n                   How Computational Statistics Became the Backbone of Modern Data Science\\n', '\\n                  Efficient Search for Approximate Nearest Neighbor in High Dimensional Spaces\\n                  ', '\\n                  Model selection in ecology and evolution.\\n                  ', '\\n                  Local Ground:\\xa0 A\\xa0Toolkit\\xa0Supporting\\xa0Metarepresentational Competence in\\xa0Data\\xa0Science\\n', '\\n                  Visual Exploration of Formal Requirements for Data Science Demand Analysis\\n                  ', '\\n                  Earth Data, Science Writing, and Peer Review page 1 Earth Data, Science Writing, and Peer Review in a Large General Education Oceanography Class\\n                  ', '\\n                  An Online Algorithm for Segmenting Time Series\\n                  ', '\\n                  OUTLINE AND EXERCISES FOR A NOVEL INTRODUCTORY COURSE IN DATA SCIENCE AND VISUALIZATION\\n                  ', '\\n                   Computational Data Sciences for Actionable Insights on Climate Extremes and Uncertainty\\n                  ', '\\n                  The New Computational and Data Sciences Undergraduate Program at George Mason University 1 Data-Intensive Science: A New Vision for Science Education\\n                  ', '\\n                   How Computational Statistics Became the Backbone of Modern Data Science\\n', '\\n                  Efficient Search for Approximate Nearest Neighbor in High Dimensional Spaces\\n                  ', '\\n                  Model selection in ecology and evolution.\\n                  ', '\\n                  Local Ground:\\xa0 A\\xa0Toolkit\\xa0Supporting\\xa0Metarepresentational Competence in\\xa0Data\\xa0Science\\n', '\\n                  Visual Exploration of Formal Requirements for Data Science Demand Analysis\\n                  ', '\\n                  Earth Data, Science Writing, and Peer Review page 1 Earth Data, Science Writing, and Peer Review in a Large General Education Oceanography Class\\n                  ', '\\n                  An Online Algorithm for Segmenting Time Series\\n                  ', '\\n                  OUTLINE AND EXERCISES FOR A NOVEL INTRODUCTORY COURSE IN DATA SCIENCE AND VISUALIZATION\\n                  ', '\\n                   Computational Data Sciences for Actionable Insights on Climate Extremes and Uncertainty\\n                  ', '\\n                  The New Computational and Data Sciences Undergraduate Program at George Mason University 1 Data-Intensive Science: A New Vision for Science Education\\n                  ', '\\n                   How Computational Statistics Became the Backbone of Modern Data Science\\n', '\\n                  Efficient Search for Approximate Nearest Neighbor in High Dimensional Spaces\\n                  ', '\\n                  Model selection in ecology and evolution.\\n                  ', '\\n                  Local Ground:\\xa0 A\\xa0Toolkit\\xa0Supporting\\xa0Metarepresentational Competence in\\xa0Data\\xa0Science\\n', '\\n                  Visual Exploration of Formal Requirements for Data Science Demand Analysis\\n                  ', '\\n                  Earth Data, Science Writing, and Peer Review page 1 Earth Data, Science Writing, and Peer Review in a Large General Education Oceanography Class\\n                  ', '\\n                  An Online Algorithm for Segmenting Time Series\\n                  ', '\\n                  OUTLINE AND EXERCISES FOR A NOVEL INTRODUCTORY COURSE IN DATA SCIENCE AND VISUALIZATION\\n                  ', '\\n                   Computational Data Sciences for Actionable Insights on Climate Extremes and Uncertainty\\n                  ', '\\n                  The New Computational and Data Sciences Undergraduate Program at George Mason University 1 Data-Intensive Science: A New Vision for Science Education\\n                  ']\n"
          ],
          "name": "stdout"
        }
      ]
    },
    {
      "cell_type": "code",
      "metadata": {
        "colab": {
          "base_uri": "https://localhost:8080/",
          "height": 343
        },
        "id": "vYpcuRqbiM8w",
        "outputId": "20dacf67-aba3-4b5c-f8ce-2e0139718a2b"
      },
      "source": [
        "articles_titles = pd.read_csv('titles.csv', encoding = \"ISO-8859-1\")\n",
        "articles_titles.head(10)"
      ],
      "execution_count": 42,
      "outputs": [
        {
          "output_type": "execute_result",
          "data": {
            "text/html": [
              "<div>\n",
              "<style scoped>\n",
              "    .dataframe tbody tr th:only-of-type {\n",
              "        vertical-align: middle;\n",
              "    }\n",
              "\n",
              "    .dataframe tbody tr th {\n",
              "        vertical-align: top;\n",
              "    }\n",
              "\n",
              "    .dataframe thead th {\n",
              "        text-align: right;\n",
              "    }\n",
              "</style>\n",
              "<table border=\"1\" class=\"dataframe\">\n",
              "  <thead>\n",
              "    <tr style=\"text-align: right;\">\n",
              "      <th></th>\n",
              "      <th>Heading for articles</th>\n",
              "    </tr>\n",
              "  </thead>\n",
              "  <tbody>\n",
              "    <tr>\n",
              "      <th>0</th>\n",
              "      <td>Data science and prediction</td>\n",
              "    </tr>\n",
              "    <tr>\n",
              "      <th>1</th>\n",
              "      <td>Data science and its relationship to big data ...</td>\n",
              "    </tr>\n",
              "    <tr>\n",
              "      <th>2</th>\n",
              "      <td>Data Science for Business: What you need to kn...</td>\n",
              "    </tr>\n",
              "    <tr>\n",
              "      <th>3</th>\n",
              "      <td>High-dimensional probability: An introduction ...</td>\n",
              "    </tr>\n",
              "    <tr>\n",
              "      <th>4</th>\n",
              "      <td>Computational optimal transport: With applicat...</td>\n",
              "    </tr>\n",
              "    <tr>\n",
              "      <th>5</th>\n",
              "      <td>Data science, predictive analytics, and big da...</td>\n",
              "    </tr>\n",
              "    <tr>\n",
              "      <th>6</th>\n",
              "      <td>Reproducible, interactive, scalable and extens...</td>\n",
              "    </tr>\n",
              "    <tr>\n",
              "      <th>7</th>\n",
              "      <td>The quantified self: Fundamental disruption in...</td>\n",
              "    </tr>\n",
              "    <tr>\n",
              "      <th>8</th>\n",
              "      <td>Putting the data science into journalism</td>\n",
              "    </tr>\n",
              "    <tr>\n",
              "      <th>9</th>\n",
              "      <td>Big data: astronomical or genomical?</td>\n",
              "    </tr>\n",
              "  </tbody>\n",
              "</table>\n",
              "</div>"
            ],
            "text/plain": [
              "                                Heading for articles\n",
              "0                        Data science and prediction\n",
              "1  Data science and its relationship to big data ...\n",
              "2  Data Science for Business: What you need to kn...\n",
              "3  High-dimensional probability: An introduction ...\n",
              "4  Computational optimal transport: With applicat...\n",
              "5  Data science, predictive analytics, and big da...\n",
              "6  Reproducible, interactive, scalable and extens...\n",
              "7  The quantified self: Fundamental disruption in...\n",
              "8           Putting the data science into journalism\n",
              "9               Big data: astronomical or genomical?"
            ]
          },
          "metadata": {
            "tags": []
          },
          "execution_count": 42
        }
      ]
    },
    {
      "cell_type": "markdown",
      "metadata": {
        "id": "g7UHeTmYh1n9"
      },
      "source": [
        ""
      ]
    },
    {
      "cell_type": "code",
      "metadata": {
        "id": "cO-nwQb7h05x"
      },
      "source": [
        "text = articles_titles['Heading for articles'].tolist()"
      ],
      "execution_count": 49,
      "outputs": []
    },
    {
      "cell_type": "code",
      "metadata": {
        "id": "27zlo-HNiljU"
      },
      "source": [
        "text_words =[]\n",
        "for row in text:\n",
        "  text_words.append(gensim.utils.simple_preprocess(str(row), deacc=True))"
      ],
      "execution_count": 52,
      "outputs": []
    },
    {
      "cell_type": "code",
      "metadata": {
        "id": "YuOHP31jjAH5"
      },
      "source": [
        "stopword_removed = [[word for word in simple_preprocess(str(doc)) if word not in stop_words] for doc in data_words]\n",
        "bi_grams = [bi_gram_mod[doc] for doc in stopword_removed]"
      ],
      "execution_count": 55,
      "outputs": []
    },
    {
      "cell_type": "code",
      "metadata": {
        "id": "7xHDFRl-jKA6"
      },
      "source": [
        "nlp = spacy.load('en', disable=['parser', 'ner'])\n",
        "postags=['NOUN', 'ADJ', 'VERB', 'ADV']\n",
        "lemmatization_done = []\n",
        "for sent in bi_grams:\n",
        "  doc = nlp(\" \".join(sent)) \n",
        "  lemmatization_done.append([token.lemma_ for token in doc if token.pos_ in postags])"
      ],
      "execution_count": 57,
      "outputs": []
    },
    {
      "cell_type": "code",
      "metadata": {
        "id": "XUNTpZkGjy22"
      },
      "source": [
        "lda_model = gensim.models.ldamodel.LdaModel(corpus=corpus,\n",
        "                                           id2word=id2word,\n",
        "                                           num_topics=20, \n",
        "                                           random_state=100,\n",
        "                                           update_every=1,\n",
        "                                           chunksize=100,\n",
        "                                           passes=10,\n",
        "                                           alpha='auto',\n",
        "                                           per_word_topics=True)"
      ],
      "execution_count": 85,
      "outputs": []
    },
    {
      "cell_type": "code",
      "metadata": {
        "colab": {
          "base_uri": "https://localhost:8080/"
        },
        "id": "McuY2Z2-jwzW",
        "outputId": "b8cd78eb-b811-4c8e-c9fc-b319c36561b4"
      },
      "source": [
        "print('\\nPerplexity: ', lda_model.log_perplexity(corpus)) \n",
        "coherence_model_lda = CoherenceModel(model=lda_model, texts=lemmatization_done, dictionary=id2word, coherence='c_v')\n",
        "coherence_lda = coherence_model_lda.get_coherence()\n",
        "print('\\nCoherence Score: ', coherence_lda)"
      ],
      "execution_count": 87,
      "outputs": [
        {
          "output_type": "stream",
          "text": [
            "\n",
            "Perplexity:  -6.551614975030762\n",
            "\n",
            "Coherence Score:  0.4734763747748085\n"
          ],
          "name": "stdout"
        }
      ]
    },
    {
      "cell_type": "code",
      "metadata": {
        "colab": {
          "base_uri": "https://localhost:8080/"
        },
        "id": "P2EenPgnVHgp",
        "outputId": "e2e15a6e-d4b2-4fe0-9370-02c0e48f0e33"
      },
      "source": [
        "pip install pyLDAvis"
      ],
      "execution_count": 3,
      "outputs": [
        {
          "output_type": "stream",
          "text": [
            "Collecting pyLDAvis\n",
            "\u001b[?25l  Downloading https://files.pythonhosted.org/packages/24/38/6d81eff34c84c9158d3b7c846bff978ac88b0c2665548941946d3d591158/pyLDAvis-3.2.2.tar.gz (1.7MB)\n",
            "\u001b[K     |████████████████████████████████| 1.7MB 5.4MB/s \n",
            "\u001b[?25hRequirement already satisfied: wheel>=0.23.0 in /usr/local/lib/python3.7/dist-packages (from pyLDAvis) (0.36.2)\n",
            "Requirement already satisfied: numpy>=1.9.2 in /usr/local/lib/python3.7/dist-packages (from pyLDAvis) (1.19.5)\n",
            "Requirement already satisfied: scipy>=0.18.0 in /usr/local/lib/python3.7/dist-packages (from pyLDAvis) (1.4.1)\n",
            "Requirement already satisfied: joblib>=0.8.4 in /usr/local/lib/python3.7/dist-packages (from pyLDAvis) (1.0.1)\n",
            "Requirement already satisfied: jinja2>=2.7.2 in /usr/local/lib/python3.7/dist-packages (from pyLDAvis) (2.11.3)\n",
            "Requirement already satisfied: numexpr in /usr/local/lib/python3.7/dist-packages (from pyLDAvis) (2.7.3)\n",
            "Requirement already satisfied: future in /usr/local/lib/python3.7/dist-packages (from pyLDAvis) (0.16.0)\n",
            "Collecting funcy\n",
            "  Downloading https://files.pythonhosted.org/packages/66/89/479de0afbbfb98d1c4b887936808764627300208bb771fcd823403645a36/funcy-1.15-py2.py3-none-any.whl\n",
            "Requirement already satisfied: pandas>=0.17.0 in /usr/local/lib/python3.7/dist-packages (from pyLDAvis) (1.1.5)\n",
            "Requirement already satisfied: MarkupSafe>=0.23 in /usr/local/lib/python3.7/dist-packages (from jinja2>=2.7.2->pyLDAvis) (1.1.1)\n",
            "Requirement already satisfied: python-dateutil>=2.7.3 in /usr/local/lib/python3.7/dist-packages (from pandas>=0.17.0->pyLDAvis) (2.8.1)\n",
            "Requirement already satisfied: pytz>=2017.2 in /usr/local/lib/python3.7/dist-packages (from pandas>=0.17.0->pyLDAvis) (2018.9)\n",
            "Requirement already satisfied: six>=1.5 in /usr/local/lib/python3.7/dist-packages (from python-dateutil>=2.7.3->pandas>=0.17.0->pyLDAvis) (1.15.0)\n",
            "Building wheels for collected packages: pyLDAvis\n",
            "  Building wheel for pyLDAvis (setup.py) ... \u001b[?25l\u001b[?25hdone\n",
            "  Created wheel for pyLDAvis: filename=pyLDAvis-3.2.2-py2.py3-none-any.whl size=135593 sha256=d6b0fa127880431081a7820d893c39f483970c4e236c56c74191dd4a0e66f903\n",
            "  Stored in directory: /root/.cache/pip/wheels/74/df/b6/97234c8446a43be05c9a8687ee0db1f1b5ade5f27729187eae\n",
            "Successfully built pyLDAvis\n",
            "Installing collected packages: funcy, pyLDAvis\n",
            "Successfully installed funcy-1.15 pyLDAvis-3.2.2\n"
          ],
          "name": "stdout"
        }
      ]
    },
    {
      "cell_type": "code",
      "metadata": {
        "colab": {
          "base_uri": "https://localhost:8080/"
        },
        "id": "3Jyq87LKVMng",
        "outputId": "2874f552-f35f-4b33-ff0a-be0ec604ebc7"
      },
      "source": [
        "import nltk; nltk.download('stopwords')\n",
        "import re\n",
        "import numpy as np\n",
        "import pandas as pd\n",
        "from pprint import pprint\n",
        "import gensim\n",
        "import gensim.corpora as corpora\n",
        "from gensim.utils import simple_preprocess\n",
        "from gensim.models import CoherenceModel\n",
        "import spacy\n",
        "import pyLDAvis\n",
        "import pyLDAvis.gensim  \n",
        "import matplotlib.pyplot as plt\n",
        "%matplotlib inline\n",
        "import logging\n",
        "logging.basicConfig(format='%(asctime)s : %(levelname)s : %(message)s', level=logging.ERROR)\n",
        "import warnings\n",
        "warnings.filterwarnings(\"ignore\",category=DeprecationWarning)"
      ],
      "execution_count": 15,
      "outputs": [
        {
          "output_type": "stream",
          "text": [
            "[nltk_data] Downloading package stopwords to /root/nltk_data...\n",
            "[nltk_data]   Package stopwords is already up-to-date!\n"
          ],
          "name": "stdout"
        }
      ]
    },
    {
      "cell_type": "code",
      "metadata": {
        "colab": {
          "base_uri": "https://localhost:8080/"
        },
        "id": "KBM2uYFXVRU9",
        "outputId": "2d7a7ef2-da43-4469-831c-7f57c8fe45c0"
      },
      "source": [
        "from nltk.corpus import stopwords\n",
        "stop_wrds = stopwords.words('english')\n",
        "stop_wrds.extend(['from', 'subject', 're', 'edu', 'use'])\n",
        "def sent_words(sentences):\n",
        "    for sentence in sentences:\n",
        "        yield(gensim.utils.simple_preprocess(str(sentence), deacc=True))  \n",
        "text_words = list(sent_words(titles))\n",
        "bi_gram = gensim.models.Phrases(text_words, min_count=5, threshold=100)\n",
        "bi_gram_mod = gensim.models.phrases.Phraser(bi_gram)\n",
        "\n",
        "print(text_words[:1])\n",
        "def stopwords_removed(texts):\n",
        "    return [[word for word in simple_preprocess(str(doc)) if word not in stop_wrds] for doc in texts]\n",
        "def lemmatization(texts, allowed_postags=['NOUN', 'ADJ', 'VERB', 'ADV']):\n",
        "    \"\"\"https://spacy.io/api/annotation\"\"\"\n",
        "    texts_out = []\n",
        "    for done in texts:\n",
        "        doc = nlp(\" \".join(done)) \n",
        "        texts_out.append([token.lemma_ for token in doc if token.pos_ in allowed_postags])\n",
        "    return texts_out\n",
        "def bigrams_m(texts):\n",
        "    return [bi_gram_mod[doc] for doc in texts]\n",
        "data_nostops = stopwords_removed(text_words)\n",
        "data_bi_grams = bigrams_m(data_nostops)\n",
        "nlp = spacy.load('en', disable=['parser', 'ner'])\n",
        "lemmatized_data = lemmatization(data_bi_grams, allowed_postags=['NOUN', 'ADJ', 'VERB', 'ADV'])\n",
        "print(lemmatized_data[:1])\n",
        "id2word = corpora.Dictionary(lemmatized_data)\n",
        "texts = lemmatized_data\n",
        "corpus = [id2word.doc2bow(text) for text in texts]\n",
        "print(corpus[:1])\n",
        "lda_model = gensim.models.ldamodel.LdaModel(corpus=corpus,\n",
        "                                           id2word=id2word,\n",
        "                                           num_topics=20, \n",
        "                                           random_state=100,\n",
        "                                           update_every=1,\n",
        "                                           chunksize=100,\n",
        "                                           passes=10,\n",
        "                                           alpha='auto',\n",
        "                                           per_word_topics=True)\n",
        "pprint(lda_model.print_topics())\n",
        "doc_lda = lda_model[corpus]\n"
      ],
      "execution_count": 17,
      "outputs": [
        {
          "output_type": "stream",
          "text": [
            "[['how', 'computational', 'statistics', 'became', 'the', 'backbone', 'of', 'modern', 'data', 'science']]\n",
            "[['computational', 'statistic', 'become', 'backbone', 'modern', 'datum', 'science']]\n",
            "[[(0, 1), (1, 1), (2, 1), (3, 1), (4, 1), (5, 1), (6, 1)]]\n",
            "[(0,\n",
            "  '0.024*\"new\" + 0.024*\"science\" + 0.021*\"education\" + 0.021*\"approximate\" + '\n",
            "  '0.021*\"space\" + 0.021*\"search\" + 0.021*\"neighbor\" + 0.021*\"near\" + '\n",
            "  '0.021*\"vision\" + 0.021*\"efficient\"'),\n",
            " (1,\n",
            "  '0.022*\"neighbor\" + 0.022*\"search\" + 0.022*\"efficient\" + 0.022*\"space\" + '\n",
            "  '0.022*\"approximate\" + 0.022*\"near\" + 0.022*\"segment\" + 0.022*\"dimensional\" '\n",
            "  '+ 0.022*\"high\" + 0.018*\"writing\"'),\n",
            " (2,\n",
            "  '0.123*\"science\" + 0.123*\"writing\" + 0.123*\"review\" + 0.123*\"peer\" + '\n",
            "  '0.062*\"education\" + 0.062*\"datum\" + 0.062*\"large\" + 0.062*\"class\" + '\n",
            "  '0.062*\"general\" + 0.062*\"page\"'),\n",
            " (3,\n",
            "  '0.022*\"toolkit\" + 0.022*\"competence\" + 0.022*\"datum\" + 0.022*\"ground\" + '\n",
            "  '0.022*\"local\" + 0.022*\"support\" + 0.022*\"science\" + 0.018*\"peer\" + '\n",
            "  '0.018*\"segment\" + 0.018*\"large\"'),\n",
            " (4,\n",
            "  '0.021*\"introductory\" + 0.021*\"selection\" + 0.021*\"model\" + '\n",
            "  '0.021*\"evolution\" + 0.021*\"exercise\" + 0.021*\"novel\" + '\n",
            "  '0.021*\"visualization\" + 0.021*\"course\" + 0.021*\"science\" + 0.021*\"datum\"'),\n",
            " (5,\n",
            "  '0.307*\"evolution\" + 0.307*\"model\" + 0.307*\"selection\" + 0.002*\"uncertainty\" '\n",
            "  '+ 0.002*\"extreme\" + 0.002*\"insight\" + 0.002*\"actionable\" + 0.002*\"climate\" '\n",
            "  '+ 0.002*\"review\" + 0.002*\"education\"'),\n",
            " (6,\n",
            "  '0.038*\"datum\" + 0.038*\"science\" + 0.033*\"analysis\" + 0.033*\"formal\" + '\n",
            "  '0.033*\"visual\" + 0.033*\"requirement\" + 0.033*\"exploration\" + 0.033*\"demand\" '\n",
            "  '+ 0.021*\"become\" + 0.021*\"backbone\"'),\n",
            " (7,\n",
            "  '0.242*\"science\" + 0.242*\"new\" + 0.121*\"education\" + 0.121*\"computational\" + '\n",
            "  '0.121*\"vision\" + 0.121*\"intensive\" + 0.001*\"writing\" + 0.001*\"peer\" + '\n",
            "  '0.001*\"datum\" + 0.001*\"review\"'),\n",
            " (8,\n",
            "  '0.122*\"science\" + 0.122*\"datum\" + 0.121*\"demand\" + 0.121*\"analysis\" + '\n",
            "  '0.121*\"formal\" + 0.121*\"visual\" + 0.121*\"requirement\" + 0.121*\"exploration\" '\n",
            "  '+ 0.001*\"segment\" + 0.001*\"course\"'),\n",
            " (9,\n",
            "  '0.021*\"climate\" + 0.021*\"actionable\" + 0.021*\"local\" + 0.021*\"ground\" + '\n",
            "  '0.021*\"selection\" + 0.021*\"model\" + 0.021*\"evolution\" + 0.021*\"toolkit\" + '\n",
            "  '0.021*\"extreme\" + 0.021*\"support\"'),\n",
            " (10,\n",
            "  '0.021*\"climate\" + 0.021*\"actionable\" + 0.021*\"space\" + 0.021*\"insight\" + '\n",
            "  '0.021*\"formal\" + 0.021*\"extreme\" + 0.021*\"analysis\" + 0.021*\"requirement\" + '\n",
            "  '0.021*\"neighbor\" + 0.021*\"visual\"'),\n",
            " (11,\n",
            "  '0.793*\"segment\" + 0.004*\"oceanography\" + 0.004*\"review\" + 0.004*\"peer\" + '\n",
            "  '0.004*\"page\" + 0.004*\"general\" + 0.004*\"large\" + 0.004*\"class\" + '\n",
            "  '0.004*\"earth\" + 0.004*\"exercise\"'),\n",
            " (12,\n",
            "  '0.138*\"science\" + 0.138*\"datum\" + 0.138*\"exercise\" + 0.138*\"introductory\" + '\n",
            "  '0.138*\"visualization\" + 0.138*\"course\" + 0.138*\"novel\" + 0.001*\"demand\" + '\n",
            "  '0.001*\"selection\" + 0.001*\"model\"'),\n",
            " (13,\n",
            "  '0.138*\"toolkit\" + 0.138*\"competence\" + 0.138*\"datum\" + 0.138*\"ground\" + '\n",
            "  '0.138*\"science\" + 0.138*\"local\" + 0.138*\"support\" + 0.001*\"segment\" + '\n",
            "  '0.001*\"peer\" + 0.001*\"large\"'),\n",
            " (14,\n",
            "  '0.138*\"datum\" + 0.138*\"science\" + 0.138*\"statistic\" + 0.138*\"backbone\" + '\n",
            "  '0.138*\"become\" + 0.138*\"computational\" + 0.138*\"modern\" + 0.001*\"course\" + '\n",
            "  '0.001*\"exercise\" + 0.001*\"visualization\"'),\n",
            " (15,\n",
            "  '0.024*\"datum\" + 0.024*\"science\" + 0.021*\"evolution\" + 0.021*\"selection\" + '\n",
            "  '0.021*\"exercise\" + 0.021*\"introductory\" + 0.021*\"novel\" + '\n",
            "  '0.021*\"visualization\" + 0.021*\"model\" + 0.021*\"requirement\"'),\n",
            " (16,\n",
            "  '0.038*\"science\" + 0.032*\"datum\" + 0.026*\"peer\" + 0.026*\"review\" + '\n",
            "  '0.026*\"writing\" + 0.021*\"statistic\" + 0.021*\"computational\" + '\n",
            "  '0.021*\"become\" + 0.021*\"modern\" + 0.021*\"backbone\"'),\n",
            " (17,\n",
            "  '0.019*\"oceanography\" + 0.019*\"general\" + 0.019*\"review\" + 0.019*\"peer\" + '\n",
            "  '0.019*\"page\" + 0.019*\"segment\" + 0.019*\"large\" + 0.019*\"class\" + '\n",
            "  '0.019*\"earth\" + 0.019*\"exercise\"'),\n",
            " (18,\n",
            "  '0.121*\"efficient\" + 0.121*\"dimensional\" + 0.121*\"space\" + 0.121*\"search\" + '\n",
            "  '0.121*\"neighbor\" + 0.121*\"high\" + 0.121*\"approximate\" + 0.121*\"near\" + '\n",
            "  '0.001*\"become\" + 0.001*\"backbone\"'),\n",
            " (19,\n",
            "  '0.191*\"uncertainty\" + 0.191*\"actionable\" + 0.191*\"climate\" + '\n",
            "  '0.191*\"extreme\" + 0.191*\"insight\" + 0.001*\"become\" + 0.001*\"backbone\" + '\n",
            "  '0.001*\"datum\" + 0.001*\"modern\" + 0.001*\"computational\"')]\n"
          ],
          "name": "stdout"
        }
      ]
    },
    {
      "cell_type": "markdown",
      "metadata": {
        "id": "CNPOIxJsUxEO"
      },
      "source": [
        "## (2) (8 points) Generate K topics by using LSA, the number of topics K should be decided by the coherence score, then summarize what are the topics. You may refer the code here:\n",
        "\n",
        "https://www.datacamp.com/community/tutorials/discovering-hidden-topics-python"
      ]
    },
    {
      "cell_type": "code",
      "metadata": {
        "id": "CXuC7UIWUxEQ"
      },
      "source": [
        "# Write your code here\n",
        "import os.path\n",
        "from gensim import corpora\n",
        "from gensim.models import LsiModel\n",
        "from nltk.tokenize import RegexpTokenizer\n",
        "from nltk.corpus import stopwords\n",
        "from nltk.stem.porter import PorterStemmer\n",
        "from gensim.models.coherencemodel import CoherenceModel\n",
        "import matplotlib.pyplot as plt\n"
      ],
      "execution_count": 7,
      "outputs": []
    },
    {
      "cell_type": "code",
      "metadata": {
        "id": "HpohgaZ6V7g5"
      },
      "source": [
        "def preprocess_data(docu_set):  \n",
        "    tokenize = RegexpTokenizer(r'\\w+')\n",
        "    en_stop_ = set(stopwords.words('english'))\n",
        "    p_stemm_er = PorterStemmer()\n",
        "    data = []\n",
        "    for x in docu_set:\n",
        "        raw = x.lower()\n",
        "        token = tokenize.tokenize(raw)\n",
        "        tokens_stopped = [x for x in token if not x in en_stop_]\n",
        "        tokens_stemmed = [p_stemm_er.stem(x) for x in tokens_stopped]\n",
        "        data.append(tokens_stemmed)\n",
        "    return data\n",
        "def preparation_corpus(doc_clean):\n",
        "    dictionary = corpora.Dictionary(doc_clean)\n",
        "    doc_matrix = [dictionary.doc2bow(text) for text in doc_clean]\n",
        "    return dictionary,doc_matrix\n",
        "def gensim_lsa_model_create(doc_clean,number_of_topics,words):\n",
        "    dictionary,doc_matrix=preparation_corpus(doc_clean)\n",
        "    lsamodel_ = LsiModel(doc_matrix, num_of_topics=number_of_topics, id2word = dictionary)  # train model\n",
        "    print(lsamodel_.print_topics(num_of_topics=number_of_topics, num_words=words))\n",
        "    return lsamodel_\n",
        "def coherence_values_compute(dictionary, doc_matrix, doc_clean, stop, start=2, step=3):\n",
        "    coherence_values_ = []\n",
        "    model_list_ = []\n",
        "    for num_of_topics in range(start, stop, step):\n",
        "      model = LsiModel(doc_matrix, num_of_topics, id2word = dictionary)  # train model\n",
        "      model_list_.append(model)\n",
        "      coherencemodel = CoherenceModel(model=model, texts=doc_clean, dictionary=dictionary, coherence='c_v')\n",
        "      coherence_values_.append(coherencemodel.get_coherence())\n",
        "    return model_list_, coherence_values_\n",
        "def graph(doc_clean,start, stop, step):\n",
        "    dictionary,doc_matrix=preparation_corpus(doc_clean)\n",
        "    model_list_, coherence_values_ = coherence_values_compute(dictionary, doc_matrix,doc_clean,stop, start, step)\n",
        "    x = range(start, stop, step)\n",
        "    plt.plot(x, coherence_values_)\n",
        "    plt.xlabel(\"Number of Topics\")\n",
        "    plt.ylabel(\"Coherence score\")\n",
        "    plt.legend((\"coherence_values_\"), loc='best')\n",
        "    plt.show()"
      ],
      "execution_count": 26,
      "outputs": []
    },
    {
      "cell_type": "code",
      "metadata": {
        "colab": {
          "base_uri": "https://localhost:8080/",
          "height": 279
        },
        "id": "o19kETVdWrdA",
        "outputId": "63edca2e-6c4b-40e4-9761-fe8a03784fbb"
      },
      "source": [
        "start,stop,step=2,12,1\n",
        "clean_text_=preprocess_data(titles)\n",
        "graph(clean_text_,start,stop,step)"
      ],
      "execution_count": 28,
      "outputs": [
        {
          "output_type": "display_data",
          "data": {
            "image/png": "[encoded data removed]",
            "text/plain": [
              "<Figure size 432x288 with 1 Axes>"
            ]
          },
          "metadata": {
            "tags": [],
            "needs_background": "light"
          }
        }
      ]
    },
    {
      "cell_type": "code",
      "metadata": {
        "colab": {
          "base_uri": "https://localhost:8080/"
        },
        "id": "mjbWjCTAW5mT",
        "outputId": "6517a9da-c5a2-4d87-b61b-0bbd196321f9"
      },
      "source": [
        "number_of_topics=2\n",
        "words=10\n",
        "clean_text=preprocess_data(titles)\n",
        "model=create_gensim_lsa_model(clean_text,number_of_topics,words)"
      ],
      "execution_count": 29,
      "outputs": [
        {
          "output_type": "stream",
          "text": [
            "[(0, '-0.596*\"scienc\" + -0.506*\"data\" + -0.190*\"write\" + -0.190*\"earth\" + -0.190*\"peer\" + -0.190*\"review\" + -0.185*\"1\" + -0.185*\"educ\" + -0.179*\"new\" + -0.147*\"comput\"'), (1, '-0.353*\"write\" + -0.353*\"peer\" + -0.353*\"review\" + -0.353*\"earth\" + 0.278*\"new\" + 0.221*\"scienc\" + 0.216*\"comput\" + -0.177*\"oceanographi\" + -0.177*\"gener\" + -0.177*\"larg\"')]\n"
          ],
          "name": "stdout"
        }
      ]
    },
    {
      "cell_type": "markdown",
      "metadata": {
        "id": "Bo2bdLfRUxEQ"
      },
      "source": [
        "## (3) (4 points) Compare the results generated by the two topic modeling algorithms, which one is better? You should explain the reasons in details."
      ]
    },
    {
      "cell_type": "markdown",
      "metadata": {
        "id": "JOBVm4pefErB"
      },
      "source": [
        "# Write your answer here (no code needed for this question)\n",
        "LDA has 20 point models and LSA has 2 theme models; but, although the two models have same number of terms, LSA has fewer dimensions than LDA. LSA is faster than LDA since there are only two topic versions. Despite the fact that the yields of both models are equivalent, both have preprocessing measures to lemmatize the sentences, and LDA is performed using the a diricilet strategy, while LSA is carried out in a probabilistic manner."
      ]
    }
  ]
}