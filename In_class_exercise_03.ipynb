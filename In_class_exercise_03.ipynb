{
  "nbformat": 4,
  "nbformat_minor": 0,
  "metadata": {
    "kernelspec": {
      "display_name": "Python 3",
      "language": "python",
      "name": "python3"
    },
    "language_info": {
      "codemirror_mode": {
        "name": "ipython",
        "version": 3
      },
      "file_extension": ".py",
      "mimetype": "text/x-python",
      "name": "python",
      "nbconvert_exporter": "python",
      "pygments_lexer": "ipython3",
      "version": "3.7.4"
    },
    "colab": {
      "name": "In_class_exercise_03.ipynb",
      "provenance": [],
      "collapsed_sections": [],
      "include_colab_link": true
    }
  },
  "cells": [
    {
      "cell_type": "markdown",
      "metadata": {
        "id": "view-in-github",
        "colab_type": "text"
      },
      "source": [
        "<a href=\"https://colab.research.google.com/github/Akshitasama/akshita_INFO5731_Spring2021/blob/main/In_class_exercise_03.ipynb\" target=\"_parent\"><img src=\"https://colab.research.google.com/assets/colab-badge.svg\" alt=\"Open In Colab\"/></a>"
      ]
    },
    {
      "cell_type": "markdown",
      "metadata": {
        "id": "k2Ycn_nQqfAx"
      },
      "source": [
        "## The third In-class-exercise (9/16/2020, 20 points in total)"
      ]
    },
    {
      "cell_type": "markdown",
      "metadata": {
        "id": "uESs9AiEqfBF"
      },
      "source": [
        "The purpose of this exercise is to under users' information needs, then collect the data for analysis."
      ]
    },
    {
      "cell_type": "markdown",
      "metadata": {
        "id": "oOcov0u9qfBH"
      },
      "source": [
        "Question 1 (8 points): Describe an interesting research question (or practical question) you have in mind, what kind of data should be collected to answer the question(s)? How many data needed for the analysis? The detail steps for collecting and save the data. "
      ]
    },
    {
      "cell_type": "code",
      "metadata": {
        "id": "gj1i_udaqfBI"
      },
      "source": [
        "# Your answer here (no code for this question, write down your answer as detail as possible for the above questions):\n",
        "\n",
        "'''\n",
        "Please write you answer here:\n",
        "\n",
        "\n",
        "Research question - What is the review of Real Me Narzo. The reviews, description and rating.\n",
        "The data required is reviews and ratings of the customer who purchased the mobile phone. The Ecommerce websites have reviews. But, when compared to all the other sites like amazon, flipkart has large number of reviews.So, I have choosen the flipkart to\n",
        "collect the reviews. We can analyze the reviews by considering the description and ratings in them that is whether the user customer has written in a positive way and the rating given\n",
        "or negative way. We need minimum 500 reviews to get accurate results.\n",
        "\n",
        "Steps for Collecting and Saving Data:\n",
        "Using the the BeautifulSoup library, I have extracted the information from the website.\n",
        "I have extracted the reviews and ratings by using the classname and appending to the empty list.\n",
        "I have then iterated 50 times as each page has 10 reviews to extract 500 reviews. \n",
        "To extract 500 reviews I have itearted 50 times as each page contains 10 reviews and I have generated the url while iterating.\n",
        "Next, created a dataframe form  list and then converted the dataframe to csv to download and store the information.\n",
        "\n",
        "\n"
      ],
      "execution_count": null,
      "outputs": []
    },
    {
      "cell_type": "markdown",
      "metadata": {
        "id": "8-D5-0y0qfBJ"
      },
      "source": [
        "Question 2 (12 points): Write python code to collect 500 items of the data you plan to collect above."
      ]
    },
    {
      "cell_type": "code",
      "metadata": {
        "colab": {
          "base_uri": "https://localhost:8080/",
          "height": 418
        },
        "id": "n3CuxKzZqfBK",
        "outputId": "3d2b2d35-a584-4219-be80-44024380a661"
      },
      "source": [
        "\n",
        "from bs4 import BeautifulSoup\n",
        "import requests\n",
        "import pandas as pd\n",
        "main_heading=[] #creating list to store all the names of the reviews.\n",
        "body=[] #List to store the description of the reviews.\n",
        "rate=[]# To store the rating of the products\n",
        "for number in range(50):\n",
        "  html_page=requests.get(\"https://www.flipkart.com/realme-narzo-20-glory-silver-64-gb/product-reviews/itm4ac58d879006d?pid=MOBFVEATBBRGJBKH&lid=LSTMOBFVEATBBRGJBKHO9FHOE&marketplace=FLIPKART\").text #generating link and accessing webpage\n",
        "  soup=BeautifulSoup(html_page,'lxml') #creating instance for the BeautifulSoup library\n",
        "  review_name=soup.find_all(class_='_2-N8zT') #getting name of the reviews by using class name\n",
        "  review_desc=soup.find_all(class_='t-ZTKy') #getting description of the reviews by class name\n",
        "  rating=soup.find_all(class_='_3LWZlK _1BLPMq') #getting ratings by using class name\n",
        "  for a, b, c in zip(review_name, review_desc,rating): #iterating the list\n",
        "    main_heading.append(a.text) #appending the required elements to empty list\n",
        "    body.append(b.text)\n",
        "    rate.append(c.text)\n",
        "data_fr=pd.DataFrame(list(zip(main_heading, body, rate)), columns=['Review Title','Review description', 'Rating']) #dataframe creation\n",
        "print(\"Length of data frame is {0}\".format(len(data_fr))) #printing lenth\n",
        "data_fr\n",
        "#data_fr.to_csv('data.csv', index=False) # Storing in the form of csv file from dataframe\n",
        "\n",
        "\n"
      ],
      "execution_count": null,
      "outputs": [
        {
          "output_type": "stream",
          "text": [
            "Length of data frame is 500\n"
          ],
          "name": "stdout"
        },
        {
          "output_type": "execute_result",
          "data": {
            "text/html": [
              "<div>\n",
              "<style scoped>\n",
              "    .dataframe tbody tr th:only-of-type {\n",
              "        vertical-align: middle;\n",
              "    }\n",
              "\n",
              "    .dataframe tbody tr th {\n",
              "        vertical-align: top;\n",
              "    }\n",
              "\n",
              "    .dataframe thead th {\n",
              "        text-align: right;\n",
              "    }\n",
              "</style>\n",
              "<table border=\"1\" class=\"dataframe\">\n",
              "  <thead>\n",
              "    <tr style=\"text-align: right;\">\n",
              "      <th></th>\n",
              "      <th>Review Title</th>\n",
              "      <th>Review description</th>\n",
              "      <th>Rating</th>\n",
              "    </tr>\n",
              "  </thead>\n",
              "  <tbody>\n",
              "    <tr>\n",
              "      <th>0</th>\n",
              "      <td>Really Nice</td>\n",
              "      <td>Camera 3/5Battery 5/5Display 4/5Performance 5/...</td>\n",
              "      <td>4</td>\n",
              "    </tr>\n",
              "    <tr>\n",
              "      <th>1</th>\n",
              "      <td>Good choice</td>\n",
              "      <td>The phone is really good at this range.Main ad...</td>\n",
              "      <td>4</td>\n",
              "    </tr>\n",
              "    <tr>\n",
              "      <th>2</th>\n",
              "      <td>Excellent</td>\n",
              "      <td>Phone is really good must buy guys... Highly r...</td>\n",
              "      <td>5</td>\n",
              "    </tr>\n",
              "    <tr>\n",
              "      <th>3</th>\n",
              "      <td>Awesome Phone... Must Buy!!</td>\n",
              "      <td>Thank you Flipkart for delivering the phone be...</td>\n",
              "      <td>5</td>\n",
              "    </tr>\n",
              "    <tr>\n",
              "      <th>4</th>\n",
              "      <td>Reliable. Nothing more a simple minded person ...</td>\n",
              "      <td>I'll not pretend to be an expert and review th...</td>\n",
              "      <td>5</td>\n",
              "    </tr>\n",
              "    <tr>\n",
              "      <th>...</th>\n",
              "      <td>...</td>\n",
              "      <td>...</td>\n",
              "      <td>...</td>\n",
              "    </tr>\n",
              "    <tr>\n",
              "      <th>495</th>\n",
              "      <td>Terrific</td>\n",
              "      <td>Decent micro photography on this device but ov...</td>\n",
              "      <td>5</td>\n",
              "    </tr>\n",
              "    <tr>\n",
              "      <th>496</th>\n",
              "      <td>Classy product</td>\n",
              "      <td>1)Helio G85-The highlighting feature which mak...</td>\n",
              "      <td>5</td>\n",
              "    </tr>\n",
              "    <tr>\n",
              "      <th>497</th>\n",
              "      <td>Super!</td>\n",
              "      <td>Rear camera is very nice and front camera is d...</td>\n",
              "      <td>5</td>\n",
              "    </tr>\n",
              "    <tr>\n",
              "      <th>498</th>\n",
              "      <td>Fabulous!</td>\n",
              "      <td>I buy this mobile for my daddy, He used 2gb/16...</td>\n",
              "      <td>5</td>\n",
              "    </tr>\n",
              "    <tr>\n",
              "      <th>499</th>\n",
              "      <td>Fair</td>\n",
              "      <td>This phone is ok for me but I don't think that...</td>\n",
              "      <td>3</td>\n",
              "    </tr>\n",
              "  </tbody>\n",
              "</table>\n",
              "<p>500 rows × 3 columns</p>\n",
              "</div>"
            ],
            "text/plain": [
              "                                          Review Title  ... Rating\n",
              "0                                          Really Nice  ...      4\n",
              "1                                          Good choice  ...      4\n",
              "2                                            Excellent  ...      5\n",
              "3                          Awesome Phone... Must Buy!!  ...      5\n",
              "4    Reliable. Nothing more a simple minded person ...  ...      5\n",
              "..                                                 ...  ...    ...\n",
              "495                                           Terrific  ...      5\n",
              "496                                     Classy product  ...      5\n",
              "497                                             Super!  ...      5\n",
              "498                                          Fabulous!  ...      5\n",
              "499                                               Fair  ...      3\n",
              "\n",
              "[500 rows x 3 columns]"
            ]
          },
          "metadata": {
            "tags": []
          },
          "execution_count": 3
        }
      ]
    },
    {
      "cell_type": "code",
      "metadata": {
        "id": "xALQrNVHQqjn"
      },
      "source": [
        ""
      ],
      "execution_count": null,
      "outputs": []
    }
  ]
}