{
  "nbformat": 4,
  "nbformat_minor": 0,
  "metadata": {
    "colab": {
      "name": "In_class_exercise_02.ipynb",
      "provenance": [],
      "collapsed_sections": [],
      "toc_visible": true
    },
    "kernelspec": {
      "display_name": "Python 3",
      "language": "python",
      "name": "python3"
    },
    "language_info": {
      "codemirror_mode": {
        "name": "ipython",
        "version": 3
      },
      "file_extension": ".py",
      "mimetype": "text/x-python",
      "name": "python",
      "nbconvert_exporter": "python",
      "pygments_lexer": "ipython3",
      "version": "3.7.4"
    }
  },
  "cells": [
    {
      "cell_type": "markdown",
      "metadata": {
        "id": "oo5bsEh2eeWi"
      },
      "source": [
        "# **The second In-class-exercise (1/27/2021, 20 points in total)**\n"
      ]
    },
    {
      "cell_type": "markdown",
      "metadata": {
        "id": "2sPQ58dIeqgp"
      },
      "source": [
        "(1) Write a Python program to find the duplicate elements in a given array of integers. Return -1 If there are no such elements. (4 points)"
      ]
    },
    {
      "cell_type": "code",
      "metadata": {
        "colab": {
          "base_uri": "https://localhost:8080/"
        },
        "id": "mnrvKMFTeoJR",
        "outputId": "94c48ade-2b1d-4a04-c9c2-29767ce873d5"
      },
      "source": [
        "# write your answer here\n",
        "\n",
        "# write your answer here\n",
        "def duplicate(items):\n",
        "  ele_set=set()\n",
        "  unique= -1\n",
        "  for i in range(len(items)):\n",
        "    if items[i] in ele_set:\n",
        "      return items[i]\n",
        "    else:\n",
        "      ele_set.add(items[i])\n",
        "  return unique\n",
        "\n",
        "print(duplicate([1,4,5,6,7,7,9]))\n",
        "print(duplicate([1,4,5,6,7,9]))\n",
        "\n"
      ],
      "execution_count": 1,
      "outputs": [
        {
          "output_type": "stream",
          "text": [
            "7\n",
            "-1\n"
          ],
          "name": "stdout"
        }
      ]
    },
    {
      "cell_type": "markdown",
      "metadata": {
        "id": "YYrH6n6IhZoQ"
      },
      "source": [
        "(2) Write a Python program to select all the Sundays of a specified year. (4 points)\n",
        "\n"
      ]
    },
    {
      "cell_type": "code",
      "metadata": {
        "colab": {
          "base_uri": "https://localhost:8080/"
        },
        "id": "OSfPLd23eLpX",
        "outputId": "8f2573bd-a7d9-48fb-d3a1-21ebe6faf1d4"
      },
      "source": [
        "# write your answer here\n",
        "from datetime import date, timedelta\n",
        "\n",
        "def sundys(year):\n",
        "       dt_obj = date(year, 1, 1)       \n",
        "       dt_obj += timedelta(days = 6 - dt_obj.weekday())  \n",
        "       while dt_obj.year == year:\n",
        "          yield dt_obj\n",
        "          dt_obj += timedelta(days = 7)\n",
        "          \n",
        "for s in sundys(2021):\n",
        "   print(s)\n",
        "\n"
      ],
      "execution_count": 2,
      "outputs": [
        {
          "output_type": "stream",
          "text": [
            "2021-01-03\n",
            "2021-01-10\n",
            "2021-01-17\n",
            "2021-01-24\n",
            "2021-01-31\n",
            "2021-02-07\n",
            "2021-02-14\n",
            "2021-02-21\n",
            "2021-02-28\n",
            "2021-03-07\n",
            "2021-03-14\n",
            "2021-03-21\n",
            "2021-03-28\n",
            "2021-04-04\n",
            "2021-04-11\n",
            "2021-04-18\n",
            "2021-04-25\n",
            "2021-05-02\n",
            "2021-05-09\n",
            "2021-05-16\n",
            "2021-05-23\n",
            "2021-05-30\n",
            "2021-06-06\n",
            "2021-06-13\n",
            "2021-06-20\n",
            "2021-06-27\n",
            "2021-07-04\n",
            "2021-07-11\n",
            "2021-07-18\n",
            "2021-07-25\n",
            "2021-08-01\n",
            "2021-08-08\n",
            "2021-08-15\n",
            "2021-08-22\n",
            "2021-08-29\n",
            "2021-09-05\n",
            "2021-09-12\n",
            "2021-09-19\n",
            "2021-09-26\n",
            "2021-10-03\n",
            "2021-10-10\n",
            "2021-10-17\n",
            "2021-10-24\n",
            "2021-10-31\n",
            "2021-11-07\n",
            "2021-11-14\n",
            "2021-11-21\n",
            "2021-11-28\n",
            "2021-12-05\n",
            "2021-12-12\n",
            "2021-12-19\n",
            "2021-12-26\n"
          ],
          "name": "stdout"
        }
      ]
    },
    {
      "cell_type": "markdown",
      "metadata": {
        "id": "UIpziZ6Sjie-"
      },
      "source": [
        "(3) Python files reading and writing. Download the “[exercise_02_data _collection.zip](https://github.com/unt-iialab/info5731_spring2021/blob/main/class_exercises/exercise_02_data_collection.zip)” to your local and un-zip it.\n",
        "\n",
        "*   Write a program to read all the txt files and save the sentences in all the files into one csv file with two columns, the first column is sentence id (txt file name+sentence line number), the second column is the sentence text content. (4 points)\n",
        "*   Remove all the punctuations from the sentences, save the processed sentences into a new column in the same csv file. (4 points)\n",
        "*   Ask the user to enter a word, return all the sentences that include this word, three kinds of information should be returned: sentence id, sentence text content, the count that user input word appear in the sentence. (4 points)\n",
        "\n"
      ]
    },
    {
      "cell_type": "code",
      "metadata": {
        "colab": {
          "base_uri": "https://localhost:8080/"
        },
        "id": "f3CUsrWOj1Xy",
        "outputId": "cd754ee2-db1c-41c1-e221-5214f24adfc0"
      },
      "source": [
        "# write your answer here\n",
        "\n",
        "#3-1\n",
        "import csv\n",
        "with open(\"output.csv\",\"w\") as output_file:\n",
        "    ln_out = csv.writer(output_file,delimiter=',')\n",
        "    i = 1\n",
        "    while i <= 100: \n",
        "        in_name = \"exercise_02_data_collection/\"+\"ARTHROTEC.\"+str(i)+\".txt\"\n",
        "        out_lname = \"ARTHROTEC.\"+str(i)\n",
        "        input_file = open(in_name).read() \n",
        "        s = input_file.split('\\n') \n",
        "        for x in s: \n",
        "            if x == '':\n",
        "                s.remove(x) \n",
        "        for x in s: \n",
        "            s_id = out_lname+\" - line \"+str(s.index(x)+1) \n",
        "#             print(s_id)\n",
        "            ln_out.writerow([s_id,x])\n",
        "        i += 1 \n",
        "\n",
        "#3-2\n",
        "\n",
        "import csv\n",
        "import re\n",
        "temp= [] \n",
        "with open(\"output.csv\",'r') as input_file:\n",
        "    f_read = csv.reader(input_file) \n",
        "    for i in f_read: \n",
        "        modify = re.sub(r\"[^a-zA-Z\\s\\',?!]\",\"\",i[1]) \n",
        "        modify = re.sub(\"\\s\\s\",\" \",modify)\n",
        "        i.append(modify) \n",
        "        temp.append(i) \n",
        "with open(\"output.csv\",\"w\") as output_file:\n",
        "    f_write = csv.writer(output_file,delimiter=',') \n",
        "    f_write.writerows(temp) \n",
        "\n",
        "#3-3\n",
        "\n",
        "import csv\n",
        "import re\n",
        "u_in= input(\"Enter a word: \") \n",
        "with open(\"output.csv\",'r') as input_file:\n",
        "    f_read = csv.reader(input_file) \n",
        "    for i in f_read: \n",
        "        word = \" \"+u_in+\" \"\n",
        "        if word in i[2]:\n",
        "            display = re.findall(word,i[2])\n",
        "            print(i[0],i[1],len(display))"
      ],
      "execution_count": 3,
      "outputs": [
        {
          "output_type": "stream",
          "text": [
            "Enter a word: go\n",
            "ARTHROTEC.3 - line 4 mobility has DECREASED rapidly, especially when trying to go down stairs. 1\n",
            "ARTHROTEC.28 - line 3 A general 'scared' feeling and sitting very still in the hope it would go away. 1\n",
            "ARTHROTEC.37 - line 4 I had to leave work & go home sick. 1\n",
            "ARTHROTEC.42 - line 12 It passed within 45 minutes and I was able to go to work the next day. 1\n",
            "ARTHROTEC.57 - line 3 And then told me go home, I still want to have more children I am at my wits end!!!. 1\n",
            "ARTHROTEC.59 - line 4 My doctor told me the symptoms had to go away after taking few more Second time: I took other 3 pills in 3 days. 1\n",
            "ARTHROTEC.59 - line 9 More problems and this time I had the ideo to go on Internet and I discovered I had a lot of the side effects by taking Arthrotec 1\n",
            "ARTHROTEC.62 - line 6 i can go all day. 1\n",
            "ARTHROTEC.63 - line 3 My doctor told me the symptoms had to go away after taking few more Second time: I took other 3 pills in 3 days. 1\n",
            "ARTHROTEC.63 - line 8 More problems and this time I had the ideo to go on Internet and I discovered I had a lot of the side effects by taking Arthrotec Why they don't tell you about them?. 1\n",
            "ARTHROTEC.65 - line 2 I had to go to the emergency room of local hospital and that's where I learned of the side effects. 1\n",
            "ARTHROTEC.72 - line 2 Works but can realy tell how good it works when I had to go off of it. 1\n",
            "ARTHROTEC.74 - line 4 Will probably go back to IB 800 mg BID. 1\n",
            "ARTHROTEC.75 - line 4 I guess go back to plain old advil and deal with it unless the doctor has another medication I can try. 1\n",
            "ARTHROTEC.80 - line 1 abdominal pain, constant soreness in abdomen, headache, general stomach upset feeling that won't go away before or after eating. 1\n"
          ],
          "name": "stdout"
        }
      ]
    },
    {
      "cell_type": "markdown",
      "metadata": {
        "id": "-12cqmJEpZOh"
      },
      "source": [
        "(4) Install packages nltk, numpy, scipy, pandas, and sklearn on Google Colab. Write a program to test whether they are installed successfully. (3 points for extra)"
      ]
    },
    {
      "cell_type": "code",
      "metadata": {
        "colab": {
          "base_uri": "https://localhost:8080/"
        },
        "id": "f1pn1Zl2qK77",
        "outputId": "2f97bafb-b433-47df-8c75-8b24b9a6a92d"
      },
      "source": [
        "# write your answer here\n",
        "\n",
        "\n",
        "\n",
        "! pip install nltk\n",
        "! pip install numpy\n",
        "! pip install scipy\n",
        "! pip install pandas\n",
        "! pip install scikit-learn"
      ],
      "execution_count": 4,
      "outputs": [
        {
          "output_type": "stream",
          "text": [
            "Requirement already satisfied: nltk in /usr/local/lib/python3.6/dist-packages (3.2.5)\n",
            "Requirement already satisfied: six in /usr/local/lib/python3.6/dist-packages (from nltk) (1.15.0)\n",
            "Requirement already satisfied: numpy in /usr/local/lib/python3.6/dist-packages (1.19.5)\n",
            "Requirement already satisfied: scipy in /usr/local/lib/python3.6/dist-packages (1.4.1)\n",
            "Requirement already satisfied: numpy>=1.13.3 in /usr/local/lib/python3.6/dist-packages (from scipy) (1.19.5)\n",
            "Requirement already satisfied: pandas in /usr/local/lib/python3.6/dist-packages (1.1.5)\n",
            "Requirement already satisfied: pytz>=2017.2 in /usr/local/lib/python3.6/dist-packages (from pandas) (2018.9)\n",
            "Requirement already satisfied: numpy>=1.15.4 in /usr/local/lib/python3.6/dist-packages (from pandas) (1.19.5)\n",
            "Requirement already satisfied: python-dateutil>=2.7.3 in /usr/local/lib/python3.6/dist-packages (from pandas) (2.8.1)\n",
            "Requirement already satisfied: six>=1.5 in /usr/local/lib/python3.6/dist-packages (from python-dateutil>=2.7.3->pandas) (1.15.0)\n",
            "Requirement already satisfied: scikit-learn in /usr/local/lib/python3.6/dist-packages (0.22.2.post1)\n",
            "Requirement already satisfied: numpy>=1.11.0 in /usr/local/lib/python3.6/dist-packages (from scikit-learn) (1.19.5)\n",
            "Requirement already satisfied: joblib>=0.11 in /usr/local/lib/python3.6/dist-packages (from scikit-learn) (1.0.0)\n",
            "Requirement already satisfied: scipy>=0.17.0 in /usr/local/lib/python3.6/dist-packages (from scikit-learn) (1.4.1)\n"
          ],
          "name": "stdout"
        }
      ]
    },
    {
      "cell_type": "code",
      "metadata": {
        "id": "OQA9kRejxVP5",
        "outputId": "b9c075d7-bbca-46b2-fce7-322a3b5ecb04",
        "colab": {
          "base_uri": "https://localhost:8080/"
        }
      },
      "source": [
        "# test nltk\r\n",
        "from nltk.tokenize import TweetTokenizer\r\n",
        "t = TweetTokenizer()\r\n",
        "n = \"Hi , How are ; & * @ ( you } {\"\r\n",
        "print(t.tokenize(n))"
      ],
      "execution_count": 5,
      "outputs": [
        {
          "output_type": "stream",
          "text": [
            "['Hi', ',', 'How', 'are', ';', '&', '*', '@', '(', 'you', '}', '{']\n"
          ],
          "name": "stdout"
        }
      ]
    },
    {
      "cell_type": "code",
      "metadata": {
        "id": "33Qy8V5CxfCq",
        "outputId": "32eee3c1-88e3-4453-e497-ad1b0c9264fb",
        "colab": {
          "base_uri": "https://localhost:8080/"
        }
      },
      "source": [
        "from numpy import random\r\n",
        "n = random.rand()\r\n",
        "print(n)"
      ],
      "execution_count": 6,
      "outputs": [
        {
          "output_type": "stream",
          "text": [
            "0.18181735193956794\n"
          ],
          "name": "stdout"
        }
      ]
    },
    {
      "cell_type": "code",
      "metadata": {
        "id": "OCQgODqIxhYt",
        "outputId": "cc440a24-8b9d-4b32-89ee-2eb4cf62cd41",
        "colab": {
          "base_uri": "https://localhost:8080/"
        }
      },
      "source": [
        "import numpy as np\r\n",
        "from scipy import linalg\r\n",
        "A=np.array([[1,2],[3,4]])\r\n",
        "linalg.inv(A)\r\n"
      ],
      "execution_count": 7,
      "outputs": [
        {
          "output_type": "execute_result",
          "data": {
            "text/plain": [
              "array([[-2. ,  1. ],\n",
              "       [ 1.5, -0.5]])"
            ]
          },
          "metadata": {
            "tags": []
          },
          "execution_count": 7
        }
      ]
    },
    {
      "cell_type": "code",
      "metadata": {
        "id": "PumA4gI-xjNr",
        "outputId": "4d82c5ba-aff7-49fa-f75c-3f1054ec40ef",
        "colab": {
          "base_uri": "https://localhost:8080/"
        }
      },
      "source": [
        "import pandas as pd\r\n",
        "df=pd.DataFrame({\r\n",
        "    \"c1\" : [1,2,3,4],\r\n",
        "    \"c2\" :['a', 'b', 'c', 'd']\r\n",
        "})\r\n",
        "print(df)"
      ],
      "execution_count": 8,
      "outputs": [
        {
          "output_type": "stream",
          "text": [
            "   c1 c2\n",
            "0   1  a\n",
            "1   2  b\n",
            "2   3  c\n",
            "3   4  d\n"
          ],
          "name": "stdout"
        }
      ]
    }
  ]
}