{
  "nbformat": 4,
  "nbformat_minor": 0,
  "metadata": {
    "colab": {
      "name": "INFO5731_Assignment_One.ipynb",
      "provenance": [],
      "collapsed_sections": [],
      "toc_visible": true,
      "include_colab_link": true
    },
    "kernelspec": {
      "name": "python3",
      "display_name": "Python 3"
    }
  },
  "cells": [
    {
      "cell_type": "markdown",
      "metadata": {
        "id": "view-in-github",
        "colab_type": "text"
      },
      "source": [
        "<a href=\"https://colab.research.google.com/github/Akshitasama/akshita_INFO5731_Spring2021/blob/main/INFO5731_Assignment_One.ipynb\" target=\"_parent\"><img src=\"https://colab.research.google.com/assets/colab-badge.svg\" alt=\"Open In Colab\"/></a>"
      ]
    },
    {
      "cell_type": "markdown",
      "metadata": {
        "id": "Ryk8D1Q4Wsrp"
      },
      "source": [
        "# **INFO5731 Assignment One**"
      ]
    },
    {
      "cell_type": "markdown",
      "metadata": {
        "id": "90_NR8c5XGWc"
      },
      "source": [
        "# Question 1\n",
        "\n",
        "(20 points). Write a Python program to generate 12 random numbers between 1 and 100. Sort the list of numbers in ascending order and print it out. Sort the list of numbers in descending order and print it out. Calculate the average for the group and print it out."
      ]
    },
    {
      "cell_type": "code",
      "metadata": {
        "id": "5QX6bJjGWXY9",
        "colab": {
          "base_uri": "https://localhost:8080/"
        },
        "outputId": "060ef99a-7860-4552-e48b-13b4631bad33"
      },
      "source": [
        "# Your code here\n",
        "from random import randrange\n",
        "x=[randrange(1,100) for i in range(12)]\n",
        "sortx= sorted(x)\n",
        "print(\"The list of numbers in ascending order\", sortx)\n",
        "avg=sum(x)/len(x)\n",
        "print(\"average:\", avg)\n",
        "\n"
      ],
      "execution_count": null,
      "outputs": [
        {
          "output_type": "stream",
          "text": [
            "The list of numbers in ascending order [6, 8, 15, 23, 38, 39, 40, 46, 52, 75, 75, 92]\n",
            "average: 42.416666666666664\n"
          ],
          "name": "stdout"
        }
      ]
    },
    {
      "cell_type": "markdown",
      "metadata": {
        "id": "1F_PZdH9Sh49"
      },
      "source": [
        "# Question 2\n",
        "(25 points). Write a program that will do the following string formatting tasks:\n",
        "\n",
        "(1) Ask the user to enter two sentences.\n",
        "\n",
        "(2) Make each sentence into a list. Each element in the list should correspond to a word in the sentence. For example, if the sentence is \"Alas! Am I alive? This is my first python program\", the program should print out ['Alas, '!', 'Am', 'I', 'alive, '?', 'This', 'is', 'my', 'first', 'python', 'program'].\n",
        "\n",
        "(3) Compare the two sentences. Print out a list of words that occur in both sentences.\n",
        "\n",
        "(4) Remove any punctuation from the sentence and print it back out. It should remove at least the following characters, but it can remove more: period(“.”), comma (“,”), semicolon (“;”), and colon (“:”)\n",
        "\n",
        "(5) Count the number of vowels in the sentences. Print out each vowel and the number of times it appears in the sentences, such as: a:2, e:1, i:0, etc"
      ]
    },
    {
      "cell_type": "code",
      "metadata": {
        "id": "Y0oOSlsOS0cq",
        "colab": {
          "base_uri": "https://localhost:8080/"
        },
        "outputId": "119f6de0-bbab-4b4c-e7f7-03d8cc80c28b"
      },
      "source": [
        "# Your code here\n",
        "import math\n",
        "import string\n",
        "import collections\n",
        "\n",
        "input1=input(\"Enter 1st sentence: \")\n",
        "input2=input(\"Enter 2nd sentence:  \")\n",
        "list1=input1.split()\n",
        "list2=input2.split()\n",
        "print(\" The 1st sentence is formatted as: \", list1)\n",
        "print(\" The 2nd sentence is formatted as: \", list2)\n",
        "\n",
        "words_common=set(list1) & set(list2)\n",
        "print(\"Common words in both the sentences are:\", words_common)\n",
        "\n",
        "remove=set(string.punctuation)\n",
        "\n",
        "def punctuation(i):\n",
        "  no_punc=\" \"\n",
        "  for letter in i:\n",
        "    if letter not in remove:\n",
        "      no_punc=no_punc+letter\n",
        "  print(\"The sentence without punctuation is:\", no_punc)\n",
        "punctuation(input1)\n",
        "punctuation(input2)\n",
        "\n",
        "vowels=\"aeiou\"\n",
        "def vow(i):\n",
        "  for i in vow:\n",
        "    print(i,\":\", input1.lower().count(i))\n",
        "print(\"vowels in first sentence are: \")\n",
        "vowel(input1)\n",
        "print(\"second sentence vowels:\")\n",
        "vowel(input2)\n"
      ],
      "execution_count": null,
      "outputs": [
        {
          "output_type": "stream",
          "text": [
            "Enter 1st sentence: hi, how are you??\n",
            "Enter 2nd sentence:  hi, good. how are you??\n",
            " The 1st sentence is formatted as:  ['hi,', 'how', 'are', 'you??']\n",
            " The 2nd sentence is formatted as:  ['hi,', 'good.', 'how', 'are', 'you??']\n",
            "Common words in both the sentences are: {'how', 'hi,', 'you??', 'are'}\n",
            "The sentence without punctuation is:  hi how are you\n",
            "The sentence without punctuation is:  hi good how are you\n",
            "vowels in first sentence are: \n",
            "a : 1\n",
            "e : 1\n",
            "i : 1\n",
            "o : 2\n",
            "u : 1\n",
            "second sentence vowels:\n",
            "a : 1\n",
            "e : 1\n",
            "i : 1\n",
            "o : 2\n",
            "u : 1\n"
          ],
          "name": "stdout"
        }
      ]
    },
    {
      "cell_type": "markdown",
      "metadata": {
        "id": "CmFoI4jDS9nx"
      },
      "source": [
        "# Question 3 \n",
        "\n",
        "(15 points). The formula that describes the volume V of a sphere with radius r is the following:\n",
        "\n",
        "$ V=\\frac{4}{3}\\ast\\ \\pi\\ast\\ r^3 $\n",
        "\n",
        "Write a program to calculate the value of V when r is in the range of 1–10. Output the result in the following format:\n",
        "\n",
        "\tr\tV\n",
        "\t1\t…\n",
        "\t2\t…\n",
        "\t3\t…\n"
      ]
    },
    {
      "cell_type": "code",
      "metadata": {
        "id": "pEyqeioAT95b",
        "colab": {
          "base_uri": "https://localhost:8080/"
        },
        "outputId": "6e111b86-40bb-4083-dca6-7dfd93f2ee16"
      },
      "source": [
        "# Your code here\n",
        "\n",
        "import math\n",
        "def vol(r):\n",
        "  return (4/3)*math.pi*(r**3)\n",
        "print(\"r \\t V\")\n",
        "r=1\n",
        "while r<=10:\n",
        "  print(r,\"\\t\",(vol(r)))\n",
        "  r=r+1 "
      ],
      "execution_count": null,
      "outputs": [
        {
          "output_type": "stream",
          "text": [
            "r \t V\n",
            "1 \t 4.1887902047863905\n",
            "2 \t 33.510321638291124\n",
            "3 \t 113.09733552923254\n",
            "4 \t 268.082573106329\n",
            "5 \t 523.5987755982989\n",
            "6 \t 904.7786842338603\n",
            "7 \t 1436.7550402417319\n",
            "8 \t 2144.660584850632\n",
            "9 \t 3053.6280592892786\n",
            "10 \t 4188.790204786391\n"
          ],
          "name": "stdout"
        }
      ]
    },
    {
      "cell_type": "markdown",
      "metadata": {
        "id": "z3tBE7E-Xn5X"
      },
      "source": [
        "# Question 4\n",
        "\n",
        "(40 points). In the field of Data Science, data is often formatted as a comma-delimited (CSV) file, where each line in a file corresponds to a field's value. Refer to Chapter 9 (p. 106) for more information on comma-delimited files. To answer this question, you will need to download the file [Assignment1_denton_housing.csv](https://github.com/unt-iialab/INFO5731_Spring2020/blob/master/Assignments/Assignment1_denton_housing.csv) included with this assignment. The [file Assignment1_denton_housing.csv](https://github.com/unt-iialab/INFO5731_Spring2020/blob/master/Assignments/Assignment1_denton_housing.csv) contains statistics about housing in the city of Denton from 2008 to 2014. Write a program to implement the following questions.\n",
        "\n",
        "(1) (10 pts) Calculate the difference in the number of Occupied Housing Units from year to year and print it. The difference must be calculated for the consecutive years such as 2008-2009, 2009-2010 etc. Finally, print the values in the ascending order.\n",
        "\n",
        "(2) (10 pts) For all the years, calculate the percentage of housing units which are vacant an occupied. Print the results in the following format:\n",
        "\n",
        "Year Vacant Housing Units Occupied Housing Units\n",
        "\n",
        "    2008  30%   70%                          \n",
        "\t2009 ----- -----\n",
        "\t2010 ----- -----\n",
        "    2011 ----- -----\n",
        "\t2012 ----- -----\n",
        "    2013 ----- -----\n",
        "\t2014 ----- -----\n",
        "  \n",
        "  \n",
        "\n",
        "(3) (10 pts) Calculate and print the valued and years in which the highest number of housing units were vacant and occupied. Print the results in the following format:  \n",
        "\n",
        "                              Year\tValue\n",
        "\tVacant Housing Units\t  -----   -----\n",
        "\tOccupied Housing Units\t-----   -----\n",
        "\n",
        "(4) (10 pts) Calculate the harmonic mean of the total housing units and print it out. You can find the information about harmonic mean here: https://ncalculators.com/statistics/harmonic-mean-calculator.htm"
      ]
    },
    {
      "cell_type": "code",
      "metadata": {
        "id": "lqGYuHBhcsRH",
        "colab": {
          "base_uri": "https://localhost:8080/"
        },
        "outputId": "e0c7fe2e-f5d4-41c1-be29-b9deffa1af81"
      },
      "source": [
        "import csv\n",
        "occupied = {} \n",
        "with open(\"Assignment1_denton_housing.csv\",'r') as in_file:\n",
        "    f_reader = csv.reader(in_file) \n",
        "    for row in f_reader: \n",
        "        if row[1] == \"Occupied Housing Units\":\n",
        "            occupied[int(row[0])] = int(row[2])\n",
        "diff = {} \n",
        "year = 2008 \n",
        "while year < 2014: \n",
        "    diff[occupied[year+1]-occupied[year]] = str(year)+\"-\"+str(year+1)\n",
        "    year+=1 \n",
        "for x in diff:\n",
        "    print(\"From\",diff[x]+\":\",x)"
      ],
      "execution_count": 2,
      "outputs": [
        {
          "output_type": "stream",
          "text": [
            "From 2008-2009: -795\n",
            "From 2009-2010: 5091\n",
            "From 2010-2011: -303\n",
            "From 2011-2012: 1404\n",
            "From 2012-2013: 1565\n",
            "From 2013-2014: 2622\n"
          ],
          "name": "stdout"
        }
      ]
    },
    {
      "cell_type": "code",
      "metadata": {
        "colab": {
          "base_uri": "https://localhost:8080/"
        },
        "id": "SCAZXKyUAElv",
        "outputId": "1bc9d040-4c7a-47e6-dd05-d71df0355c1f"
      },
      "source": [
        "import csv\r\n",
        "total = {}\r\n",
        "occupied = {}\r\n",
        "vacant = {}\r\n",
        "with open(\"Assignment1_denton_housing.csv\",'r') as in_file:\r\n",
        "    f_reader = csv.reader(in_file) \r\n",
        "    for row in f_reader: \r\n",
        "        if row[1] == \"Total Housing Units\":\r\n",
        "            total[int(row[0])] = int(row[2])\r\n",
        "        elif row[1] == \"Occupied Housing Units\": \r\n",
        "            occupied[int(row[0])] = int(row[2])\r\n",
        "        elif row[1] == \"Vacant Housing Units\": \r\n",
        "            vacant[int(row[0])] = int(row[2])\r\n",
        "year = 2008 \r\n",
        "print(\"Year\\tVacant Housing Units\\tOccupied Housing Units\") \r\n",
        "while year <= 2014: \r\n",
        "    vac_per = (vacant[year]/total[year])*100\r\n",
        "    occu_per = (occupied[year]/total[year])*100\r\n",
        "    print(str(year)+\"\\t\"+str(round(vac_per,1))+\"%\\t\\t\\t\"+str(round(occu_per,1))+\"%\")\r\n",
        "    year+=1"
      ],
      "execution_count": 8,
      "outputs": [
        {
          "output_type": "stream",
          "text": [
            "Year\tVacant Housing Units\tOccupied Housing Units\n",
            "2008\t10.9%\t\t\t89.1%\n",
            "2009\t9.1%\t\t\t90.9%\n",
            "2010\t8.1%\t\t\t91.9%\n",
            "2011\t9.4%\t\t\t90.6%\n",
            "2012\t6.7%\t\t\t93.3%\n",
            "2013\t8.8%\t\t\t91.2%\n",
            "2014\t5.7%\t\t\t94.3%\n"
          ],
          "name": "stdout"
        }
      ]
    },
    {
      "cell_type": "code",
      "metadata": {
        "colab": {
          "base_uri": "https://localhost:8080/"
        },
        "id": "OD4X031eAxWt",
        "outputId": "efb12457-5dd6-4e13-ef76-ab2c1ed8b50c"
      },
      "source": [
        "import csv\r\n",
        "occupied = {}\r\n",
        "vacant = {}\r\n",
        "with open(\"Assignment1_denton_housing.csv\",'r') as in_file:\r\n",
        "    f_reader = csv.reader(in_file)  \r\n",
        "    for row in f_reader:\r\n",
        "        if row[1] == \"Occupied Housing Units\": \r\n",
        "            occupied[int(row[0])] = int(row[2])\r\n",
        "        elif row[1] == \"Vacant Housing Units\": \r\n",
        "            vacant[int(row[0])] = int(row[2])\r\n",
        "max_vac = max(vacant.values()) \r\n",
        "max_occu = max(occupied.values()) \r\n",
        "print(\"\\t\\t\\tYear\\tValue\") \r\n",
        "for item in vacant.items():\r\n",
        "    if item[1] == max_vac:\r\n",
        "        print(\"Vacant Housing Units\\t\"+str(item[0])+\"\\t\"+str(max_vac))\r\n",
        "for item in occupied.items():\r\n",
        "    if item[1] == max_occu:\r\n",
        "        print(\"Occupied Housing Units\\t\"+str(item[0])+\"\\t\"+str(max_occu))"
      ],
      "execution_count": 7,
      "outputs": [
        {
          "output_type": "stream",
          "text": [
            "\t\t\tYear\tValue\n",
            "Vacant Housing Units\t2008\t4483\n",
            "Occupied Housing Units\t2014\t46295\n"
          ],
          "name": "stdout"
        }
      ]
    },
    {
      "cell_type": "code",
      "metadata": {
        "colab": {
          "base_uri": "https://localhost:8080/"
        },
        "id": "iW1q6XxmBf7X",
        "outputId": "8ae2ae90-9f95-4518-c570-0d415caba62c"
      },
      "source": [
        "def har_mean(list):\r\n",
        "    sum = 0\r\n",
        "    for x in list:\r\n",
        "        sum += (1/x)\r\n",
        "    return round(len(list)/sum,2)\r\n",
        "\r\n",
        "import csv\r\n",
        "total = [] \r\n",
        "with open(\"Assignment1_denton_housing.csv\",'r') as in_file:\r\n",
        "    f_reader = csv.reader(in_file) \r\n",
        "    for x in f_reader: \r\n",
        "        if x[1] == \"Total Housing Units\": \r\n",
        "            total.append(int(row[2]))\r\n",
        "\r\n",
        "print(\"The harmonic mean of the total housing units: \",str(har_mean(total)))"
      ],
      "execution_count": 6,
      "outputs": [
        {
          "output_type": "stream",
          "text": [
            "The harmonic mean of the total housing units:  768.0\n"
          ],
          "name": "stdout"
        }
      ]
    }
  ]
}